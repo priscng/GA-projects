{
 "cells": [
  {
   "cell_type": "markdown",
   "id": "c2f58e1d",
   "metadata": {},
   "source": [
    "<img src=\"http://imgur.com/1ZcRyrc.png\" style=\"float: left; margin: 20px; height: 55px\">\n",
    "\n",
    "# Project 2: Predicting House Prices in Ames"
   ]
  },
  {
   "cell_type": "markdown",
   "id": "f486335f",
   "metadata": {},
   "source": [
    "## 1. Recap from Notebook 1"
   ]
  },
  {
   "cell_type": "markdown",
   "id": "42d61200",
   "metadata": {},
   "source": [
    "To recap, this analysis aims to develop a regression model to forecast Ames home prices and identify the most influential factors. There are 2 datasets, train and test. Data cleaning and visualization have been covered in Notebook 1. Based on the EDA, area, quality and age of the house have a strong correlation with the housing prices. The below features are identified for modeling consideration:\n",
    "\n",
    "|Feature | Description |\n",
    "|:-------------------|:---------------------|\n",
    "|total area |living + total bsmt + garage area in square feet|\n",
    "|overall qc |Rates the overall material and finish of the house|\n",
    "|living area|Living area square feet|\n",
    "|1st flr area|First Floor square feet|\n",
    "|garage area|Size of garage in square feet|\n",
    "|garage cars|Size of garage in car capacity|\n",
    "|garage finish|Interior finish of the garage|\n",
    "|bsmt qc|Evaluates the height of the basement|\n",
    "|yr bulit|Original construction date|\n",
    "|yr remod/add|Remodel date (same as construction date if no remodeling or additions)|\n",
    "|fireplace qc|Fireplace quality|\n",
    "|full bath|Full bathrooms above grade|\n",
    "|totalrm abvgrd|Total rooms above grade (does not include bathrooms)|\n",
    "|cond 2|Proximity to various conditions (if more than one is present)|\n",
    "|building type|Type of dwelling|\n",
    "|foundation|Type of foundation|\n",
    "|functionality|Home functionality|\n",
    "|age|Year built - Year sold|\n"
   ]
  },
  {
   "cell_type": "markdown",
   "id": "da4431c3",
   "metadata": {},
   "source": [
    "## 2. Importing Python Modules"
   ]
  },
  {
   "cell_type": "code",
   "execution_count": 1,
   "id": "be008a03",
   "metadata": {
    "ExecuteTime": {
     "end_time": "2022-08-23T12:38:43.462438Z",
     "start_time": "2022-08-23T12:38:40.808967Z"
    }
   },
   "outputs": [],
   "source": [
    "# Import the libraries required\n",
    "import pandas as pd\n",
    "import numpy as np\n",
    "import matplotlib.pyplot as plt\n",
    "import seaborn as sns\n",
    "sns.set()\n",
    "sns.set_theme(style='whitegrid') # set theme to be whitegrid\n",
    "\n",
    "from sklearn.model_selection import train_test_split, cross_val_score, cross_val_predict\n",
    "from sklearn.linear_model import LinearRegression, Lasso, Ridge, LassoCV , RidgeCV\n",
    "from sklearn.preprocessing import StandardScaler\n",
    "from sklearn import metrics\n",
    "from sklearn.metrics import r2_score, mean_squared_error"
   ]
  },
  {
   "cell_type": "markdown",
   "id": "5554c63f",
   "metadata": {},
   "source": [
    "## 3. Load the Dataset"
   ]
  },
  {
   "cell_type": "code",
   "execution_count": 2,
   "id": "035ad5ff",
   "metadata": {
    "ExecuteTime": {
     "end_time": "2022-08-23T12:38:43.506294Z",
     "start_time": "2022-08-23T12:38:43.462438Z"
    }
   },
   "outputs": [],
   "source": [
    "# Read the csv files\n",
    "df_train_clean = pd.read_csv('../datasets/df_train_clean.csv', keep_default_na=False, na_values=\"\")\n",
    "df_test_clean = pd.read_csv('../datasets/df_test_clean.csv', keep_default_na=False, na_values=\"\")"
   ]
  },
  {
   "cell_type": "markdown",
   "id": "326b33ea",
   "metadata": {
    "ExecuteTime": {
     "end_time": "2022-05-02T03:04:49.847115Z",
     "start_time": "2022-05-02T03:04:49.840492Z"
    }
   },
   "source": [
    "**Datasets:**\n",
    "- df_train_clean.csv (contains cleaned training data for the model)\n",
    "- df_test_clean.csv (contains cleaned data for the model)"
   ]
  },
  {
   "cell_type": "code",
   "execution_count": 3,
   "id": "8ef3635b",
   "metadata": {
    "ExecuteTime": {
     "end_time": "2022-08-23T12:38:43.522319Z",
     "start_time": "2022-08-23T12:38:43.506294Z"
    }
   },
   "outputs": [],
   "source": [
    "# Set the max display for the columns and rows\n",
    "pd.set_option(\"display.max_columns\", 85)\n",
    "pd.set_option(\"display.max_rows\", 50)"
   ]
  },
  {
   "cell_type": "code",
   "execution_count": 4,
   "id": "f3b70110",
   "metadata": {
    "ExecuteTime": {
     "end_time": "2022-08-23T12:38:43.586392Z",
     "start_time": "2022-08-23T12:38:43.522319Z"
    }
   },
   "outputs": [
    {
     "data": {
      "text/html": [
       "<div>\n",
       "<style scoped>\n",
       "    .dataframe tbody tr th:only-of-type {\n",
       "        vertical-align: middle;\n",
       "    }\n",
       "\n",
       "    .dataframe tbody tr th {\n",
       "        vertical-align: top;\n",
       "    }\n",
       "\n",
       "    .dataframe thead th {\n",
       "        text-align: right;\n",
       "    }\n",
       "</style>\n",
       "<table border=\"1\" class=\"dataframe\">\n",
       "  <thead>\n",
       "    <tr style=\"text-align: right;\">\n",
       "      <th></th>\n",
       "      <th>id</th>\n",
       "      <th>pid</th>\n",
       "      <th>ms subclass</th>\n",
       "      <th>ms zoning</th>\n",
       "      <th>lot frontage</th>\n",
       "      <th>lot area</th>\n",
       "      <th>street</th>\n",
       "      <th>alley</th>\n",
       "      <th>lot shape</th>\n",
       "      <th>land contour</th>\n",
       "      <th>utilities</th>\n",
       "      <th>lot config</th>\n",
       "      <th>land slope</th>\n",
       "      <th>neighborhood</th>\n",
       "      <th>cond 1</th>\n",
       "      <th>cond 2</th>\n",
       "      <th>bldg type</th>\n",
       "      <th>house style</th>\n",
       "      <th>overall qc</th>\n",
       "      <th>overall cond</th>\n",
       "      <th>yr built</th>\n",
       "      <th>yr remod/add</th>\n",
       "      <th>roof style</th>\n",
       "      <th>roof matl</th>\n",
       "      <th>exter 1st</th>\n",
       "      <th>exter 2nd</th>\n",
       "      <th>mas vnr type</th>\n",
       "      <th>exter qc</th>\n",
       "      <th>exter cond</th>\n",
       "      <th>foundation</th>\n",
       "      <th>bsmt qc</th>\n",
       "      <th>bsmt cond</th>\n",
       "      <th>bsmt exposure</th>\n",
       "      <th>bsmtfin type 1</th>\n",
       "      <th>bsmtfin type 2</th>\n",
       "      <th>bsmt unf area</th>\n",
       "      <th>total bsmt area</th>\n",
       "      <th>heating</th>\n",
       "      <th>heating qc</th>\n",
       "      <th>central air</th>\n",
       "      <th>electrical</th>\n",
       "      <th>1st flr area</th>\n",
       "      <th>living area</th>\n",
       "      <th>bsmt full bath</th>\n",
       "      <th>bsmt half bath</th>\n",
       "      <th>full bath</th>\n",
       "      <th>half bath</th>\n",
       "      <th>bedroom abvgr</th>\n",
       "      <th>kitchen abvgr</th>\n",
       "      <th>kitchen qc</th>\n",
       "      <th>totrms abvgrd</th>\n",
       "      <th>functional</th>\n",
       "      <th>fireplaces</th>\n",
       "      <th>fireplace qc</th>\n",
       "      <th>garage type</th>\n",
       "      <th>garage yr blt</th>\n",
       "      <th>garage finish</th>\n",
       "      <th>garage cars</th>\n",
       "      <th>garage area</th>\n",
       "      <th>garage qc</th>\n",
       "      <th>garage cond</th>\n",
       "      <th>paved drive</th>\n",
       "      <th>pool qc</th>\n",
       "      <th>fence</th>\n",
       "      <th>misc feature</th>\n",
       "      <th>mo sold</th>\n",
       "      <th>yr sold</th>\n",
       "      <th>sale type</th>\n",
       "      <th>saleprice</th>\n",
       "      <th>log saleprice</th>\n",
       "      <th>age</th>\n",
       "      <th>total area</th>\n",
       "    </tr>\n",
       "  </thead>\n",
       "  <tbody>\n",
       "    <tr>\n",
       "      <th>0</th>\n",
       "      <td>109</td>\n",
       "      <td>533352170</td>\n",
       "      <td>2-Story 1946 &amp; Newer</td>\n",
       "      <td>RL</td>\n",
       "      <td>68.0</td>\n",
       "      <td>13517</td>\n",
       "      <td>Pave</td>\n",
       "      <td>NA</td>\n",
       "      <td>2</td>\n",
       "      <td>Lvl</td>\n",
       "      <td>3</td>\n",
       "      <td>CulDSac</td>\n",
       "      <td>2</td>\n",
       "      <td>Sawyer</td>\n",
       "      <td>RRAe</td>\n",
       "      <td>Norm</td>\n",
       "      <td>1Fam</td>\n",
       "      <td>2Story</td>\n",
       "      <td>6</td>\n",
       "      <td>8</td>\n",
       "      <td>1976</td>\n",
       "      <td>2005</td>\n",
       "      <td>Gable</td>\n",
       "      <td>CompShg</td>\n",
       "      <td>HdBoard</td>\n",
       "      <td>Plywood</td>\n",
       "      <td>BrkFace</td>\n",
       "      <td>7</td>\n",
       "      <td>5</td>\n",
       "      <td>CBlock</td>\n",
       "      <td>5</td>\n",
       "      <td>5</td>\n",
       "      <td>1</td>\n",
       "      <td>6</td>\n",
       "      <td>1</td>\n",
       "      <td>192.0</td>\n",
       "      <td>725.0</td>\n",
       "      <td>GasA</td>\n",
       "      <td>9</td>\n",
       "      <td>Y</td>\n",
       "      <td>4</td>\n",
       "      <td>725</td>\n",
       "      <td>1479</td>\n",
       "      <td>0.0</td>\n",
       "      <td>0.0</td>\n",
       "      <td>2</td>\n",
       "      <td>1</td>\n",
       "      <td>3</td>\n",
       "      <td>1</td>\n",
       "      <td>7</td>\n",
       "      <td>6</td>\n",
       "      <td>7</td>\n",
       "      <td>0</td>\n",
       "      <td>0</td>\n",
       "      <td>5</td>\n",
       "      <td>1976.0</td>\n",
       "      <td>2</td>\n",
       "      <td>2.0</td>\n",
       "      <td>475.0</td>\n",
       "      <td>5</td>\n",
       "      <td>5</td>\n",
       "      <td>2</td>\n",
       "      <td>0</td>\n",
       "      <td>0</td>\n",
       "      <td>NA</td>\n",
       "      <td>3</td>\n",
       "      <td>2010</td>\n",
       "      <td>WD</td>\n",
       "      <td>130500</td>\n",
       "      <td>11.779129</td>\n",
       "      <td>34</td>\n",
       "      <td>2679.0</td>\n",
       "    </tr>\n",
       "    <tr>\n",
       "      <th>1</th>\n",
       "      <td>544</td>\n",
       "      <td>531379050</td>\n",
       "      <td>2-Story 1946 &amp; Newer</td>\n",
       "      <td>RL</td>\n",
       "      <td>43.0</td>\n",
       "      <td>11492</td>\n",
       "      <td>Pave</td>\n",
       "      <td>NA</td>\n",
       "      <td>2</td>\n",
       "      <td>Lvl</td>\n",
       "      <td>3</td>\n",
       "      <td>CulDSac</td>\n",
       "      <td>2</td>\n",
       "      <td>SawyerW</td>\n",
       "      <td>Norm</td>\n",
       "      <td>Norm</td>\n",
       "      <td>1Fam</td>\n",
       "      <td>2Story</td>\n",
       "      <td>7</td>\n",
       "      <td>5</td>\n",
       "      <td>1996</td>\n",
       "      <td>1997</td>\n",
       "      <td>Gable</td>\n",
       "      <td>CompShg</td>\n",
       "      <td>VinylSd</td>\n",
       "      <td>VinylSd</td>\n",
       "      <td>BrkFace</td>\n",
       "      <td>7</td>\n",
       "      <td>5</td>\n",
       "      <td>PConc</td>\n",
       "      <td>7</td>\n",
       "      <td>5</td>\n",
       "      <td>1</td>\n",
       "      <td>6</td>\n",
       "      <td>1</td>\n",
       "      <td>276.0</td>\n",
       "      <td>913.0</td>\n",
       "      <td>GasA</td>\n",
       "      <td>9</td>\n",
       "      <td>Y</td>\n",
       "      <td>4</td>\n",
       "      <td>913</td>\n",
       "      <td>2122</td>\n",
       "      <td>1.0</td>\n",
       "      <td>0.0</td>\n",
       "      <td>2</td>\n",
       "      <td>1</td>\n",
       "      <td>4</td>\n",
       "      <td>1</td>\n",
       "      <td>7</td>\n",
       "      <td>8</td>\n",
       "      <td>7</td>\n",
       "      <td>1</td>\n",
       "      <td>5</td>\n",
       "      <td>5</td>\n",
       "      <td>1997.0</td>\n",
       "      <td>2</td>\n",
       "      <td>2.0</td>\n",
       "      <td>559.0</td>\n",
       "      <td>5</td>\n",
       "      <td>5</td>\n",
       "      <td>2</td>\n",
       "      <td>0</td>\n",
       "      <td>0</td>\n",
       "      <td>NA</td>\n",
       "      <td>4</td>\n",
       "      <td>2009</td>\n",
       "      <td>WD</td>\n",
       "      <td>220000</td>\n",
       "      <td>12.301383</td>\n",
       "      <td>13</td>\n",
       "      <td>3594.0</td>\n",
       "    </tr>\n",
       "    <tr>\n",
       "      <th>2</th>\n",
       "      <td>153</td>\n",
       "      <td>535304180</td>\n",
       "      <td>1-Story 1946 &amp; Newer All Styles</td>\n",
       "      <td>RL</td>\n",
       "      <td>68.0</td>\n",
       "      <td>7922</td>\n",
       "      <td>Pave</td>\n",
       "      <td>NA</td>\n",
       "      <td>3</td>\n",
       "      <td>Lvl</td>\n",
       "      <td>3</td>\n",
       "      <td>Inside</td>\n",
       "      <td>2</td>\n",
       "      <td>NAmes</td>\n",
       "      <td>Norm</td>\n",
       "      <td>Norm</td>\n",
       "      <td>1Fam</td>\n",
       "      <td>1Story</td>\n",
       "      <td>5</td>\n",
       "      <td>7</td>\n",
       "      <td>1953</td>\n",
       "      <td>2007</td>\n",
       "      <td>Gable</td>\n",
       "      <td>CompShg</td>\n",
       "      <td>VinylSd</td>\n",
       "      <td>VinylSd</td>\n",
       "      <td>None</td>\n",
       "      <td>5</td>\n",
       "      <td>7</td>\n",
       "      <td>CBlock</td>\n",
       "      <td>5</td>\n",
       "      <td>5</td>\n",
       "      <td>1</td>\n",
       "      <td>6</td>\n",
       "      <td>1</td>\n",
       "      <td>326.0</td>\n",
       "      <td>1057.0</td>\n",
       "      <td>GasA</td>\n",
       "      <td>5</td>\n",
       "      <td>Y</td>\n",
       "      <td>4</td>\n",
       "      <td>1057</td>\n",
       "      <td>1057</td>\n",
       "      <td>1.0</td>\n",
       "      <td>0.0</td>\n",
       "      <td>1</td>\n",
       "      <td>0</td>\n",
       "      <td>3</td>\n",
       "      <td>1</td>\n",
       "      <td>7</td>\n",
       "      <td>5</td>\n",
       "      <td>7</td>\n",
       "      <td>0</td>\n",
       "      <td>0</td>\n",
       "      <td>1</td>\n",
       "      <td>1953.0</td>\n",
       "      <td>1</td>\n",
       "      <td>1.0</td>\n",
       "      <td>246.0</td>\n",
       "      <td>5</td>\n",
       "      <td>5</td>\n",
       "      <td>2</td>\n",
       "      <td>0</td>\n",
       "      <td>0</td>\n",
       "      <td>NA</td>\n",
       "      <td>1</td>\n",
       "      <td>2010</td>\n",
       "      <td>WD</td>\n",
       "      <td>109000</td>\n",
       "      <td>11.599103</td>\n",
       "      <td>57</td>\n",
       "      <td>2360.0</td>\n",
       "    </tr>\n",
       "    <tr>\n",
       "      <th>3</th>\n",
       "      <td>318</td>\n",
       "      <td>916386060</td>\n",
       "      <td>2-Story 1946 &amp; Newer</td>\n",
       "      <td>RL</td>\n",
       "      <td>73.0</td>\n",
       "      <td>9802</td>\n",
       "      <td>Pave</td>\n",
       "      <td>NA</td>\n",
       "      <td>3</td>\n",
       "      <td>Lvl</td>\n",
       "      <td>3</td>\n",
       "      <td>Inside</td>\n",
       "      <td>2</td>\n",
       "      <td>Timber</td>\n",
       "      <td>Norm</td>\n",
       "      <td>Norm</td>\n",
       "      <td>1Fam</td>\n",
       "      <td>2Story</td>\n",
       "      <td>5</td>\n",
       "      <td>5</td>\n",
       "      <td>2006</td>\n",
       "      <td>2007</td>\n",
       "      <td>Gable</td>\n",
       "      <td>CompShg</td>\n",
       "      <td>VinylSd</td>\n",
       "      <td>VinylSd</td>\n",
       "      <td>None</td>\n",
       "      <td>5</td>\n",
       "      <td>5</td>\n",
       "      <td>PConc</td>\n",
       "      <td>7</td>\n",
       "      <td>5</td>\n",
       "      <td>1</td>\n",
       "      <td>1</td>\n",
       "      <td>1</td>\n",
       "      <td>384.0</td>\n",
       "      <td>384.0</td>\n",
       "      <td>GasA</td>\n",
       "      <td>7</td>\n",
       "      <td>Y</td>\n",
       "      <td>4</td>\n",
       "      <td>744</td>\n",
       "      <td>1444</td>\n",
       "      <td>0.0</td>\n",
       "      <td>0.0</td>\n",
       "      <td>2</td>\n",
       "      <td>1</td>\n",
       "      <td>3</td>\n",
       "      <td>1</td>\n",
       "      <td>5</td>\n",
       "      <td>7</td>\n",
       "      <td>7</td>\n",
       "      <td>0</td>\n",
       "      <td>0</td>\n",
       "      <td>3</td>\n",
       "      <td>2007.0</td>\n",
       "      <td>3</td>\n",
       "      <td>2.0</td>\n",
       "      <td>400.0</td>\n",
       "      <td>5</td>\n",
       "      <td>5</td>\n",
       "      <td>2</td>\n",
       "      <td>0</td>\n",
       "      <td>0</td>\n",
       "      <td>NA</td>\n",
       "      <td>4</td>\n",
       "      <td>2010</td>\n",
       "      <td>WD</td>\n",
       "      <td>174000</td>\n",
       "      <td>12.066811</td>\n",
       "      <td>4</td>\n",
       "      <td>2228.0</td>\n",
       "    </tr>\n",
       "    <tr>\n",
       "      <th>4</th>\n",
       "      <td>255</td>\n",
       "      <td>906425045</td>\n",
       "      <td>1-1/2 Story Finished All Ages</td>\n",
       "      <td>RL</td>\n",
       "      <td>82.0</td>\n",
       "      <td>14235</td>\n",
       "      <td>Pave</td>\n",
       "      <td>NA</td>\n",
       "      <td>2</td>\n",
       "      <td>Lvl</td>\n",
       "      <td>3</td>\n",
       "      <td>Inside</td>\n",
       "      <td>2</td>\n",
       "      <td>SawyerW</td>\n",
       "      <td>Norm</td>\n",
       "      <td>Norm</td>\n",
       "      <td>1Fam</td>\n",
       "      <td>1.5Fin</td>\n",
       "      <td>6</td>\n",
       "      <td>8</td>\n",
       "      <td>1900</td>\n",
       "      <td>1993</td>\n",
       "      <td>Gable</td>\n",
       "      <td>CompShg</td>\n",
       "      <td>Wd Sdng</td>\n",
       "      <td>Plywood</td>\n",
       "      <td>None</td>\n",
       "      <td>5</td>\n",
       "      <td>5</td>\n",
       "      <td>PConc</td>\n",
       "      <td>3</td>\n",
       "      <td>7</td>\n",
       "      <td>1</td>\n",
       "      <td>1</td>\n",
       "      <td>1</td>\n",
       "      <td>676.0</td>\n",
       "      <td>676.0</td>\n",
       "      <td>GasA</td>\n",
       "      <td>5</td>\n",
       "      <td>Y</td>\n",
       "      <td>4</td>\n",
       "      <td>831</td>\n",
       "      <td>1445</td>\n",
       "      <td>0.0</td>\n",
       "      <td>0.0</td>\n",
       "      <td>2</td>\n",
       "      <td>0</td>\n",
       "      <td>3</td>\n",
       "      <td>1</td>\n",
       "      <td>5</td>\n",
       "      <td>6</td>\n",
       "      <td>7</td>\n",
       "      <td>0</td>\n",
       "      <td>0</td>\n",
       "      <td>1</td>\n",
       "      <td>1957.0</td>\n",
       "      <td>1</td>\n",
       "      <td>2.0</td>\n",
       "      <td>484.0</td>\n",
       "      <td>5</td>\n",
       "      <td>5</td>\n",
       "      <td>0</td>\n",
       "      <td>0</td>\n",
       "      <td>0</td>\n",
       "      <td>NA</td>\n",
       "      <td>3</td>\n",
       "      <td>2010</td>\n",
       "      <td>WD</td>\n",
       "      <td>138500</td>\n",
       "      <td>11.838626</td>\n",
       "      <td>110</td>\n",
       "      <td>2605.0</td>\n",
       "    </tr>\n",
       "  </tbody>\n",
       "</table>\n",
       "</div>"
      ],
      "text/plain": [
       "    id        pid                      ms subclass ms zoning  lot frontage  \\\n",
       "0  109  533352170             2-Story 1946 & Newer        RL          68.0   \n",
       "1  544  531379050             2-Story 1946 & Newer        RL          43.0   \n",
       "2  153  535304180  1-Story 1946 & Newer All Styles        RL          68.0   \n",
       "3  318  916386060             2-Story 1946 & Newer        RL          73.0   \n",
       "4  255  906425045    1-1/2 Story Finished All Ages        RL          82.0   \n",
       "\n",
       "   lot area street alley  lot shape land contour  utilities lot config  \\\n",
       "0     13517   Pave    NA          2          Lvl          3    CulDSac   \n",
       "1     11492   Pave    NA          2          Lvl          3    CulDSac   \n",
       "2      7922   Pave    NA          3          Lvl          3     Inside   \n",
       "3      9802   Pave    NA          3          Lvl          3     Inside   \n",
       "4     14235   Pave    NA          2          Lvl          3     Inside   \n",
       "\n",
       "   land slope neighborhood cond 1 cond 2 bldg type house style  overall qc  \\\n",
       "0           2       Sawyer   RRAe   Norm      1Fam      2Story           6   \n",
       "1           2      SawyerW   Norm   Norm      1Fam      2Story           7   \n",
       "2           2        NAmes   Norm   Norm      1Fam      1Story           5   \n",
       "3           2       Timber   Norm   Norm      1Fam      2Story           5   \n",
       "4           2      SawyerW   Norm   Norm      1Fam      1.5Fin           6   \n",
       "\n",
       "   overall cond  yr built  yr remod/add roof style roof matl exter 1st  \\\n",
       "0             8      1976          2005      Gable   CompShg   HdBoard   \n",
       "1             5      1996          1997      Gable   CompShg   VinylSd   \n",
       "2             7      1953          2007      Gable   CompShg   VinylSd   \n",
       "3             5      2006          2007      Gable   CompShg   VinylSd   \n",
       "4             8      1900          1993      Gable   CompShg   Wd Sdng   \n",
       "\n",
       "  exter 2nd mas vnr type  exter qc  exter cond foundation  bsmt qc  bsmt cond  \\\n",
       "0   Plywood      BrkFace         7           5     CBlock        5          5   \n",
       "1   VinylSd      BrkFace         7           5      PConc        7          5   \n",
       "2   VinylSd         None         5           7     CBlock        5          5   \n",
       "3   VinylSd         None         5           5      PConc        7          5   \n",
       "4   Plywood         None         5           5      PConc        3          7   \n",
       "\n",
       "   bsmt exposure  bsmtfin type 1  bsmtfin type 2  bsmt unf area  \\\n",
       "0              1               6               1          192.0   \n",
       "1              1               6               1          276.0   \n",
       "2              1               6               1          326.0   \n",
       "3              1               1               1          384.0   \n",
       "4              1               1               1          676.0   \n",
       "\n",
       "   total bsmt area heating  heating qc central air  electrical  1st flr area  \\\n",
       "0            725.0    GasA           9           Y           4           725   \n",
       "1            913.0    GasA           9           Y           4           913   \n",
       "2           1057.0    GasA           5           Y           4          1057   \n",
       "3            384.0    GasA           7           Y           4           744   \n",
       "4            676.0    GasA           5           Y           4           831   \n",
       "\n",
       "   living area  bsmt full bath  bsmt half bath  full bath  half bath  \\\n",
       "0         1479             0.0             0.0          2          1   \n",
       "1         2122             1.0             0.0          2          1   \n",
       "2         1057             1.0             0.0          1          0   \n",
       "3         1444             0.0             0.0          2          1   \n",
       "4         1445             0.0             0.0          2          0   \n",
       "\n",
       "   bedroom abvgr  kitchen abvgr  kitchen qc  totrms abvgrd  functional  \\\n",
       "0              3              1           7              6           7   \n",
       "1              4              1           7              8           7   \n",
       "2              3              1           7              5           7   \n",
       "3              3              1           5              7           7   \n",
       "4              3              1           5              6           7   \n",
       "\n",
       "   fireplaces  fireplace qc  garage type  garage yr blt  garage finish  \\\n",
       "0           0             0            5         1976.0              2   \n",
       "1           1             5            5         1997.0              2   \n",
       "2           0             0            1         1953.0              1   \n",
       "3           0             0            3         2007.0              3   \n",
       "4           0             0            1         1957.0              1   \n",
       "\n",
       "   garage cars  garage area  garage qc  garage cond  paved drive  pool qc  \\\n",
       "0          2.0        475.0          5            5            2        0   \n",
       "1          2.0        559.0          5            5            2        0   \n",
       "2          1.0        246.0          5            5            2        0   \n",
       "3          2.0        400.0          5            5            2        0   \n",
       "4          2.0        484.0          5            5            0        0   \n",
       "\n",
       "   fence misc feature  mo sold  yr sold sale type  saleprice  log saleprice  \\\n",
       "0      0           NA        3     2010       WD      130500      11.779129   \n",
       "1      0           NA        4     2009       WD      220000      12.301383   \n",
       "2      0           NA        1     2010       WD      109000      11.599103   \n",
       "3      0           NA        4     2010       WD      174000      12.066811   \n",
       "4      0           NA        3     2010       WD      138500      11.838626   \n",
       "\n",
       "   age  total area  \n",
       "0   34      2679.0  \n",
       "1   13      3594.0  \n",
       "2   57      2360.0  \n",
       "3    4      2228.0  \n",
       "4  110      2605.0  "
      ]
     },
     "execution_count": 4,
     "metadata": {},
     "output_type": "execute_result"
    }
   ],
   "source": [
    "# Display the first 5 rows for df_train\n",
    "df_train_clean.head()"
   ]
  },
  {
   "cell_type": "code",
   "execution_count": 5,
   "id": "77d023d2",
   "metadata": {
    "ExecuteTime": {
     "end_time": "2022-08-23T12:38:43.634148Z",
     "start_time": "2022-08-23T12:38:43.586392Z"
    }
   },
   "outputs": [
    {
     "data": {
      "text/html": [
       "<div>\n",
       "<style scoped>\n",
       "    .dataframe tbody tr th:only-of-type {\n",
       "        vertical-align: middle;\n",
       "    }\n",
       "\n",
       "    .dataframe tbody tr th {\n",
       "        vertical-align: top;\n",
       "    }\n",
       "\n",
       "    .dataframe thead th {\n",
       "        text-align: right;\n",
       "    }\n",
       "</style>\n",
       "<table border=\"1\" class=\"dataframe\">\n",
       "  <thead>\n",
       "    <tr style=\"text-align: right;\">\n",
       "      <th></th>\n",
       "      <th>id</th>\n",
       "      <th>pid</th>\n",
       "      <th>ms subclass</th>\n",
       "      <th>ms zoning</th>\n",
       "      <th>lot frontage</th>\n",
       "      <th>lot area</th>\n",
       "      <th>street</th>\n",
       "      <th>alley</th>\n",
       "      <th>lot shape</th>\n",
       "      <th>land contour</th>\n",
       "      <th>utilities</th>\n",
       "      <th>lot config</th>\n",
       "      <th>land slope</th>\n",
       "      <th>neighborhood</th>\n",
       "      <th>cond 1</th>\n",
       "      <th>cond 2</th>\n",
       "      <th>bldg type</th>\n",
       "      <th>house style</th>\n",
       "      <th>overall qc</th>\n",
       "      <th>overall cond</th>\n",
       "      <th>yr built</th>\n",
       "      <th>yr remod/add</th>\n",
       "      <th>roof style</th>\n",
       "      <th>roof matl</th>\n",
       "      <th>exter 1st</th>\n",
       "      <th>exter 2nd</th>\n",
       "      <th>mas vnr type</th>\n",
       "      <th>exter qc</th>\n",
       "      <th>exter cond</th>\n",
       "      <th>foundation</th>\n",
       "      <th>bsmt qc</th>\n",
       "      <th>bsmt cond</th>\n",
       "      <th>bsmt exposure</th>\n",
       "      <th>bsmtfin type 1</th>\n",
       "      <th>bsmtfin type 2</th>\n",
       "      <th>bsmt unf area</th>\n",
       "      <th>total bsmt area</th>\n",
       "      <th>heating</th>\n",
       "      <th>heating qc</th>\n",
       "      <th>central air</th>\n",
       "      <th>electrical</th>\n",
       "      <th>1st flr area</th>\n",
       "      <th>living area</th>\n",
       "      <th>bsmt full bath</th>\n",
       "      <th>bsmt half bath</th>\n",
       "      <th>full bath</th>\n",
       "      <th>half bath</th>\n",
       "      <th>bedroom abvgr</th>\n",
       "      <th>kitchen abvgr</th>\n",
       "      <th>kitchen qc</th>\n",
       "      <th>totrms abvgrd</th>\n",
       "      <th>functional</th>\n",
       "      <th>fireplaces</th>\n",
       "      <th>fireplace qc</th>\n",
       "      <th>garage type</th>\n",
       "      <th>garage yr blt</th>\n",
       "      <th>garage finish</th>\n",
       "      <th>garage cars</th>\n",
       "      <th>garage area</th>\n",
       "      <th>garage qc</th>\n",
       "      <th>garage cond</th>\n",
       "      <th>paved drive</th>\n",
       "      <th>pool qc</th>\n",
       "      <th>fence</th>\n",
       "      <th>misc feature</th>\n",
       "      <th>mo sold</th>\n",
       "      <th>yr sold</th>\n",
       "      <th>sale type</th>\n",
       "      <th>age</th>\n",
       "      <th>total area</th>\n",
       "    </tr>\n",
       "  </thead>\n",
       "  <tbody>\n",
       "    <tr>\n",
       "      <th>0</th>\n",
       "      <td>2658</td>\n",
       "      <td>902301120</td>\n",
       "      <td>190</td>\n",
       "      <td>RM</td>\n",
       "      <td>69.0</td>\n",
       "      <td>9142</td>\n",
       "      <td>Pave</td>\n",
       "      <td>Grvl</td>\n",
       "      <td>3</td>\n",
       "      <td>Lvl</td>\n",
       "      <td>3</td>\n",
       "      <td>Inside</td>\n",
       "      <td>2</td>\n",
       "      <td>OldTown</td>\n",
       "      <td>Norm</td>\n",
       "      <td>Norm</td>\n",
       "      <td>2fmCon</td>\n",
       "      <td>2Story</td>\n",
       "      <td>6</td>\n",
       "      <td>8</td>\n",
       "      <td>1910</td>\n",
       "      <td>1950</td>\n",
       "      <td>Gable</td>\n",
       "      <td>CompShg</td>\n",
       "      <td>AsbShng</td>\n",
       "      <td>AsbShng</td>\n",
       "      <td>None</td>\n",
       "      <td>5</td>\n",
       "      <td>3</td>\n",
       "      <td>Stone</td>\n",
       "      <td>3</td>\n",
       "      <td>5</td>\n",
       "      <td>1</td>\n",
       "      <td>1</td>\n",
       "      <td>1</td>\n",
       "      <td>1020</td>\n",
       "      <td>1020</td>\n",
       "      <td>GasA</td>\n",
       "      <td>7</td>\n",
       "      <td>N</td>\n",
       "      <td>1</td>\n",
       "      <td>908</td>\n",
       "      <td>1928</td>\n",
       "      <td>0</td>\n",
       "      <td>0</td>\n",
       "      <td>2</td>\n",
       "      <td>0</td>\n",
       "      <td>4</td>\n",
       "      <td>2</td>\n",
       "      <td>3</td>\n",
       "      <td>9</td>\n",
       "      <td>7</td>\n",
       "      <td>0</td>\n",
       "      <td>0</td>\n",
       "      <td>1</td>\n",
       "      <td>1910.0</td>\n",
       "      <td>1</td>\n",
       "      <td>1</td>\n",
       "      <td>440</td>\n",
       "      <td>2</td>\n",
       "      <td>2</td>\n",
       "      <td>2</td>\n",
       "      <td>0</td>\n",
       "      <td>0</td>\n",
       "      <td>NA</td>\n",
       "      <td>4</td>\n",
       "      <td>2006</td>\n",
       "      <td>WD</td>\n",
       "      <td>96</td>\n",
       "      <td>3388</td>\n",
       "    </tr>\n",
       "    <tr>\n",
       "      <th>1</th>\n",
       "      <td>2718</td>\n",
       "      <td>905108090</td>\n",
       "      <td>90</td>\n",
       "      <td>RL</td>\n",
       "      <td>68.0</td>\n",
       "      <td>9662</td>\n",
       "      <td>Pave</td>\n",
       "      <td>NA</td>\n",
       "      <td>2</td>\n",
       "      <td>Lvl</td>\n",
       "      <td>3</td>\n",
       "      <td>Inside</td>\n",
       "      <td>2</td>\n",
       "      <td>Sawyer</td>\n",
       "      <td>Norm</td>\n",
       "      <td>Norm</td>\n",
       "      <td>Duplex</td>\n",
       "      <td>1Story</td>\n",
       "      <td>5</td>\n",
       "      <td>4</td>\n",
       "      <td>1977</td>\n",
       "      <td>1977</td>\n",
       "      <td>Gable</td>\n",
       "      <td>CompShg</td>\n",
       "      <td>Plywood</td>\n",
       "      <td>Plywood</td>\n",
       "      <td>None</td>\n",
       "      <td>5</td>\n",
       "      <td>5</td>\n",
       "      <td>CBlock</td>\n",
       "      <td>7</td>\n",
       "      <td>5</td>\n",
       "      <td>1</td>\n",
       "      <td>1</td>\n",
       "      <td>1</td>\n",
       "      <td>1967</td>\n",
       "      <td>1967</td>\n",
       "      <td>GasA</td>\n",
       "      <td>5</td>\n",
       "      <td>Y</td>\n",
       "      <td>4</td>\n",
       "      <td>1967</td>\n",
       "      <td>1967</td>\n",
       "      <td>0</td>\n",
       "      <td>0</td>\n",
       "      <td>2</td>\n",
       "      <td>0</td>\n",
       "      <td>6</td>\n",
       "      <td>2</td>\n",
       "      <td>5</td>\n",
       "      <td>10</td>\n",
       "      <td>7</td>\n",
       "      <td>0</td>\n",
       "      <td>0</td>\n",
       "      <td>5</td>\n",
       "      <td>1977.0</td>\n",
       "      <td>3</td>\n",
       "      <td>2</td>\n",
       "      <td>580</td>\n",
       "      <td>5</td>\n",
       "      <td>5</td>\n",
       "      <td>2</td>\n",
       "      <td>0</td>\n",
       "      <td>0</td>\n",
       "      <td>NA</td>\n",
       "      <td>8</td>\n",
       "      <td>2006</td>\n",
       "      <td>WD</td>\n",
       "      <td>29</td>\n",
       "      <td>4514</td>\n",
       "    </tr>\n",
       "    <tr>\n",
       "      <th>2</th>\n",
       "      <td>2414</td>\n",
       "      <td>528218130</td>\n",
       "      <td>60</td>\n",
       "      <td>RL</td>\n",
       "      <td>58.0</td>\n",
       "      <td>17104</td>\n",
       "      <td>Pave</td>\n",
       "      <td>NA</td>\n",
       "      <td>2</td>\n",
       "      <td>Lvl</td>\n",
       "      <td>3</td>\n",
       "      <td>Inside</td>\n",
       "      <td>2</td>\n",
       "      <td>Gilbert</td>\n",
       "      <td>Norm</td>\n",
       "      <td>Norm</td>\n",
       "      <td>1Fam</td>\n",
       "      <td>2Story</td>\n",
       "      <td>7</td>\n",
       "      <td>5</td>\n",
       "      <td>2006</td>\n",
       "      <td>2006</td>\n",
       "      <td>Gable</td>\n",
       "      <td>CompShg</td>\n",
       "      <td>VinylSd</td>\n",
       "      <td>VinylSd</td>\n",
       "      <td>None</td>\n",
       "      <td>7</td>\n",
       "      <td>5</td>\n",
       "      <td>PConc</td>\n",
       "      <td>7</td>\n",
       "      <td>7</td>\n",
       "      <td>3</td>\n",
       "      <td>6</td>\n",
       "      <td>1</td>\n",
       "      <td>100</td>\n",
       "      <td>654</td>\n",
       "      <td>GasA</td>\n",
       "      <td>9</td>\n",
       "      <td>Y</td>\n",
       "      <td>4</td>\n",
       "      <td>664</td>\n",
       "      <td>1496</td>\n",
       "      <td>1</td>\n",
       "      <td>0</td>\n",
       "      <td>2</td>\n",
       "      <td>1</td>\n",
       "      <td>3</td>\n",
       "      <td>1</td>\n",
       "      <td>7</td>\n",
       "      <td>7</td>\n",
       "      <td>7</td>\n",
       "      <td>1</td>\n",
       "      <td>7</td>\n",
       "      <td>5</td>\n",
       "      <td>2006.0</td>\n",
       "      <td>2</td>\n",
       "      <td>2</td>\n",
       "      <td>426</td>\n",
       "      <td>5</td>\n",
       "      <td>5</td>\n",
       "      <td>2</td>\n",
       "      <td>0</td>\n",
       "      <td>0</td>\n",
       "      <td>NA</td>\n",
       "      <td>9</td>\n",
       "      <td>2006</td>\n",
       "      <td>New</td>\n",
       "      <td>0</td>\n",
       "      <td>2576</td>\n",
       "    </tr>\n",
       "    <tr>\n",
       "      <th>3</th>\n",
       "      <td>1989</td>\n",
       "      <td>902207150</td>\n",
       "      <td>30</td>\n",
       "      <td>RM</td>\n",
       "      <td>60.0</td>\n",
       "      <td>8520</td>\n",
       "      <td>Pave</td>\n",
       "      <td>NA</td>\n",
       "      <td>3</td>\n",
       "      <td>Lvl</td>\n",
       "      <td>3</td>\n",
       "      <td>Inside</td>\n",
       "      <td>2</td>\n",
       "      <td>OldTown</td>\n",
       "      <td>Norm</td>\n",
       "      <td>Norm</td>\n",
       "      <td>1Fam</td>\n",
       "      <td>1Story</td>\n",
       "      <td>5</td>\n",
       "      <td>6</td>\n",
       "      <td>1923</td>\n",
       "      <td>2006</td>\n",
       "      <td>Gable</td>\n",
       "      <td>CompShg</td>\n",
       "      <td>Wd Sdng</td>\n",
       "      <td>Wd Sdng</td>\n",
       "      <td>None</td>\n",
       "      <td>7</td>\n",
       "      <td>5</td>\n",
       "      <td>CBlock</td>\n",
       "      <td>5</td>\n",
       "      <td>5</td>\n",
       "      <td>1</td>\n",
       "      <td>1</td>\n",
       "      <td>1</td>\n",
       "      <td>968</td>\n",
       "      <td>968</td>\n",
       "      <td>GasA</td>\n",
       "      <td>5</td>\n",
       "      <td>Y</td>\n",
       "      <td>4</td>\n",
       "      <td>968</td>\n",
       "      <td>968</td>\n",
       "      <td>0</td>\n",
       "      <td>0</td>\n",
       "      <td>1</td>\n",
       "      <td>0</td>\n",
       "      <td>2</td>\n",
       "      <td>1</td>\n",
       "      <td>5</td>\n",
       "      <td>5</td>\n",
       "      <td>7</td>\n",
       "      <td>0</td>\n",
       "      <td>0</td>\n",
       "      <td>1</td>\n",
       "      <td>1935.0</td>\n",
       "      <td>1</td>\n",
       "      <td>2</td>\n",
       "      <td>480</td>\n",
       "      <td>3</td>\n",
       "      <td>5</td>\n",
       "      <td>0</td>\n",
       "      <td>0</td>\n",
       "      <td>0</td>\n",
       "      <td>NA</td>\n",
       "      <td>7</td>\n",
       "      <td>2007</td>\n",
       "      <td>WD</td>\n",
       "      <td>84</td>\n",
       "      <td>2416</td>\n",
       "    </tr>\n",
       "    <tr>\n",
       "      <th>4</th>\n",
       "      <td>625</td>\n",
       "      <td>535105100</td>\n",
       "      <td>20</td>\n",
       "      <td>RL</td>\n",
       "      <td>68.0</td>\n",
       "      <td>9500</td>\n",
       "      <td>Pave</td>\n",
       "      <td>NA</td>\n",
       "      <td>2</td>\n",
       "      <td>Lvl</td>\n",
       "      <td>3</td>\n",
       "      <td>Inside</td>\n",
       "      <td>2</td>\n",
       "      <td>NAmes</td>\n",
       "      <td>Norm</td>\n",
       "      <td>Norm</td>\n",
       "      <td>1Fam</td>\n",
       "      <td>1Story</td>\n",
       "      <td>6</td>\n",
       "      <td>5</td>\n",
       "      <td>1963</td>\n",
       "      <td>1963</td>\n",
       "      <td>Gable</td>\n",
       "      <td>CompShg</td>\n",
       "      <td>Plywood</td>\n",
       "      <td>Plywood</td>\n",
       "      <td>BrkFace</td>\n",
       "      <td>5</td>\n",
       "      <td>5</td>\n",
       "      <td>CBlock</td>\n",
       "      <td>7</td>\n",
       "      <td>5</td>\n",
       "      <td>1</td>\n",
       "      <td>4</td>\n",
       "      <td>1</td>\n",
       "      <td>785</td>\n",
       "      <td>1394</td>\n",
       "      <td>GasA</td>\n",
       "      <td>7</td>\n",
       "      <td>Y</td>\n",
       "      <td>4</td>\n",
       "      <td>1394</td>\n",
       "      <td>1394</td>\n",
       "      <td>1</td>\n",
       "      <td>0</td>\n",
       "      <td>1</td>\n",
       "      <td>1</td>\n",
       "      <td>3</td>\n",
       "      <td>1</td>\n",
       "      <td>5</td>\n",
       "      <td>6</td>\n",
       "      <td>7</td>\n",
       "      <td>2</td>\n",
       "      <td>7</td>\n",
       "      <td>5</td>\n",
       "      <td>1963.0</td>\n",
       "      <td>2</td>\n",
       "      <td>2</td>\n",
       "      <td>514</td>\n",
       "      <td>5</td>\n",
       "      <td>5</td>\n",
       "      <td>2</td>\n",
       "      <td>0</td>\n",
       "      <td>0</td>\n",
       "      <td>NA</td>\n",
       "      <td>7</td>\n",
       "      <td>2009</td>\n",
       "      <td>WD</td>\n",
       "      <td>46</td>\n",
       "      <td>3302</td>\n",
       "    </tr>\n",
       "  </tbody>\n",
       "</table>\n",
       "</div>"
      ],
      "text/plain": [
       "     id        pid  ms subclass ms zoning  lot frontage  lot area street  \\\n",
       "0  2658  902301120          190        RM          69.0      9142   Pave   \n",
       "1  2718  905108090           90        RL          68.0      9662   Pave   \n",
       "2  2414  528218130           60        RL          58.0     17104   Pave   \n",
       "3  1989  902207150           30        RM          60.0      8520   Pave   \n",
       "4   625  535105100           20        RL          68.0      9500   Pave   \n",
       "\n",
       "  alley  lot shape land contour  utilities lot config  land slope  \\\n",
       "0  Grvl          3          Lvl          3     Inside           2   \n",
       "1    NA          2          Lvl          3     Inside           2   \n",
       "2    NA          2          Lvl          3     Inside           2   \n",
       "3    NA          3          Lvl          3     Inside           2   \n",
       "4    NA          2          Lvl          3     Inside           2   \n",
       "\n",
       "  neighborhood cond 1 cond 2 bldg type house style  overall qc  overall cond  \\\n",
       "0      OldTown   Norm   Norm    2fmCon      2Story           6             8   \n",
       "1       Sawyer   Norm   Norm    Duplex      1Story           5             4   \n",
       "2      Gilbert   Norm   Norm      1Fam      2Story           7             5   \n",
       "3      OldTown   Norm   Norm      1Fam      1Story           5             6   \n",
       "4        NAmes   Norm   Norm      1Fam      1Story           6             5   \n",
       "\n",
       "   yr built  yr remod/add roof style roof matl exter 1st exter 2nd  \\\n",
       "0      1910          1950      Gable   CompShg   AsbShng   AsbShng   \n",
       "1      1977          1977      Gable   CompShg   Plywood   Plywood   \n",
       "2      2006          2006      Gable   CompShg   VinylSd   VinylSd   \n",
       "3      1923          2006      Gable   CompShg   Wd Sdng   Wd Sdng   \n",
       "4      1963          1963      Gable   CompShg   Plywood   Plywood   \n",
       "\n",
       "  mas vnr type  exter qc  exter cond foundation  bsmt qc  bsmt cond  \\\n",
       "0         None         5           3      Stone        3          5   \n",
       "1         None         5           5     CBlock        7          5   \n",
       "2         None         7           5      PConc        7          7   \n",
       "3         None         7           5     CBlock        5          5   \n",
       "4      BrkFace         5           5     CBlock        7          5   \n",
       "\n",
       "   bsmt exposure  bsmtfin type 1  bsmtfin type 2  bsmt unf area  \\\n",
       "0              1               1               1           1020   \n",
       "1              1               1               1           1967   \n",
       "2              3               6               1            100   \n",
       "3              1               1               1            968   \n",
       "4              1               4               1            785   \n",
       "\n",
       "   total bsmt area heating  heating qc central air  electrical  1st flr area  \\\n",
       "0             1020    GasA           7           N           1           908   \n",
       "1             1967    GasA           5           Y           4          1967   \n",
       "2              654    GasA           9           Y           4           664   \n",
       "3              968    GasA           5           Y           4           968   \n",
       "4             1394    GasA           7           Y           4          1394   \n",
       "\n",
       "   living area  bsmt full bath  bsmt half bath  full bath  half bath  \\\n",
       "0         1928               0               0          2          0   \n",
       "1         1967               0               0          2          0   \n",
       "2         1496               1               0          2          1   \n",
       "3          968               0               0          1          0   \n",
       "4         1394               1               0          1          1   \n",
       "\n",
       "   bedroom abvgr  kitchen abvgr  kitchen qc  totrms abvgrd  functional  \\\n",
       "0              4              2           3              9           7   \n",
       "1              6              2           5             10           7   \n",
       "2              3              1           7              7           7   \n",
       "3              2              1           5              5           7   \n",
       "4              3              1           5              6           7   \n",
       "\n",
       "   fireplaces  fireplace qc  garage type  garage yr blt  garage finish  \\\n",
       "0           0             0            1         1910.0              1   \n",
       "1           0             0            5         1977.0              3   \n",
       "2           1             7            5         2006.0              2   \n",
       "3           0             0            1         1935.0              1   \n",
       "4           2             7            5         1963.0              2   \n",
       "\n",
       "   garage cars  garage area  garage qc  garage cond  paved drive  pool qc  \\\n",
       "0            1          440          2            2            2        0   \n",
       "1            2          580          5            5            2        0   \n",
       "2            2          426          5            5            2        0   \n",
       "3            2          480          3            5            0        0   \n",
       "4            2          514          5            5            2        0   \n",
       "\n",
       "   fence misc feature  mo sold  yr sold sale type  age  total area  \n",
       "0      0           NA        4     2006       WD    96        3388  \n",
       "1      0           NA        8     2006       WD    29        4514  \n",
       "2      0           NA        9     2006       New    0        2576  \n",
       "3      0           NA        7     2007       WD    84        2416  \n",
       "4      0           NA        7     2009       WD    46        3302  "
      ]
     },
     "execution_count": 5,
     "metadata": {},
     "output_type": "execute_result"
    }
   ],
   "source": [
    "# Display the first 5 rows for df_test\n",
    "df_test_clean.head()"
   ]
  },
  {
   "cell_type": "code",
   "execution_count": 6,
   "id": "48517239",
   "metadata": {
    "ExecuteTime": {
     "end_time": "2022-08-23T12:38:43.650145Z",
     "start_time": "2022-08-23T12:38:43.634148Z"
    }
   },
   "outputs": [
    {
     "name": "stdout",
     "output_type": "stream",
     "text": [
      "Train data shape: (2018, 72)\n",
      "Test data shape: (878, 70)\n"
     ]
    }
   ],
   "source": [
    "# Check the shape and size for df_train and df_test\n",
    "print('Train data shape:', df_train_clean.shape)\n",
    "print('Test data shape:', df_test_clean.shape)"
   ]
  },
  {
   "cell_type": "code",
   "execution_count": 7,
   "id": "2996e42e",
   "metadata": {
    "ExecuteTime": {
     "end_time": "2022-08-23T12:38:43.682332Z",
     "start_time": "2022-08-23T12:38:43.650145Z"
    },
    "scrolled": true
   },
   "outputs": [
    {
     "data": {
      "text/plain": [
       "id               0\n",
       "pid              0\n",
       "fireplaces       0\n",
       "functional       0\n",
       "totrms abvgrd    0\n",
       "                ..\n",
       "roof matl        0\n",
       "roof style       0\n",
       "yr remod/add     0\n",
       "yr built         0\n",
       "total area       0\n",
       "Length: 72, dtype: int64"
      ]
     },
     "execution_count": 7,
     "metadata": {},
     "output_type": "execute_result"
    }
   ],
   "source": [
    "# Confirm no missing values for df_train\n",
    "df_train_clean.isnull().sum().sort_values(ascending=False)"
   ]
  },
  {
   "cell_type": "code",
   "execution_count": 8,
   "id": "c026c81a",
   "metadata": {
    "ExecuteTime": {
     "end_time": "2022-08-23T12:38:43.714160Z",
     "start_time": "2022-08-23T12:38:43.682332Z"
    },
    "scrolled": true
   },
   "outputs": [
    {
     "data": {
      "text/plain": [
       "id                0\n",
       "bsmt half bath    0\n",
       "totrms abvgrd     0\n",
       "kitchen qc        0\n",
       "kitchen abvgr     0\n",
       "                 ..\n",
       "foundation        0\n",
       "bsmt qc           0\n",
       "bsmt cond         0\n",
       "bsmt exposure     0\n",
       "total area        0\n",
       "Length: 70, dtype: int64"
      ]
     },
     "execution_count": 8,
     "metadata": {},
     "output_type": "execute_result"
    }
   ],
   "source": [
    "# Confirm no missing values for df_test\n",
    "df_test_clean.isnull().sum().sort_values(ascending=False)"
   ]
  },
  {
   "cell_type": "markdown",
   "id": "ec643a56",
   "metadata": {},
   "source": [
    "- The clean datasets obtained from the EDA imported confirmed no errors."
   ]
  },
  {
   "cell_type": "markdown",
   "id": "cf79e9d8",
   "metadata": {},
   "source": [
    "## 4. Feature Selection"
   ]
  },
  {
   "cell_type": "markdown",
   "id": "1eebb90b",
   "metadata": {},
   "source": [
    "Among the identified features, a few may be related (e.g. age, year built, year remod/add) so we may not select all the above features. After reviewing, we will try out the below features:\n",
    "\n",
    "- living area\n",
    "- total bsmt area\n",
    "- garage area\n",
    "- kitchen qc\n",
    "- fireplace qc\n",
    "- bsmt qc\n",
    "- garage qc\n",
    "- exter qc\n",
    "- garage finish\n",
    "- functional\n",
    "- cond 2\n",
    "- foundation\n",
    "- bldg type\n",
    "- total bathroom\n",
    "- age\n",
    "\n",
    "Total bathroom and age are added features to reduce the multicollinearly among the variables."
   ]
  },
  {
   "cell_type": "code",
   "execution_count": 9,
   "id": "48a9cb1b",
   "metadata": {
    "ExecuteTime": {
     "end_time": "2022-08-23T12:38:43.730162Z",
     "start_time": "2022-08-23T12:38:43.714160Z"
    }
   },
   "outputs": [],
   "source": [
    "# Create new column for total bathroom to reduce the multicollinearly for df_train\n",
    "df_train_clean['total bathroom'] = df_train_clean['full bath'] + df_train_clean['bsmt full bath'] + 0.5 * (df_train_clean['half bath'] + df_train_clean['bsmt full bath'])"
   ]
  },
  {
   "cell_type": "code",
   "execution_count": 10,
   "id": "f8008c1c",
   "metadata": {
    "ExecuteTime": {
     "end_time": "2022-08-23T12:38:43.794154Z",
     "start_time": "2022-08-23T12:38:43.730162Z"
    },
    "scrolled": true
   },
   "outputs": [
    {
     "data": {
      "text/html": [
       "<div>\n",
       "<style scoped>\n",
       "    .dataframe tbody tr th:only-of-type {\n",
       "        vertical-align: middle;\n",
       "    }\n",
       "\n",
       "    .dataframe tbody tr th {\n",
       "        vertical-align: top;\n",
       "    }\n",
       "\n",
       "    .dataframe thead th {\n",
       "        text-align: right;\n",
       "    }\n",
       "</style>\n",
       "<table border=\"1\" class=\"dataframe\">\n",
       "  <thead>\n",
       "    <tr style=\"text-align: right;\">\n",
       "      <th></th>\n",
       "      <th>id</th>\n",
       "      <th>pid</th>\n",
       "      <th>ms subclass</th>\n",
       "      <th>ms zoning</th>\n",
       "      <th>lot frontage</th>\n",
       "      <th>lot area</th>\n",
       "      <th>street</th>\n",
       "      <th>alley</th>\n",
       "      <th>lot shape</th>\n",
       "      <th>land contour</th>\n",
       "      <th>utilities</th>\n",
       "      <th>lot config</th>\n",
       "      <th>land slope</th>\n",
       "      <th>neighborhood</th>\n",
       "      <th>cond 1</th>\n",
       "      <th>cond 2</th>\n",
       "      <th>bldg type</th>\n",
       "      <th>house style</th>\n",
       "      <th>overall qc</th>\n",
       "      <th>overall cond</th>\n",
       "      <th>yr built</th>\n",
       "      <th>yr remod/add</th>\n",
       "      <th>roof style</th>\n",
       "      <th>roof matl</th>\n",
       "      <th>exter 1st</th>\n",
       "      <th>exter 2nd</th>\n",
       "      <th>mas vnr type</th>\n",
       "      <th>exter qc</th>\n",
       "      <th>exter cond</th>\n",
       "      <th>foundation</th>\n",
       "      <th>bsmt qc</th>\n",
       "      <th>bsmt cond</th>\n",
       "      <th>bsmt exposure</th>\n",
       "      <th>bsmtfin type 1</th>\n",
       "      <th>bsmtfin type 2</th>\n",
       "      <th>bsmt unf area</th>\n",
       "      <th>total bsmt area</th>\n",
       "      <th>heating</th>\n",
       "      <th>heating qc</th>\n",
       "      <th>central air</th>\n",
       "      <th>electrical</th>\n",
       "      <th>1st flr area</th>\n",
       "      <th>living area</th>\n",
       "      <th>bsmt full bath</th>\n",
       "      <th>bsmt half bath</th>\n",
       "      <th>full bath</th>\n",
       "      <th>half bath</th>\n",
       "      <th>bedroom abvgr</th>\n",
       "      <th>kitchen abvgr</th>\n",
       "      <th>kitchen qc</th>\n",
       "      <th>totrms abvgrd</th>\n",
       "      <th>functional</th>\n",
       "      <th>fireplaces</th>\n",
       "      <th>fireplace qc</th>\n",
       "      <th>garage type</th>\n",
       "      <th>garage yr blt</th>\n",
       "      <th>garage finish</th>\n",
       "      <th>garage cars</th>\n",
       "      <th>garage area</th>\n",
       "      <th>garage qc</th>\n",
       "      <th>garage cond</th>\n",
       "      <th>paved drive</th>\n",
       "      <th>pool qc</th>\n",
       "      <th>fence</th>\n",
       "      <th>misc feature</th>\n",
       "      <th>mo sold</th>\n",
       "      <th>yr sold</th>\n",
       "      <th>sale type</th>\n",
       "      <th>saleprice</th>\n",
       "      <th>log saleprice</th>\n",
       "      <th>age</th>\n",
       "      <th>total area</th>\n",
       "      <th>total bathroom</th>\n",
       "    </tr>\n",
       "  </thead>\n",
       "  <tbody>\n",
       "    <tr>\n",
       "      <th>0</th>\n",
       "      <td>109</td>\n",
       "      <td>533352170</td>\n",
       "      <td>2-Story 1946 &amp; Newer</td>\n",
       "      <td>RL</td>\n",
       "      <td>68.0</td>\n",
       "      <td>13517</td>\n",
       "      <td>Pave</td>\n",
       "      <td>NA</td>\n",
       "      <td>2</td>\n",
       "      <td>Lvl</td>\n",
       "      <td>3</td>\n",
       "      <td>CulDSac</td>\n",
       "      <td>2</td>\n",
       "      <td>Sawyer</td>\n",
       "      <td>RRAe</td>\n",
       "      <td>Norm</td>\n",
       "      <td>1Fam</td>\n",
       "      <td>2Story</td>\n",
       "      <td>6</td>\n",
       "      <td>8</td>\n",
       "      <td>1976</td>\n",
       "      <td>2005</td>\n",
       "      <td>Gable</td>\n",
       "      <td>CompShg</td>\n",
       "      <td>HdBoard</td>\n",
       "      <td>Plywood</td>\n",
       "      <td>BrkFace</td>\n",
       "      <td>7</td>\n",
       "      <td>5</td>\n",
       "      <td>CBlock</td>\n",
       "      <td>5</td>\n",
       "      <td>5</td>\n",
       "      <td>1</td>\n",
       "      <td>6</td>\n",
       "      <td>1</td>\n",
       "      <td>192.0</td>\n",
       "      <td>725.0</td>\n",
       "      <td>GasA</td>\n",
       "      <td>9</td>\n",
       "      <td>Y</td>\n",
       "      <td>4</td>\n",
       "      <td>725</td>\n",
       "      <td>1479</td>\n",
       "      <td>0.0</td>\n",
       "      <td>0.0</td>\n",
       "      <td>2</td>\n",
       "      <td>1</td>\n",
       "      <td>3</td>\n",
       "      <td>1</td>\n",
       "      <td>7</td>\n",
       "      <td>6</td>\n",
       "      <td>7</td>\n",
       "      <td>0</td>\n",
       "      <td>0</td>\n",
       "      <td>5</td>\n",
       "      <td>1976.0</td>\n",
       "      <td>2</td>\n",
       "      <td>2.0</td>\n",
       "      <td>475.0</td>\n",
       "      <td>5</td>\n",
       "      <td>5</td>\n",
       "      <td>2</td>\n",
       "      <td>0</td>\n",
       "      <td>0</td>\n",
       "      <td>NA</td>\n",
       "      <td>3</td>\n",
       "      <td>2010</td>\n",
       "      <td>WD</td>\n",
       "      <td>130500</td>\n",
       "      <td>11.779129</td>\n",
       "      <td>34</td>\n",
       "      <td>2679.0</td>\n",
       "      <td>2.5</td>\n",
       "    </tr>\n",
       "    <tr>\n",
       "      <th>1</th>\n",
       "      <td>544</td>\n",
       "      <td>531379050</td>\n",
       "      <td>2-Story 1946 &amp; Newer</td>\n",
       "      <td>RL</td>\n",
       "      <td>43.0</td>\n",
       "      <td>11492</td>\n",
       "      <td>Pave</td>\n",
       "      <td>NA</td>\n",
       "      <td>2</td>\n",
       "      <td>Lvl</td>\n",
       "      <td>3</td>\n",
       "      <td>CulDSac</td>\n",
       "      <td>2</td>\n",
       "      <td>SawyerW</td>\n",
       "      <td>Norm</td>\n",
       "      <td>Norm</td>\n",
       "      <td>1Fam</td>\n",
       "      <td>2Story</td>\n",
       "      <td>7</td>\n",
       "      <td>5</td>\n",
       "      <td>1996</td>\n",
       "      <td>1997</td>\n",
       "      <td>Gable</td>\n",
       "      <td>CompShg</td>\n",
       "      <td>VinylSd</td>\n",
       "      <td>VinylSd</td>\n",
       "      <td>BrkFace</td>\n",
       "      <td>7</td>\n",
       "      <td>5</td>\n",
       "      <td>PConc</td>\n",
       "      <td>7</td>\n",
       "      <td>5</td>\n",
       "      <td>1</td>\n",
       "      <td>6</td>\n",
       "      <td>1</td>\n",
       "      <td>276.0</td>\n",
       "      <td>913.0</td>\n",
       "      <td>GasA</td>\n",
       "      <td>9</td>\n",
       "      <td>Y</td>\n",
       "      <td>4</td>\n",
       "      <td>913</td>\n",
       "      <td>2122</td>\n",
       "      <td>1.0</td>\n",
       "      <td>0.0</td>\n",
       "      <td>2</td>\n",
       "      <td>1</td>\n",
       "      <td>4</td>\n",
       "      <td>1</td>\n",
       "      <td>7</td>\n",
       "      <td>8</td>\n",
       "      <td>7</td>\n",
       "      <td>1</td>\n",
       "      <td>5</td>\n",
       "      <td>5</td>\n",
       "      <td>1997.0</td>\n",
       "      <td>2</td>\n",
       "      <td>2.0</td>\n",
       "      <td>559.0</td>\n",
       "      <td>5</td>\n",
       "      <td>5</td>\n",
       "      <td>2</td>\n",
       "      <td>0</td>\n",
       "      <td>0</td>\n",
       "      <td>NA</td>\n",
       "      <td>4</td>\n",
       "      <td>2009</td>\n",
       "      <td>WD</td>\n",
       "      <td>220000</td>\n",
       "      <td>12.301383</td>\n",
       "      <td>13</td>\n",
       "      <td>3594.0</td>\n",
       "      <td>4.0</td>\n",
       "    </tr>\n",
       "    <tr>\n",
       "      <th>2</th>\n",
       "      <td>153</td>\n",
       "      <td>535304180</td>\n",
       "      <td>1-Story 1946 &amp; Newer All Styles</td>\n",
       "      <td>RL</td>\n",
       "      <td>68.0</td>\n",
       "      <td>7922</td>\n",
       "      <td>Pave</td>\n",
       "      <td>NA</td>\n",
       "      <td>3</td>\n",
       "      <td>Lvl</td>\n",
       "      <td>3</td>\n",
       "      <td>Inside</td>\n",
       "      <td>2</td>\n",
       "      <td>NAmes</td>\n",
       "      <td>Norm</td>\n",
       "      <td>Norm</td>\n",
       "      <td>1Fam</td>\n",
       "      <td>1Story</td>\n",
       "      <td>5</td>\n",
       "      <td>7</td>\n",
       "      <td>1953</td>\n",
       "      <td>2007</td>\n",
       "      <td>Gable</td>\n",
       "      <td>CompShg</td>\n",
       "      <td>VinylSd</td>\n",
       "      <td>VinylSd</td>\n",
       "      <td>None</td>\n",
       "      <td>5</td>\n",
       "      <td>7</td>\n",
       "      <td>CBlock</td>\n",
       "      <td>5</td>\n",
       "      <td>5</td>\n",
       "      <td>1</td>\n",
       "      <td>6</td>\n",
       "      <td>1</td>\n",
       "      <td>326.0</td>\n",
       "      <td>1057.0</td>\n",
       "      <td>GasA</td>\n",
       "      <td>5</td>\n",
       "      <td>Y</td>\n",
       "      <td>4</td>\n",
       "      <td>1057</td>\n",
       "      <td>1057</td>\n",
       "      <td>1.0</td>\n",
       "      <td>0.0</td>\n",
       "      <td>1</td>\n",
       "      <td>0</td>\n",
       "      <td>3</td>\n",
       "      <td>1</td>\n",
       "      <td>7</td>\n",
       "      <td>5</td>\n",
       "      <td>7</td>\n",
       "      <td>0</td>\n",
       "      <td>0</td>\n",
       "      <td>1</td>\n",
       "      <td>1953.0</td>\n",
       "      <td>1</td>\n",
       "      <td>1.0</td>\n",
       "      <td>246.0</td>\n",
       "      <td>5</td>\n",
       "      <td>5</td>\n",
       "      <td>2</td>\n",
       "      <td>0</td>\n",
       "      <td>0</td>\n",
       "      <td>NA</td>\n",
       "      <td>1</td>\n",
       "      <td>2010</td>\n",
       "      <td>WD</td>\n",
       "      <td>109000</td>\n",
       "      <td>11.599103</td>\n",
       "      <td>57</td>\n",
       "      <td>2360.0</td>\n",
       "      <td>2.5</td>\n",
       "    </tr>\n",
       "    <tr>\n",
       "      <th>3</th>\n",
       "      <td>318</td>\n",
       "      <td>916386060</td>\n",
       "      <td>2-Story 1946 &amp; Newer</td>\n",
       "      <td>RL</td>\n",
       "      <td>73.0</td>\n",
       "      <td>9802</td>\n",
       "      <td>Pave</td>\n",
       "      <td>NA</td>\n",
       "      <td>3</td>\n",
       "      <td>Lvl</td>\n",
       "      <td>3</td>\n",
       "      <td>Inside</td>\n",
       "      <td>2</td>\n",
       "      <td>Timber</td>\n",
       "      <td>Norm</td>\n",
       "      <td>Norm</td>\n",
       "      <td>1Fam</td>\n",
       "      <td>2Story</td>\n",
       "      <td>5</td>\n",
       "      <td>5</td>\n",
       "      <td>2006</td>\n",
       "      <td>2007</td>\n",
       "      <td>Gable</td>\n",
       "      <td>CompShg</td>\n",
       "      <td>VinylSd</td>\n",
       "      <td>VinylSd</td>\n",
       "      <td>None</td>\n",
       "      <td>5</td>\n",
       "      <td>5</td>\n",
       "      <td>PConc</td>\n",
       "      <td>7</td>\n",
       "      <td>5</td>\n",
       "      <td>1</td>\n",
       "      <td>1</td>\n",
       "      <td>1</td>\n",
       "      <td>384.0</td>\n",
       "      <td>384.0</td>\n",
       "      <td>GasA</td>\n",
       "      <td>7</td>\n",
       "      <td>Y</td>\n",
       "      <td>4</td>\n",
       "      <td>744</td>\n",
       "      <td>1444</td>\n",
       "      <td>0.0</td>\n",
       "      <td>0.0</td>\n",
       "      <td>2</td>\n",
       "      <td>1</td>\n",
       "      <td>3</td>\n",
       "      <td>1</td>\n",
       "      <td>5</td>\n",
       "      <td>7</td>\n",
       "      <td>7</td>\n",
       "      <td>0</td>\n",
       "      <td>0</td>\n",
       "      <td>3</td>\n",
       "      <td>2007.0</td>\n",
       "      <td>3</td>\n",
       "      <td>2.0</td>\n",
       "      <td>400.0</td>\n",
       "      <td>5</td>\n",
       "      <td>5</td>\n",
       "      <td>2</td>\n",
       "      <td>0</td>\n",
       "      <td>0</td>\n",
       "      <td>NA</td>\n",
       "      <td>4</td>\n",
       "      <td>2010</td>\n",
       "      <td>WD</td>\n",
       "      <td>174000</td>\n",
       "      <td>12.066811</td>\n",
       "      <td>4</td>\n",
       "      <td>2228.0</td>\n",
       "      <td>2.5</td>\n",
       "    </tr>\n",
       "    <tr>\n",
       "      <th>4</th>\n",
       "      <td>255</td>\n",
       "      <td>906425045</td>\n",
       "      <td>1-1/2 Story Finished All Ages</td>\n",
       "      <td>RL</td>\n",
       "      <td>82.0</td>\n",
       "      <td>14235</td>\n",
       "      <td>Pave</td>\n",
       "      <td>NA</td>\n",
       "      <td>2</td>\n",
       "      <td>Lvl</td>\n",
       "      <td>3</td>\n",
       "      <td>Inside</td>\n",
       "      <td>2</td>\n",
       "      <td>SawyerW</td>\n",
       "      <td>Norm</td>\n",
       "      <td>Norm</td>\n",
       "      <td>1Fam</td>\n",
       "      <td>1.5Fin</td>\n",
       "      <td>6</td>\n",
       "      <td>8</td>\n",
       "      <td>1900</td>\n",
       "      <td>1993</td>\n",
       "      <td>Gable</td>\n",
       "      <td>CompShg</td>\n",
       "      <td>Wd Sdng</td>\n",
       "      <td>Plywood</td>\n",
       "      <td>None</td>\n",
       "      <td>5</td>\n",
       "      <td>5</td>\n",
       "      <td>PConc</td>\n",
       "      <td>3</td>\n",
       "      <td>7</td>\n",
       "      <td>1</td>\n",
       "      <td>1</td>\n",
       "      <td>1</td>\n",
       "      <td>676.0</td>\n",
       "      <td>676.0</td>\n",
       "      <td>GasA</td>\n",
       "      <td>5</td>\n",
       "      <td>Y</td>\n",
       "      <td>4</td>\n",
       "      <td>831</td>\n",
       "      <td>1445</td>\n",
       "      <td>0.0</td>\n",
       "      <td>0.0</td>\n",
       "      <td>2</td>\n",
       "      <td>0</td>\n",
       "      <td>3</td>\n",
       "      <td>1</td>\n",
       "      <td>5</td>\n",
       "      <td>6</td>\n",
       "      <td>7</td>\n",
       "      <td>0</td>\n",
       "      <td>0</td>\n",
       "      <td>1</td>\n",
       "      <td>1957.0</td>\n",
       "      <td>1</td>\n",
       "      <td>2.0</td>\n",
       "      <td>484.0</td>\n",
       "      <td>5</td>\n",
       "      <td>5</td>\n",
       "      <td>0</td>\n",
       "      <td>0</td>\n",
       "      <td>0</td>\n",
       "      <td>NA</td>\n",
       "      <td>3</td>\n",
       "      <td>2010</td>\n",
       "      <td>WD</td>\n",
       "      <td>138500</td>\n",
       "      <td>11.838626</td>\n",
       "      <td>110</td>\n",
       "      <td>2605.0</td>\n",
       "      <td>2.0</td>\n",
       "    </tr>\n",
       "  </tbody>\n",
       "</table>\n",
       "</div>"
      ],
      "text/plain": [
       "    id        pid                      ms subclass ms zoning  lot frontage  \\\n",
       "0  109  533352170             2-Story 1946 & Newer        RL          68.0   \n",
       "1  544  531379050             2-Story 1946 & Newer        RL          43.0   \n",
       "2  153  535304180  1-Story 1946 & Newer All Styles        RL          68.0   \n",
       "3  318  916386060             2-Story 1946 & Newer        RL          73.0   \n",
       "4  255  906425045    1-1/2 Story Finished All Ages        RL          82.0   \n",
       "\n",
       "   lot area street alley  lot shape land contour  utilities lot config  \\\n",
       "0     13517   Pave    NA          2          Lvl          3    CulDSac   \n",
       "1     11492   Pave    NA          2          Lvl          3    CulDSac   \n",
       "2      7922   Pave    NA          3          Lvl          3     Inside   \n",
       "3      9802   Pave    NA          3          Lvl          3     Inside   \n",
       "4     14235   Pave    NA          2          Lvl          3     Inside   \n",
       "\n",
       "   land slope neighborhood cond 1 cond 2 bldg type house style  overall qc  \\\n",
       "0           2       Sawyer   RRAe   Norm      1Fam      2Story           6   \n",
       "1           2      SawyerW   Norm   Norm      1Fam      2Story           7   \n",
       "2           2        NAmes   Norm   Norm      1Fam      1Story           5   \n",
       "3           2       Timber   Norm   Norm      1Fam      2Story           5   \n",
       "4           2      SawyerW   Norm   Norm      1Fam      1.5Fin           6   \n",
       "\n",
       "   overall cond  yr built  yr remod/add roof style roof matl exter 1st  \\\n",
       "0             8      1976          2005      Gable   CompShg   HdBoard   \n",
       "1             5      1996          1997      Gable   CompShg   VinylSd   \n",
       "2             7      1953          2007      Gable   CompShg   VinylSd   \n",
       "3             5      2006          2007      Gable   CompShg   VinylSd   \n",
       "4             8      1900          1993      Gable   CompShg   Wd Sdng   \n",
       "\n",
       "  exter 2nd mas vnr type  exter qc  exter cond foundation  bsmt qc  bsmt cond  \\\n",
       "0   Plywood      BrkFace         7           5     CBlock        5          5   \n",
       "1   VinylSd      BrkFace         7           5      PConc        7          5   \n",
       "2   VinylSd         None         5           7     CBlock        5          5   \n",
       "3   VinylSd         None         5           5      PConc        7          5   \n",
       "4   Plywood         None         5           5      PConc        3          7   \n",
       "\n",
       "   bsmt exposure  bsmtfin type 1  bsmtfin type 2  bsmt unf area  \\\n",
       "0              1               6               1          192.0   \n",
       "1              1               6               1          276.0   \n",
       "2              1               6               1          326.0   \n",
       "3              1               1               1          384.0   \n",
       "4              1               1               1          676.0   \n",
       "\n",
       "   total bsmt area heating  heating qc central air  electrical  1st flr area  \\\n",
       "0            725.0    GasA           9           Y           4           725   \n",
       "1            913.0    GasA           9           Y           4           913   \n",
       "2           1057.0    GasA           5           Y           4          1057   \n",
       "3            384.0    GasA           7           Y           4           744   \n",
       "4            676.0    GasA           5           Y           4           831   \n",
       "\n",
       "   living area  bsmt full bath  bsmt half bath  full bath  half bath  \\\n",
       "0         1479             0.0             0.0          2          1   \n",
       "1         2122             1.0             0.0          2          1   \n",
       "2         1057             1.0             0.0          1          0   \n",
       "3         1444             0.0             0.0          2          1   \n",
       "4         1445             0.0             0.0          2          0   \n",
       "\n",
       "   bedroom abvgr  kitchen abvgr  kitchen qc  totrms abvgrd  functional  \\\n",
       "0              3              1           7              6           7   \n",
       "1              4              1           7              8           7   \n",
       "2              3              1           7              5           7   \n",
       "3              3              1           5              7           7   \n",
       "4              3              1           5              6           7   \n",
       "\n",
       "   fireplaces  fireplace qc  garage type  garage yr blt  garage finish  \\\n",
       "0           0             0            5         1976.0              2   \n",
       "1           1             5            5         1997.0              2   \n",
       "2           0             0            1         1953.0              1   \n",
       "3           0             0            3         2007.0              3   \n",
       "4           0             0            1         1957.0              1   \n",
       "\n",
       "   garage cars  garage area  garage qc  garage cond  paved drive  pool qc  \\\n",
       "0          2.0        475.0          5            5            2        0   \n",
       "1          2.0        559.0          5            5            2        0   \n",
       "2          1.0        246.0          5            5            2        0   \n",
       "3          2.0        400.0          5            5            2        0   \n",
       "4          2.0        484.0          5            5            0        0   \n",
       "\n",
       "   fence misc feature  mo sold  yr sold sale type  saleprice  log saleprice  \\\n",
       "0      0           NA        3     2010       WD      130500      11.779129   \n",
       "1      0           NA        4     2009       WD      220000      12.301383   \n",
       "2      0           NA        1     2010       WD      109000      11.599103   \n",
       "3      0           NA        4     2010       WD      174000      12.066811   \n",
       "4      0           NA        3     2010       WD      138500      11.838626   \n",
       "\n",
       "   age  total area  total bathroom  \n",
       "0   34      2679.0             2.5  \n",
       "1   13      3594.0             4.0  \n",
       "2   57      2360.0             2.5  \n",
       "3    4      2228.0             2.5  \n",
       "4  110      2605.0             2.0  "
      ]
     },
     "execution_count": 10,
     "metadata": {},
     "output_type": "execute_result"
    }
   ],
   "source": [
    "df_train_clean.head()"
   ]
  },
  {
   "cell_type": "code",
   "execution_count": 11,
   "id": "6f0e7423",
   "metadata": {
    "ExecuteTime": {
     "end_time": "2022-08-23T12:38:43.810144Z",
     "start_time": "2022-08-23T12:38:43.794154Z"
    }
   },
   "outputs": [
    {
     "data": {
      "text/plain": [
       "Index(['id', 'pid', 'ms subclass', 'ms zoning', 'lot frontage', 'lot area',\n",
       "       'street', 'alley', 'lot shape', 'land contour', 'utilities',\n",
       "       'lot config', 'land slope', 'neighborhood', 'cond 1', 'cond 2',\n",
       "       'bldg type', 'house style', 'overall qc', 'overall cond', 'yr built',\n",
       "       'yr remod/add', 'roof style', 'roof matl', 'exter 1st', 'exter 2nd',\n",
       "       'mas vnr type', 'exter qc', 'exter cond', 'foundation', 'bsmt qc',\n",
       "       'bsmt cond', 'bsmt exposure', 'bsmtfin type 1', 'bsmtfin type 2',\n",
       "       'bsmt unf area', 'total bsmt area', 'heating', 'heating qc',\n",
       "       'central air', 'electrical', '1st flr area', 'living area',\n",
       "       'bsmt full bath', 'bsmt half bath', 'full bath', 'half bath',\n",
       "       'bedroom abvgr', 'kitchen abvgr', 'kitchen qc', 'totrms abvgrd',\n",
       "       'functional', 'fireplaces', 'fireplace qc', 'garage type',\n",
       "       'garage yr blt', 'garage finish', 'garage cars', 'garage area',\n",
       "       'garage qc', 'garage cond', 'paved drive', 'pool qc', 'fence',\n",
       "       'misc feature', 'mo sold', 'yr sold', 'sale type', 'saleprice',\n",
       "       'log saleprice', 'age', 'total area', 'total bathroom'],\n",
       "      dtype='object')"
      ]
     },
     "execution_count": 11,
     "metadata": {},
     "output_type": "execute_result"
    }
   ],
   "source": [
    "df_train_clean.columns"
   ]
  },
  {
   "cell_type": "code",
   "execution_count": 12,
   "id": "e2f6ef2b",
   "metadata": {
    "ExecuteTime": {
     "end_time": "2022-08-23T12:38:43.842148Z",
     "start_time": "2022-08-23T12:38:43.810144Z"
    }
   },
   "outputs": [
    {
     "data": {
      "text/html": [
       "<div>\n",
       "<style scoped>\n",
       "    .dataframe tbody tr th:only-of-type {\n",
       "        vertical-align: middle;\n",
       "    }\n",
       "\n",
       "    .dataframe tbody tr th {\n",
       "        vertical-align: top;\n",
       "    }\n",
       "\n",
       "    .dataframe thead th {\n",
       "        text-align: right;\n",
       "    }\n",
       "</style>\n",
       "<table border=\"1\" class=\"dataframe\">\n",
       "  <thead>\n",
       "    <tr style=\"text-align: right;\">\n",
       "      <th></th>\n",
       "      <th>saleprice</th>\n",
       "      <th>log saleprice</th>\n",
       "      <th>living area</th>\n",
       "      <th>total bsmt area</th>\n",
       "      <th>garage area</th>\n",
       "      <th>kitchen qc</th>\n",
       "      <th>fireplace qc</th>\n",
       "      <th>bsmt qc</th>\n",
       "      <th>garage qc</th>\n",
       "      <th>exter qc</th>\n",
       "      <th>overall qc</th>\n",
       "      <th>garage finish</th>\n",
       "      <th>functional</th>\n",
       "      <th>cond 2</th>\n",
       "      <th>foundation</th>\n",
       "      <th>bldg type</th>\n",
       "      <th>total bathroom</th>\n",
       "      <th>age</th>\n",
       "    </tr>\n",
       "  </thead>\n",
       "  <tbody>\n",
       "    <tr>\n",
       "      <th>0</th>\n",
       "      <td>130500</td>\n",
       "      <td>11.779129</td>\n",
       "      <td>1479</td>\n",
       "      <td>725.0</td>\n",
       "      <td>475.0</td>\n",
       "      <td>7</td>\n",
       "      <td>0</td>\n",
       "      <td>5</td>\n",
       "      <td>5</td>\n",
       "      <td>7</td>\n",
       "      <td>6</td>\n",
       "      <td>2</td>\n",
       "      <td>7</td>\n",
       "      <td>Norm</td>\n",
       "      <td>CBlock</td>\n",
       "      <td>1Fam</td>\n",
       "      <td>2.5</td>\n",
       "      <td>34</td>\n",
       "    </tr>\n",
       "    <tr>\n",
       "      <th>1</th>\n",
       "      <td>220000</td>\n",
       "      <td>12.301383</td>\n",
       "      <td>2122</td>\n",
       "      <td>913.0</td>\n",
       "      <td>559.0</td>\n",
       "      <td>7</td>\n",
       "      <td>5</td>\n",
       "      <td>7</td>\n",
       "      <td>5</td>\n",
       "      <td>7</td>\n",
       "      <td>7</td>\n",
       "      <td>2</td>\n",
       "      <td>7</td>\n",
       "      <td>Norm</td>\n",
       "      <td>PConc</td>\n",
       "      <td>1Fam</td>\n",
       "      <td>4.0</td>\n",
       "      <td>13</td>\n",
       "    </tr>\n",
       "    <tr>\n",
       "      <th>2</th>\n",
       "      <td>109000</td>\n",
       "      <td>11.599103</td>\n",
       "      <td>1057</td>\n",
       "      <td>1057.0</td>\n",
       "      <td>246.0</td>\n",
       "      <td>7</td>\n",
       "      <td>0</td>\n",
       "      <td>5</td>\n",
       "      <td>5</td>\n",
       "      <td>5</td>\n",
       "      <td>5</td>\n",
       "      <td>1</td>\n",
       "      <td>7</td>\n",
       "      <td>Norm</td>\n",
       "      <td>CBlock</td>\n",
       "      <td>1Fam</td>\n",
       "      <td>2.5</td>\n",
       "      <td>57</td>\n",
       "    </tr>\n",
       "    <tr>\n",
       "      <th>3</th>\n",
       "      <td>174000</td>\n",
       "      <td>12.066811</td>\n",
       "      <td>1444</td>\n",
       "      <td>384.0</td>\n",
       "      <td>400.0</td>\n",
       "      <td>5</td>\n",
       "      <td>0</td>\n",
       "      <td>7</td>\n",
       "      <td>5</td>\n",
       "      <td>5</td>\n",
       "      <td>5</td>\n",
       "      <td>3</td>\n",
       "      <td>7</td>\n",
       "      <td>Norm</td>\n",
       "      <td>PConc</td>\n",
       "      <td>1Fam</td>\n",
       "      <td>2.5</td>\n",
       "      <td>4</td>\n",
       "    </tr>\n",
       "    <tr>\n",
       "      <th>4</th>\n",
       "      <td>138500</td>\n",
       "      <td>11.838626</td>\n",
       "      <td>1445</td>\n",
       "      <td>676.0</td>\n",
       "      <td>484.0</td>\n",
       "      <td>5</td>\n",
       "      <td>0</td>\n",
       "      <td>3</td>\n",
       "      <td>5</td>\n",
       "      <td>5</td>\n",
       "      <td>6</td>\n",
       "      <td>1</td>\n",
       "      <td>7</td>\n",
       "      <td>Norm</td>\n",
       "      <td>PConc</td>\n",
       "      <td>1Fam</td>\n",
       "      <td>2.0</td>\n",
       "      <td>110</td>\n",
       "    </tr>\n",
       "  </tbody>\n",
       "</table>\n",
       "</div>"
      ],
      "text/plain": [
       "   saleprice  log saleprice  living area  total bsmt area  garage area  \\\n",
       "0     130500      11.779129         1479            725.0        475.0   \n",
       "1     220000      12.301383         2122            913.0        559.0   \n",
       "2     109000      11.599103         1057           1057.0        246.0   \n",
       "3     174000      12.066811         1444            384.0        400.0   \n",
       "4     138500      11.838626         1445            676.0        484.0   \n",
       "\n",
       "   kitchen qc  fireplace qc  bsmt qc  garage qc  exter qc  overall qc  \\\n",
       "0           7             0        5          5         7           6   \n",
       "1           7             5        7          5         7           7   \n",
       "2           7             0        5          5         5           5   \n",
       "3           5             0        7          5         5           5   \n",
       "4           5             0        3          5         5           6   \n",
       "\n",
       "   garage finish  functional cond 2 foundation bldg type  total bathroom  age  \n",
       "0              2           7   Norm     CBlock      1Fam             2.5   34  \n",
       "1              2           7   Norm      PConc      1Fam             4.0   13  \n",
       "2              1           7   Norm     CBlock      1Fam             2.5   57  \n",
       "3              3           7   Norm      PConc      1Fam             2.5    4  \n",
       "4              1           7   Norm      PConc      1Fam             2.0  110  "
      ]
     },
     "execution_count": 12,
     "metadata": {},
     "output_type": "execute_result"
    }
   ],
   "source": [
    "# Select the features to model\n",
    "features = df_train_clean.loc[:, ['saleprice','log saleprice', 'living area', 'total bsmt area', 'garage area',\n",
    "                                  'kitchen qc', 'fireplace qc', 'bsmt qc', 'garage qc', 'exter qc',\n",
    "                                  'overall qc', 'garage finish', 'functional', 'cond 2', 'foundation', \n",
    "                                  'bldg type', 'total bathroom', 'age']]\n",
    "features.head()"
   ]
  },
  {
   "cell_type": "code",
   "execution_count": 13,
   "id": "ebb962e6",
   "metadata": {
    "ExecuteTime": {
     "end_time": "2022-08-23T12:38:43.890180Z",
     "start_time": "2022-08-23T12:38:43.842148Z"
    },
    "run_control": {
     "marked": false
    },
    "scrolled": true
   },
   "outputs": [
    {
     "data": {
      "text/html": [
       "<div>\n",
       "<style scoped>\n",
       "    .dataframe tbody tr th:only-of-type {\n",
       "        vertical-align: middle;\n",
       "    }\n",
       "\n",
       "    .dataframe tbody tr th {\n",
       "        vertical-align: top;\n",
       "    }\n",
       "\n",
       "    .dataframe thead th {\n",
       "        text-align: right;\n",
       "    }\n",
       "</style>\n",
       "<table border=\"1\" class=\"dataframe\">\n",
       "  <thead>\n",
       "    <tr style=\"text-align: right;\">\n",
       "      <th></th>\n",
       "      <th>saleprice</th>\n",
       "      <th>log saleprice</th>\n",
       "      <th>living area</th>\n",
       "      <th>total bsmt area</th>\n",
       "      <th>garage area</th>\n",
       "      <th>kitchen qc</th>\n",
       "      <th>fireplace qc</th>\n",
       "      <th>bsmt qc</th>\n",
       "      <th>garage qc</th>\n",
       "      <th>exter qc</th>\n",
       "      <th>overall qc</th>\n",
       "      <th>garage finish</th>\n",
       "      <th>functional</th>\n",
       "      <th>total bathroom</th>\n",
       "      <th>age</th>\n",
       "      <th>cond 2_Feedr</th>\n",
       "      <th>cond 2_Norm</th>\n",
       "      <th>cond 2_PosA</th>\n",
       "      <th>cond 2_PosN</th>\n",
       "      <th>cond 2_RRAe</th>\n",
       "      <th>cond 2_RRAn</th>\n",
       "      <th>cond 2_RRNn</th>\n",
       "      <th>foundation_CBlock</th>\n",
       "      <th>foundation_PConc</th>\n",
       "      <th>foundation_Slab</th>\n",
       "      <th>foundation_Stone</th>\n",
       "      <th>foundation_Wood</th>\n",
       "      <th>bldg type_2fmCon</th>\n",
       "      <th>bldg type_Duplex</th>\n",
       "      <th>bldg type_Twnhs</th>\n",
       "      <th>bldg type_TwnhsE</th>\n",
       "    </tr>\n",
       "  </thead>\n",
       "  <tbody>\n",
       "    <tr>\n",
       "      <th>0</th>\n",
       "      <td>130500</td>\n",
       "      <td>11.779129</td>\n",
       "      <td>1479</td>\n",
       "      <td>725.0</td>\n",
       "      <td>475.0</td>\n",
       "      <td>7</td>\n",
       "      <td>0</td>\n",
       "      <td>5</td>\n",
       "      <td>5</td>\n",
       "      <td>7</td>\n",
       "      <td>6</td>\n",
       "      <td>2</td>\n",
       "      <td>7</td>\n",
       "      <td>2.5</td>\n",
       "      <td>34</td>\n",
       "      <td>0</td>\n",
       "      <td>1</td>\n",
       "      <td>0</td>\n",
       "      <td>0</td>\n",
       "      <td>0</td>\n",
       "      <td>0</td>\n",
       "      <td>0</td>\n",
       "      <td>1</td>\n",
       "      <td>0</td>\n",
       "      <td>0</td>\n",
       "      <td>0</td>\n",
       "      <td>0</td>\n",
       "      <td>0</td>\n",
       "      <td>0</td>\n",
       "      <td>0</td>\n",
       "      <td>0</td>\n",
       "    </tr>\n",
       "    <tr>\n",
       "      <th>1</th>\n",
       "      <td>220000</td>\n",
       "      <td>12.301383</td>\n",
       "      <td>2122</td>\n",
       "      <td>913.0</td>\n",
       "      <td>559.0</td>\n",
       "      <td>7</td>\n",
       "      <td>5</td>\n",
       "      <td>7</td>\n",
       "      <td>5</td>\n",
       "      <td>7</td>\n",
       "      <td>7</td>\n",
       "      <td>2</td>\n",
       "      <td>7</td>\n",
       "      <td>4.0</td>\n",
       "      <td>13</td>\n",
       "      <td>0</td>\n",
       "      <td>1</td>\n",
       "      <td>0</td>\n",
       "      <td>0</td>\n",
       "      <td>0</td>\n",
       "      <td>0</td>\n",
       "      <td>0</td>\n",
       "      <td>0</td>\n",
       "      <td>1</td>\n",
       "      <td>0</td>\n",
       "      <td>0</td>\n",
       "      <td>0</td>\n",
       "      <td>0</td>\n",
       "      <td>0</td>\n",
       "      <td>0</td>\n",
       "      <td>0</td>\n",
       "    </tr>\n",
       "    <tr>\n",
       "      <th>2</th>\n",
       "      <td>109000</td>\n",
       "      <td>11.599103</td>\n",
       "      <td>1057</td>\n",
       "      <td>1057.0</td>\n",
       "      <td>246.0</td>\n",
       "      <td>7</td>\n",
       "      <td>0</td>\n",
       "      <td>5</td>\n",
       "      <td>5</td>\n",
       "      <td>5</td>\n",
       "      <td>5</td>\n",
       "      <td>1</td>\n",
       "      <td>7</td>\n",
       "      <td>2.5</td>\n",
       "      <td>57</td>\n",
       "      <td>0</td>\n",
       "      <td>1</td>\n",
       "      <td>0</td>\n",
       "      <td>0</td>\n",
       "      <td>0</td>\n",
       "      <td>0</td>\n",
       "      <td>0</td>\n",
       "      <td>1</td>\n",
       "      <td>0</td>\n",
       "      <td>0</td>\n",
       "      <td>0</td>\n",
       "      <td>0</td>\n",
       "      <td>0</td>\n",
       "      <td>0</td>\n",
       "      <td>0</td>\n",
       "      <td>0</td>\n",
       "    </tr>\n",
       "  </tbody>\n",
       "</table>\n",
       "</div>"
      ],
      "text/plain": [
       "   saleprice  log saleprice  living area  total bsmt area  garage area  \\\n",
       "0     130500      11.779129         1479            725.0        475.0   \n",
       "1     220000      12.301383         2122            913.0        559.0   \n",
       "2     109000      11.599103         1057           1057.0        246.0   \n",
       "\n",
       "   kitchen qc  fireplace qc  bsmt qc  garage qc  exter qc  overall qc  \\\n",
       "0           7             0        5          5         7           6   \n",
       "1           7             5        7          5         7           7   \n",
       "2           7             0        5          5         5           5   \n",
       "\n",
       "   garage finish  functional  total bathroom  age  cond 2_Feedr  cond 2_Norm  \\\n",
       "0              2           7             2.5   34             0            1   \n",
       "1              2           7             4.0   13             0            1   \n",
       "2              1           7             2.5   57             0            1   \n",
       "\n",
       "   cond 2_PosA  cond 2_PosN  cond 2_RRAe  cond 2_RRAn  cond 2_RRNn  \\\n",
       "0            0            0            0            0            0   \n",
       "1            0            0            0            0            0   \n",
       "2            0            0            0            0            0   \n",
       "\n",
       "   foundation_CBlock  foundation_PConc  foundation_Slab  foundation_Stone  \\\n",
       "0                  1                 0                0                 0   \n",
       "1                  0                 1                0                 0   \n",
       "2                  1                 0                0                 0   \n",
       "\n",
       "   foundation_Wood  bldg type_2fmCon  bldg type_Duplex  bldg type_Twnhs  \\\n",
       "0                0                 0                 0                0   \n",
       "1                0                 0                 0                0   \n",
       "2                0                 0                 0                0   \n",
       "\n",
       "   bldg type_TwnhsE  \n",
       "0                 0  \n",
       "1                 0  \n",
       "2                 0  "
      ]
     },
     "execution_count": 13,
     "metadata": {},
     "output_type": "execute_result"
    }
   ],
   "source": [
    "# Perform get dummies for categorical features for df_train\n",
    "df_train_dummies = pd.get_dummies(features, columns = ['cond 2', 'foundation', 'bldg type'], drop_first = True)\n",
    "df_train_dummies.head(3)"
   ]
  },
  {
   "cell_type": "code",
   "execution_count": 14,
   "id": "e3ee4d3f",
   "metadata": {
    "ExecuteTime": {
     "end_time": "2022-08-23T12:38:43.906349Z",
     "start_time": "2022-08-23T12:38:43.890180Z"
    }
   },
   "outputs": [
    {
     "data": {
      "text/plain": [
       "(2018, 31)"
      ]
     },
     "execution_count": 14,
     "metadata": {},
     "output_type": "execute_result"
    }
   ],
   "source": [
    "df_train_dummies.shape"
   ]
  },
  {
   "cell_type": "code",
   "execution_count": 15,
   "id": "3c4c37f7",
   "metadata": {
    "ExecuteTime": {
     "end_time": "2022-08-23T12:38:43.922354Z",
     "start_time": "2022-08-23T12:38:43.906349Z"
    }
   },
   "outputs": [],
   "source": [
    "# Create new column for total bathroom in df_test\n",
    "df_test_clean['total bathroom'] = df_test_clean['full bath'] + df_test_clean['bsmt full bath'] + 0.5 * (df_test_clean['half bath'] + df_test_clean['bsmt full bath'])"
   ]
  },
  {
   "cell_type": "code",
   "execution_count": 16,
   "id": "9c4041d7",
   "metadata": {
    "ExecuteTime": {
     "end_time": "2022-08-23T12:38:43.954358Z",
     "start_time": "2022-08-23T12:38:43.922354Z"
    }
   },
   "outputs": [
    {
     "data": {
      "text/html": [
       "<div>\n",
       "<style scoped>\n",
       "    .dataframe tbody tr th:only-of-type {\n",
       "        vertical-align: middle;\n",
       "    }\n",
       "\n",
       "    .dataframe tbody tr th {\n",
       "        vertical-align: top;\n",
       "    }\n",
       "\n",
       "    .dataframe thead th {\n",
       "        text-align: right;\n",
       "    }\n",
       "</style>\n",
       "<table border=\"1\" class=\"dataframe\">\n",
       "  <thead>\n",
       "    <tr style=\"text-align: right;\">\n",
       "      <th></th>\n",
       "      <th>id</th>\n",
       "      <th>living area</th>\n",
       "      <th>total bsmt area</th>\n",
       "      <th>garage area</th>\n",
       "      <th>kitchen qc</th>\n",
       "      <th>fireplace qc</th>\n",
       "      <th>bsmt qc</th>\n",
       "      <th>garage qc</th>\n",
       "      <th>exter qc</th>\n",
       "      <th>overall qc</th>\n",
       "      <th>garage finish</th>\n",
       "      <th>functional</th>\n",
       "      <th>cond 2</th>\n",
       "      <th>foundation</th>\n",
       "      <th>bldg type</th>\n",
       "      <th>total bathroom</th>\n",
       "      <th>age</th>\n",
       "    </tr>\n",
       "  </thead>\n",
       "  <tbody>\n",
       "    <tr>\n",
       "      <th>0</th>\n",
       "      <td>2658</td>\n",
       "      <td>1928</td>\n",
       "      <td>1020</td>\n",
       "      <td>440</td>\n",
       "      <td>3</td>\n",
       "      <td>0</td>\n",
       "      <td>3</td>\n",
       "      <td>2</td>\n",
       "      <td>5</td>\n",
       "      <td>6</td>\n",
       "      <td>1</td>\n",
       "      <td>7</td>\n",
       "      <td>Norm</td>\n",
       "      <td>Stone</td>\n",
       "      <td>2fmCon</td>\n",
       "      <td>2.0</td>\n",
       "      <td>96</td>\n",
       "    </tr>\n",
       "    <tr>\n",
       "      <th>1</th>\n",
       "      <td>2718</td>\n",
       "      <td>1967</td>\n",
       "      <td>1967</td>\n",
       "      <td>580</td>\n",
       "      <td>5</td>\n",
       "      <td>0</td>\n",
       "      <td>7</td>\n",
       "      <td>5</td>\n",
       "      <td>5</td>\n",
       "      <td>5</td>\n",
       "      <td>3</td>\n",
       "      <td>7</td>\n",
       "      <td>Norm</td>\n",
       "      <td>CBlock</td>\n",
       "      <td>Duplex</td>\n",
       "      <td>2.0</td>\n",
       "      <td>29</td>\n",
       "    </tr>\n",
       "    <tr>\n",
       "      <th>2</th>\n",
       "      <td>2414</td>\n",
       "      <td>1496</td>\n",
       "      <td>654</td>\n",
       "      <td>426</td>\n",
       "      <td>7</td>\n",
       "      <td>7</td>\n",
       "      <td>7</td>\n",
       "      <td>5</td>\n",
       "      <td>7</td>\n",
       "      <td>7</td>\n",
       "      <td>2</td>\n",
       "      <td>7</td>\n",
       "      <td>Norm</td>\n",
       "      <td>PConc</td>\n",
       "      <td>1Fam</td>\n",
       "      <td>4.0</td>\n",
       "      <td>0</td>\n",
       "    </tr>\n",
       "  </tbody>\n",
       "</table>\n",
       "</div>"
      ],
      "text/plain": [
       "     id  living area  total bsmt area  garage area  kitchen qc  fireplace qc  \\\n",
       "0  2658         1928             1020          440           3             0   \n",
       "1  2718         1967             1967          580           5             0   \n",
       "2  2414         1496              654          426           7             7   \n",
       "\n",
       "   bsmt qc  garage qc  exter qc  overall qc  garage finish  functional cond 2  \\\n",
       "0        3          2         5           6              1           7   Norm   \n",
       "1        7          5         5           5              3           7   Norm   \n",
       "2        7          5         7           7              2           7   Norm   \n",
       "\n",
       "  foundation bldg type  total bathroom  age  \n",
       "0      Stone    2fmCon             2.0   96  \n",
       "1     CBlock    Duplex             2.0   29  \n",
       "2      PConc      1Fam             4.0    0  "
      ]
     },
     "execution_count": 16,
     "metadata": {},
     "output_type": "execute_result"
    }
   ],
   "source": [
    "df_test_clean = df_test_clean.loc[:, ['id', 'living area', 'total bsmt area', 'garage area',\n",
    "                                  'kitchen qc', 'fireplace qc', 'bsmt qc', 'garage qc', 'exter qc',\n",
    "                                  'overall qc', 'garage finish', 'functional', 'cond 2', 'foundation', \n",
    "                                  'bldg type', 'total bathroom', 'age']]\n",
    "df_test_clean.head(3)"
   ]
  },
  {
   "cell_type": "code",
   "execution_count": 17,
   "id": "8dcc59bc",
   "metadata": {
    "ExecuteTime": {
     "end_time": "2022-08-23T12:38:43.986362Z",
     "start_time": "2022-08-23T12:38:43.954358Z"
    }
   },
   "outputs": [
    {
     "data": {
      "text/html": [
       "<div>\n",
       "<style scoped>\n",
       "    .dataframe tbody tr th:only-of-type {\n",
       "        vertical-align: middle;\n",
       "    }\n",
       "\n",
       "    .dataframe tbody tr th {\n",
       "        vertical-align: top;\n",
       "    }\n",
       "\n",
       "    .dataframe thead th {\n",
       "        text-align: right;\n",
       "    }\n",
       "</style>\n",
       "<table border=\"1\" class=\"dataframe\">\n",
       "  <thead>\n",
       "    <tr style=\"text-align: right;\">\n",
       "      <th></th>\n",
       "      <th>id</th>\n",
       "      <th>living area</th>\n",
       "      <th>total bsmt area</th>\n",
       "      <th>garage area</th>\n",
       "      <th>kitchen qc</th>\n",
       "      <th>fireplace qc</th>\n",
       "      <th>bsmt qc</th>\n",
       "      <th>garage qc</th>\n",
       "      <th>exter qc</th>\n",
       "      <th>overall qc</th>\n",
       "      <th>garage finish</th>\n",
       "      <th>functional</th>\n",
       "      <th>total bathroom</th>\n",
       "      <th>age</th>\n",
       "      <th>cond 2_Norm</th>\n",
       "      <th>cond 2_PosA</th>\n",
       "      <th>foundation_CBlock</th>\n",
       "      <th>foundation_PConc</th>\n",
       "      <th>foundation_Slab</th>\n",
       "      <th>foundation_Stone</th>\n",
       "      <th>foundation_Wood</th>\n",
       "      <th>bldg type_2fmCon</th>\n",
       "      <th>bldg type_Duplex</th>\n",
       "      <th>bldg type_Twnhs</th>\n",
       "      <th>bldg type_TwnhsE</th>\n",
       "    </tr>\n",
       "  </thead>\n",
       "  <tbody>\n",
       "    <tr>\n",
       "      <th>0</th>\n",
       "      <td>2658</td>\n",
       "      <td>1928</td>\n",
       "      <td>1020</td>\n",
       "      <td>440</td>\n",
       "      <td>3</td>\n",
       "      <td>0</td>\n",
       "      <td>3</td>\n",
       "      <td>2</td>\n",
       "      <td>5</td>\n",
       "      <td>6</td>\n",
       "      <td>1</td>\n",
       "      <td>7</td>\n",
       "      <td>2.0</td>\n",
       "      <td>96</td>\n",
       "      <td>1</td>\n",
       "      <td>0</td>\n",
       "      <td>0</td>\n",
       "      <td>0</td>\n",
       "      <td>0</td>\n",
       "      <td>1</td>\n",
       "      <td>0</td>\n",
       "      <td>1</td>\n",
       "      <td>0</td>\n",
       "      <td>0</td>\n",
       "      <td>0</td>\n",
       "    </tr>\n",
       "    <tr>\n",
       "      <th>1</th>\n",
       "      <td>2718</td>\n",
       "      <td>1967</td>\n",
       "      <td>1967</td>\n",
       "      <td>580</td>\n",
       "      <td>5</td>\n",
       "      <td>0</td>\n",
       "      <td>7</td>\n",
       "      <td>5</td>\n",
       "      <td>5</td>\n",
       "      <td>5</td>\n",
       "      <td>3</td>\n",
       "      <td>7</td>\n",
       "      <td>2.0</td>\n",
       "      <td>29</td>\n",
       "      <td>1</td>\n",
       "      <td>0</td>\n",
       "      <td>1</td>\n",
       "      <td>0</td>\n",
       "      <td>0</td>\n",
       "      <td>0</td>\n",
       "      <td>0</td>\n",
       "      <td>0</td>\n",
       "      <td>1</td>\n",
       "      <td>0</td>\n",
       "      <td>0</td>\n",
       "    </tr>\n",
       "    <tr>\n",
       "      <th>2</th>\n",
       "      <td>2414</td>\n",
       "      <td>1496</td>\n",
       "      <td>654</td>\n",
       "      <td>426</td>\n",
       "      <td>7</td>\n",
       "      <td>7</td>\n",
       "      <td>7</td>\n",
       "      <td>5</td>\n",
       "      <td>7</td>\n",
       "      <td>7</td>\n",
       "      <td>2</td>\n",
       "      <td>7</td>\n",
       "      <td>4.0</td>\n",
       "      <td>0</td>\n",
       "      <td>1</td>\n",
       "      <td>0</td>\n",
       "      <td>0</td>\n",
       "      <td>1</td>\n",
       "      <td>0</td>\n",
       "      <td>0</td>\n",
       "      <td>0</td>\n",
       "      <td>0</td>\n",
       "      <td>0</td>\n",
       "      <td>0</td>\n",
       "      <td>0</td>\n",
       "    </tr>\n",
       "  </tbody>\n",
       "</table>\n",
       "</div>"
      ],
      "text/plain": [
       "     id  living area  total bsmt area  garage area  kitchen qc  fireplace qc  \\\n",
       "0  2658         1928             1020          440           3             0   \n",
       "1  2718         1967             1967          580           5             0   \n",
       "2  2414         1496              654          426           7             7   \n",
       "\n",
       "   bsmt qc  garage qc  exter qc  overall qc  garage finish  functional  \\\n",
       "0        3          2         5           6              1           7   \n",
       "1        7          5         5           5              3           7   \n",
       "2        7          5         7           7              2           7   \n",
       "\n",
       "   total bathroom  age  cond 2_Norm  cond 2_PosA  foundation_CBlock  \\\n",
       "0             2.0   96            1            0                  0   \n",
       "1             2.0   29            1            0                  1   \n",
       "2             4.0    0            1            0                  0   \n",
       "\n",
       "   foundation_PConc  foundation_Slab  foundation_Stone  foundation_Wood  \\\n",
       "0                 0                0                 1                0   \n",
       "1                 0                0                 0                0   \n",
       "2                 1                0                 0                0   \n",
       "\n",
       "   bldg type_2fmCon  bldg type_Duplex  bldg type_Twnhs  bldg type_TwnhsE  \n",
       "0                 1                 0                0                 0  \n",
       "1                 0                 1                0                 0  \n",
       "2                 0                 0                0                 0  "
      ]
     },
     "execution_count": 17,
     "metadata": {},
     "output_type": "execute_result"
    }
   ],
   "source": [
    "# Perform get dummies for categorical features for df_test\n",
    "df_test = pd.get_dummies(df_test_clean, columns = ['cond 2', 'foundation', 'bldg type'], drop_first = True)\n",
    "df_test.head(3)"
   ]
  },
  {
   "cell_type": "code",
   "execution_count": 18,
   "id": "20ef7714",
   "metadata": {
    "ExecuteTime": {
     "end_time": "2022-08-23T12:38:44.002360Z",
     "start_time": "2022-08-23T12:38:43.986362Z"
    }
   },
   "outputs": [
    {
     "name": "stdout",
     "output_type": "stream",
     "text": [
      "['cond 2_Feedr', 'cond 2_Norm', 'cond 2_PosA', 'cond 2_PosN', 'cond 2_RRAe', 'cond 2_RRAn', 'cond 2_RRNn', 'foundation_CBlock', 'foundation_PConc', 'foundation_Slab', 'foundation_Stone', 'foundation_Wood', 'bldg type_2fmCon', 'bldg type_Duplex', 'bldg type_Twnhs', 'bldg type_TwnhsE']\n"
     ]
    }
   ],
   "source": [
    "# Check the newly added get dummies columns for df_train\n",
    "cat_col_train = df_train_dummies.select_dtypes(include=['uint8']).columns.tolist()\n",
    "print(cat_col_train)"
   ]
  },
  {
   "cell_type": "code",
   "execution_count": 19,
   "id": "25bb98ad",
   "metadata": {
    "ExecuteTime": {
     "end_time": "2022-08-23T12:38:44.018367Z",
     "start_time": "2022-08-23T12:38:44.002360Z"
    }
   },
   "outputs": [
    {
     "name": "stdout",
     "output_type": "stream",
     "text": [
      "['cond 2_Norm', 'cond 2_PosA', 'foundation_CBlock', 'foundation_PConc', 'foundation_Slab', 'foundation_Stone', 'foundation_Wood', 'bldg type_2fmCon', 'bldg type_Duplex', 'bldg type_Twnhs', 'bldg type_TwnhsE']\n"
     ]
    }
   ],
   "source": [
    "# Check the newly added get dummies columns for df_test\n",
    "cat_col_test = df_test.select_dtypes(include=['uint8']).columns.tolist()\n",
    "print(cat_col_test)"
   ]
  },
  {
   "cell_type": "code",
   "execution_count": 20,
   "id": "b8c64b07",
   "metadata": {
    "ExecuteTime": {
     "end_time": "2022-08-23T12:38:44.034369Z",
     "start_time": "2022-08-23T12:38:44.018367Z"
    }
   },
   "outputs": [],
   "source": [
    "# Drop columns not in df_test for df_train dummies\n",
    "df_train_dummies.drop(['cond 2_Feedr', 'cond 2_PosN', 'cond 2_RRAe', 'cond 2_RRAn', 'cond 2_RRNn',], axis=1, inplace=True)"
   ]
  },
  {
   "cell_type": "code",
   "execution_count": 21,
   "id": "87a3c652",
   "metadata": {
    "ExecuteTime": {
     "end_time": "2022-08-23T12:38:44.050197Z",
     "start_time": "2022-08-23T12:38:44.034369Z"
    }
   },
   "outputs": [
    {
     "data": {
      "text/plain": [
       "(2018, 26)"
      ]
     },
     "execution_count": 21,
     "metadata": {},
     "output_type": "execute_result"
    }
   ],
   "source": [
    "df_train_dummies.shape"
   ]
  },
  {
   "cell_type": "code",
   "execution_count": 22,
   "id": "a16d373e",
   "metadata": {
    "ExecuteTime": {
     "end_time": "2022-08-23T12:38:44.066200Z",
     "start_time": "2022-08-23T12:38:44.050197Z"
    }
   },
   "outputs": [
    {
     "data": {
      "text/plain": [
       "(878, 25)"
      ]
     },
     "execution_count": 22,
     "metadata": {},
     "output_type": "execute_result"
    }
   ],
   "source": [
    "df_test.shape"
   ]
  },
  {
   "cell_type": "code",
   "execution_count": 23,
   "id": "7113ce23",
   "metadata": {
    "ExecuteTime": {
     "end_time": "2022-08-23T12:38:44.082201Z",
     "start_time": "2022-08-23T12:38:44.066200Z"
    }
   },
   "outputs": [],
   "source": [
    "# Reset index to be 'id' \n",
    "df_test = df_test.set_index('id')"
   ]
  },
  {
   "cell_type": "code",
   "execution_count": 24,
   "id": "59af5ca5",
   "metadata": {
    "ExecuteTime": {
     "end_time": "2022-08-23T12:38:44.114395Z",
     "start_time": "2022-08-23T12:38:44.082201Z"
    }
   },
   "outputs": [
    {
     "data": {
      "text/html": [
       "<div>\n",
       "<style scoped>\n",
       "    .dataframe tbody tr th:only-of-type {\n",
       "        vertical-align: middle;\n",
       "    }\n",
       "\n",
       "    .dataframe tbody tr th {\n",
       "        vertical-align: top;\n",
       "    }\n",
       "\n",
       "    .dataframe thead th {\n",
       "        text-align: right;\n",
       "    }\n",
       "</style>\n",
       "<table border=\"1\" class=\"dataframe\">\n",
       "  <thead>\n",
       "    <tr style=\"text-align: right;\">\n",
       "      <th></th>\n",
       "      <th>living area</th>\n",
       "      <th>total bsmt area</th>\n",
       "      <th>garage area</th>\n",
       "      <th>kitchen qc</th>\n",
       "      <th>fireplace qc</th>\n",
       "      <th>bsmt qc</th>\n",
       "      <th>garage qc</th>\n",
       "      <th>exter qc</th>\n",
       "      <th>overall qc</th>\n",
       "      <th>garage finish</th>\n",
       "      <th>functional</th>\n",
       "      <th>total bathroom</th>\n",
       "      <th>age</th>\n",
       "      <th>cond 2_Norm</th>\n",
       "      <th>cond 2_PosA</th>\n",
       "      <th>foundation_CBlock</th>\n",
       "      <th>foundation_PConc</th>\n",
       "      <th>foundation_Slab</th>\n",
       "      <th>foundation_Stone</th>\n",
       "      <th>foundation_Wood</th>\n",
       "      <th>bldg type_2fmCon</th>\n",
       "      <th>bldg type_Duplex</th>\n",
       "      <th>bldg type_Twnhs</th>\n",
       "      <th>bldg type_TwnhsE</th>\n",
       "    </tr>\n",
       "    <tr>\n",
       "      <th>id</th>\n",
       "      <th></th>\n",
       "      <th></th>\n",
       "      <th></th>\n",
       "      <th></th>\n",
       "      <th></th>\n",
       "      <th></th>\n",
       "      <th></th>\n",
       "      <th></th>\n",
       "      <th></th>\n",
       "      <th></th>\n",
       "      <th></th>\n",
       "      <th></th>\n",
       "      <th></th>\n",
       "      <th></th>\n",
       "      <th></th>\n",
       "      <th></th>\n",
       "      <th></th>\n",
       "      <th></th>\n",
       "      <th></th>\n",
       "      <th></th>\n",
       "      <th></th>\n",
       "      <th></th>\n",
       "      <th></th>\n",
       "      <th></th>\n",
       "    </tr>\n",
       "  </thead>\n",
       "  <tbody>\n",
       "    <tr>\n",
       "      <th>2658</th>\n",
       "      <td>1928</td>\n",
       "      <td>1020</td>\n",
       "      <td>440</td>\n",
       "      <td>3</td>\n",
       "      <td>0</td>\n",
       "      <td>3</td>\n",
       "      <td>2</td>\n",
       "      <td>5</td>\n",
       "      <td>6</td>\n",
       "      <td>1</td>\n",
       "      <td>7</td>\n",
       "      <td>2.0</td>\n",
       "      <td>96</td>\n",
       "      <td>1</td>\n",
       "      <td>0</td>\n",
       "      <td>0</td>\n",
       "      <td>0</td>\n",
       "      <td>0</td>\n",
       "      <td>1</td>\n",
       "      <td>0</td>\n",
       "      <td>1</td>\n",
       "      <td>0</td>\n",
       "      <td>0</td>\n",
       "      <td>0</td>\n",
       "    </tr>\n",
       "    <tr>\n",
       "      <th>2718</th>\n",
       "      <td>1967</td>\n",
       "      <td>1967</td>\n",
       "      <td>580</td>\n",
       "      <td>5</td>\n",
       "      <td>0</td>\n",
       "      <td>7</td>\n",
       "      <td>5</td>\n",
       "      <td>5</td>\n",
       "      <td>5</td>\n",
       "      <td>3</td>\n",
       "      <td>7</td>\n",
       "      <td>2.0</td>\n",
       "      <td>29</td>\n",
       "      <td>1</td>\n",
       "      <td>0</td>\n",
       "      <td>1</td>\n",
       "      <td>0</td>\n",
       "      <td>0</td>\n",
       "      <td>0</td>\n",
       "      <td>0</td>\n",
       "      <td>0</td>\n",
       "      <td>1</td>\n",
       "      <td>0</td>\n",
       "      <td>0</td>\n",
       "    </tr>\n",
       "    <tr>\n",
       "      <th>2414</th>\n",
       "      <td>1496</td>\n",
       "      <td>654</td>\n",
       "      <td>426</td>\n",
       "      <td>7</td>\n",
       "      <td>7</td>\n",
       "      <td>7</td>\n",
       "      <td>5</td>\n",
       "      <td>7</td>\n",
       "      <td>7</td>\n",
       "      <td>2</td>\n",
       "      <td>7</td>\n",
       "      <td>4.0</td>\n",
       "      <td>0</td>\n",
       "      <td>1</td>\n",
       "      <td>0</td>\n",
       "      <td>0</td>\n",
       "      <td>1</td>\n",
       "      <td>0</td>\n",
       "      <td>0</td>\n",
       "      <td>0</td>\n",
       "      <td>0</td>\n",
       "      <td>0</td>\n",
       "      <td>0</td>\n",
       "      <td>0</td>\n",
       "    </tr>\n",
       "  </tbody>\n",
       "</table>\n",
       "</div>"
      ],
      "text/plain": [
       "      living area  total bsmt area  garage area  kitchen qc  fireplace qc  \\\n",
       "id                                                                          \n",
       "2658         1928             1020          440           3             0   \n",
       "2718         1967             1967          580           5             0   \n",
       "2414         1496              654          426           7             7   \n",
       "\n",
       "      bsmt qc  garage qc  exter qc  overall qc  garage finish  functional  \\\n",
       "id                                                                          \n",
       "2658        3          2         5           6              1           7   \n",
       "2718        7          5         5           5              3           7   \n",
       "2414        7          5         7           7              2           7   \n",
       "\n",
       "      total bathroom  age  cond 2_Norm  cond 2_PosA  foundation_CBlock  \\\n",
       "id                                                                       \n",
       "2658             2.0   96            1            0                  0   \n",
       "2718             2.0   29            1            0                  1   \n",
       "2414             4.0    0            1            0                  0   \n",
       "\n",
       "      foundation_PConc  foundation_Slab  foundation_Stone  foundation_Wood  \\\n",
       "id                                                                           \n",
       "2658                 0                0                 1                0   \n",
       "2718                 0                0                 0                0   \n",
       "2414                 1                0                 0                0   \n",
       "\n",
       "      bldg type_2fmCon  bldg type_Duplex  bldg type_Twnhs  bldg type_TwnhsE  \n",
       "id                                                                           \n",
       "2658                 1                 0                0                 0  \n",
       "2718                 0                 1                0                 0  \n",
       "2414                 0                 0                0                 0  "
      ]
     },
     "execution_count": 24,
     "metadata": {},
     "output_type": "execute_result"
    }
   ],
   "source": [
    "df_test.head(3)"
   ]
  },
  {
   "cell_type": "code",
   "execution_count": 25,
   "id": "1d042fcc",
   "metadata": {
    "ExecuteTime": {
     "end_time": "2022-08-23T12:38:44.130450Z",
     "start_time": "2022-08-23T12:38:44.114395Z"
    }
   },
   "outputs": [
    {
     "data": {
      "text/plain": [
       "(878, 24)"
      ]
     },
     "execution_count": 25,
     "metadata": {},
     "output_type": "execute_result"
    }
   ],
   "source": [
    "df_test.shape"
   ]
  },
  {
   "cell_type": "code",
   "execution_count": 26,
   "id": "e6f7a020",
   "metadata": {
    "ExecuteTime": {
     "end_time": "2022-08-23T12:38:44.162485Z",
     "start_time": "2022-08-23T12:38:44.130450Z"
    }
   },
   "outputs": [
    {
     "data": {
      "text/html": [
       "<div>\n",
       "<style scoped>\n",
       "    .dataframe tbody tr th:only-of-type {\n",
       "        vertical-align: middle;\n",
       "    }\n",
       "\n",
       "    .dataframe tbody tr th {\n",
       "        vertical-align: top;\n",
       "    }\n",
       "\n",
       "    .dataframe thead th {\n",
       "        text-align: right;\n",
       "    }\n",
       "</style>\n",
       "<table border=\"1\" class=\"dataframe\">\n",
       "  <thead>\n",
       "    <tr style=\"text-align: right;\">\n",
       "      <th></th>\n",
       "      <th>saleprice</th>\n",
       "    </tr>\n",
       "  </thead>\n",
       "  <tbody>\n",
       "    <tr>\n",
       "      <th>saleprice</th>\n",
       "      <td>1.000000</td>\n",
       "    </tr>\n",
       "    <tr>\n",
       "      <th>log saleprice</th>\n",
       "      <td>0.945836</td>\n",
       "    </tr>\n",
       "    <tr>\n",
       "      <th>overall qc</th>\n",
       "      <td>0.803652</td>\n",
       "    </tr>\n",
       "    <tr>\n",
       "      <th>living area</th>\n",
       "      <td>0.721935</td>\n",
       "    </tr>\n",
       "    <tr>\n",
       "      <th>exter qc</th>\n",
       "      <td>0.714556</td>\n",
       "    </tr>\n",
       "    <tr>\n",
       "      <th>kitchen qc</th>\n",
       "      <td>0.692746</td>\n",
       "    </tr>\n",
       "    <tr>\n",
       "      <th>total bsmt area</th>\n",
       "      <td>0.670107</td>\n",
       "    </tr>\n",
       "    <tr>\n",
       "      <th>garage area</th>\n",
       "      <td>0.653895</td>\n",
       "    </tr>\n",
       "    <tr>\n",
       "      <th>bsmt qc</th>\n",
       "      <td>0.637314</td>\n",
       "    </tr>\n",
       "    <tr>\n",
       "      <th>total bathroom</th>\n",
       "      <td>0.589369</td>\n",
       "    </tr>\n",
       "    <tr>\n",
       "      <th>garage finish</th>\n",
       "      <td>0.559143</td>\n",
       "    </tr>\n",
       "    <tr>\n",
       "      <th>fireplace qc</th>\n",
       "      <td>0.539800</td>\n",
       "    </tr>\n",
       "    <tr>\n",
       "      <th>foundation_PConc</th>\n",
       "      <td>0.530256</td>\n",
       "    </tr>\n",
       "    <tr>\n",
       "      <th>garage qc</th>\n",
       "      <td>0.290972</td>\n",
       "    </tr>\n",
       "    <tr>\n",
       "      <th>functional</th>\n",
       "      <td>0.126793</td>\n",
       "    </tr>\n",
       "  </tbody>\n",
       "</table>\n",
       "</div>"
      ],
      "text/plain": [
       "                  saleprice\n",
       "saleprice          1.000000\n",
       "log saleprice      0.945836\n",
       "overall qc         0.803652\n",
       "living area        0.721935\n",
       "exter qc           0.714556\n",
       "kitchen qc         0.692746\n",
       "total bsmt area    0.670107\n",
       "garage area        0.653895\n",
       "bsmt qc            0.637314\n",
       "total bathroom     0.589369\n",
       "garage finish      0.559143\n",
       "fireplace qc       0.539800\n",
       "foundation_PConc   0.530256\n",
       "garage qc          0.290972\n",
       "functional         0.126793"
      ]
     },
     "execution_count": 26,
     "metadata": {},
     "output_type": "execute_result"
    }
   ],
   "source": [
    "# Creating a correlation heatmap to check for new features added\n",
    "df_train_sp_corr = df_train_dummies.corr()[['saleprice']].sort_values(by='saleprice', ascending = False)\n",
    "df_train_sp_corr.head(15)"
   ]
  },
  {
   "cell_type": "markdown",
   "id": "9e590ba6",
   "metadata": {},
   "source": [
    "- Total bathroom is observed to have a higher correlation (0.59) than Full bath alone (0.54). It is also noted foundation_PConc has a correlation >0.5 as well.\n",
    "- 24 features will be used for the modeling."
   ]
  },
  {
   "cell_type": "code",
   "execution_count": 27,
   "id": "86175f2a",
   "metadata": {
    "ExecuteTime": {
     "end_time": "2022-08-23T12:38:44.178212Z",
     "start_time": "2022-08-23T12:38:44.162485Z"
    }
   },
   "outputs": [
    {
     "data": {
      "text/plain": [
       "Index(['saleprice', 'log saleprice', 'living area', 'total bsmt area',\n",
       "       'garage area', 'kitchen qc', 'fireplace qc', 'bsmt qc', 'garage qc',\n",
       "       'exter qc', 'overall qc', 'garage finish', 'functional',\n",
       "       'total bathroom', 'age', 'cond 2_Norm', 'cond 2_PosA',\n",
       "       'foundation_CBlock', 'foundation_PConc', 'foundation_Slab',\n",
       "       'foundation_Stone', 'foundation_Wood', 'bldg type_2fmCon',\n",
       "       'bldg type_Duplex', 'bldg type_Twnhs', 'bldg type_TwnhsE'],\n",
       "      dtype='object')"
      ]
     },
     "execution_count": 27,
     "metadata": {},
     "output_type": "execute_result"
    }
   ],
   "source": [
    "df_train_dummies.columns"
   ]
  },
  {
   "cell_type": "markdown",
   "id": "8ca3b093",
   "metadata": {},
   "source": [
    "## 5. Scaling and Spliting Dataset"
   ]
  },
  {
   "cell_type": "code",
   "execution_count": 28,
   "id": "10a8dbdd",
   "metadata": {
    "ExecuteTime": {
     "end_time": "2022-08-23T12:38:44.194199Z",
     "start_time": "2022-08-23T12:38:44.178212Z"
    },
    "run_control": {
     "marked": false
    }
   },
   "outputs": [],
   "source": [
    "# Create X and y variables\n",
    "X = df_train_dummies.drop(['saleprice', 'log saleprice'], axis = 1)\n",
    "y = df_train_dummies['saleprice']\n",
    "\n",
    "X_train, X_val, y_train, y_val = train_test_split(X, y, random_state=42, test_size = 0.2)"
   ]
  },
  {
   "cell_type": "code",
   "execution_count": 29,
   "id": "48287ef1",
   "metadata": {
    "ExecuteTime": {
     "end_time": "2022-08-23T12:38:44.210207Z",
     "start_time": "2022-08-23T12:38:44.194199Z"
    }
   },
   "outputs": [
    {
     "name": "stdout",
     "output_type": "stream",
     "text": [
      "(1614, 24)\n",
      "(404, 24)\n"
     ]
    }
   ],
   "source": [
    "print(X_train.shape)\n",
    "print(X_val.shape)"
   ]
  },
  {
   "cell_type": "code",
   "execution_count": 30,
   "id": "a9549510",
   "metadata": {
    "ExecuteTime": {
     "end_time": "2022-08-23T12:38:44.226191Z",
     "start_time": "2022-08-23T12:38:44.210207Z"
    }
   },
   "outputs": [
    {
     "name": "stdout",
     "output_type": "stream",
     "text": [
      "(1614,)\n",
      "(404,)\n"
     ]
    }
   ],
   "source": [
    "print(y_train.shape)\n",
    "print(y_val.shape)"
   ]
  },
  {
   "cell_type": "code",
   "execution_count": 31,
   "id": "8a94d985",
   "metadata": {
    "ExecuteTime": {
     "end_time": "2022-08-23T12:38:44.242192Z",
     "start_time": "2022-08-23T12:38:44.226191Z"
    }
   },
   "outputs": [
    {
     "name": "stdout",
     "output_type": "stream",
     "text": [
      "[[ 0.46280868  1.57888982  0.39048021  2.23064897  1.27755248  1.78367915\n",
      "   0.26857135  2.72186554  2.05065814  0.32350279  0.22585778  1.11426666\n",
      "  -1.18188402 -9.16227965 -0.0352235  -0.87182982  1.12979896 -0.13287015\n",
      "  -0.04984448 -0.0352235  -0.14888226 -0.19818884 -0.20154145  3.46642886]]\n",
      "\n",
      "[[ 1.81945427  0.49315925  1.78586904  0.73053754  1.27755248  0.6021244\n",
      "   0.26857135  1.02241062  1.34839584  0.32350279  0.22585778  1.62258389\n",
      "  -0.88027749  0.10914314 -0.0352235  -0.87182982  1.12979896 -0.13287015\n",
      "  -0.04984448 -0.0352235  -0.14888226 -0.19818884 -0.20154145 -0.28848133]]\n"
     ]
    }
   ],
   "source": [
    "# Create an instance of the StandardScaler() object\n",
    "scaler = StandardScaler()\n",
    "\n",
    "# Fit the training set\n",
    "scaler.fit(X_train)\n",
    "\n",
    "# Apply transform to both the training set and the validation set\n",
    "X_train = scaler.transform(X_train)\n",
    "X_val = scaler.transform(X_val)\n",
    "\n",
    "# Print scaled values for first row of data\n",
    "print(X_train[:1, :])\n",
    "print()\n",
    "print(X_val[:1, :])"
   ]
  },
  {
   "cell_type": "code",
   "execution_count": 32,
   "id": "25569bc4",
   "metadata": {
    "ExecuteTime": {
     "end_time": "2022-08-23T12:38:44.258220Z",
     "start_time": "2022-08-23T12:38:44.242192Z"
    }
   },
   "outputs": [
    {
     "data": {
      "text/plain": [
       "(1614, 24)"
      ]
     },
     "execution_count": 32,
     "metadata": {},
     "output_type": "execute_result"
    }
   ],
   "source": [
    "X_train.shape"
   ]
  },
  {
   "cell_type": "code",
   "execution_count": 33,
   "id": "ff100757",
   "metadata": {
    "ExecuteTime": {
     "end_time": "2022-08-23T12:38:44.274214Z",
     "start_time": "2022-08-23T12:38:44.258220Z"
    }
   },
   "outputs": [
    {
     "data": {
      "text/plain": [
       "(404, 24)"
      ]
     },
     "execution_count": 33,
     "metadata": {},
     "output_type": "execute_result"
    }
   ],
   "source": [
    "X_val.shape"
   ]
  },
  {
   "cell_type": "markdown",
   "id": "c8a846ee",
   "metadata": {},
   "source": [
    "## 6. Null Model or Baseline Score"
   ]
  },
  {
   "cell_type": "code",
   "execution_count": 34,
   "id": "669a3517",
   "metadata": {
    "ExecuteTime": {
     "end_time": "2022-08-23T12:38:44.290199Z",
     "start_time": "2022-08-23T12:38:44.274214Z"
    },
    "scrolled": true
   },
   "outputs": [
    {
     "data": {
      "text/plain": [
       "180873.27502477702"
      ]
     },
     "execution_count": 34,
     "metadata": {},
     "output_type": "execute_result"
    }
   ],
   "source": [
    "df_train_dummies['saleprice'].mean()"
   ]
  },
  {
   "cell_type": "code",
   "execution_count": 35,
   "id": "512b792f",
   "metadata": {
    "ExecuteTime": {
     "end_time": "2022-08-23T12:38:44.306221Z",
     "start_time": "2022-08-23T12:38:44.290199Z"
    }
   },
   "outputs": [
    {
     "data": {
      "text/plain": [
       "-0.00014091565286311614"
      ]
     },
     "execution_count": 35,
     "metadata": {},
     "output_type": "execute_result"
    }
   ],
   "source": [
    "from sklearn.dummy import DummyRegressor\n",
    "dummy_regr= DummyRegressor(strategy=\"mean\")\n",
    "dummy_regr.fit(X_train, y_train)\n",
    "DummyRegressor()\n",
    "dummy_regr.predict(X_val)\n",
    "dummy_regr.score(X_val, y_val)"
   ]
  },
  {
   "cell_type": "markdown",
   "id": "d98e374f",
   "metadata": {},
   "source": [
    "## 7. Model Evaluation"
   ]
  },
  {
   "cell_type": "markdown",
   "id": "774b306a",
   "metadata": {},
   "source": [
    "### 7.1 Linear Regression"
   ]
  },
  {
   "cell_type": "code",
   "execution_count": 36,
   "id": "682acbea",
   "metadata": {
    "ExecuteTime": {
     "end_time": "2022-08-23T12:38:44.658236Z",
     "start_time": "2022-08-23T12:38:44.306221Z"
    },
    "run_control": {
     "marked": false
    }
   },
   "outputs": [
    {
     "name": "stdout",
     "output_type": "stream",
     "text": [
      "R2 score: [0.8702625  0.84066843 0.8553934  0.88214423 0.84040667]\n",
      "Mean R2: 0.858\n",
      "RSME score: [30988.09608634 27822.24525925 30565.23902175 26241.97312027\n",
      " 33017.10453873]\n",
      "Mean RSME: 29726.932\n"
     ]
    }
   ],
   "source": [
    "# Apply linear regression model\n",
    "lr = LinearRegression()\n",
    "\n",
    "# Cross validation\n",
    "lr_scores = cross_val_score(lr, X_train, y_train, cv=5)\n",
    "lr_RSME_scores = cross_val_score(lr, X_train, y_train, cv=5, scoring='neg_root_mean_squared_error')\n",
    "\n",
    "# force scores to be positive\n",
    "lr_RSME_scores = np.abs(lr_RSME_scores)\n",
    "\n",
    "# Print the scores\n",
    "print('R2 score:', lr_scores)\n",
    "print('Mean R2: %.3f' % (np.mean(lr_scores)))\n",
    "\n",
    "print('RSME score:', lr_RSME_scores)\n",
    "print('Mean RSME: %.3f' % (np.mean(lr_RSME_scores)))"
   ]
  },
  {
   "cell_type": "markdown",
   "id": "804ace40",
   "metadata": {},
   "source": [
    "The average cross validation R2 and RSME score for linear regression is 0.858 and 29726.93 resepectively. The five cross validation individual scores are close to that value. This suggests that the model result is consistent with each fold and is performing better than the dummy regressor model where it has a negative R2 score."
   ]
  },
  {
   "cell_type": "markdown",
   "id": "893f8bb0",
   "metadata": {},
   "source": [
    "### 7.2 Ridge Regression"
   ]
  },
  {
   "cell_type": "code",
   "execution_count": 37,
   "id": "03c66dd4",
   "metadata": {
    "ExecuteTime": {
     "end_time": "2022-08-23T12:38:46.368045Z",
     "start_time": "2022-08-23T12:38:44.658236Z"
    },
    "run_control": {
     "marked": false
    },
    "scrolled": true
   },
   "outputs": [
    {
     "name": "stdout",
     "output_type": "stream",
     "text": [
      "68.26071834272389\n",
      "CPU times: total: 11.4 s\n",
      "Wall time: 1.7 s\n"
     ]
    }
   ],
   "source": [
    "%%time\n",
    "ridge_alphas = np.logspace(0, 5, 200)\n",
    "\n",
    "optimal_ridge = RidgeCV(alphas=ridge_alphas, cv=5)\n",
    "optimal_ridge.fit(X_train, y_train)\n",
    "\n",
    "print (optimal_ridge.alpha_)"
   ]
  },
  {
   "cell_type": "code",
   "execution_count": 38,
   "id": "bd09ed3f",
   "metadata": {
    "ExecuteTime": {
     "end_time": "2022-08-23T12:38:46.400888Z",
     "start_time": "2022-08-23T12:38:46.368045Z"
    },
    "run_control": {
     "marked": false
    }
   },
   "outputs": [
    {
     "name": "stdout",
     "output_type": "stream",
     "text": [
      "R2 score: [0.86726652 0.84515014 0.85707326 0.88345416 0.83995203]\n",
      "Mean R2: 0.859\n",
      "RSME score: [31343.85267325 27428.15938367 30387.18495083 26095.73031129\n",
      " 33064.09948956]\n",
      "Mean RSME: 29663.805\n"
     ]
    }
   ],
   "source": [
    "# Cross-validate the Ridge regression R2 with the optimal alpha.\n",
    "ridge = Ridge(alpha=optimal_ridge.alpha_)\n",
    "\n",
    "ridge_scores = cross_val_score(ridge, X_train, y_train, cv=5)\n",
    "ridge_RSME_scores = cross_val_score(ridge, X_train, y_train, cv=5, scoring='neg_root_mean_squared_error')\n",
    "\n",
    "# force scores to be positive\n",
    "ridge_RSME_scores = np.abs(ridge_RSME_scores)\n",
    "\n",
    "print('R2 score:', ridge_scores)\n",
    "print('Mean R2: %.3f' % (np.mean(ridge_scores)))\n",
    "\n",
    "print('RSME score:', ridge_RSME_scores)\n",
    "print('Mean RSME: %.3f' % (np.mean(ridge_RSME_scores)))"
   ]
  },
  {
   "cell_type": "markdown",
   "id": "6cf994be",
   "metadata": {},
   "source": [
    "The average cross validation R2 and RSME score for ridge regression is 0.859 and 29663.81 respectively. The five cross validation individual scores are close to that value. Similarly, the model result is consistent with each fold and is performing slightly better than linear regression model."
   ]
  },
  {
   "cell_type": "markdown",
   "id": "6d1e1708",
   "metadata": {},
   "source": [
    "### 7.3 Lasso Regression"
   ]
  },
  {
   "cell_type": "code",
   "execution_count": 39,
   "id": "946c61e7",
   "metadata": {
    "ExecuteTime": {
     "end_time": "2022-08-23T12:38:46.744925Z",
     "start_time": "2022-08-23T12:38:46.400888Z"
    }
   },
   "outputs": [
    {
     "name": "stderr",
     "output_type": "stream",
     "text": [
      "[Parallel(n_jobs=1)]: Using backend SequentialBackend with 1 concurrent workers.\n",
      "............................................................................................................................................................................................................................................................................................................................................................................................................................................................................................................................................................................................................................................................................................................................................................................................................................................................................................................................................................................................................................................................................................................................................................................................................................................................................................................................................................................................................................................................................"
     ]
    },
    {
     "name": "stdout",
     "output_type": "stream",
     "text": [
      "64.27376736372715\n"
     ]
    },
    {
     "name": "stderr",
     "output_type": "stream",
     "text": [
      "........................................................................................................................................................................................................................................................................................................................................................................................................................................................................................................................................................................................................................................................................................................................................................................................................................................................................................................................................................................................................................................................................................................................[Parallel(n_jobs=1)]: Done   5 out of   5 | elapsed:    0.2s finished\n"
     ]
    }
   ],
   "source": [
    "# Find an optimal value for Lasso regression alpha using LassoCV\n",
    "optimal_lasso = LassoCV(n_alphas=500, cv=5, verbose=1)\n",
    "optimal_lasso.fit(X_train, y_train)\n",
    "\n",
    "print (optimal_lasso.alpha_)"
   ]
  },
  {
   "cell_type": "code",
   "execution_count": 40,
   "id": "eb85550e",
   "metadata": {
    "ExecuteTime": {
     "end_time": "2022-08-23T12:38:46.777762Z",
     "start_time": "2022-08-23T12:38:46.744925Z"
    }
   },
   "outputs": [
    {
     "name": "stdout",
     "output_type": "stream",
     "text": [
      "R2 score: [0.86981073 0.84073542 0.85621391 0.88251534 0.84045772]\n",
      "Mean R2: 0.858\n",
      "RSME score: [31042.00190318 27816.39598985 30478.40022034 26200.62416019\n",
      " 33011.82371945]\n",
      "Mean RSME: 29709.849\n"
     ]
    }
   ],
   "source": [
    "# Cross-validate the Lasso R2 with the optimal alpha\n",
    "lasso = Lasso(alpha=optimal_lasso.alpha_)\n",
    "\n",
    "lasso_scores = cross_val_score(lasso, X_train, y_train, cv=5)\n",
    "lasso_RSME_scores = cross_val_score(lasso, X_train, y_train, cv=5, scoring='neg_root_mean_squared_error')\n",
    "\n",
    "# force scores to be positive\n",
    "lasso_RSME_scores = np.abs(lasso_RSME_scores)\n",
    "\n",
    "print('R2 score:', lasso_scores)\n",
    "print('Mean R2: %.3f' % (np.mean(lasso_scores)))\n",
    "\n",
    "print('RSME score:', lasso_RSME_scores)\n",
    "print('Mean RSME: %.3f' % (np.mean(lasso_RSME_scores)))"
   ]
  },
  {
   "cell_type": "markdown",
   "id": "f001ee3e",
   "metadata": {},
   "source": [
    "The average cross validation R2 and RSME score for lasso regression is 0.858 amd 29709.85 respectively. The five cross validation individual scores are close to that value. Similarly, the model result is consistent with each fold and performance is comparable with Linear."
   ]
  },
  {
   "cell_type": "markdown",
   "id": "7eadacea",
   "metadata": {},
   "source": [
    "## 8. Model Improvement 1"
   ]
  },
  {
   "cell_type": "markdown",
   "id": "a2d8fc9c",
   "metadata": {},
   "source": [
    "Let try to explore if adding new features helps to improve the Ridge or Lasso model. From the selected features, we will try by adding the quality and condition of the house as a total rating since both features are related."
   ]
  },
  {
   "cell_type": "markdown",
   "id": "363ef106",
   "metadata": {},
   "source": [
    "### 8.1 New Features, Scaling and Spliting dataset"
   ]
  },
  {
   "cell_type": "code",
   "execution_count": 41,
   "id": "3971447a",
   "metadata": {
    "ExecuteTime": {
     "end_time": "2022-08-23T12:38:46.793764Z",
     "start_time": "2022-08-23T12:38:46.777762Z"
    }
   },
   "outputs": [
    {
     "data": {
      "text/html": [
       "<div>\n",
       "<style scoped>\n",
       "    .dataframe tbody tr th:only-of-type {\n",
       "        vertical-align: middle;\n",
       "    }\n",
       "\n",
       "    .dataframe tbody tr th {\n",
       "        vertical-align: top;\n",
       "    }\n",
       "\n",
       "    .dataframe thead th {\n",
       "        text-align: right;\n",
       "    }\n",
       "</style>\n",
       "<table border=\"1\" class=\"dataframe\">\n",
       "  <thead>\n",
       "    <tr style=\"text-align: right;\">\n",
       "      <th></th>\n",
       "      <th>saleprice</th>\n",
       "      <th>log saleprice</th>\n",
       "      <th>living area</th>\n",
       "      <th>total bsmt area</th>\n",
       "      <th>garage area</th>\n",
       "      <th>kitchen qc</th>\n",
       "      <th>fireplace qc</th>\n",
       "      <th>bsmt qc</th>\n",
       "      <th>garage qc</th>\n",
       "      <th>exter qc</th>\n",
       "      <th>overall qc</th>\n",
       "      <th>overall cond</th>\n",
       "      <th>garage cond</th>\n",
       "      <th>bsmt cond</th>\n",
       "      <th>exter cond</th>\n",
       "      <th>garage finish</th>\n",
       "      <th>functional</th>\n",
       "      <th>cond 2</th>\n",
       "      <th>foundation</th>\n",
       "      <th>bldg type</th>\n",
       "      <th>total bathroom</th>\n",
       "      <th>age</th>\n",
       "    </tr>\n",
       "  </thead>\n",
       "  <tbody>\n",
       "    <tr>\n",
       "      <th>0</th>\n",
       "      <td>130500</td>\n",
       "      <td>11.779129</td>\n",
       "      <td>1479</td>\n",
       "      <td>725.0</td>\n",
       "      <td>475.0</td>\n",
       "      <td>7</td>\n",
       "      <td>0</td>\n",
       "      <td>5</td>\n",
       "      <td>5</td>\n",
       "      <td>7</td>\n",
       "      <td>6</td>\n",
       "      <td>8</td>\n",
       "      <td>5</td>\n",
       "      <td>5</td>\n",
       "      <td>5</td>\n",
       "      <td>2</td>\n",
       "      <td>7</td>\n",
       "      <td>Norm</td>\n",
       "      <td>CBlock</td>\n",
       "      <td>1Fam</td>\n",
       "      <td>2.5</td>\n",
       "      <td>34</td>\n",
       "    </tr>\n",
       "    <tr>\n",
       "      <th>1</th>\n",
       "      <td>220000</td>\n",
       "      <td>12.301383</td>\n",
       "      <td>2122</td>\n",
       "      <td>913.0</td>\n",
       "      <td>559.0</td>\n",
       "      <td>7</td>\n",
       "      <td>5</td>\n",
       "      <td>7</td>\n",
       "      <td>5</td>\n",
       "      <td>7</td>\n",
       "      <td>7</td>\n",
       "      <td>5</td>\n",
       "      <td>5</td>\n",
       "      <td>5</td>\n",
       "      <td>5</td>\n",
       "      <td>2</td>\n",
       "      <td>7</td>\n",
       "      <td>Norm</td>\n",
       "      <td>PConc</td>\n",
       "      <td>1Fam</td>\n",
       "      <td>4.0</td>\n",
       "      <td>13</td>\n",
       "    </tr>\n",
       "    <tr>\n",
       "      <th>2</th>\n",
       "      <td>109000</td>\n",
       "      <td>11.599103</td>\n",
       "      <td>1057</td>\n",
       "      <td>1057.0</td>\n",
       "      <td>246.0</td>\n",
       "      <td>7</td>\n",
       "      <td>0</td>\n",
       "      <td>5</td>\n",
       "      <td>5</td>\n",
       "      <td>5</td>\n",
       "      <td>5</td>\n",
       "      <td>7</td>\n",
       "      <td>5</td>\n",
       "      <td>5</td>\n",
       "      <td>7</td>\n",
       "      <td>1</td>\n",
       "      <td>7</td>\n",
       "      <td>Norm</td>\n",
       "      <td>CBlock</td>\n",
       "      <td>1Fam</td>\n",
       "      <td>2.5</td>\n",
       "      <td>57</td>\n",
       "    </tr>\n",
       "    <tr>\n",
       "      <th>3</th>\n",
       "      <td>174000</td>\n",
       "      <td>12.066811</td>\n",
       "      <td>1444</td>\n",
       "      <td>384.0</td>\n",
       "      <td>400.0</td>\n",
       "      <td>5</td>\n",
       "      <td>0</td>\n",
       "      <td>7</td>\n",
       "      <td>5</td>\n",
       "      <td>5</td>\n",
       "      <td>5</td>\n",
       "      <td>5</td>\n",
       "      <td>5</td>\n",
       "      <td>5</td>\n",
       "      <td>5</td>\n",
       "      <td>3</td>\n",
       "      <td>7</td>\n",
       "      <td>Norm</td>\n",
       "      <td>PConc</td>\n",
       "      <td>1Fam</td>\n",
       "      <td>2.5</td>\n",
       "      <td>4</td>\n",
       "    </tr>\n",
       "    <tr>\n",
       "      <th>4</th>\n",
       "      <td>138500</td>\n",
       "      <td>11.838626</td>\n",
       "      <td>1445</td>\n",
       "      <td>676.0</td>\n",
       "      <td>484.0</td>\n",
       "      <td>5</td>\n",
       "      <td>0</td>\n",
       "      <td>3</td>\n",
       "      <td>5</td>\n",
       "      <td>5</td>\n",
       "      <td>6</td>\n",
       "      <td>8</td>\n",
       "      <td>5</td>\n",
       "      <td>7</td>\n",
       "      <td>5</td>\n",
       "      <td>1</td>\n",
       "      <td>7</td>\n",
       "      <td>Norm</td>\n",
       "      <td>PConc</td>\n",
       "      <td>1Fam</td>\n",
       "      <td>2.0</td>\n",
       "      <td>110</td>\n",
       "    </tr>\n",
       "  </tbody>\n",
       "</table>\n",
       "</div>"
      ],
      "text/plain": [
       "   saleprice  log saleprice  living area  total bsmt area  garage area  \\\n",
       "0     130500      11.779129         1479            725.0        475.0   \n",
       "1     220000      12.301383         2122            913.0        559.0   \n",
       "2     109000      11.599103         1057           1057.0        246.0   \n",
       "3     174000      12.066811         1444            384.0        400.0   \n",
       "4     138500      11.838626         1445            676.0        484.0   \n",
       "\n",
       "   kitchen qc  fireplace qc  bsmt qc  garage qc  exter qc  overall qc  \\\n",
       "0           7             0        5          5         7           6   \n",
       "1           7             5        7          5         7           7   \n",
       "2           7             0        5          5         5           5   \n",
       "3           5             0        7          5         5           5   \n",
       "4           5             0        3          5         5           6   \n",
       "\n",
       "   overall cond  garage cond  bsmt cond  exter cond  garage finish  \\\n",
       "0             8            5          5           5              2   \n",
       "1             5            5          5           5              2   \n",
       "2             7            5          5           7              1   \n",
       "3             5            5          5           5              3   \n",
       "4             8            5          7           5              1   \n",
       "\n",
       "   functional cond 2 foundation bldg type  total bathroom  age  \n",
       "0           7   Norm     CBlock      1Fam             2.5   34  \n",
       "1           7   Norm      PConc      1Fam             4.0   13  \n",
       "2           7   Norm     CBlock      1Fam             2.5   57  \n",
       "3           7   Norm      PConc      1Fam             2.5    4  \n",
       "4           7   Norm      PConc      1Fam             2.0  110  "
      ]
     },
     "execution_count": 41,
     "metadata": {},
     "output_type": "execute_result"
    }
   ],
   "source": [
    "# Re-select the features to model\n",
    "features_1 = df_train_clean.loc[:, ['saleprice','log saleprice', 'living area', 'total bsmt area', 'garage area',\n",
    "                                    'kitchen qc', 'fireplace qc', 'bsmt qc', 'garage qc', 'exter qc', 'overall qc', \n",
    "                                    'overall cond', 'garage cond', 'bsmt cond', 'exter cond', 'garage finish', \n",
    "                                    'functional', 'cond 2', 'foundation', 'bldg type', 'total bathroom', 'age']]\n",
    "features_1.head()"
   ]
  },
  {
   "cell_type": "code",
   "execution_count": 42,
   "id": "6b8e4e11",
   "metadata": {
    "ExecuteTime": {
     "end_time": "2022-08-23T12:38:46.809766Z",
     "start_time": "2022-08-23T12:38:46.793764Z"
    },
    "run_control": {
     "marked": false
    }
   },
   "outputs": [],
   "source": [
    "# Create new columns for new features related to qc and condition of the features\n",
    "# Try to reduce the multicollinearly since quality and condition may have overlap\n",
    "features_1['overall score'] = features_1['overall qc'] + features_1['overall cond']\n",
    "features_1['garage score'] = features_1['garage qc'] + features_1['garage cond']\n",
    "features_1['exter score'] = features_1['exter qc'] + features_1['exter cond'] \n",
    "features_1['bsmt score'] = features_1['bsmt qc'] + features_1['bsmt cond']"
   ]
  },
  {
   "cell_type": "code",
   "execution_count": 43,
   "id": "6a8001b6",
   "metadata": {
    "ExecuteTime": {
     "end_time": "2022-08-23T12:38:46.825768Z",
     "start_time": "2022-08-23T12:38:46.809766Z"
    }
   },
   "outputs": [
    {
     "data": {
      "text/html": [
       "<div>\n",
       "<style scoped>\n",
       "    .dataframe tbody tr th:only-of-type {\n",
       "        vertical-align: middle;\n",
       "    }\n",
       "\n",
       "    .dataframe tbody tr th {\n",
       "        vertical-align: top;\n",
       "    }\n",
       "\n",
       "    .dataframe thead th {\n",
       "        text-align: right;\n",
       "    }\n",
       "</style>\n",
       "<table border=\"1\" class=\"dataframe\">\n",
       "  <thead>\n",
       "    <tr style=\"text-align: right;\">\n",
       "      <th></th>\n",
       "      <th>saleprice</th>\n",
       "      <th>log saleprice</th>\n",
       "      <th>living area</th>\n",
       "      <th>total bsmt area</th>\n",
       "      <th>garage area</th>\n",
       "      <th>kitchen qc</th>\n",
       "      <th>fireplace qc</th>\n",
       "      <th>bsmt qc</th>\n",
       "      <th>garage qc</th>\n",
       "      <th>exter qc</th>\n",
       "      <th>overall qc</th>\n",
       "      <th>overall cond</th>\n",
       "      <th>garage cond</th>\n",
       "      <th>bsmt cond</th>\n",
       "      <th>exter cond</th>\n",
       "      <th>garage finish</th>\n",
       "      <th>functional</th>\n",
       "      <th>cond 2</th>\n",
       "      <th>foundation</th>\n",
       "      <th>bldg type</th>\n",
       "      <th>total bathroom</th>\n",
       "      <th>age</th>\n",
       "      <th>overall score</th>\n",
       "      <th>garage score</th>\n",
       "      <th>exter score</th>\n",
       "      <th>bsmt score</th>\n",
       "    </tr>\n",
       "  </thead>\n",
       "  <tbody>\n",
       "    <tr>\n",
       "      <th>0</th>\n",
       "      <td>130500</td>\n",
       "      <td>11.779129</td>\n",
       "      <td>1479</td>\n",
       "      <td>725.0</td>\n",
       "      <td>475.0</td>\n",
       "      <td>7</td>\n",
       "      <td>0</td>\n",
       "      <td>5</td>\n",
       "      <td>5</td>\n",
       "      <td>7</td>\n",
       "      <td>6</td>\n",
       "      <td>8</td>\n",
       "      <td>5</td>\n",
       "      <td>5</td>\n",
       "      <td>5</td>\n",
       "      <td>2</td>\n",
       "      <td>7</td>\n",
       "      <td>Norm</td>\n",
       "      <td>CBlock</td>\n",
       "      <td>1Fam</td>\n",
       "      <td>2.5</td>\n",
       "      <td>34</td>\n",
       "      <td>14</td>\n",
       "      <td>10</td>\n",
       "      <td>12</td>\n",
       "      <td>10</td>\n",
       "    </tr>\n",
       "    <tr>\n",
       "      <th>1</th>\n",
       "      <td>220000</td>\n",
       "      <td>12.301383</td>\n",
       "      <td>2122</td>\n",
       "      <td>913.0</td>\n",
       "      <td>559.0</td>\n",
       "      <td>7</td>\n",
       "      <td>5</td>\n",
       "      <td>7</td>\n",
       "      <td>5</td>\n",
       "      <td>7</td>\n",
       "      <td>7</td>\n",
       "      <td>5</td>\n",
       "      <td>5</td>\n",
       "      <td>5</td>\n",
       "      <td>5</td>\n",
       "      <td>2</td>\n",
       "      <td>7</td>\n",
       "      <td>Norm</td>\n",
       "      <td>PConc</td>\n",
       "      <td>1Fam</td>\n",
       "      <td>4.0</td>\n",
       "      <td>13</td>\n",
       "      <td>12</td>\n",
       "      <td>10</td>\n",
       "      <td>12</td>\n",
       "      <td>12</td>\n",
       "    </tr>\n",
       "    <tr>\n",
       "      <th>2</th>\n",
       "      <td>109000</td>\n",
       "      <td>11.599103</td>\n",
       "      <td>1057</td>\n",
       "      <td>1057.0</td>\n",
       "      <td>246.0</td>\n",
       "      <td>7</td>\n",
       "      <td>0</td>\n",
       "      <td>5</td>\n",
       "      <td>5</td>\n",
       "      <td>5</td>\n",
       "      <td>5</td>\n",
       "      <td>7</td>\n",
       "      <td>5</td>\n",
       "      <td>5</td>\n",
       "      <td>7</td>\n",
       "      <td>1</td>\n",
       "      <td>7</td>\n",
       "      <td>Norm</td>\n",
       "      <td>CBlock</td>\n",
       "      <td>1Fam</td>\n",
       "      <td>2.5</td>\n",
       "      <td>57</td>\n",
       "      <td>12</td>\n",
       "      <td>10</td>\n",
       "      <td>12</td>\n",
       "      <td>10</td>\n",
       "    </tr>\n",
       "    <tr>\n",
       "      <th>3</th>\n",
       "      <td>174000</td>\n",
       "      <td>12.066811</td>\n",
       "      <td>1444</td>\n",
       "      <td>384.0</td>\n",
       "      <td>400.0</td>\n",
       "      <td>5</td>\n",
       "      <td>0</td>\n",
       "      <td>7</td>\n",
       "      <td>5</td>\n",
       "      <td>5</td>\n",
       "      <td>5</td>\n",
       "      <td>5</td>\n",
       "      <td>5</td>\n",
       "      <td>5</td>\n",
       "      <td>5</td>\n",
       "      <td>3</td>\n",
       "      <td>7</td>\n",
       "      <td>Norm</td>\n",
       "      <td>PConc</td>\n",
       "      <td>1Fam</td>\n",
       "      <td>2.5</td>\n",
       "      <td>4</td>\n",
       "      <td>10</td>\n",
       "      <td>10</td>\n",
       "      <td>10</td>\n",
       "      <td>12</td>\n",
       "    </tr>\n",
       "    <tr>\n",
       "      <th>4</th>\n",
       "      <td>138500</td>\n",
       "      <td>11.838626</td>\n",
       "      <td>1445</td>\n",
       "      <td>676.0</td>\n",
       "      <td>484.0</td>\n",
       "      <td>5</td>\n",
       "      <td>0</td>\n",
       "      <td>3</td>\n",
       "      <td>5</td>\n",
       "      <td>5</td>\n",
       "      <td>6</td>\n",
       "      <td>8</td>\n",
       "      <td>5</td>\n",
       "      <td>7</td>\n",
       "      <td>5</td>\n",
       "      <td>1</td>\n",
       "      <td>7</td>\n",
       "      <td>Norm</td>\n",
       "      <td>PConc</td>\n",
       "      <td>1Fam</td>\n",
       "      <td>2.0</td>\n",
       "      <td>110</td>\n",
       "      <td>14</td>\n",
       "      <td>10</td>\n",
       "      <td>10</td>\n",
       "      <td>10</td>\n",
       "    </tr>\n",
       "  </tbody>\n",
       "</table>\n",
       "</div>"
      ],
      "text/plain": [
       "   saleprice  log saleprice  living area  total bsmt area  garage area  \\\n",
       "0     130500      11.779129         1479            725.0        475.0   \n",
       "1     220000      12.301383         2122            913.0        559.0   \n",
       "2     109000      11.599103         1057           1057.0        246.0   \n",
       "3     174000      12.066811         1444            384.0        400.0   \n",
       "4     138500      11.838626         1445            676.0        484.0   \n",
       "\n",
       "   kitchen qc  fireplace qc  bsmt qc  garage qc  exter qc  overall qc  \\\n",
       "0           7             0        5          5         7           6   \n",
       "1           7             5        7          5         7           7   \n",
       "2           7             0        5          5         5           5   \n",
       "3           5             0        7          5         5           5   \n",
       "4           5             0        3          5         5           6   \n",
       "\n",
       "   overall cond  garage cond  bsmt cond  exter cond  garage finish  \\\n",
       "0             8            5          5           5              2   \n",
       "1             5            5          5           5              2   \n",
       "2             7            5          5           7              1   \n",
       "3             5            5          5           5              3   \n",
       "4             8            5          7           5              1   \n",
       "\n",
       "   functional cond 2 foundation bldg type  total bathroom  age  overall score  \\\n",
       "0           7   Norm     CBlock      1Fam             2.5   34             14   \n",
       "1           7   Norm      PConc      1Fam             4.0   13             12   \n",
       "2           7   Norm     CBlock      1Fam             2.5   57             12   \n",
       "3           7   Norm      PConc      1Fam             2.5    4             10   \n",
       "4           7   Norm      PConc      1Fam             2.0  110             14   \n",
       "\n",
       "   garage score  exter score  bsmt score  \n",
       "0            10           12          10  \n",
       "1            10           12          12  \n",
       "2            10           12          10  \n",
       "3            10           10          12  \n",
       "4            10           10          10  "
      ]
     },
     "execution_count": 43,
     "metadata": {},
     "output_type": "execute_result"
    }
   ],
   "source": [
    "features_1.head()"
   ]
  },
  {
   "cell_type": "code",
   "execution_count": 44,
   "id": "68c13066",
   "metadata": {
    "ExecuteTime": {
     "end_time": "2022-08-23T12:38:46.841770Z",
     "start_time": "2022-08-23T12:38:46.825768Z"
    }
   },
   "outputs": [],
   "source": [
    "# Drop the individual columns\n",
    "features_1.drop(['overall qc', 'overall cond', 'garage qc', 'garage cond', 'exter qc', 'exter cond', 'bsmt qc', \n",
    "            'bsmt cond'], axis=1, inplace=True)"
   ]
  },
  {
   "cell_type": "code",
   "execution_count": 45,
   "id": "7a355bba",
   "metadata": {
    "ExecuteTime": {
     "end_time": "2022-08-23T12:38:46.857771Z",
     "start_time": "2022-08-23T12:38:46.841770Z"
    },
    "scrolled": true
   },
   "outputs": [
    {
     "data": {
      "text/html": [
       "<div>\n",
       "<style scoped>\n",
       "    .dataframe tbody tr th:only-of-type {\n",
       "        vertical-align: middle;\n",
       "    }\n",
       "\n",
       "    .dataframe tbody tr th {\n",
       "        vertical-align: top;\n",
       "    }\n",
       "\n",
       "    .dataframe thead th {\n",
       "        text-align: right;\n",
       "    }\n",
       "</style>\n",
       "<table border=\"1\" class=\"dataframe\">\n",
       "  <thead>\n",
       "    <tr style=\"text-align: right;\">\n",
       "      <th></th>\n",
       "      <th>saleprice</th>\n",
       "      <th>log saleprice</th>\n",
       "      <th>living area</th>\n",
       "      <th>total bsmt area</th>\n",
       "      <th>garage area</th>\n",
       "      <th>kitchen qc</th>\n",
       "      <th>fireplace qc</th>\n",
       "      <th>garage finish</th>\n",
       "      <th>functional</th>\n",
       "      <th>cond 2</th>\n",
       "      <th>foundation</th>\n",
       "      <th>bldg type</th>\n",
       "      <th>total bathroom</th>\n",
       "      <th>age</th>\n",
       "      <th>overall score</th>\n",
       "      <th>garage score</th>\n",
       "      <th>exter score</th>\n",
       "      <th>bsmt score</th>\n",
       "    </tr>\n",
       "  </thead>\n",
       "  <tbody>\n",
       "    <tr>\n",
       "      <th>0</th>\n",
       "      <td>130500</td>\n",
       "      <td>11.779129</td>\n",
       "      <td>1479</td>\n",
       "      <td>725.0</td>\n",
       "      <td>475.0</td>\n",
       "      <td>7</td>\n",
       "      <td>0</td>\n",
       "      <td>2</td>\n",
       "      <td>7</td>\n",
       "      <td>Norm</td>\n",
       "      <td>CBlock</td>\n",
       "      <td>1Fam</td>\n",
       "      <td>2.5</td>\n",
       "      <td>34</td>\n",
       "      <td>14</td>\n",
       "      <td>10</td>\n",
       "      <td>12</td>\n",
       "      <td>10</td>\n",
       "    </tr>\n",
       "    <tr>\n",
       "      <th>1</th>\n",
       "      <td>220000</td>\n",
       "      <td>12.301383</td>\n",
       "      <td>2122</td>\n",
       "      <td>913.0</td>\n",
       "      <td>559.0</td>\n",
       "      <td>7</td>\n",
       "      <td>5</td>\n",
       "      <td>2</td>\n",
       "      <td>7</td>\n",
       "      <td>Norm</td>\n",
       "      <td>PConc</td>\n",
       "      <td>1Fam</td>\n",
       "      <td>4.0</td>\n",
       "      <td>13</td>\n",
       "      <td>12</td>\n",
       "      <td>10</td>\n",
       "      <td>12</td>\n",
       "      <td>12</td>\n",
       "    </tr>\n",
       "    <tr>\n",
       "      <th>2</th>\n",
       "      <td>109000</td>\n",
       "      <td>11.599103</td>\n",
       "      <td>1057</td>\n",
       "      <td>1057.0</td>\n",
       "      <td>246.0</td>\n",
       "      <td>7</td>\n",
       "      <td>0</td>\n",
       "      <td>1</td>\n",
       "      <td>7</td>\n",
       "      <td>Norm</td>\n",
       "      <td>CBlock</td>\n",
       "      <td>1Fam</td>\n",
       "      <td>2.5</td>\n",
       "      <td>57</td>\n",
       "      <td>12</td>\n",
       "      <td>10</td>\n",
       "      <td>12</td>\n",
       "      <td>10</td>\n",
       "    </tr>\n",
       "    <tr>\n",
       "      <th>3</th>\n",
       "      <td>174000</td>\n",
       "      <td>12.066811</td>\n",
       "      <td>1444</td>\n",
       "      <td>384.0</td>\n",
       "      <td>400.0</td>\n",
       "      <td>5</td>\n",
       "      <td>0</td>\n",
       "      <td>3</td>\n",
       "      <td>7</td>\n",
       "      <td>Norm</td>\n",
       "      <td>PConc</td>\n",
       "      <td>1Fam</td>\n",
       "      <td>2.5</td>\n",
       "      <td>4</td>\n",
       "      <td>10</td>\n",
       "      <td>10</td>\n",
       "      <td>10</td>\n",
       "      <td>12</td>\n",
       "    </tr>\n",
       "    <tr>\n",
       "      <th>4</th>\n",
       "      <td>138500</td>\n",
       "      <td>11.838626</td>\n",
       "      <td>1445</td>\n",
       "      <td>676.0</td>\n",
       "      <td>484.0</td>\n",
       "      <td>5</td>\n",
       "      <td>0</td>\n",
       "      <td>1</td>\n",
       "      <td>7</td>\n",
       "      <td>Norm</td>\n",
       "      <td>PConc</td>\n",
       "      <td>1Fam</td>\n",
       "      <td>2.0</td>\n",
       "      <td>110</td>\n",
       "      <td>14</td>\n",
       "      <td>10</td>\n",
       "      <td>10</td>\n",
       "      <td>10</td>\n",
       "    </tr>\n",
       "  </tbody>\n",
       "</table>\n",
       "</div>"
      ],
      "text/plain": [
       "   saleprice  log saleprice  living area  total bsmt area  garage area  \\\n",
       "0     130500      11.779129         1479            725.0        475.0   \n",
       "1     220000      12.301383         2122            913.0        559.0   \n",
       "2     109000      11.599103         1057           1057.0        246.0   \n",
       "3     174000      12.066811         1444            384.0        400.0   \n",
       "4     138500      11.838626         1445            676.0        484.0   \n",
       "\n",
       "   kitchen qc  fireplace qc  garage finish  functional cond 2 foundation  \\\n",
       "0           7             0              2           7   Norm     CBlock   \n",
       "1           7             5              2           7   Norm      PConc   \n",
       "2           7             0              1           7   Norm     CBlock   \n",
       "3           5             0              3           7   Norm      PConc   \n",
       "4           5             0              1           7   Norm      PConc   \n",
       "\n",
       "  bldg type  total bathroom  age  overall score  garage score  exter score  \\\n",
       "0      1Fam             2.5   34             14            10           12   \n",
       "1      1Fam             4.0   13             12            10           12   \n",
       "2      1Fam             2.5   57             12            10           12   \n",
       "3      1Fam             2.5    4             10            10           10   \n",
       "4      1Fam             2.0  110             14            10           10   \n",
       "\n",
       "   bsmt score  \n",
       "0          10  \n",
       "1          12  \n",
       "2          10  \n",
       "3          12  \n",
       "4          10  "
      ]
     },
     "execution_count": 45,
     "metadata": {},
     "output_type": "execute_result"
    }
   ],
   "source": [
    "features_1.head()"
   ]
  },
  {
   "cell_type": "code",
   "execution_count": 46,
   "id": "2b423234",
   "metadata": {
    "ExecuteTime": {
     "end_time": "2022-08-23T12:38:46.889776Z",
     "start_time": "2022-08-23T12:38:46.857771Z"
    },
    "run_control": {
     "marked": false
    }
   },
   "outputs": [
    {
     "data": {
      "text/html": [
       "<div>\n",
       "<style scoped>\n",
       "    .dataframe tbody tr th:only-of-type {\n",
       "        vertical-align: middle;\n",
       "    }\n",
       "\n",
       "    .dataframe tbody tr th {\n",
       "        vertical-align: top;\n",
       "    }\n",
       "\n",
       "    .dataframe thead th {\n",
       "        text-align: right;\n",
       "    }\n",
       "</style>\n",
       "<table border=\"1\" class=\"dataframe\">\n",
       "  <thead>\n",
       "    <tr style=\"text-align: right;\">\n",
       "      <th></th>\n",
       "      <th>saleprice</th>\n",
       "      <th>log saleprice</th>\n",
       "      <th>living area</th>\n",
       "      <th>total bsmt area</th>\n",
       "      <th>garage area</th>\n",
       "      <th>kitchen qc</th>\n",
       "      <th>fireplace qc</th>\n",
       "      <th>garage finish</th>\n",
       "      <th>functional</th>\n",
       "      <th>total bathroom</th>\n",
       "      <th>age</th>\n",
       "      <th>overall score</th>\n",
       "      <th>garage score</th>\n",
       "      <th>exter score</th>\n",
       "      <th>bsmt score</th>\n",
       "      <th>cond 2_Feedr</th>\n",
       "      <th>cond 2_Norm</th>\n",
       "      <th>cond 2_PosA</th>\n",
       "      <th>cond 2_PosN</th>\n",
       "      <th>cond 2_RRAe</th>\n",
       "      <th>cond 2_RRAn</th>\n",
       "      <th>cond 2_RRNn</th>\n",
       "      <th>foundation_CBlock</th>\n",
       "      <th>foundation_PConc</th>\n",
       "      <th>foundation_Slab</th>\n",
       "      <th>foundation_Stone</th>\n",
       "      <th>foundation_Wood</th>\n",
       "      <th>bldg type_2fmCon</th>\n",
       "      <th>bldg type_Duplex</th>\n",
       "      <th>bldg type_Twnhs</th>\n",
       "      <th>bldg type_TwnhsE</th>\n",
       "    </tr>\n",
       "  </thead>\n",
       "  <tbody>\n",
       "    <tr>\n",
       "      <th>0</th>\n",
       "      <td>130500</td>\n",
       "      <td>11.779129</td>\n",
       "      <td>1479</td>\n",
       "      <td>725.0</td>\n",
       "      <td>475.0</td>\n",
       "      <td>7</td>\n",
       "      <td>0</td>\n",
       "      <td>2</td>\n",
       "      <td>7</td>\n",
       "      <td>2.5</td>\n",
       "      <td>34</td>\n",
       "      <td>14</td>\n",
       "      <td>10</td>\n",
       "      <td>12</td>\n",
       "      <td>10</td>\n",
       "      <td>0</td>\n",
       "      <td>1</td>\n",
       "      <td>0</td>\n",
       "      <td>0</td>\n",
       "      <td>0</td>\n",
       "      <td>0</td>\n",
       "      <td>0</td>\n",
       "      <td>1</td>\n",
       "      <td>0</td>\n",
       "      <td>0</td>\n",
       "      <td>0</td>\n",
       "      <td>0</td>\n",
       "      <td>0</td>\n",
       "      <td>0</td>\n",
       "      <td>0</td>\n",
       "      <td>0</td>\n",
       "    </tr>\n",
       "    <tr>\n",
       "      <th>1</th>\n",
       "      <td>220000</td>\n",
       "      <td>12.301383</td>\n",
       "      <td>2122</td>\n",
       "      <td>913.0</td>\n",
       "      <td>559.0</td>\n",
       "      <td>7</td>\n",
       "      <td>5</td>\n",
       "      <td>2</td>\n",
       "      <td>7</td>\n",
       "      <td>4.0</td>\n",
       "      <td>13</td>\n",
       "      <td>12</td>\n",
       "      <td>10</td>\n",
       "      <td>12</td>\n",
       "      <td>12</td>\n",
       "      <td>0</td>\n",
       "      <td>1</td>\n",
       "      <td>0</td>\n",
       "      <td>0</td>\n",
       "      <td>0</td>\n",
       "      <td>0</td>\n",
       "      <td>0</td>\n",
       "      <td>0</td>\n",
       "      <td>1</td>\n",
       "      <td>0</td>\n",
       "      <td>0</td>\n",
       "      <td>0</td>\n",
       "      <td>0</td>\n",
       "      <td>0</td>\n",
       "      <td>0</td>\n",
       "      <td>0</td>\n",
       "    </tr>\n",
       "    <tr>\n",
       "      <th>2</th>\n",
       "      <td>109000</td>\n",
       "      <td>11.599103</td>\n",
       "      <td>1057</td>\n",
       "      <td>1057.0</td>\n",
       "      <td>246.0</td>\n",
       "      <td>7</td>\n",
       "      <td>0</td>\n",
       "      <td>1</td>\n",
       "      <td>7</td>\n",
       "      <td>2.5</td>\n",
       "      <td>57</td>\n",
       "      <td>12</td>\n",
       "      <td>10</td>\n",
       "      <td>12</td>\n",
       "      <td>10</td>\n",
       "      <td>0</td>\n",
       "      <td>1</td>\n",
       "      <td>0</td>\n",
       "      <td>0</td>\n",
       "      <td>0</td>\n",
       "      <td>0</td>\n",
       "      <td>0</td>\n",
       "      <td>1</td>\n",
       "      <td>0</td>\n",
       "      <td>0</td>\n",
       "      <td>0</td>\n",
       "      <td>0</td>\n",
       "      <td>0</td>\n",
       "      <td>0</td>\n",
       "      <td>0</td>\n",
       "      <td>0</td>\n",
       "    </tr>\n",
       "  </tbody>\n",
       "</table>\n",
       "</div>"
      ],
      "text/plain": [
       "   saleprice  log saleprice  living area  total bsmt area  garage area  \\\n",
       "0     130500      11.779129         1479            725.0        475.0   \n",
       "1     220000      12.301383         2122            913.0        559.0   \n",
       "2     109000      11.599103         1057           1057.0        246.0   \n",
       "\n",
       "   kitchen qc  fireplace qc  garage finish  functional  total bathroom  age  \\\n",
       "0           7             0              2           7             2.5   34   \n",
       "1           7             5              2           7             4.0   13   \n",
       "2           7             0              1           7             2.5   57   \n",
       "\n",
       "   overall score  garage score  exter score  bsmt score  cond 2_Feedr  \\\n",
       "0             14            10           12          10             0   \n",
       "1             12            10           12          12             0   \n",
       "2             12            10           12          10             0   \n",
       "\n",
       "   cond 2_Norm  cond 2_PosA  cond 2_PosN  cond 2_RRAe  cond 2_RRAn  \\\n",
       "0            1            0            0            0            0   \n",
       "1            1            0            0            0            0   \n",
       "2            1            0            0            0            0   \n",
       "\n",
       "   cond 2_RRNn  foundation_CBlock  foundation_PConc  foundation_Slab  \\\n",
       "0            0                  1                 0                0   \n",
       "1            0                  0                 1                0   \n",
       "2            0                  1                 0                0   \n",
       "\n",
       "   foundation_Stone  foundation_Wood  bldg type_2fmCon  bldg type_Duplex  \\\n",
       "0                 0                0                 0                 0   \n",
       "1                 0                0                 0                 0   \n",
       "2                 0                0                 0                 0   \n",
       "\n",
       "   bldg type_Twnhs  bldg type_TwnhsE  \n",
       "0                0                 0  \n",
       "1                0                 0  \n",
       "2                0                 0  "
      ]
     },
     "execution_count": 46,
     "metadata": {},
     "output_type": "execute_result"
    }
   ],
   "source": [
    "# Perform get dummies for categorical features\n",
    "df_train_dummies_1 = pd.get_dummies(features_1, columns = ['cond 2', 'foundation', 'bldg type'], drop_first = True)\n",
    "df_train_dummies_1.head(3)"
   ]
  },
  {
   "cell_type": "code",
   "execution_count": 47,
   "id": "d104eb09",
   "metadata": {
    "ExecuteTime": {
     "end_time": "2022-08-23T12:38:46.905778Z",
     "start_time": "2022-08-23T12:38:46.889776Z"
    }
   },
   "outputs": [],
   "source": [
    "# Drop columns not in df_test for df_train dummies\n",
    "df_train_dummies_1.drop(['cond 2_Feedr', 'cond 2_PosN', 'cond 2_RRAe', 'cond 2_RRAn', 'cond 2_RRNn'], axis=1, inplace=True)"
   ]
  },
  {
   "cell_type": "code",
   "execution_count": 48,
   "id": "e936f1ef",
   "metadata": {
    "ExecuteTime": {
     "end_time": "2022-08-23T12:38:46.921789Z",
     "start_time": "2022-08-23T12:38:46.905778Z"
    }
   },
   "outputs": [
    {
     "data": {
      "text/plain": [
       "(2018, 26)"
      ]
     },
     "execution_count": 48,
     "metadata": {},
     "output_type": "execute_result"
    }
   ],
   "source": [
    "df_train_dummies_1.shape"
   ]
  },
  {
   "cell_type": "code",
   "execution_count": 49,
   "id": "260a8136",
   "metadata": {
    "ExecuteTime": {
     "end_time": "2022-08-23T12:38:46.937781Z",
     "start_time": "2022-08-23T12:38:46.921789Z"
    }
   },
   "outputs": [
    {
     "data": {
      "text/html": [
       "<div>\n",
       "<style scoped>\n",
       "    .dataframe tbody tr th:only-of-type {\n",
       "        vertical-align: middle;\n",
       "    }\n",
       "\n",
       "    .dataframe tbody tr th {\n",
       "        vertical-align: top;\n",
       "    }\n",
       "\n",
       "    .dataframe thead th {\n",
       "        text-align: right;\n",
       "    }\n",
       "</style>\n",
       "<table border=\"1\" class=\"dataframe\">\n",
       "  <thead>\n",
       "    <tr style=\"text-align: right;\">\n",
       "      <th></th>\n",
       "      <th>saleprice</th>\n",
       "    </tr>\n",
       "  </thead>\n",
       "  <tbody>\n",
       "    <tr>\n",
       "      <th>saleprice</th>\n",
       "      <td>1.000000</td>\n",
       "    </tr>\n",
       "    <tr>\n",
       "      <th>log saleprice</th>\n",
       "      <td>0.945836</td>\n",
       "    </tr>\n",
       "    <tr>\n",
       "      <th>living area</th>\n",
       "      <td>0.721935</td>\n",
       "    </tr>\n",
       "    <tr>\n",
       "      <th>kitchen qc</th>\n",
       "      <td>0.692746</td>\n",
       "    </tr>\n",
       "    <tr>\n",
       "      <th>total bsmt area</th>\n",
       "      <td>0.670107</td>\n",
       "    </tr>\n",
       "    <tr>\n",
       "      <th>garage area</th>\n",
       "      <td>0.653895</td>\n",
       "    </tr>\n",
       "    <tr>\n",
       "      <th>exter score</th>\n",
       "      <td>0.612119</td>\n",
       "    </tr>\n",
       "    <tr>\n",
       "      <th>overall score</th>\n",
       "      <td>0.598102</td>\n",
       "    </tr>\n",
       "    <tr>\n",
       "      <th>total bathroom</th>\n",
       "      <td>0.589369</td>\n",
       "    </tr>\n",
       "    <tr>\n",
       "      <th>garage finish</th>\n",
       "      <td>0.559143</td>\n",
       "    </tr>\n",
       "    <tr>\n",
       "      <th>bsmt score</th>\n",
       "      <td>0.544004</td>\n",
       "    </tr>\n",
       "    <tr>\n",
       "      <th>fireplace qc</th>\n",
       "      <td>0.539800</td>\n",
       "    </tr>\n",
       "    <tr>\n",
       "      <th>foundation_PConc</th>\n",
       "      <td>0.530256</td>\n",
       "    </tr>\n",
       "    <tr>\n",
       "      <th>garage score</th>\n",
       "      <td>0.283584</td>\n",
       "    </tr>\n",
       "    <tr>\n",
       "      <th>functional</th>\n",
       "      <td>0.126793</td>\n",
       "    </tr>\n",
       "  </tbody>\n",
       "</table>\n",
       "</div>"
      ],
      "text/plain": [
       "                  saleprice\n",
       "saleprice          1.000000\n",
       "log saleprice      0.945836\n",
       "living area        0.721935\n",
       "kitchen qc         0.692746\n",
       "total bsmt area    0.670107\n",
       "garage area        0.653895\n",
       "exter score        0.612119\n",
       "overall score      0.598102\n",
       "total bathroom     0.589369\n",
       "garage finish      0.559143\n",
       "bsmt score         0.544004\n",
       "fireplace qc       0.539800\n",
       "foundation_PConc   0.530256\n",
       "garage score       0.283584\n",
       "functional         0.126793"
      ]
     },
     "execution_count": 49,
     "metadata": {},
     "output_type": "execute_result"
    }
   ],
   "source": [
    "# Creating a correlation heatmap to check for new features added\n",
    "df_train_sp_corr1 = df_train_dummies_1.corr()[['saleprice']].sort_values(by='saleprice', ascending = False)\n",
    "df_train_sp_corr1.head(15)"
   ]
  },
  {
   "cell_type": "markdown",
   "id": "8882171f",
   "metadata": {},
   "source": [
    "Exterior features seem to have a higher correlation while overall and basement seem to drop. Garage correlation is comparable."
   ]
  },
  {
   "cell_type": "code",
   "execution_count": 50,
   "id": "ee0b9b7f",
   "metadata": {
    "ExecuteTime": {
     "end_time": "2022-08-23T12:38:46.953803Z",
     "start_time": "2022-08-23T12:38:46.937781Z"
    }
   },
   "outputs": [],
   "source": [
    "# Create X and y variables\n",
    "X_24features = df_train_dummies_1.drop(['saleprice', 'log saleprice'], axis = 1)\n",
    "y_24features = df_train_dummies_1['saleprice']\n",
    "\n",
    "X_train_24features, X_val_24features, y_train_24features, y_val_24features = train_test_split(X_24features, y_24features, random_state=42, test_size = 0.2)"
   ]
  },
  {
   "cell_type": "code",
   "execution_count": 51,
   "id": "c5a5fee3",
   "metadata": {
    "ExecuteTime": {
     "end_time": "2022-08-23T12:38:46.969786Z",
     "start_time": "2022-08-23T12:38:46.953803Z"
    }
   },
   "outputs": [
    {
     "name": "stdout",
     "output_type": "stream",
     "text": [
      "(1614, 24)\n",
      "(404, 24)\n"
     ]
    }
   ],
   "source": [
    "print(X_train_24features.shape)\n",
    "print(X_val_24features.shape)"
   ]
  },
  {
   "cell_type": "code",
   "execution_count": 52,
   "id": "9c4272ab",
   "metadata": {
    "ExecuteTime": {
     "end_time": "2022-08-23T12:38:46.985804Z",
     "start_time": "2022-08-23T12:38:46.969786Z"
    }
   },
   "outputs": [
    {
     "name": "stdout",
     "output_type": "stream",
     "text": [
      "(1614,)\n",
      "(404,)\n"
     ]
    }
   ],
   "source": [
    "print(y_train_24features.shape)\n",
    "print(y_val_24features.shape)"
   ]
  },
  {
   "cell_type": "code",
   "execution_count": 53,
   "id": "1c1ef4ac",
   "metadata": {
    "ExecuteTime": {
     "end_time": "2022-08-23T12:38:47.017790Z",
     "start_time": "2022-08-23T12:38:46.985804Z"
    }
   },
   "outputs": [
    {
     "name": "stdout",
     "output_type": "stream",
     "text": [
      "[[ 0.46280868  1.57888982  0.39048021  2.23064897  1.27755248  0.32350279\n",
      "   0.22585778  1.11426666 -1.18188402  1.37399395  0.26812649  2.1631133\n",
      "   1.29834625 -9.16227965 -0.0352235  -0.87182982  1.12979896 -0.13287015\n",
      "  -0.04984448 -0.0352235  -0.14888226 -0.19818884 -0.20154145  3.46642886]]\n",
      "\n",
      "[[ 1.81945427  0.49315925  1.78586904  0.73053754  1.27755248  0.32350279\n",
      "   0.22585778  1.62258389 -0.88027749  0.79056164  0.26812649  0.73373157\n",
      "   0.47105417  0.10914314 -0.0352235  -0.87182982  1.12979896 -0.13287015\n",
      "  -0.04984448 -0.0352235  -0.14888226 -0.19818884 -0.20154145 -0.28848133]]\n"
     ]
    }
   ],
   "source": [
    "# Create an instance of the StandardScaler() object\n",
    "scaler = StandardScaler()\n",
    "\n",
    "scaler.fit(X_train_24features)\n",
    "\n",
    "# Apply transform to both the training set and the validation set\n",
    "X_train_24features = scaler.transform(X_train_24features)\n",
    "X_val_24features = scaler.transform(X_val_24features)\n",
    "\n",
    "# Print scaled values for first row of data\n",
    "print(X_train_24features[:1, :])\n",
    "print()\n",
    "print(X_val_24features[:1, :])"
   ]
  },
  {
   "cell_type": "code",
   "execution_count": 54,
   "id": "06b2adb4",
   "metadata": {
    "ExecuteTime": {
     "end_time": "2022-08-23T12:38:47.033810Z",
     "start_time": "2022-08-23T12:38:47.017790Z"
    }
   },
   "outputs": [
    {
     "data": {
      "text/plain": [
       "(1614, 24)"
      ]
     },
     "execution_count": 54,
     "metadata": {},
     "output_type": "execute_result"
    }
   ],
   "source": [
    "X_train_24features.shape"
   ]
  },
  {
   "cell_type": "code",
   "execution_count": 55,
   "id": "7267b5c9",
   "metadata": {
    "ExecuteTime": {
     "end_time": "2022-08-23T12:38:47.049801Z",
     "start_time": "2022-08-23T12:38:47.033810Z"
    }
   },
   "outputs": [
    {
     "data": {
      "text/plain": [
       "(404, 24)"
      ]
     },
     "execution_count": 55,
     "metadata": {},
     "output_type": "execute_result"
    }
   ],
   "source": [
    "X_val_24features.shape"
   ]
  },
  {
   "cell_type": "markdown",
   "id": "5fcb72e5",
   "metadata": {},
   "source": [
    "### 8.2 Ridge Regression Improvement"
   ]
  },
  {
   "cell_type": "code",
   "execution_count": 56,
   "id": "d6663816",
   "metadata": {
    "ExecuteTime": {
     "end_time": "2022-08-23T12:38:48.632432Z",
     "start_time": "2022-08-23T12:38:47.049801Z"
    },
    "run_control": {
     "marked": false
    },
    "scrolled": true
   },
   "outputs": [
    {
     "name": "stdout",
     "output_type": "stream",
     "text": [
      "57.384416483023955\n",
      "CPU times: total: 10.5 s\n",
      "Wall time: 1.57 s\n"
     ]
    }
   ],
   "source": [
    "%%time\n",
    "ridge_alphas = np.logspace(0, 5, 200)\n",
    "\n",
    "optimal_ridge = RidgeCV(alphas=ridge_alphas, cv=5)\n",
    "optimal_ridge.fit(X_train_24features, y_train_24features)\n",
    "\n",
    "print(optimal_ridge.alpha_)"
   ]
  },
  {
   "cell_type": "code",
   "execution_count": 57,
   "id": "5c387e47",
   "metadata": {
    "ExecuteTime": {
     "end_time": "2022-08-23T12:38:48.665577Z",
     "start_time": "2022-08-23T12:38:48.632432Z"
    }
   },
   "outputs": [
    {
     "name": "stdout",
     "output_type": "stream",
     "text": [
      "R2 score: [0.85837955 0.85133488 0.84900025 0.87889812 0.84026683]\n",
      "Mean R2: 0.856\n",
      "RSME score: [32376.1441096  26874.8343811  31233.58557075 26600.9101399\n",
      " 33031.56672981]\n",
      "Mean RSME: 30023.408\n"
     ]
    }
   ],
   "source": [
    "# Cross-validate the Ridge regression R2 with the optimal alpha.\n",
    "ridge = Ridge(alpha=optimal_ridge.alpha_)\n",
    "\n",
    "ridge_scores_24features = cross_val_score(ridge, X_train_24features, y_train_24features, cv=5)\n",
    "ridge_RSME_scores_24features = cross_val_score(ridge, X_train_24features, y_train_24features, cv=5, scoring='neg_root_mean_squared_error')\n",
    "\n",
    "# force scores to be positive\n",
    "ridge_RSME_scores_24features = np.abs(ridge_RSME_scores_24features)\n",
    "\n",
    "print('R2 score:', ridge_scores_24features)\n",
    "print('Mean R2: %.3f' % (np.mean(ridge_scores_24features)))\n",
    "\n",
    "print('RSME score:', ridge_RSME_scores_24features)\n",
    "print('Mean RSME: %.3f' % (np.mean(ridge_RSME_scores_24features)))\n"
   ]
  },
  {
   "cell_type": "markdown",
   "id": "bf12e78e",
   "metadata": {},
   "source": [
    "### 8.3 Lasso Regression Improvement"
   ]
  },
  {
   "cell_type": "code",
   "execution_count": 58,
   "id": "07453942",
   "metadata": {
    "ExecuteTime": {
     "end_time": "2022-08-23T12:38:49.009614Z",
     "start_time": "2022-08-23T12:38:48.665577Z"
    },
    "scrolled": true
   },
   "outputs": [
    {
     "name": "stderr",
     "output_type": "stream",
     "text": [
      "[Parallel(n_jobs=1)]: Using backend SequentialBackend with 1 concurrent workers.\n",
      "............................................................................................................................................................................................................................................................................................................................................................................................................................................................................................................................................................................................................................................................................................................................................................................................................................................................................................................................................................................................................................................................................................................................................................................................................................................................................................................................................................................................................................................................................................................"
     ]
    },
    {
     "name": "stdout",
     "output_type": "stream",
     "text": [
      "194.1290274919628\n"
     ]
    },
    {
     "name": "stderr",
     "output_type": "stream",
     "text": [
      "........................................................................................................................................................................................................................................................................................................................................................................................................................................................................................................................................................................................................................................................................................................................................................................................................................................................................................................................................................................................................................................................................................[Parallel(n_jobs=1)]: Done   5 out of   5 | elapsed:    0.2s finished\n"
     ]
    }
   ],
   "source": [
    "# Find an optimal value for Lasso regression alpha using LassoCV\n",
    "optimal_lasso = LassoCV(n_alphas=500, cv=5, verbose=1)\n",
    "optimal_lasso.fit(X_train_24features, y_train_24features)\n",
    "\n",
    "print(optimal_lasso.alpha_)"
   ]
  },
  {
   "cell_type": "code",
   "execution_count": 59,
   "id": "4a62709c",
   "metadata": {
    "ExecuteTime": {
     "end_time": "2022-08-23T12:38:49.042386Z",
     "start_time": "2022-08-23T12:38:49.009614Z"
    }
   },
   "outputs": [
    {
     "name": "stdout",
     "output_type": "stream",
     "text": [
      "R2 score: [0.85917629 0.8498658  0.8484953  0.87907537 0.84087516]\n",
      "Mean R2: 0.855\n",
      "R2 score: [32284.94336771 27007.29440708 31285.7650688  26581.43618579\n",
      " 32968.60817619]\n",
      "Mean R2: 30025.609\n"
     ]
    }
   ],
   "source": [
    "# Cross-validate the Lasso R2 with the optimal alpha\n",
    "lasso = Lasso(alpha=optimal_lasso.alpha_)\n",
    "\n",
    "lasso_scores_24features = cross_val_score(lasso, X_train_24features, y_train_24features, cv=5)\n",
    "lasso_RSME_scores_24features = cross_val_score(lasso, X_train_24features, y_train_24features, cv=5, scoring='neg_root_mean_squared_error')\n",
    "\n",
    "# force scores to be positive\n",
    "lasso_RSME_scores_24features = np.abs(lasso_RSME_scores_24features)\n",
    "\n",
    "print('R2 score:', lasso_scores_24features)\n",
    "print('Mean R2: %.3f' % (np.mean(lasso_scores_24features)))\n",
    "\n",
    "print('R2 score:', lasso_RSME_scores_24features)\n",
    "print('Mean R2: %.3f' % (np.mean(lasso_RSME_scores_24features)))"
   ]
  },
  {
   "cell_type": "markdown",
   "id": "b1bd3ce1",
   "metadata": {},
   "source": [
    "The scores obtained is slightly lower than the previous modelling. Hence, adding the new features do not improve the model performance."
   ]
  },
  {
   "cell_type": "markdown",
   "id": "9271861f",
   "metadata": {},
   "source": [
    "## 9. Model Improvement 2"
   ]
  },
  {
   "cell_type": "markdown",
   "id": "3310abd7",
   "metadata": {},
   "source": [
    "Let try using log price on the first modeling features to see if it helps to improve the Ridge or Lasso model."
   ]
  },
  {
   "cell_type": "markdown",
   "id": "f9adf46f",
   "metadata": {},
   "source": [
    "### 9.1 Scaling and Spliting Dataset"
   ]
  },
  {
   "cell_type": "code",
   "execution_count": 60,
   "id": "59508dd8",
   "metadata": {
    "ExecuteTime": {
     "end_time": "2022-08-23T12:38:49.058391Z",
     "start_time": "2022-08-23T12:38:49.042386Z"
    },
    "run_control": {
     "marked": false
    }
   },
   "outputs": [],
   "source": [
    "# Create X and y variables\n",
    "X_log = df_train_dummies.drop(['saleprice', 'log saleprice'], axis = 1)\n",
    "y_log = df_train_dummies['log saleprice']\n",
    "\n",
    "X_train_log, X_val_log, y_train_log, y_val_log = train_test_split(X_log, y_log, random_state=42, test_size = 0.2)"
   ]
  },
  {
   "cell_type": "code",
   "execution_count": 61,
   "id": "16001c72",
   "metadata": {
    "ExecuteTime": {
     "end_time": "2022-08-23T12:38:49.074391Z",
     "start_time": "2022-08-23T12:38:49.058391Z"
    }
   },
   "outputs": [
    {
     "name": "stdout",
     "output_type": "stream",
     "text": [
      "(1614, 24)\n",
      "(404, 24)\n"
     ]
    }
   ],
   "source": [
    "print(X_train_log.shape)\n",
    "print(X_val_log.shape)"
   ]
  },
  {
   "cell_type": "code",
   "execution_count": 62,
   "id": "11cac3d1",
   "metadata": {
    "ExecuteTime": {
     "end_time": "2022-08-23T12:38:49.090392Z",
     "start_time": "2022-08-23T12:38:49.074391Z"
    }
   },
   "outputs": [
    {
     "name": "stdout",
     "output_type": "stream",
     "text": [
      "(1614,)\n",
      "(404,)\n"
     ]
    }
   ],
   "source": [
    "print(y_train_log.shape)\n",
    "print(y_val_log.shape)"
   ]
  },
  {
   "cell_type": "code",
   "execution_count": 63,
   "id": "c8bc7ac0",
   "metadata": {
    "ExecuteTime": {
     "end_time": "2022-08-23T12:38:49.106393Z",
     "start_time": "2022-08-23T12:38:49.090392Z"
    }
   },
   "outputs": [
    {
     "name": "stdout",
     "output_type": "stream",
     "text": [
      "[[ 0.46280868  1.57888982  0.39048021  2.23064897  1.27755248  1.78367915\n",
      "   0.26857135  2.72186554  2.05065814  0.32350279  0.22585778  1.11426666\n",
      "  -1.18188402 -9.16227965 -0.0352235  -0.87182982  1.12979896 -0.13287015\n",
      "  -0.04984448 -0.0352235  -0.14888226 -0.19818884 -0.20154145  3.46642886]]\n",
      "\n",
      "[[ 1.81945427  0.49315925  1.78586904  0.73053754  1.27755248  0.6021244\n",
      "   0.26857135  1.02241062  1.34839584  0.32350279  0.22585778  1.62258389\n",
      "  -0.88027749  0.10914314 -0.0352235  -0.87182982  1.12979896 -0.13287015\n",
      "  -0.04984448 -0.0352235  -0.14888226 -0.19818884 -0.20154145 -0.28848133]]\n"
     ]
    }
   ],
   "source": [
    "# Create an instance of the StandardScaler() object\n",
    "scaler = StandardScaler()\n",
    "\n",
    "scaler.fit(X_train_log)\n",
    "\n",
    "# Apply transform to both the training set and the validation set\n",
    "X_train_log = scaler.transform(X_train_log)\n",
    "X_val_log = scaler.transform(X_val_log)\n",
    "\n",
    "# Print scaled values for first row of data\n",
    "print(X_train_log[:1, :])\n",
    "print()\n",
    "print(X_val_log[:1, :])"
   ]
  },
  {
   "cell_type": "code",
   "execution_count": 64,
   "id": "96c5c37b",
   "metadata": {
    "ExecuteTime": {
     "end_time": "2022-08-23T12:38:49.122395Z",
     "start_time": "2022-08-23T12:38:49.106393Z"
    }
   },
   "outputs": [
    {
     "data": {
      "text/plain": [
       "(1614, 24)"
      ]
     },
     "execution_count": 64,
     "metadata": {},
     "output_type": "execute_result"
    }
   ],
   "source": [
    "X_train_log.shape"
   ]
  },
  {
   "cell_type": "code",
   "execution_count": 65,
   "id": "2b8d4c43",
   "metadata": {
    "ExecuteTime": {
     "end_time": "2022-08-23T12:38:49.138399Z",
     "start_time": "2022-08-23T12:38:49.122395Z"
    },
    "run_control": {
     "marked": false
    }
   },
   "outputs": [
    {
     "data": {
      "text/plain": [
       "(404, 24)"
      ]
     },
     "execution_count": 65,
     "metadata": {},
     "output_type": "execute_result"
    }
   ],
   "source": [
    "X_val_log.shape"
   ]
  },
  {
   "cell_type": "markdown",
   "id": "2a87c495",
   "metadata": {},
   "source": [
    "### 9.2 Ridge Regression Improvement"
   ]
  },
  {
   "cell_type": "code",
   "execution_count": 66,
   "id": "14c67867",
   "metadata": {
    "ExecuteTime": {
     "end_time": "2022-08-23T12:38:50.675428Z",
     "start_time": "2022-08-23T12:38:49.138399Z"
    },
    "run_control": {
     "marked": false
    },
    "scrolled": true
   },
   "outputs": [
    {
     "name": "stdout",
     "output_type": "stream",
     "text": [
      "42.97004704320842\n",
      "CPU times: total: 10 s\n",
      "Wall time: 1.53 s\n"
     ]
    }
   ],
   "source": [
    "%%time\n",
    "ridge_alphas = np.logspace(0, 5, 200)\n",
    "\n",
    "optimal_ridge = RidgeCV(alphas=ridge_alphas, cv=5)\n",
    "optimal_ridge.fit(X_train_log, y_train_log)\n",
    "\n",
    "print(optimal_ridge.alpha_)"
   ]
  },
  {
   "cell_type": "code",
   "execution_count": 67,
   "id": "294ad894",
   "metadata": {
    "ExecuteTime": {
     "end_time": "2022-08-23T12:38:50.723431Z",
     "start_time": "2022-08-23T12:38:50.675428Z"
    },
    "scrolled": true
   },
   "outputs": [
    {
     "name": "stdout",
     "output_type": "stream",
     "text": [
      "R2 score: [0.85426987 0.87857784 0.87400124 0.87830739 0.86343239]\n",
      "Mean R2: 0.870\n",
      "RSME score: [0.16474811 0.1303757  0.12724347 0.17954101 0.12282825]\n",
      "Mean RSME: 0.145\n"
     ]
    }
   ],
   "source": [
    "# Cross-validate the Ridge regression R2 with the optimal alpha.\n",
    "ridge = Ridge(alpha=optimal_ridge.alpha_)\n",
    "\n",
    "ridge_scores_log = cross_val_score(ridge, X_train_log, y_train_log, cv=5)\n",
    "ridge_RSME_scores_log = cross_val_score(ridge, X_log, y_log, cv=5, scoring='neg_root_mean_squared_error')\n",
    "\n",
    "# force scores to be positive\n",
    "ridge_RSME_scores_log = np.abs(ridge_RSME_scores_log)\n",
    "                    \n",
    "\n",
    "print('R2 score:', ridge_scores_log)\n",
    "print('Mean R2: %.3f' % (np.mean(ridge_scores_log)))\n",
    "\n",
    "print('RSME score:', ridge_RSME_scores_log)\n",
    "print('Mean RSME: %.3f' % (np.mean(ridge_RSME_scores_log)))\n"
   ]
  },
  {
   "cell_type": "markdown",
   "id": "d406c7c3",
   "metadata": {},
   "source": [
    "### 9.3 Lasso Regression Improvement"
   ]
  },
  {
   "cell_type": "code",
   "execution_count": 68,
   "id": "e6f895aa",
   "metadata": {
    "ExecuteTime": {
     "end_time": "2022-08-23T12:38:51.059468Z",
     "start_time": "2022-08-23T12:38:50.723431Z"
    },
    "scrolled": false
   },
   "outputs": [
    {
     "name": "stderr",
     "output_type": "stream",
     "text": [
      "[Parallel(n_jobs=1)]: Using backend SequentialBackend with 1 concurrent workers.\n",
      "........................................................................................................................................................................................................................................................................................................................................................................................................................................................................................................................................................................................................................................................................................................................................................................................................................................................................................................................................................................................................................................................................................................................................................................................................................................................................................................................................................................................................................................................................................................................................................"
     ]
    },
    {
     "name": "stdout",
     "output_type": "stream",
     "text": [
      "0.0003976262543430375\n"
     ]
    },
    {
     "name": "stderr",
     "output_type": "stream",
     "text": [
      "............................................................................................................................................................................................................................................................................................................................................................................................................................................................................................................................................................................................................................................................................................................................................................................................................................................................................................................................................................................................................................................[Parallel(n_jobs=1)]: Done   5 out of   5 | elapsed:    0.2s finished\n"
     ]
    }
   ],
   "source": [
    "# Find an optimal value for Lasso regression alpha using LassoCV\n",
    "optimal_lasso = LassoCV(n_alphas=500, cv=5, verbose=1)\n",
    "optimal_lasso.fit(X_train_log, y_train_log)\n",
    "\n",
    "print(optimal_lasso.alpha_)"
   ]
  },
  {
   "cell_type": "code",
   "execution_count": 69,
   "id": "d516aace",
   "metadata": {
    "ExecuteTime": {
     "end_time": "2022-08-23T12:38:51.096088Z",
     "start_time": "2022-08-23T12:38:51.059468Z"
    }
   },
   "outputs": [
    {
     "name": "stdout",
     "output_type": "stream",
     "text": [
      "R2 score: [0.85572822 0.87611217 0.87346204 0.87868397 0.86334451]\n",
      "Mean R2: 0.869\n",
      "R2 score (log): [0.16577804 0.13124274 0.14966575 0.14731279 0.15682567]\n",
      "Mean R2 (log): 0.150\n"
     ]
    }
   ],
   "source": [
    "# Cross-validate the Lasso R2 with the optimal alpha\n",
    "lasso = Lasso(alpha=optimal_lasso.alpha_)\n",
    "\n",
    "lasso_scores_log = cross_val_score(lasso, X_train_log, y_train_log, cv=5)\n",
    "lasso_RSME_scores_log = cross_val_score(lasso, X_train_log, y_train_log, cv=5, scoring='neg_root_mean_squared_error')\n",
    "\n",
    "# force scores to be positive\n",
    "lasso_RSME_scores_log = np.abs(lasso_RSME_scores_log)\n",
    "\n",
    "print('R2 score:', lasso_scores_log)\n",
    "print('Mean R2: %.3f' % (np.mean(lasso_scores_log)))\n",
    "\n",
    "print('R2 score (log):', lasso_RSME_scores_log)\n",
    "print('Mean R2 (log): %.3f' % (np.mean(lasso_RSME_scores_log)))"
   ]
  },
  {
   "cell_type": "markdown",
   "id": "90bc7a69",
   "metadata": {},
   "source": [
    "Using log sale price has a slight improvement in the score for both Ridge (R2: 0.870, RSME: 0.145) and Lasso (R2: 0.869, RSME: 0.150). Ridge has a slightly better score than Lasso. Log sale price helps to normalize the data range and reduce the skewness. Hence, using a logarithm reduce the range of the variable but preserves the differences ([source](https://towardsdatascience.com/logarithms-what-why-and-how-ff9d050d3fd7)). This may explained why using log price helps to improve the model performance.\n",
    "\n",
    "We will adopt Ridge to fit and train the model."
   ]
  },
  {
   "cell_type": "markdown",
   "id": "687bdbb9",
   "metadata": {},
   "source": [
    "### 9.4 Fit the Model using Ridge"
   ]
  },
  {
   "cell_type": "code",
   "execution_count": 70,
   "id": "348b91fa",
   "metadata": {
    "ExecuteTime": {
     "end_time": "2022-08-23T12:38:51.112091Z",
     "start_time": "2022-08-23T12:38:51.096088Z"
    }
   },
   "outputs": [
    {
     "data": {
      "text/plain": [
       "Ridge(alpha=42.97004704320842)"
      ]
     },
     "execution_count": 70,
     "metadata": {},
     "output_type": "execute_result"
    }
   ],
   "source": [
    "ridge.fit(X_train_log, y_train_log)"
   ]
  },
  {
   "cell_type": "code",
   "execution_count": 71,
   "id": "cbb2b752",
   "metadata": {
    "ExecuteTime": {
     "end_time": "2022-08-23T12:38:51.128091Z",
     "start_time": "2022-08-23T12:38:51.112091Z"
    }
   },
   "outputs": [
    {
     "data": {
      "text/plain": [
       "0.869717747136811"
      ]
     },
     "execution_count": 71,
     "metadata": {},
     "output_type": "execute_result"
    }
   ],
   "source": [
    "ridge_scores_log.mean()"
   ]
  },
  {
   "cell_type": "code",
   "execution_count": 72,
   "id": "89f5b302",
   "metadata": {
    "ExecuteTime": {
     "end_time": "2022-08-23T12:38:51.144093Z",
     "start_time": "2022-08-23T12:38:51.128091Z"
    }
   },
   "outputs": [],
   "source": [
    "pred = ridge.predict(X_val_log)"
   ]
  },
  {
   "cell_type": "code",
   "execution_count": 73,
   "id": "9604a0d6",
   "metadata": {
    "ExecuteTime": {
     "end_time": "2022-08-23T12:38:51.160096Z",
     "start_time": "2022-08-23T12:38:51.144093Z"
    }
   },
   "outputs": [
    {
     "data": {
      "text/html": [
       "<div>\n",
       "<style scoped>\n",
       "    .dataframe tbody tr th:only-of-type {\n",
       "        vertical-align: middle;\n",
       "    }\n",
       "\n",
       "    .dataframe tbody tr th {\n",
       "        vertical-align: top;\n",
       "    }\n",
       "\n",
       "    .dataframe thead th {\n",
       "        text-align: right;\n",
       "    }\n",
       "</style>\n",
       "<table border=\"1\" class=\"dataframe\">\n",
       "  <thead>\n",
       "    <tr style=\"text-align: right;\">\n",
       "      <th></th>\n",
       "      <th>Score</th>\n",
       "    </tr>\n",
       "  </thead>\n",
       "  <tbody>\n",
       "    <tr>\n",
       "      <th>Training Model RMSE (Log)</th>\n",
       "      <td>0.147205</td>\n",
       "    </tr>\n",
       "    <tr>\n",
       "      <th>Validation Model RMSE (Log)</th>\n",
       "      <td>0.127247</td>\n",
       "    </tr>\n",
       "    <tr>\n",
       "      <th>Training Model RMSE (Non-Log)</th>\n",
       "      <td>24031.396490</td>\n",
       "    </tr>\n",
       "    <tr>\n",
       "      <th>Validation Model RMSE (Non-Log)</th>\n",
       "      <td>22770.979888</td>\n",
       "    </tr>\n",
       "    <tr>\n",
       "      <th>Training Model Score</th>\n",
       "      <td>0.875548</td>\n",
       "    </tr>\n",
       "    <tr>\n",
       "      <th>Validation Model Score</th>\n",
       "      <td>0.891840</td>\n",
       "    </tr>\n",
       "  </tbody>\n",
       "</table>\n",
       "</div>"
      ],
      "text/plain": [
       "                                        Score\n",
       "Training Model RMSE (Log)            0.147205\n",
       "Validation Model RMSE (Log)          0.127247\n",
       "Training Model RMSE (Non-Log)    24031.396490\n",
       "Validation Model RMSE (Non-Log)  22770.979888\n",
       "Training Model Score                 0.875548\n",
       "Validation Model Score               0.891840"
      ]
     },
     "execution_count": 73,
     "metadata": {},
     "output_type": "execute_result"
    }
   ],
   "source": [
    "# Calculate RMSE and R2 score\n",
    "scores = {'Training Model RMSE (Log)': mean_squared_error(y_train_log, ridge.predict(X_train_log), squared = False),\n",
    "          'Validation Model RMSE (Log)': mean_squared_error(y_val_log, ridge.predict(X_val_log), squared = False),\n",
    "          'Training Model RMSE (Non-Log)': mean_squared_error(np.exp(y_train_log), np.exp(ridge.predict(X_train_log)), squared = False),\n",
    "          'Validation Model RMSE (Non-Log)': mean_squared_error(np.exp(y_val_log), np.exp(ridge.predict(X_val_log)), squared = False),\n",
    "          'Training Model Score': ridge.score(X_train_log, y_train_log),\n",
    "          'Validation Model Score': ridge.score(X_val_log, y_val_log)}\n",
    "\n",
    "# Create the score dataframe\n",
    "df_score = pd.DataFrame({'Score': scores.values()}, index = scores.keys())\n",
    "df_score"
   ]
  },
  {
   "cell_type": "markdown",
   "id": "1e906faa",
   "metadata": {},
   "source": [
    "The scores obtained is comparable with the cross validation scores. The R2 difference between the training and validation is 0.016 (~1.8%). The difference is small and this shows the model is not overfit."
   ]
  },
  {
   "cell_type": "code",
   "execution_count": 74,
   "id": "bd5f17f7",
   "metadata": {
    "ExecuteTime": {
     "end_time": "2022-08-23T12:38:51.176097Z",
     "start_time": "2022-08-23T12:38:51.160096Z"
    }
   },
   "outputs": [
    {
     "data": {
      "text/plain": [
       "Ridge(alpha=42.97004704320842)"
      ]
     },
     "execution_count": 74,
     "metadata": {},
     "output_type": "execute_result"
    }
   ],
   "source": [
    "# Refit the model to pull out the coefficients\n",
    "ridge.fit(X_train_log, y_train_log)"
   ]
  },
  {
   "cell_type": "code",
   "execution_count": 75,
   "id": "9cb295fe",
   "metadata": {
    "ExecuteTime": {
     "end_time": "2022-08-23T12:38:51.192098Z",
     "start_time": "2022-08-23T12:38:51.176097Z"
    },
    "code_folding": []
   },
   "outputs": [
    {
     "data": {
      "text/html": [
       "<div>\n",
       "<style scoped>\n",
       "    .dataframe tbody tr th:only-of-type {\n",
       "        vertical-align: middle;\n",
       "    }\n",
       "\n",
       "    .dataframe tbody tr th {\n",
       "        vertical-align: top;\n",
       "    }\n",
       "\n",
       "    .dataframe thead th {\n",
       "        text-align: right;\n",
       "    }\n",
       "</style>\n",
       "<table border=\"1\" class=\"dataframe\">\n",
       "  <thead>\n",
       "    <tr style=\"text-align: right;\">\n",
       "      <th></th>\n",
       "      <th>variable</th>\n",
       "      <th>coef</th>\n",
       "      <th>abs_coef</th>\n",
       "      <th>reverse_log_coef</th>\n",
       "    </tr>\n",
       "  </thead>\n",
       "  <tbody>\n",
       "    <tr>\n",
       "      <th>0</th>\n",
       "      <td>living area</td>\n",
       "      <td>0.114256</td>\n",
       "      <td>0.114256</td>\n",
       "      <td>1.121039</td>\n",
       "    </tr>\n",
       "    <tr>\n",
       "      <th>8</th>\n",
       "      <td>overall qc</td>\n",
       "      <td>0.102611</td>\n",
       "      <td>0.102611</td>\n",
       "      <td>1.108060</td>\n",
       "    </tr>\n",
       "    <tr>\n",
       "      <th>1</th>\n",
       "      <td>total bsmt area</td>\n",
       "      <td>0.065500</td>\n",
       "      <td>0.065500</td>\n",
       "      <td>1.067693</td>\n",
       "    </tr>\n",
       "    <tr>\n",
       "      <th>11</th>\n",
       "      <td>total bathroom</td>\n",
       "      <td>0.042545</td>\n",
       "      <td>0.042545</td>\n",
       "      <td>1.043463</td>\n",
       "    </tr>\n",
       "    <tr>\n",
       "      <th>12</th>\n",
       "      <td>age</td>\n",
       "      <td>-0.040508</td>\n",
       "      <td>0.040508</td>\n",
       "      <td>0.960302</td>\n",
       "    </tr>\n",
       "    <tr>\n",
       "      <th>3</th>\n",
       "      <td>kitchen qc</td>\n",
       "      <td>0.032864</td>\n",
       "      <td>0.032864</td>\n",
       "      <td>1.033410</td>\n",
       "    </tr>\n",
       "    <tr>\n",
       "      <th>6</th>\n",
       "      <td>garage qc</td>\n",
       "      <td>0.029715</td>\n",
       "      <td>0.029715</td>\n",
       "      <td>1.030160</td>\n",
       "    </tr>\n",
       "    <tr>\n",
       "      <th>22</th>\n",
       "      <td>bldg type_Twnhs</td>\n",
       "      <td>-0.029126</td>\n",
       "      <td>0.029126</td>\n",
       "      <td>0.971294</td>\n",
       "    </tr>\n",
       "    <tr>\n",
       "      <th>10</th>\n",
       "      <td>functional</td>\n",
       "      <td>0.028953</td>\n",
       "      <td>0.028953</td>\n",
       "      <td>1.029376</td>\n",
       "    </tr>\n",
       "    <tr>\n",
       "      <th>4</th>\n",
       "      <td>fireplace qc</td>\n",
       "      <td>0.028220</td>\n",
       "      <td>0.028220</td>\n",
       "      <td>1.028622</td>\n",
       "    </tr>\n",
       "  </tbody>\n",
       "</table>\n",
       "</div>"
      ],
      "text/plain": [
       "           variable      coef  abs_coef  reverse_log_coef\n",
       "0       living area  0.114256  0.114256          1.121039\n",
       "8        overall qc  0.102611  0.102611          1.108060\n",
       "1   total bsmt area  0.065500  0.065500          1.067693\n",
       "11   total bathroom  0.042545  0.042545          1.043463\n",
       "12              age -0.040508  0.040508          0.960302\n",
       "3        kitchen qc  0.032864  0.032864          1.033410\n",
       "6         garage qc  0.029715  0.029715          1.030160\n",
       "22  bldg type_Twnhs -0.029126  0.029126          0.971294\n",
       "10       functional  0.028953  0.028953          1.029376\n",
       "4      fireplace qc  0.028220  0.028220          1.028622"
      ]
     },
     "execution_count": 75,
     "metadata": {},
     "output_type": "execute_result"
    }
   ],
   "source": [
    "# Check the coefficient for variables, ordered from largest to smallest coefficient by absolute value\n",
    "ridge_coefs = pd.DataFrame({'variable':X.columns,\n",
    "                            'coef':ridge.coef_,\n",
    "                            'abs_coef':abs(ridge.coef_),\n",
    "                            'reverse_log_coef':np.exp(ridge.coef_)})\n",
    "\n",
    "ridge_coefs.sort_values('abs_coef', inplace=True, ascending=False)\n",
    "\n",
    "ridge_coefs.head(10)"
   ]
  },
  {
   "cell_type": "code",
   "execution_count": 76,
   "id": "9a871166",
   "metadata": {
    "ExecuteTime": {
     "end_time": "2022-08-23T12:38:51.484996Z",
     "start_time": "2022-08-23T12:38:51.192098Z"
    }
   },
   "outputs": [
    {
     "data": {
      "text/plain": [
       "<BarContainer object of 24 artists>"
      ]
     },
     "execution_count": 76,
     "metadata": {},
     "output_type": "execute_result"
    },
    {
     "data": {
      "image/png": "[encoded data removed]",
      "text/plain": [
       "<Figure size 1080x720 with 1 Axes>"
      ]
     },
     "metadata": {},
     "output_type": "display_data"
    }
   ],
   "source": [
    "plt.subplots(figsize=(15,10))\n",
    "plt.barh(ridge_coefs['variable'], ridge_coefs['coef'])"
   ]
  },
  {
   "cell_type": "markdown",
   "id": "eec92db5",
   "metadata": {
    "run_control": {
     "marked": true
    }
   },
   "source": [
    "The top 3 important features based on the coefficient are:\n",
    "- Living Area (With 1 unit, the house sale price increase by 12.1%)\n",
    "- Overall Quality of the house (With 1 unit, the house sale price increase by 10.8%)\n",
    "- Basement Area (With 1 unit, the house sale price increase by 6.8%)\n",
    "\n",
    "We can also observed that age of the house has a bigger negative impact on the house price where a unit of the age will decrease the house sale price by 4%."
   ]
  },
  {
   "cell_type": "code",
   "execution_count": 77,
   "id": "686973ec",
   "metadata": {
    "ExecuteTime": {
     "end_time": "2022-08-23T12:38:51.805034Z",
     "start_time": "2022-08-23T12:38:51.484996Z"
    }
   },
   "outputs": [
    {
     "data": {
      "image/png": "[encoded data removed]",
      "text/plain": [
       "<Figure size 720x504 with 1 Axes>"
      ]
     },
     "metadata": {},
     "output_type": "display_data"
    }
   ],
   "source": [
    "plt.figure(figsize = (10, 7))\n",
    "\n",
    "# Examine the relationship between observed and predicted values\n",
    "sns.scatterplot(x = ridge.predict(X_val_log), y = y_val_log)\n",
    "\n",
    "# Line showing perfect predictions\n",
    "sns.lineplot(x = [min(y_val_log) ,max(ridge.predict(X_val_log))],\n",
    "             y = [min(y_val_log) ,max(ridge.predict(X_val_log))],\n",
    "             color = 'black',\n",
    "             linewidth = 3,\n",
    "             linestyle = '--')\n",
    "\n",
    "plt.title('Predicted Values vs Actual Values (Ridge Model)', fontsize = 16, fontweight = 'bold')\n",
    "plt.xlabel('Predicted Value', fontsize = 14)\n",
    "plt.ylabel('True Value', fontsize = 14)\n",
    "\n",
    "# Save the plot\n",
    "plt.savefig('../image/predicted vs actual values.png')"
   ]
  },
  {
   "cell_type": "markdown",
   "id": "44fd191f",
   "metadata": {},
   "source": [
    "The predicted value and true value fit closely to the line with a few outliers observed at the lower and higher price. Overall, the model has a good performance in predicting housing sale price."
   ]
  },
  {
   "cell_type": "markdown",
   "id": "3f82e3c0",
   "metadata": {},
   "source": [
    "## 9. Fitting Model to Test Data"
   ]
  },
  {
   "cell_type": "code",
   "execution_count": 78,
   "id": "e7c815ac",
   "metadata": {
    "ExecuteTime": {
     "end_time": "2022-08-23T12:38:51.823234Z",
     "start_time": "2022-08-23T12:38:51.805034Z"
    }
   },
   "outputs": [
    {
     "data": {
      "text/plain": [
       "(878, 24)"
      ]
     },
     "execution_count": 78,
     "metadata": {},
     "output_type": "execute_result"
    }
   ],
   "source": [
    "df_test.shape"
   ]
  },
  {
   "cell_type": "code",
   "execution_count": 79,
   "id": "ca454e99",
   "metadata": {
    "ExecuteTime": {
     "end_time": "2022-08-23T12:38:51.839213Z",
     "start_time": "2022-08-23T12:38:51.823234Z"
    }
   },
   "outputs": [
    {
     "name": "stdout",
     "output_type": "stream",
     "text": [
      "<class 'pandas.core.frame.DataFrame'>\n",
      "Int64Index: 878 entries, 2658 to 1939\n",
      "Data columns (total 24 columns):\n",
      " #   Column             Non-Null Count  Dtype  \n",
      "---  ------             --------------  -----  \n",
      " 0   living area        878 non-null    int64  \n",
      " 1   total bsmt area    878 non-null    int64  \n",
      " 2   garage area        878 non-null    int64  \n",
      " 3   kitchen qc         878 non-null    int64  \n",
      " 4   fireplace qc       878 non-null    int64  \n",
      " 5   bsmt qc            878 non-null    int64  \n",
      " 6   garage qc          878 non-null    int64  \n",
      " 7   exter qc           878 non-null    int64  \n",
      " 8   overall qc         878 non-null    int64  \n",
      " 9   garage finish      878 non-null    int64  \n",
      " 10  functional         878 non-null    int64  \n",
      " 11  total bathroom     878 non-null    float64\n",
      " 12  age                878 non-null    int64  \n",
      " 13  cond 2_Norm        878 non-null    uint8  \n",
      " 14  cond 2_PosA        878 non-null    uint8  \n",
      " 15  foundation_CBlock  878 non-null    uint8  \n",
      " 16  foundation_PConc   878 non-null    uint8  \n",
      " 17  foundation_Slab    878 non-null    uint8  \n",
      " 18  foundation_Stone   878 non-null    uint8  \n",
      " 19  foundation_Wood    878 non-null    uint8  \n",
      " 20  bldg type_2fmCon   878 non-null    uint8  \n",
      " 21  bldg type_Duplex   878 non-null    uint8  \n",
      " 22  bldg type_Twnhs    878 non-null    uint8  \n",
      " 23  bldg type_TwnhsE   878 non-null    uint8  \n",
      "dtypes: float64(1), int64(12), uint8(11)\n",
      "memory usage: 105.5 KB\n"
     ]
    }
   ],
   "source": [
    "df_test.info()"
   ]
  },
  {
   "cell_type": "code",
   "execution_count": 80,
   "id": "cb962257",
   "metadata": {
    "ExecuteTime": {
     "end_time": "2022-08-23T12:38:51.855409Z",
     "start_time": "2022-08-23T12:38:51.839213Z"
    }
   },
   "outputs": [],
   "source": [
    "col1 = df_test.columns"
   ]
  },
  {
   "cell_type": "code",
   "execution_count": 81,
   "id": "3ad319d0",
   "metadata": {
    "ExecuteTime": {
     "end_time": "2022-08-23T12:38:51.871411Z",
     "start_time": "2022-08-23T12:38:51.855409Z"
    }
   },
   "outputs": [
    {
     "data": {
      "text/plain": [
       "Index(['living area', 'total bsmt area', 'garage area', 'kitchen qc',\n",
       "       'fireplace qc', 'bsmt qc', 'garage qc', 'exter qc', 'overall qc',\n",
       "       'garage finish', 'functional', 'total bathroom', 'age', 'cond 2_Norm',\n",
       "       'cond 2_PosA', 'foundation_CBlock', 'foundation_PConc',\n",
       "       'foundation_Slab', 'foundation_Stone', 'foundation_Wood',\n",
       "       'bldg type_2fmCon', 'bldg type_Duplex', 'bldg type_Twnhs',\n",
       "       'bldg type_TwnhsE'],\n",
       "      dtype='object')"
      ]
     },
     "execution_count": 81,
     "metadata": {},
     "output_type": "execute_result"
    }
   ],
   "source": [
    "col2 = df_train_dummies.columns\n",
    "col2 = col2[2:]\n",
    "col2"
   ]
  },
  {
   "cell_type": "code",
   "execution_count": 82,
   "id": "d08e6d3c",
   "metadata": {
    "ExecuteTime": {
     "end_time": "2022-08-23T12:38:51.887415Z",
     "start_time": "2022-08-23T12:38:51.871411Z"
    }
   },
   "outputs": [
    {
     "data": {
      "text/plain": [
       "True"
      ]
     },
     "execution_count": 82,
     "metadata": {},
     "output_type": "execute_result"
    }
   ],
   "source": [
    "len(col1) == len(col2)"
   ]
  },
  {
   "cell_type": "code",
   "execution_count": 83,
   "id": "9ad425a4",
   "metadata": {
    "ExecuteTime": {
     "end_time": "2022-08-23T12:38:51.903221Z",
     "start_time": "2022-08-23T12:38:51.887415Z"
    }
   },
   "outputs": [
    {
     "data": {
      "text/html": [
       "<div>\n",
       "<style scoped>\n",
       "    .dataframe tbody tr th:only-of-type {\n",
       "        vertical-align: middle;\n",
       "    }\n",
       "\n",
       "    .dataframe tbody tr th {\n",
       "        vertical-align: top;\n",
       "    }\n",
       "\n",
       "    .dataframe thead th {\n",
       "        text-align: right;\n",
       "    }\n",
       "</style>\n",
       "<table border=\"1\" class=\"dataframe\">\n",
       "  <thead>\n",
       "    <tr style=\"text-align: right;\">\n",
       "      <th></th>\n",
       "      <th>living area</th>\n",
       "      <th>total bsmt area</th>\n",
       "      <th>garage area</th>\n",
       "      <th>kitchen qc</th>\n",
       "      <th>fireplace qc</th>\n",
       "      <th>bsmt qc</th>\n",
       "      <th>garage qc</th>\n",
       "      <th>exter qc</th>\n",
       "      <th>overall qc</th>\n",
       "      <th>garage finish</th>\n",
       "      <th>functional</th>\n",
       "      <th>total bathroom</th>\n",
       "      <th>age</th>\n",
       "      <th>cond 2_Norm</th>\n",
       "      <th>cond 2_PosA</th>\n",
       "      <th>foundation_CBlock</th>\n",
       "      <th>foundation_PConc</th>\n",
       "      <th>foundation_Slab</th>\n",
       "      <th>foundation_Stone</th>\n",
       "      <th>foundation_Wood</th>\n",
       "      <th>bldg type_2fmCon</th>\n",
       "      <th>bldg type_Duplex</th>\n",
       "      <th>bldg type_Twnhs</th>\n",
       "      <th>bldg type_TwnhsE</th>\n",
       "    </tr>\n",
       "    <tr>\n",
       "      <th>id</th>\n",
       "      <th></th>\n",
       "      <th></th>\n",
       "      <th></th>\n",
       "      <th></th>\n",
       "      <th></th>\n",
       "      <th></th>\n",
       "      <th></th>\n",
       "      <th></th>\n",
       "      <th></th>\n",
       "      <th></th>\n",
       "      <th></th>\n",
       "      <th></th>\n",
       "      <th></th>\n",
       "      <th></th>\n",
       "      <th></th>\n",
       "      <th></th>\n",
       "      <th></th>\n",
       "      <th></th>\n",
       "      <th></th>\n",
       "      <th></th>\n",
       "      <th></th>\n",
       "      <th></th>\n",
       "      <th></th>\n",
       "      <th></th>\n",
       "    </tr>\n",
       "  </thead>\n",
       "  <tbody>\n",
       "    <tr>\n",
       "      <th>2658</th>\n",
       "      <td>1928</td>\n",
       "      <td>1020</td>\n",
       "      <td>440</td>\n",
       "      <td>3</td>\n",
       "      <td>0</td>\n",
       "      <td>3</td>\n",
       "      <td>2</td>\n",
       "      <td>5</td>\n",
       "      <td>6</td>\n",
       "      <td>1</td>\n",
       "      <td>7</td>\n",
       "      <td>2.0</td>\n",
       "      <td>96</td>\n",
       "      <td>1</td>\n",
       "      <td>0</td>\n",
       "      <td>0</td>\n",
       "      <td>0</td>\n",
       "      <td>0</td>\n",
       "      <td>1</td>\n",
       "      <td>0</td>\n",
       "      <td>1</td>\n",
       "      <td>0</td>\n",
       "      <td>0</td>\n",
       "      <td>0</td>\n",
       "    </tr>\n",
       "    <tr>\n",
       "      <th>2718</th>\n",
       "      <td>1967</td>\n",
       "      <td>1967</td>\n",
       "      <td>580</td>\n",
       "      <td>5</td>\n",
       "      <td>0</td>\n",
       "      <td>7</td>\n",
       "      <td>5</td>\n",
       "      <td>5</td>\n",
       "      <td>5</td>\n",
       "      <td>3</td>\n",
       "      <td>7</td>\n",
       "      <td>2.0</td>\n",
       "      <td>29</td>\n",
       "      <td>1</td>\n",
       "      <td>0</td>\n",
       "      <td>1</td>\n",
       "      <td>0</td>\n",
       "      <td>0</td>\n",
       "      <td>0</td>\n",
       "      <td>0</td>\n",
       "      <td>0</td>\n",
       "      <td>1</td>\n",
       "      <td>0</td>\n",
       "      <td>0</td>\n",
       "    </tr>\n",
       "    <tr>\n",
       "      <th>2414</th>\n",
       "      <td>1496</td>\n",
       "      <td>654</td>\n",
       "      <td>426</td>\n",
       "      <td>7</td>\n",
       "      <td>7</td>\n",
       "      <td>7</td>\n",
       "      <td>5</td>\n",
       "      <td>7</td>\n",
       "      <td>7</td>\n",
       "      <td>2</td>\n",
       "      <td>7</td>\n",
       "      <td>4.0</td>\n",
       "      <td>0</td>\n",
       "      <td>1</td>\n",
       "      <td>0</td>\n",
       "      <td>0</td>\n",
       "      <td>1</td>\n",
       "      <td>0</td>\n",
       "      <td>0</td>\n",
       "      <td>0</td>\n",
       "      <td>0</td>\n",
       "      <td>0</td>\n",
       "      <td>0</td>\n",
       "      <td>0</td>\n",
       "    </tr>\n",
       "    <tr>\n",
       "      <th>1989</th>\n",
       "      <td>968</td>\n",
       "      <td>968</td>\n",
       "      <td>480</td>\n",
       "      <td>5</td>\n",
       "      <td>0</td>\n",
       "      <td>5</td>\n",
       "      <td>3</td>\n",
       "      <td>7</td>\n",
       "      <td>5</td>\n",
       "      <td>1</td>\n",
       "      <td>7</td>\n",
       "      <td>1.0</td>\n",
       "      <td>84</td>\n",
       "      <td>1</td>\n",
       "      <td>0</td>\n",
       "      <td>1</td>\n",
       "      <td>0</td>\n",
       "      <td>0</td>\n",
       "      <td>0</td>\n",
       "      <td>0</td>\n",
       "      <td>0</td>\n",
       "      <td>0</td>\n",
       "      <td>0</td>\n",
       "      <td>0</td>\n",
       "    </tr>\n",
       "    <tr>\n",
       "      <th>625</th>\n",
       "      <td>1394</td>\n",
       "      <td>1394</td>\n",
       "      <td>514</td>\n",
       "      <td>5</td>\n",
       "      <td>7</td>\n",
       "      <td>7</td>\n",
       "      <td>5</td>\n",
       "      <td>5</td>\n",
       "      <td>6</td>\n",
       "      <td>2</td>\n",
       "      <td>7</td>\n",
       "      <td>3.0</td>\n",
       "      <td>46</td>\n",
       "      <td>1</td>\n",
       "      <td>0</td>\n",
       "      <td>1</td>\n",
       "      <td>0</td>\n",
       "      <td>0</td>\n",
       "      <td>0</td>\n",
       "      <td>0</td>\n",
       "      <td>0</td>\n",
       "      <td>0</td>\n",
       "      <td>0</td>\n",
       "      <td>0</td>\n",
       "    </tr>\n",
       "  </tbody>\n",
       "</table>\n",
       "</div>"
      ],
      "text/plain": [
       "      living area  total bsmt area  garage area  kitchen qc  fireplace qc  \\\n",
       "id                                                                          \n",
       "2658         1928             1020          440           3             0   \n",
       "2718         1967             1967          580           5             0   \n",
       "2414         1496              654          426           7             7   \n",
       "1989          968              968          480           5             0   \n",
       "625          1394             1394          514           5             7   \n",
       "\n",
       "      bsmt qc  garage qc  exter qc  overall qc  garage finish  functional  \\\n",
       "id                                                                          \n",
       "2658        3          2         5           6              1           7   \n",
       "2718        7          5         5           5              3           7   \n",
       "2414        7          5         7           7              2           7   \n",
       "1989        5          3         7           5              1           7   \n",
       "625         7          5         5           6              2           7   \n",
       "\n",
       "      total bathroom  age  cond 2_Norm  cond 2_PosA  foundation_CBlock  \\\n",
       "id                                                                       \n",
       "2658             2.0   96            1            0                  0   \n",
       "2718             2.0   29            1            0                  1   \n",
       "2414             4.0    0            1            0                  0   \n",
       "1989             1.0   84            1            0                  1   \n",
       "625              3.0   46            1            0                  1   \n",
       "\n",
       "      foundation_PConc  foundation_Slab  foundation_Stone  foundation_Wood  \\\n",
       "id                                                                           \n",
       "2658                 0                0                 1                0   \n",
       "2718                 0                0                 0                0   \n",
       "2414                 1                0                 0                0   \n",
       "1989                 0                0                 0                0   \n",
       "625                  0                0                 0                0   \n",
       "\n",
       "      bldg type_2fmCon  bldg type_Duplex  bldg type_Twnhs  bldg type_TwnhsE  \n",
       "id                                                                           \n",
       "2658                 1                 0                0                 0  \n",
       "2718                 0                 1                0                 0  \n",
       "2414                 0                 0                0                 0  \n",
       "1989                 0                 0                0                 0  \n",
       "625                  0                 0                0                 0  "
      ]
     },
     "execution_count": 83,
     "metadata": {},
     "output_type": "execute_result"
    }
   ],
   "source": [
    "df_test.head()"
   ]
  },
  {
   "cell_type": "code",
   "execution_count": 84,
   "id": "7379efbd",
   "metadata": {
    "ExecuteTime": {
     "end_time": "2022-08-23T12:38:51.919240Z",
     "start_time": "2022-08-23T12:38:51.903221Z"
    }
   },
   "outputs": [],
   "source": [
    "# Transforming df_test dataset\n",
    "test_scaled = scaler.transform(df_test)"
   ]
  },
  {
   "cell_type": "code",
   "execution_count": 85,
   "id": "90d07eed",
   "metadata": {
    "ExecuteTime": {
     "end_time": "2022-08-23T12:38:51.935239Z",
     "start_time": "2022-08-23T12:38:51.919240Z"
    }
   },
   "outputs": [],
   "source": [
    "# Predict the df_test dataset\n",
    "df_test['SalePrice'] = np.exp(ridge.predict(test_scaled)) \n",
    "df_submission = df_test[['SalePrice']]"
   ]
  },
  {
   "cell_type": "code",
   "execution_count": 86,
   "id": "d81fe1a7",
   "metadata": {
    "ExecuteTime": {
     "end_time": "2022-08-23T12:38:51.951226Z",
     "start_time": "2022-08-23T12:38:51.935239Z"
    }
   },
   "outputs": [],
   "source": [
    "# Reset the index ('ID') to column\n",
    "df_submission = df_submission.reset_index()"
   ]
  },
  {
   "cell_type": "code",
   "execution_count": 87,
   "id": "b04e9792",
   "metadata": {
    "ExecuteTime": {
     "end_time": "2022-08-23T12:38:51.967485Z",
     "start_time": "2022-08-23T12:38:51.951226Z"
    },
    "scrolled": true
   },
   "outputs": [
    {
     "data": {
      "text/html": [
       "<div>\n",
       "<style scoped>\n",
       "    .dataframe tbody tr th:only-of-type {\n",
       "        vertical-align: middle;\n",
       "    }\n",
       "\n",
       "    .dataframe tbody tr th {\n",
       "        vertical-align: top;\n",
       "    }\n",
       "\n",
       "    .dataframe thead th {\n",
       "        text-align: right;\n",
       "    }\n",
       "</style>\n",
       "<table border=\"1\" class=\"dataframe\">\n",
       "  <thead>\n",
       "    <tr style=\"text-align: right;\">\n",
       "      <th></th>\n",
       "      <th>id</th>\n",
       "      <th>SalePrice</th>\n",
       "    </tr>\n",
       "  </thead>\n",
       "  <tbody>\n",
       "    <tr>\n",
       "      <th>0</th>\n",
       "      <td>2658</td>\n",
       "      <td>141893.503303</td>\n",
       "    </tr>\n",
       "    <tr>\n",
       "      <th>1</th>\n",
       "      <td>2718</td>\n",
       "      <td>179089.667162</td>\n",
       "    </tr>\n",
       "    <tr>\n",
       "      <th>2</th>\n",
       "      <td>2414</td>\n",
       "      <td>212264.199717</td>\n",
       "    </tr>\n",
       "    <tr>\n",
       "      <th>3</th>\n",
       "      <td>1989</td>\n",
       "      <td>111842.682987</td>\n",
       "    </tr>\n",
       "    <tr>\n",
       "      <th>4</th>\n",
       "      <td>625</td>\n",
       "      <td>181529.561538</td>\n",
       "    </tr>\n",
       "    <tr>\n",
       "      <th>...</th>\n",
       "      <td>...</td>\n",
       "      <td>...</td>\n",
       "    </tr>\n",
       "    <tr>\n",
       "      <th>873</th>\n",
       "      <td>1662</td>\n",
       "      <td>196431.153987</td>\n",
       "    </tr>\n",
       "    <tr>\n",
       "      <th>874</th>\n",
       "      <td>1234</td>\n",
       "      <td>208401.846848</td>\n",
       "    </tr>\n",
       "    <tr>\n",
       "      <th>875</th>\n",
       "      <td>1373</td>\n",
       "      <td>131152.890769</td>\n",
       "    </tr>\n",
       "    <tr>\n",
       "      <th>876</th>\n",
       "      <td>1672</td>\n",
       "      <td>107612.230632</td>\n",
       "    </tr>\n",
       "    <tr>\n",
       "      <th>877</th>\n",
       "      <td>1939</td>\n",
       "      <td>128858.900898</td>\n",
       "    </tr>\n",
       "  </tbody>\n",
       "</table>\n",
       "<p>878 rows × 2 columns</p>\n",
       "</div>"
      ],
      "text/plain": [
       "       id      SalePrice\n",
       "0    2658  141893.503303\n",
       "1    2718  179089.667162\n",
       "2    2414  212264.199717\n",
       "3    1989  111842.682987\n",
       "4     625  181529.561538\n",
       "..    ...            ...\n",
       "873  1662  196431.153987\n",
       "874  1234  208401.846848\n",
       "875  1373  131152.890769\n",
       "876  1672  107612.230632\n",
       "877  1939  128858.900898\n",
       "\n",
       "[878 rows x 2 columns]"
      ]
     },
     "execution_count": 87,
     "metadata": {},
     "output_type": "execute_result"
    }
   ],
   "source": [
    "df_submission"
   ]
  },
  {
   "cell_type": "code",
   "execution_count": 88,
   "id": "e2530fd9",
   "metadata": {
    "ExecuteTime": {
     "end_time": "2022-08-23T12:38:51.983242Z",
     "start_time": "2022-08-23T12:38:51.967485Z"
    }
   },
   "outputs": [],
   "source": [
    "# Export data set to csv file\n",
    "df_submission.to_csv('../datasets/df_submission.csv', index=False)"
   ]
  },
  {
   "cell_type": "markdown",
   "id": "3e226cd0",
   "metadata": {},
   "source": [
    "Submission to Kaggle:\n",
    "- The df_submission dataset is submitted to Kaggle to check the model performance against other models. This model has a score of 23882.86 (Private score: 22667.86) and rank among the 40s.\n",
    "- There is still room for improvement for this model.\n",
    "- Lasso shrink the coefficient for those features that are not significant in the predicting task. Ridge puts a penalty on the l2-norm of your Beta vector which is the square root of the sum of the squared values. Both models controls this penalty with the alpha regularisation parameter. Optimizing alpha is done before the cross validation. We can keep the option of exploring other hyperparameters to see if it will improve the model performance."
   ]
  },
  {
   "cell_type": "markdown",
   "id": "53595280",
   "metadata": {},
   "source": [
    "## 10. Conclusions and Recommendations"
   ]
  },
  {
   "cell_type": "markdown",
   "id": "a4ae963b",
   "metadata": {},
   "source": [
    "In this analysis, we have explored a housing dataset from the city of Ames in Iowa. From the exploratory data analysis, area, quality and age of the house showed a strong correlation with the housing prices. In addition, we have identified the features, home functionality, type of dwelling and foundation from the visualization. Feature engineering was explored and new features total bathrooms and age have a stronger impact on the house price. 24 features were selected for the modeling.\n",
    "\n",
    "Linear, Ridge and Lasso regression models are used to predict the housing price. Based on the feature selection and modeling done, Ridge has a better performance than Linear and Lasso. Ridge is adopted and we obtained the below R2 and RSME scores for the training and validation models.\n",
    "\n",
    "|Model | RSME Score | R2 Score |\n",
    "|:-----------|:-----------|:-----------|\n",
    "|Training | 24031.40 | 0.876 |\n",
    "|Validation | 22770.98 | 0.892 |\n",
    "\n",
    "From the results, the model is not overfit and has a good performance in predicting the house prices.\n",
    "\n",
    "Having a bigger living and basement area and good quality of the house can increase the house prices while age of the house decrease the house price. Hence, if a client is looking to sell their house, they should try to do so earlier and highlight if they have a well maintained house. For those buying a house, we can advice them to invest in their renovation budget to maintain the quality of the house as quality is one of the influential factors. In addition, for buyers who are considering to invest in properties, we can advice them to invest in getting houses located in Stone Brook, Northridge Heights and Northridge or a bigger house in terms of the living and basement area and resell it when the house is still young.\n",
    "\n",
    "For buyers with budget constraint, they may not be able to buy a bigger house and invest in the renovation. However, we can still share the information and help them to keep a lookout on cheaper deal so that they can allocate their budget accordingly based on their preference.\n"
   ]
  },
  {
   "cell_type": "markdown",
   "id": "59b40693",
   "metadata": {},
   "source": [
    "## 11. Future Actions"
   ]
  },
  {
   "cell_type": "markdown",
   "id": "05ce94fe",
   "metadata": {},
   "source": [
    "We can explore fine tuning the model to further improve its performance with hyperparameters (e.g. solver, max_iter). We can consider updating the current dataset with the current year (2011) data so that we can have a better reflection of the housing trend for the year. Further, we may want to examine how we gather data to reduce the amount of missing data (e.g. making a vital consideration variable mandatory) to make the analysis more meaningful and accurate. Finally, the team will conduct a study to determine if new features may affect the sale of a house in the near future as buyer/seller perspectives may change (e.g. younger generations buying houses)."
   ]
  }
 ],
 "metadata": {
  "kernelspec": {
   "display_name": "Python 3 (ipykernel)",
   "language": "python",
   "name": "python3"
  },
  "language_info": {
   "codemirror_mode": {
    "name": "ipython",
    "version": 3
   },
   "file_extension": ".py",
   "mimetype": "text/x-python",
   "name": "python",
   "nbconvert_exporter": "python",
   "pygments_lexer": "ipython3",
   "version": "3.9.12"
  },
  "latex_envs": {
   "LaTeX_envs_menu_present": true,
   "autoclose": false,
   "autocomplete": true,
   "bibliofile": "biblio.bib",
   "cite_by": "apalike",
   "current_citInitial": 1,
   "eqLabelWithNumbers": true,
   "eqNumInitial": 1,
   "hotkeys": {
    "equation": "Ctrl-E",
    "itemize": "Ctrl-I"
   },
   "labels_anchors": false,
   "latex_user_defs": false,
   "report_style_numbering": false,
   "user_envs_cfg": false
  },
  "toc": {
   "base_numbering": 1,
   "nav_menu": {},
   "number_sections": false,
   "sideBar": true,
   "skip_h1_title": true,
   "title_cell": "Table of Contents",
   "title_sidebar": "Contents",
   "toc_cell": false,
   "toc_position": {
    "height": "251.887px",
    "left": "108px",
    "top": "156.019px",
    "width": "273.97px"
   },
   "toc_section_display": true,
   "toc_window_display": true
  }
 },
 "nbformat": 4,
 "nbformat_minor": 5
}
