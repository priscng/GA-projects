{
 "cells": [
  {
   "cell_type": "markdown",
   "id": "af281794",
   "metadata": {},
   "source": [
    "<img src=\"http://imgur.com/1ZcRyrc.png\" style=\"float: left; margin: 20px; height: 55px\">\n",
    "\n",
    "# Capstone Project: Four-Day Work Week"
   ]
  },
  {
   "cell_type": "markdown",
   "id": "c0a8e2e0",
   "metadata": {},
   "source": [
    "## Background"
   ]
  },
  {
   "cell_type": "markdown",
   "id": "0749ce88",
   "metadata": {},
   "source": [
    "A four-day work week has been discussed dating back to the 1970s, and studies have proven productivity and profits increase when a reduced work week is implemented and employees have a positive reaction to it. However, the four-day work week has not taken off, and one main problem is dealing with the world of five-day work weeks ([source](https://doi.org/10.2307/41164622\n",
    ")).\n",
    "\n",
    "In recent years, momentum is building around the globe for a four-day working week. The Covid-19 pandemic has shifted workforce perspectives toward work, and employees are calling for a more flexible and shorter work week as well as better work-life balance and mental health according to Adecco Group research ([source](https://www.adeccogroup.com/future-of-work/latest-research/reset-normal/#download-the-global-report)).\n",
    "\n",
    "The idea of a four-day work week is that employees will work four days a week with a total of 32 hours while earning the same salary and benefits, but with the same workload. Iceland, New Zealand, and Japan have shifted to a four-day workweek scheme and reported higher productivity and better work-life balance ([source](https://sloanreview.mit.edu/article/what-does-the-four-day-workweek-mean-for-the-future-of-work/)). Belgium is one of the recent countries that offers employees a four-day workweek as part of its changes in labour laws in a post-Covid era ([source](https://www.straitstimes.com/world/europe/belgium-permits-four-day-week-to-boost-work-flexibility-post-covid-19)) and UK started piloting the four-day week in June 2022 ([source](https://www.theguardian.com/business/2022/jun/06/thousands-workers-worlds-biggest-trial-four-day-week)).\n",
    "\n",
    "In Singapore, a recent Indeed survey shows 88% Singaporean surveyed supported a four-day work week with the same pay and employees priorities family, physical health and relaxation and looks for better work-life balance with increased flexibility, better financial compensation, and a less stressful workplace ([source](https://www.humanresourcesonline.net/88-of-singapore-employees-surveyed-support-a-four-day-workweek-with-the-same-pay)). During the pandemic, companies had rolled out flexible work arrangements, including a shorter work week. However, employees are worried that the four-day work week mean clocking longer hours in a compressed work week and that company performance would also suffer as well ([source](https://www.straitstimes.com/singapore/jobs/workers-worried-4-day-week-will-mean-longer-hours-for-them-survey)). There are also concerns on the rise of the mental health issues at work ([source](https://www.straitstimes.com/singapore/health/growing-focus-on-mental-health-at-workplace-as-covid-19-pandemic-takes-toll)) and the great resignation wave ([source](https://www.channelnewsasia.com/commentary/great-resignation-wave-quit-find-job-employer-boss-pay-mental-health-2386761)) in Singapore.\n"
   ]
  },
  {
   "cell_type": "markdown",
   "id": "2ada71ea",
   "metadata": {},
   "source": [
    "## Problem Statement"
   ]
  },
  {
   "cell_type": "markdown",
   "id": "0fa2ee3c",
   "metadata": {},
   "source": [
    "The Covid-19 pandemic has sparked the debate over the four-day work week globally with employees in search of better work-life balance and mental health. With more countries reporting better employee well-being and higher productivity with the four-day work week scheme, should Singapore join the trend and introduce a four-day work week trial to reduce mental health issues in the workplace and retain or attract talent? With the pandemic altering the way the world works, the Ministry of Manpower (MOM) has assigned its data scientists to analyze the data and make recommendations regarding the possibility of a four-day week in Singapore. The analysis includes:\n",
    "\n",
    "- Examining employee sentiments about a four-day work week \n",
    "- Assessing whether a four-day workweek would affect the company's productivity\n",
    "- Build a model to predict company productivity with at least 80% accurate \n",
    "- Identify the top 3 factors that significantly impact the productivity of the company.\n"
   ]
  },
  {
   "cell_type": "markdown",
   "id": "ce97ca12",
   "metadata": {},
   "source": [
    "## Methodology"
   ]
  },
  {
   "cell_type": "markdown",
   "id": "bef87fd9",
   "metadata": {},
   "source": [
    "1. Scrape Glassdoor company reviews data using Selenium and Beautiful Soup.\n",
    "\n",
    "2. Data cleaning, text preprocessing (removing punctuations and stopwords, text tokenizing, and lemmatizing the text), and visualization.\n",
    "\n",
    "3. Perform sentiment analysis on the Glassdoor company reviews.\n",
    "\n",
    "4. Perform modeling using Pycaret and identify the top 3 important features.\n",
    "\n",
    "5. Perform prediction on test dataset.\n",
    "\n",
    "Our definition of a good model is one has at least 80% accuracy with a F1 score above 0.8. F1 score will be our primary evaluation metric.\n",
    "\n",
    "Notebook 1 (current notebook) will covers the data collection. In this notebook, we will use Selenium to scrape Glassdoor reviews for the 4-day work week companies.\n",
    "\n",
    "Notebook 2 will covers the data cleaning, sentiment analysis and insights from visualizations.\n",
    "\n",
    "Notebook 3 will covers modeling and provides recommendations, limitations and future plans."
   ]
  },
  {
   "cell_type": "markdown",
   "id": "c82729ed",
   "metadata": {},
   "source": [
    "## Import Python Modules"
   ]
  },
  {
   "cell_type": "code",
   "execution_count": 1,
   "id": "1fe871b9",
   "metadata": {
    "ExecuteTime": {
     "end_time": "2022-07-04T08:00:34.084968Z",
     "start_time": "2022-07-04T08:00:32.583878Z"
    }
   },
   "outputs": [],
   "source": [
    "from selenium import webdriver\n",
    "from selenium.webdriver.common.keys import Keys\n",
    "from selenium.webdriver.support import expected_conditions as EC\n",
    "from selenium.webdriver.common.by import By\n",
    "from selenium.webdriver.support.wait import WebDriverWait\n",
    "from selenium.common.exceptions import TimeoutException\n",
    "\n",
    "import time\n",
    "import re\n",
    "from urllib.request import urlopen\n",
    "import json\n",
    "from pandas.io.json import json_normalize\n",
    "import pandas as pd, numpy as np\n",
    "from bs4 import BeautifulSoup as bs\n",
    "\n",
    "import warnings\n",
    "warnings.simplefilter(action='ignore')\n",
    "\n",
    "pd.set_option('display.max_colwidth', None)\n",
    "pd.set_option('display.max_rows', None)"
   ]
  },
  {
   "cell_type": "markdown",
   "id": "104effab",
   "metadata": {},
   "source": [
    "## Extract data"
   ]
  },
  {
   "cell_type": "markdown",
   "id": "004aa430",
   "metadata": {},
   "source": [
    "### Login Glassdoor"
   ]
  },
  {
   "cell_type": "code",
   "execution_count": 2,
   "id": "178bc48e",
   "metadata": {
    "ExecuteTime": {
     "end_time": "2022-07-04T08:00:34.102967Z",
     "start_time": "2022-07-04T08:00:34.084968Z"
    }
   },
   "outputs": [],
   "source": [
    "# Specify the login credential values for the following variables and then run all the cells\n",
    "g_username = ''\n",
    "g_password = ''"
   ]
  },
  {
   "cell_type": "code",
   "execution_count": 3,
   "id": "6dcdb1d4",
   "metadata": {
    "ExecuteTime": {
     "end_time": "2022-07-04T08:00:41.818187Z",
     "start_time": "2022-07-04T08:00:34.102967Z"
    },
    "run_control": {
     "marked": false
    },
    "scrolled": true
   },
   "outputs": [],
   "source": [
    "from selenium.webdriver.firefox.options import Options as FirefoxOptions\n",
    "\n",
    "options = FirefoxOptions()\n",
    "options.add_argument(\"--headless\")\n",
    "driver = webdriver.Firefox(options=options)\n",
    "\n",
    "driver.get(\"https://www.glassdoor.sg/index.htm\")"
   ]
  },
  {
   "cell_type": "code",
   "execution_count": 4,
   "id": "48b75556",
   "metadata": {
    "ExecuteTime": {
     "end_time": "2022-07-04T08:00:42.259306Z",
     "start_time": "2022-07-04T08:00:41.822185Z"
    }
   },
   "outputs": [],
   "source": [
    "sign_up = WebDriverWait(driver, 10).until(EC.element_to_be_clickable((By.XPATH, '/html/body/div[2]/div/div/div/div/div[1]/article/header/nav/div[2]/div/div/div/button'))).click()"
   ]
  },
  {
   "cell_type": "code",
   "execution_count": 5,
   "id": "8fdfe78a",
   "metadata": {
    "ExecuteTime": {
     "end_time": "2022-07-04T08:00:42.980223Z",
     "start_time": "2022-07-04T08:00:42.261299Z"
    }
   },
   "outputs": [],
   "source": [
    "glassdoor_username = WebDriverWait(driver, 10).until(EC.element_to_be_clickable((By.CSS_SELECTOR, \"input[name='username']\")))\n",
    "glassdoor_password = WebDriverWait(driver, 10).until(EC.element_to_be_clickable((By.CSS_SELECTOR, \"input[name='password']\")))"
   ]
  },
  {
   "cell_type": "code",
   "execution_count": 6,
   "id": "ac531de3",
   "metadata": {
    "ExecuteTime": {
     "end_time": "2022-07-04T08:00:43.170266Z",
     "start_time": "2022-07-04T08:00:42.982223Z"
    },
    "scrolled": true
   },
   "outputs": [],
   "source": [
    "glassdoor_username.clear()\n",
    "glassdoor_username.send_keys(g_username)\n",
    "glassdoor_password.clear()\n",
    "glassdoor_password.send_keys(g_password)"
   ]
  },
  {
   "cell_type": "code",
   "execution_count": 7,
   "id": "7e314751",
   "metadata": {
    "ExecuteTime": {
     "end_time": "2022-07-04T08:00:43.519628Z",
     "start_time": "2022-07-04T08:00:43.172267Z"
    }
   },
   "outputs": [],
   "source": [
    "Login_button  = WebDriverWait(driver, 10).until(EC.element_to_be_clickable((By.XPATH, '/html/body/div[8]/div/div/div[2]/div[2]/div[2]/div/div/form/div[3]/button/span'))).click()"
   ]
  },
  {
   "cell_type": "markdown",
   "id": "d9a74949",
   "metadata": {},
   "source": [
    "### Setup Companies List"
   ]
  },
  {
   "cell_type": "code",
   "execution_count": 8,
   "id": "4ef2d992",
   "metadata": {
    "ExecuteTime": {
     "end_time": "2022-07-04T08:00:43.567654Z",
     "start_time": "2022-07-04T08:00:43.523643Z"
    },
    "scrolled": true
   },
   "outputs": [
    {
     "name": "stdout",
     "output_type": "stream",
     "text": [
      "{'Administrate': 'Administrate-Reviews-E936767.htm', 'Advice Direct Scotland': 'Advice-Direct-Scotland-Reviews-E3083697.htm', 'Applied Reviews': 'Applied-Reviews-E2339980.htm', 'Arken Legal': 'Arken-legal-Reviews-E6996538.htm', 'Atom Bank': 'Atom-Bank-Reviews-E1354887.htm', '3D Issue': '3D-Issue-Reviews-E1944114.htm', '448 Studio': '448-Studio-Reviews-E6471702.htm', 'Abstract': 'Abstract-Reviews-E2010334.htm', 'ALAMI': 'ALAMI-Sharia-Reviews-E4787557.htm', 'Awin': 'Awin-Reviews-E38054.htm', 'Backbone': 'Backbone-CO-Reviews-E2285766.htm', 'Big Potato Games': 'Big-Potato-Reviews-E1608222.htm', 'Bijles Aan Huis': 'Bijles-Aan-Huis-Reviews-E4677512.htm', 'Bit.io': 'bit-io-Reviews-E3210006.htm', 'Blackbird Interactive': 'Blackbird-Interactive-Reviews-E660577.htm', 'Blink SEO': 'Blink-SEO-Reviews-E3314924.htm', 'Bolt': 'Bolt-Reviews-E1181527.htm', 'Boulder County': 'Boulder-County-Reviews-E282126.htm', 'Brett Nicholls Associates': 'Brett-Nicholls-Associates-Reviews-E3141340.htm', 'Buffer': 'Buffer-Reviews-E941992.htm', 'Bunny Studio': 'Bunny-Studio-Reviews-E2135659.htm', 'ByteChek': 'ByteChek-Reviews-E6238945.htm', 'Charlton Morris': 'Charlton-Morris-Reviews-E1881577.htm', 'Chief Nation': 'Chief-Nation-Reviews-E1703171.htm', 'Chordify': 'Chordify-Reviews-E5801829.htm', 'CIB Group': 'The-CIB-Group-Reviews-E1356135.htm', 'City to Sea': 'City-to-Sea-Reviews-E3086213.htm', 'Civo': 'Civo-Reviews-E5464787.htm', 'Close': 'Close-Reviews-E1155591.htm', 'CMG Technologies': 'CMG-Technologies-Reviews-E4183119.htm', 'Cockroach Labs': 'Cockroach-Labs-Reviews-E1168502.htm', 'Coconut Software': 'Coconut-Software-Reviews-E1821886.htm', 'Commission Factory': 'Commission-Factory-Reviews-E1336191.htm', 'Cosmic': 'Cosmic-CA-Reviews-E2266739.htm', 'D’Youville University': 'D-Youville-College-Reviews-E128529.htm', 'Dassana': 'Dassana-Reviews-E5403581.htm', 'Daye': 'Daye-Reviews-E3195974.htm', 'Deedmob': 'Deedmob-Reviews-E2257453.htm', 'Desigual': 'Desigual-Reviews-E385914.htm', 'DHIS2': 'DHIS2-Reviews-E6625379.htm', 'Diesdas Digital': 'diesdas-digital-Reviews-E2988941.htm', 'Digible': 'Digible-Reviews-E3625748.htm', 'DNSFilter': 'DNSFilter-Reviews-E2146068.htm', 'Eduwill': 'Eduwill-Reviews-E5360229.htm', 'eFileCabinet': 'EFileCabinet-Reviews-E323527.htm', 'Eidos-Montréal': 'Eidos-Montreal-Reviews-E456207.htm', 'Elektra Lighting': 'Elektra-Lighting-Reviews-E3658503.htm', 'Elephant Ventures': 'Elephant-Ventures-Reviews-E844433.htm', 'Emtrain': 'Emtrain-Reviews-E916115.htm', 'Evolved Search': 'Evolved-Search-Reviews-E2558249.htm', 'Fast Retailing': 'Fast-Retailing-Reviews-E12005.htm', 'Feathr': 'Feathr-Reviews-E1394102.htm', 'Formedix': 'Formedix-Reviews-E687727.htm', 'FundersClub': 'FundersClub-Reviews-E1409640.htm', 'G2i': 'G2i-Reviews-E4414795.htm', 'Galt Pharmaceuticals': 'Galt-Pharmaceuticals-Reviews-E1925821.htm', 'GoLinks': 'GoLinks-Enterprises-Reviews-E3300549.htm', 'Grounded Packaging': 'Grounded-Packaging-Reviews-E5580592.htm', 'Groupe LDLC': 'Groupe-LDLC-Reviews-E4529434.htm', 'Headspace': 'Headspace-Reviews-E984335.htm', 'Healthwise': 'Healthwise-Reviews-E103390.htm', 'Hitachi': 'Hitachi-Reviews-E3525.htm', 'ICE Group': 'ICE-Group-Reviews-E1535608.htm', 'ihorizon': 'ihorizon-Reviews-E1257740.htm', 'InDebted': 'InDebted-Reviews-E2351821.htm', 'IriusRisk': 'IriusRisk-Reviews-E2008259.htm', 'JAYU': 'JAYU-Reviews-E2531471.htm', 'Jexo': 'Jexo-Reviews-E5803822.htm', 'JMK Solicitors': 'JMK-Solicitors-Reviews-E4396998.htm', 'Justuno': 'Justuno-Reviews-E856089.htm', 'Kickstarter': 'Kickstarter-Reviews-E491996.htm', 'KPMG': 'KPMG-US-Reviews-E4930476.htm', 'Luscii': 'Luscii-Reviews-E2527503.htm', 'Maaemo': 'Maaemo-Reviews-E6064682.htm', 'Marketing Signals': 'Marketing-Signals-Reviews-E1517959.htm', 'MeiliSearch': 'MeiliSearch-Reviews-E4147421.htm', 'Mizuho Financial Group': 'Mizuho-Financial-Group-Reviews-E42320.htm', 'Modo25': 'Modo25-Reviews-E3424273.htm', 'Monograph': 'Monograph-Reviews-E5844012.htm', 'Morrisons': 'Morrisons-Reviews-E10276.htm', 'MRL Consulting Group': 'MRL-Consulting-Group-Reviews-E667599.htm', 'Nexton': 'Nexton-Reviews-E2903853.htm', 'Nomad': 'Nomad-Reviews-E758185.htm', 'Officely': 'Officely-Reviews-E6073767.htm', 'Our Community': 'Our-Community-Reviews-E5628053.htm', 'Panasonic': 'Panasonic-Reviews-E4279.htm', 'PDQ.com': 'PDQ-com-Reviews-E2113848.htm', 'Perpetual Guardian': 'Perpetual-Guardian-Reviews-E4212325.htm', 'Piktochart': 'Piktochart-Reviews-E1000937.htm', 'Polar': 'Polar-Reviews-E476124.htm', 'Praytell': 'Praytell-Strategy-Reviews-E1000535.htm', 'Procurify': 'Procurify-Reviews-E828973.htm', 'Qwick': 'Qwick-Reviews-E2285211.htm', 'Reboot': 'Reboot-Online-Marketing-Reviews-E2368554.htm', 'Reflect Digital': 'Reflect-Digital-Reviews-E3130444.htm', 'REM Web Solutions': 'REM-Web-Solutions-Reviews-E2430696.htm', 'Seed&Spark': 'Seed-and-Spark-Reviews-E2525694.htm', 'SEOMG!': 'SEOMG-Reviews-E4908851.htm', 'Signifyd': 'Signifyd-Reviews-E776012.htm', 'Smalls': 'Smalls-Reviews-E3266103.htm', 'Spin Brands': 'Spin-Brands-Reviews-E2183919.htm', 'Starship': 'Starship-Reviews-E2308180.htm', 'Stora': 'Stora-Reviews-E5650944.htm', 'streamGo': 'streamGo-Reviews-E4495328.htm', 'Swash Labs': 'Swash-Labs-Reviews-E2297615.htm', 'Talewind': 'Talewind-Reviews-E5554851.htm', 'Telefónica': 'Telefónica-Reviews-E3511.htm', 'The Curve Group': 'The-Curve-Group-Reviews-E625753.htm', 'The Wanderlust Group': 'The-Wanderlust-Group-Reviews-E5618947.htm', 'Think Productive': 'Think-Productive-Reviews-E5481334.htm', 'thredUP': 'thredUP-Reviews-E447264.htm', 'THRYVE': 'thryve-Reviews-E2192049.htm', 'Toshiba': 'Toshiba-Reviews-E3543.htm', 'Treehouse': 'Treehouse-Oregon-Reviews-E748187.htm', 'Twistcode': 'Twistcode-Technologies-Reviews-E3129268.htm', 'Uncharted': 'Uncharted-Reviews-E633539.htm', 'Unito': 'Unito-Reviews-E1326301.htm', 'Uplevel': 'Uplevel-WA-Reviews-E7149257.htm', 'Uplift': 'Uplift-ltd-Reviews-E4631378.htm', 'UsabilityHub': 'UsabilityHub-Reviews-E2439999.htm', 'Venture Stream': 'Venture-Stream-Reviews-E2185910.htm', 'Volt Athletics': 'Volt-Athletics-Reviews-E1698590.htm', 'WANdisco': 'WANdisco-Reviews-E582936.htm', 'Welcome to the Jungle': 'Welcome-to-the-Jungle-Reviews-E2888749.htm', 'Whyfield': 'WHYFIELD-Reviews-E5197627.htm', 'Wildbit': 'Wildbit-Reviews-E717954.htm', 'Wonde': 'Wonde-Reviews-E2142305.htm', 'Wonderlic': 'Wonderlic-Reviews-E259986.htm', 'Shopify': 'Shopify-Reviews-E675933.htm', 'Canon': 'Canon-EMEA-Reviews-E238656.htm', 'Hutch': 'Hutch-Games-Reviews-E3286494.htm', 'Highfield Professional Solutions Ltd': 'Highfield-Professional-Solutions-Reviews-E729949.htm', 'Gungho Marketing': 'Gungho-Marketing-Reviews-E3164713.htm', 'HearFocus': 'Hearfocus-Reviews-E2594463.htm', 'Tulip': 'Tulip-Retail-Reviews-E930460.htm'}\n"
     ]
    }
   ],
   "source": [
    "# Set up the companies list (full list)\n",
    "companies_review_fullList = {'Administrate': 'Administrate-Reviews-E936767.htm', \n",
    "                         'Advice Direct Scotland': 'Advice-Direct-Scotland-Reviews-E3083697.htm',\n",
    "                         'Applied Reviews': 'Applied-Reviews-E2339980.htm',\n",
    "                         'Arken Legal': 'Arken-legal-Reviews-E6996538.htm',\n",
    "                         'Atom Bank': 'Atom-Bank-Reviews-E1354887.htm',\n",
    "                         '3D Issue':'3D-Issue-Reviews-E1944114.htm',\n",
    "                         '448 Studio': '448-Studio-Reviews-E6471702.htm',\n",
    "                         'Abstract': 'Abstract-Reviews-E2010334.htm',\n",
    "                         'ALAMI': 'ALAMI-Sharia-Reviews-E4787557.htm',\n",
    "                         'Awin': 'Awin-Reviews-E38054.htm',\n",
    "                         'Backbone': 'Backbone-CO-Reviews-E2285766.htm',\n",
    "                         'Big Potato Games': 'Big-Potato-Reviews-E1608222.htm',\n",
    "                         'Bijles Aan Huis': 'Bijles-Aan-Huis-Reviews-E4677512.htm',\n",
    "                         'Bit.io': 'bit-io-Reviews-E3210006.htm',\n",
    "                         'Blackbird Interactive': 'Blackbird-Interactive-Reviews-E660577.htm',\n",
    "                         'Blink SEO': 'Blink-SEO-Reviews-E3314924.htm',\n",
    "                         'Bolt': 'Bolt-Reviews-E1181527.htm',\n",
    "                         'Boulder County': 'Boulder-County-Reviews-E282126.htm',\n",
    "                         'Brett Nicholls Associates': 'Brett-Nicholls-Associates-Reviews-E3141340.htm',\n",
    "                         'Buffer': 'Buffer-Reviews-E941992.htm',\n",
    "                         'Bunny Studio': 'Bunny-Studio-Reviews-E2135659.htm',\n",
    "                         'ByteChek': 'ByteChek-Reviews-E6238945.htm',\n",
    "                         'Charlton Morris': 'Charlton-Morris-Reviews-E1881577.htm',\n",
    "                         'Chief Nation': 'Chief-Nation-Reviews-E1703171.htm',\n",
    "                         'Chordify': 'Chordify-Reviews-E5801829.htm',\n",
    "                         'CIB Group': 'The-CIB-Group-Reviews-E1356135.htm',\n",
    "                         'City to Sea': 'City-to-Sea-Reviews-E3086213.htm',\n",
    "                         'Civo': 'Civo-Reviews-E5464787.htm',\n",
    "                         'Close': 'Close-Reviews-E1155591.htm',\n",
    "                         'CMG Technologies': 'CMG-Technologies-Reviews-E4183119.htm',\n",
    "                         'Cockroach Labs': 'Cockroach-Labs-Reviews-E1168502.htm',\n",
    "                         'Coconut Software': 'Coconut-Software-Reviews-E1821886.htm',\n",
    "                         'Commission Factory': 'Commission-Factory-Reviews-E1336191.htm',\n",
    "                         'Cosmic': 'Cosmic-CA-Reviews-E2266739.htm',\n",
    "                         'D’Youville University': 'D-Youville-College-Reviews-E128529.htm',\n",
    "                         'Dassana': 'Dassana-Reviews-E5403581.htm', \n",
    "                         'Daye': 'Daye-Reviews-E3195974.htm',\n",
    "                         'Deedmob': 'Deedmob-Reviews-E2257453.htm',\n",
    "                         'Desigual': 'Desigual-Reviews-E385914.htm',\n",
    "                         'DHIS2': 'DHIS2-Reviews-E6625379.htm',\n",
    "                         'Diesdas Digital': 'diesdas-digital-Reviews-E2988941.htm',\n",
    "                         'Digible': 'Digible-Reviews-E3625748.htm',\n",
    "                         'DNSFilter': 'DNSFilter-Reviews-E2146068.htm',\n",
    "                         'Eduwill': 'Eduwill-Reviews-E5360229.htm',\n",
    "                         'eFileCabinet': 'EFileCabinet-Reviews-E323527.htm',\n",
    "                         'Eidos-Montréal': 'Eidos-Montreal-Reviews-E456207.htm',\n",
    "                         'Elektra Lighting': 'Elektra-Lighting-Reviews-E3658503.htm',\n",
    "                         'Elephant Ventures': 'Elephant-Ventures-Reviews-E844433.htm',\n",
    "                         'Emtrain': 'Emtrain-Reviews-E916115.htm',\n",
    "                         'Evolved Search': 'Evolved-Search-Reviews-E2558249.htm',\n",
    "                         'Fast Retailing': 'Fast-Retailing-Reviews-E12005.htm',\n",
    "                         'Feathr': 'Feathr-Reviews-E1394102.htm',\n",
    "                         'Formedix': 'Formedix-Reviews-E687727.htm',\n",
    "                         'FundersClub': 'FundersClub-Reviews-E1409640.htm',\n",
    "                         'G2i': 'G2i-Reviews-E4414795.htm',\n",
    "                         'Galt Pharmaceuticals': 'Galt-Pharmaceuticals-Reviews-E1925821.htm',\n",
    "                         'GoLinks': 'GoLinks-Enterprises-Reviews-E3300549.htm', \n",
    "                         'Grounded Packaging': 'Grounded-Packaging-Reviews-E5580592.htm',\n",
    "                         'Groupe LDLC': 'Groupe-LDLC-Reviews-E4529434.htm',\n",
    "                         'Headspace': 'Headspace-Reviews-E984335.htm',\n",
    "                         'Healthwise': 'Healthwise-Reviews-E103390.htm',\n",
    "                         'Hitachi': 'Hitachi-Reviews-E3525.htm',\n",
    "                         'ICE Group': 'ICE-Group-Reviews-E1535608.htm',\n",
    "                         'ihorizon': 'ihorizon-Reviews-E1257740.htm',\n",
    "                         'InDebted': 'InDebted-Reviews-E2351821.htm',\n",
    "                         'IriusRisk': 'IriusRisk-Reviews-E2008259.htm',\n",
    "                         'JAYU': 'JAYU-Reviews-E2531471.htm',\n",
    "                         'Jexo': 'Jexo-Reviews-E5803822.htm',\n",
    "                         'JMK Solicitors': 'JMK-Solicitors-Reviews-E4396998.htm',\n",
    "                         'Justuno': 'Justuno-Reviews-E856089.htm',\n",
    "                         'Kickstarter': 'Kickstarter-Reviews-E491996.htm',\n",
    "                         'KPMG': 'KPMG-US-Reviews-E4930476.htm',\n",
    "                         'Luscii': 'Luscii-Reviews-E2527503.htm', \n",
    "                         'Maaemo': 'Maaemo-Reviews-E6064682.htm',\n",
    "                         'Marketing Signals': 'Marketing-Signals-Reviews-E1517959.htm',\n",
    "                         'MeiliSearch': 'MeiliSearch-Reviews-E4147421.htm',\n",
    "                         'Mizuho Financial Group': 'Mizuho-Financial-Group-Reviews-E42320.htm',\n",
    "                         'Modo25': 'Modo25-Reviews-E3424273.htm',\n",
    "                         'Monograph': 'Monograph-Reviews-E5844012.htm',\n",
    "                         'Morrisons': 'Morrisons-Reviews-E10276.htm', \n",
    "                         'MRL Consulting Group': 'MRL-Consulting-Group-Reviews-E667599.htm',\n",
    "                         'Nexton': 'Nexton-Reviews-E2903853.htm',\n",
    "                         'Nomad': 'Nomad-Reviews-E758185.htm', \n",
    "                         'Officely': 'Officely-Reviews-E6073767.htm',\n",
    "                         'Our Community': 'Our-Community-Reviews-E5628053.htm', \n",
    "                         'Panasonic': 'Panasonic-Reviews-E4279.htm',\n",
    "                         'PDQ.com': 'PDQ-com-Reviews-E2113848.htm',\n",
    "                         'Perpetual Guardian': 'Perpetual-Guardian-Reviews-E4212325.htm',\n",
    "                         'Piktochart': 'Piktochart-Reviews-E1000937.htm',\n",
    "                         'Polar': 'Polar-Reviews-E476124.htm',\n",
    "                         'Praytell': 'Praytell-Strategy-Reviews-E1000535.htm',\n",
    "                         'Procurify': 'Procurify-Reviews-E828973.htm',\n",
    "                         'Qwick': 'Qwick-Reviews-E2285211.htm',\n",
    "                         'Reboot': 'Reboot-Online-Marketing-Reviews-E2368554.htm',\n",
    "                         'Reflect Digital': 'Reflect-Digital-Reviews-E3130444.htm',\n",
    "                         'REM Web Solutions': 'REM-Web-Solutions-Reviews-E2430696.htm',\n",
    "                         'Seed&Spark': 'Seed-and-Spark-Reviews-E2525694.htm',\n",
    "                         'SEOMG!': 'SEOMG-Reviews-E4908851.htm',\n",
    "                         'Signifyd': 'Signifyd-Reviews-E776012.htm',\n",
    "                         'Smalls': 'Smalls-Reviews-E3266103.htm',\n",
    "                         'Spin Brands': 'Spin-Brands-Reviews-E2183919.htm',\n",
    "                         'Starship': 'Starship-Reviews-E2308180.htm',\n",
    "                         'Stora': 'Stora-Reviews-E5650944.htm',\n",
    "                         'streamGo': 'streamGo-Reviews-E4495328.htm',\n",
    "                         'Swash Labs': 'Swash-Labs-Reviews-E2297615.htm',\n",
    "                         'Talewind': 'Talewind-Reviews-E5554851.htm',\n",
    "                         'Telefónica': 'Telefónica-Reviews-E3511.htm',\n",
    "                         'The Curve Group': 'The-Curve-Group-Reviews-E625753.htm',\n",
    "                         'The Wanderlust Group': 'The-Wanderlust-Group-Reviews-E5618947.htm',\n",
    "                         'Think Productive': 'Think-Productive-Reviews-E5481334.htm',\n",
    "                         'thredUP': 'thredUP-Reviews-E447264.htm', \n",
    "                         'THRYVE': 'thryve-Reviews-E2192049.htm',\n",
    "                         'Toshiba': 'Toshiba-Reviews-E3543.htm',\n",
    "                         'Treehouse': 'Treehouse-Oregon-Reviews-E748187.htm',\n",
    "                         'Twistcode': 'Twistcode-Technologies-Reviews-E3129268.htm',\n",
    "                         'Uncharted': 'Uncharted-Reviews-E633539.htm',\n",
    "                         'Unito': 'Unito-Reviews-E1326301.htm',\n",
    "                         'Uplevel': 'Uplevel-WA-Reviews-E7149257.htm',\n",
    "                         'Uplift': 'Uplift-ltd-Reviews-E4631378.htm',\n",
    "                         'UsabilityHub': 'UsabilityHub-Reviews-E2439999.htm',\n",
    "                         'Venture Stream': 'Venture-Stream-Reviews-E2185910.htm',\n",
    "                         'Volt Athletics': 'Volt-Athletics-Reviews-E1698590.htm',\n",
    "                         'WANdisco': 'WANdisco-Reviews-E582936.htm',\n",
    "                         'Welcome to the Jungle': 'Welcome-to-the-Jungle-Reviews-E2888749.htm',\n",
    "                         'Whyfield': 'WHYFIELD-Reviews-E5197627.htm',\n",
    "                         'Wildbit': 'Wildbit-Reviews-E717954.htm',\n",
    "                         'Wonde': 'Wonde-Reviews-E2142305.htm',\n",
    "                         'Wonderlic': 'Wonderlic-Reviews-E259986.htm',\n",
    "                         'Shopify': 'Shopify-Reviews-E675933.htm',\n",
    "                         'Canon': 'Canon-EMEA-Reviews-E238656.htm',                             \n",
    "                         'Hutch': 'Hutch-Games-Reviews-E3286494.htm',\n",
    "                         'Highfield Professional Solutions Ltd': 'Highfield-Professional-Solutions-Reviews-E729949.htm',                             \n",
    "                         'Gungho Marketing': 'Gungho-Marketing-Reviews-E3164713.htm',\n",
    "                         'HearFocus': 'Hearfocus-Reviews-E2594463.htm',\n",
    "                         'Tulip': 'Tulip-Retail-Reviews-E930460.htm'\n",
    "                            }\n",
    "\n",
    "print(companies_review_fullList)"
   ]
  },
  {
   "cell_type": "markdown",
   "id": "1f74c484",
   "metadata": {},
   "source": [
    "### Extract Glassdoor Review Information"
   ]
  },
  {
   "cell_type": "code",
   "execution_count": 9,
   "id": "a0e82a91",
   "metadata": {
    "ExecuteTime": {
     "end_time": "2022-07-04T08:49:55.245994Z",
     "start_time": "2022-07-04T08:00:43.571655Z"
    },
    "code_folding": [],
    "run_control": {
     "marked": false
    },
    "scrolled": true
   },
   "outputs": [
    {
     "name": "stdout",
     "output_type": "stream",
     "text": [
      "Extract review information for Administrate\n",
      "Extract review information for Advice Direct Scotland\n",
      "Extract review information for Applied Reviews\n",
      "Extract review information for Arken Legal\n",
      "Extract review information for Atom Bank\n",
      "Extract review information for 3D Issue\n",
      "Extract review information for 448 Studio\n",
      "Extract review information for Abstract\n",
      "Extract review information for ALAMI\n",
      "Extract review information for Awin\n",
      "Extract review information for Backbone\n",
      "Extract review information for Big Potato Games\n",
      "Extract review information for Bijles Aan Huis\n",
      "Extract review information for Bit.io\n",
      "Extract review information for Blackbird Interactive\n",
      "Extract review information for Blink SEO\n",
      "Extract review information for Bolt\n",
      "Extract review information for Boulder County\n",
      "Extract review information for Brett Nicholls Associates\n",
      "Extract review information for Buffer\n",
      "Extract review information for Bunny Studio\n",
      "Extract review information for ByteChek\n",
      "Extract review information for Charlton Morris\n",
      "Extract review information for Chief Nation\n",
      "Extract review information for Chordify\n",
      "Extract review information for CIB Group\n",
      "Extract review information for City to Sea\n",
      "Extract review information for Civo\n",
      "Extract review information for Close\n",
      "Extract review information for CMG Technologies\n",
      "Extract review information for Cockroach Labs\n",
      "Extract review information for Coconut Software\n",
      "Extract review information for Commission Factory\n",
      "Extract review information for Cosmic\n",
      "Extract review information for D’Youville University\n",
      "Extract review information for Dassana\n",
      "Extract review information for Daye\n",
      "Extract review information for Deedmob\n",
      "Extract review information for Desigual\n",
      "Extract review information for DHIS2\n",
      "Extract review information for Diesdas Digital\n",
      "Extract review information for Digible\n",
      "Extract review information for DNSFilter\n",
      "Extract review information for Eduwill\n",
      "Extract review information for eFileCabinet\n",
      "Extract review information for Eidos-Montréal\n",
      "Extract review information for Elektra Lighting\n",
      "Extract review information for Elephant Ventures\n",
      "Extract review information for Emtrain\n",
      "Extract review information for Evolved Search\n",
      "Extract review information for Fast Retailing\n",
      "Extract review information for Feathr\n",
      "Extract review information for Formedix\n",
      "Extract review information for FundersClub\n",
      "Extract review information for G2i\n",
      "Extract review information for Galt Pharmaceuticals\n",
      "Extract review information for GoLinks\n",
      "Extract review information for Grounded Packaging\n",
      "Extract review information for Groupe LDLC\n",
      "Extract review information for Headspace\n",
      "Extract review information for Healthwise\n",
      "Extract review information for Hitachi\n",
      "Extract review information for ICE Group\n",
      "Extract review information for ihorizon\n",
      "Extract review information for InDebted\n",
      "Extract review information for IriusRisk\n",
      "Extract review information for JAYU\n",
      "Extract review information for Jexo\n",
      "Extract review information for JMK Solicitors\n",
      "Extract review information for Justuno\n",
      "Extract review information for Kickstarter\n",
      "Extract review information for KPMG\n",
      "Extract review information for Luscii\n",
      "Extract review information for Maaemo\n",
      "Extract review information for Marketing Signals\n",
      "Extract review information for MeiliSearch\n",
      "Extract review information for Mizuho Financial Group\n",
      "Extract review information for Modo25\n",
      "Extract review information for Monograph\n",
      "Extract review information for Morrisons\n",
      "Extract review information for MRL Consulting Group\n",
      "Extract review information for Nexton\n",
      "Extract review information for Nomad\n",
      "Extract review information for Officely\n",
      "Extract review information for Our Community\n",
      "Extract review information for Panasonic\n",
      "Extract review information for PDQ.com\n",
      "Extract review information for Perpetual Guardian\n",
      "Extract review information for Piktochart\n",
      "Extract review information for Polar\n",
      "Extract review information for Praytell\n",
      "Extract review information for Procurify\n",
      "Extract review information for Qwick\n",
      "Extract review information for Reboot\n",
      "Extract review information for Reflect Digital\n",
      "Extract review information for REM Web Solutions\n",
      "Extract review information for Seed&Spark\n",
      "Extract review information for SEOMG!\n",
      "Extract review information for Signifyd\n",
      "Extract review information for Smalls\n",
      "Extract review information for Spin Brands\n",
      "Extract review information for Starship\n",
      "Extract review information for Stora\n",
      "Extract review information for streamGo\n",
      "Extract review information for Swash Labs\n",
      "Extract review information for Talewind\n",
      "Extract review information for Telefónica\n",
      "Extract review information for The Curve Group\n",
      "Extract review information for The Wanderlust Group\n",
      "Extract review information for Think Productive\n",
      "Extract review information for thredUP\n",
      "Extract review information for THRYVE\n",
      "Extract review information for Toshiba\n",
      "Extract review information for Treehouse\n",
      "Extract review information for Twistcode\n",
      "Extract review information for Uncharted\n",
      "Extract review information for Unito\n",
      "Extract review information for Uplevel\n",
      "Extract review information for Uplift\n",
      "Extract review information for UsabilityHub\n",
      "Extract review information for Venture Stream\n",
      "Extract review information for Volt Athletics\n",
      "Extract review information for WANdisco\n",
      "Extract review information for Welcome to the Jungle\n",
      "Extract review information for Whyfield\n",
      "Extract review information for Wildbit\n",
      "Extract review information for Wonde\n",
      "Extract review information for Wonderlic\n",
      "Extract review information for Shopify\n",
      "Extract review information for Canon\n",
      "Extract review information for Hutch\n",
      "Extract review information for Highfield Professional Solutions Ltd\n",
      "Extract review information for Gungho Marketing\n",
      "Extract review information for HearFocus\n",
      "Extract review information for Tulip\n"
     ]
    }
   ],
   "source": [
    "# Extract review, rating, pro, con and date/author\n",
    "\n",
    "# Setup the dataframes to store the extracted data\n",
    "df_review_header = pd.DataFrame(columns=['company', 'review_header'])\n",
    "df_rating = pd.DataFrame(columns=['company', 'rating'])\n",
    "df_pro = pd.DataFrame(columns=['company', 'pro'])\n",
    "df_con = pd.DataFrame(columns=['company', 'con'])\n",
    "df_date_author = pd.DataFrame(columns=['company', 'date_author'])\n",
    "\n",
    "# Loop for each company in the companies list\n",
    "for company, url in companies_review_fullList.items():\n",
    "    \n",
    "    driver.get('https://www.glassdoor.sg/Reviews/'+ url)\n",
    "    source = driver.page_source\n",
    "    data=bs(source, 'html.parser')\n",
    "    \n",
    "    # Retrieve the pagination object\n",
    "    pagination = data.find(attrs={'data-test':'pagination'})\n",
    "    \n",
    "    if pagination != None:\n",
    "        pages = pagination.find_all('a')\n",
    "\n",
    "        # Create a list for storing the URL of each page\n",
    "        urls = []\n",
    "\n",
    "        # Iterate through the list of pages\n",
    "        for page in pages:\n",
    "\n",
    "            # Store the page number only if it is a number. \n",
    "            # This will help to omit other items found in the pagination object such as Next\n",
    "            pageNum = int(page.text) if page.text.isdigit() else None\n",
    "\n",
    "            # Check if the page number is not null \n",
    "            if pageNum != None:\n",
    "\n",
    "                # Retrieve the URL of each page from the value of its corresponding href element\n",
    "                link = page.get('href')\n",
    "\n",
    "                # Add each page URL to the urls list\n",
    "                urls.append(link)\n",
    "        \n",
    "        print(f'Extract review information for {company}')\n",
    "        \n",
    "        # Loop each url\n",
    "        for url in urls:\n",
    "            driver.get('https://www.glassdoor.sg'+ url)\n",
    "            source = driver.page_source\n",
    "            data=bs(source, 'html.parser')\n",
    "            \n",
    "\n",
    "            # Extract rating headers\n",
    "            review_headings = data.find_all('h2', class_='mb-xxsm mt-0 css-93svrw el6ke055')\n",
    "            for review in review_headings:\n",
    "                df_review_header = df_review_header.append({'company': str(company), 'review_header': str(review.text)}, ignore_index=True)\n",
    "\n",
    "            # Extract company ratings\n",
    "            review_ratings = data.find_all('span', class_='ratingNumber mr-xsm')\n",
    "            for review in review_ratings:\n",
    "                df_rating = df_rating.append({'company': str(company), 'rating': str(review.text)}, ignore_index=True)\n",
    "\n",
    "            # Extract pro reviews\n",
    "            review_pros = data.find_all(attrs={'data-test': 'pros'})\n",
    "            for review in review_pros:\n",
    "                df_pro = df_pro.append({'company': str(company), 'pro': str(review.text)}, ignore_index=True)\n",
    "\n",
    "            # Extract con reviews\n",
    "            review_cons = data.find_all(attrs={'data-test': 'cons'})\n",
    "            for review in review_cons:\n",
    "                df_con = df_con.append({'company': str(company), 'con': str(review.text)}, ignore_index=True)\n",
    "\n",
    "            # Extract date/Author\n",
    "            review_dates = data.find_all('span', class_='authorJobTitle middle common__EiReviewDetailsStyle__newGrey')\n",
    "            for review in review_dates:\n",
    "                df_date_author = df_date_author.append({'company': str(company), 'date_author': str(review.text)}, ignore_index=True)\n",
    "\n",
    "        \n",
    "    else:\n",
    "        print(f'Extract review information for {company}')\n",
    "        # Extract rating headers\n",
    "        review_headings = data.find_all('h2', class_='mb-xxsm mt-0 css-93svrw el6ke055')\n",
    "        for review in review_headings:\n",
    "            df_review_header = df_review_header.append({'company': str(company), 'review_header': str(review.text)}, ignore_index=True)\n",
    "\n",
    "        # Extract company ratings\n",
    "        review_ratings = data.find_all('span', class_='ratingNumber mr-xsm')\n",
    "        for review in review_ratings:\n",
    "            df_rating = df_rating.append({'company': str(company), 'rating': str(review.text)}, ignore_index=True)\n",
    "\n",
    "        # Extract pro reviews\n",
    "        review_pros = data.find_all(attrs={'data-test': 'pros'})\n",
    "        for review in review_pros:\n",
    "            df_pro = df_pro.append({'company': str(company), 'pro': str(review.text)}, ignore_index=True)\n",
    "\n",
    "        # Extract con reviews\n",
    "        review_cons = data.find_all(attrs={'data-test': 'cons'})\n",
    "        for review in review_cons:\n",
    "            df_con = df_con.append({'company': str(company), 'con': str(review.text)}, ignore_index=True)\n",
    "\n",
    "        # Extract date/Author\n",
    "        review_dates = data.find_all('span', class_='authorJobTitle middle common__EiReviewDetailsStyle__newGrey')\n",
    "        for review in review_dates:\n",
    "            df_date_author = df_date_author.append({'company': str(company), 'date_author': str(review.text)}, ignore_index=True)\n",
    "\n",
    "    # Set a timer before next iteration\n",
    "    time.sleep(10)"
   ]
  },
  {
   "cell_type": "code",
   "execution_count": 10,
   "id": "8d348680",
   "metadata": {
    "ExecuteTime": {
     "end_time": "2022-07-04T08:49:55.293011Z",
     "start_time": "2022-07-04T08:49:55.259006Z"
    },
    "scrolled": true
   },
   "outputs": [
    {
     "data": {
      "text/html": [
       "<div>\n",
       "<style scoped>\n",
       "    .dataframe tbody tr th:only-of-type {\n",
       "        vertical-align: middle;\n",
       "    }\n",
       "\n",
       "    .dataframe tbody tr th {\n",
       "        vertical-align: top;\n",
       "    }\n",
       "\n",
       "    .dataframe thead th {\n",
       "        text-align: right;\n",
       "    }\n",
       "</style>\n",
       "<table border=\"1\" class=\"dataframe\">\n",
       "  <thead>\n",
       "    <tr style=\"text-align: right;\">\n",
       "      <th></th>\n",
       "      <th>company</th>\n",
       "      <th>review_header</th>\n",
       "    </tr>\n",
       "  </thead>\n",
       "  <tbody>\n",
       "    <tr>\n",
       "      <th>0</th>\n",
       "      <td>Administrate</td>\n",
       "      <td>Ultimate Human Organization</td>\n",
       "    </tr>\n",
       "    <tr>\n",
       "      <th>1</th>\n",
       "      <td>Administrate</td>\n",
       "      <td>Great!</td>\n",
       "    </tr>\n",
       "    <tr>\n",
       "      <th>2</th>\n",
       "      <td>Administrate</td>\n",
       "      <td>Great culture, good balance.</td>\n",
       "    </tr>\n",
       "    <tr>\n",
       "      <th>3</th>\n",
       "      <td>Administrate</td>\n",
       "      <td>Great company culture and life work balance.</td>\n",
       "    </tr>\n",
       "    <tr>\n",
       "      <th>4</th>\n",
       "      <td>Administrate</td>\n",
       "      <td>Awesome team</td>\n",
       "    </tr>\n",
       "  </tbody>\n",
       "</table>\n",
       "</div>"
      ],
      "text/plain": [
       "        company                                 review_header\n",
       "0  Administrate                   Ultimate Human Organization\n",
       "1  Administrate                                        Great!\n",
       "2  Administrate                  Great culture, good balance.\n",
       "3  Administrate  Great company culture and life work balance.\n",
       "4  Administrate                                  Awesome team"
      ]
     },
     "execution_count": 10,
     "metadata": {},
     "output_type": "execute_result"
    }
   ],
   "source": [
    "df_review_header.head()"
   ]
  },
  {
   "cell_type": "code",
   "execution_count": 11,
   "id": "3749c280",
   "metadata": {
    "ExecuteTime": {
     "end_time": "2022-07-04T08:49:55.308014Z",
     "start_time": "2022-07-04T08:49:55.295013Z"
    },
    "scrolled": true
   },
   "outputs": [
    {
     "data": {
      "text/html": [
       "<div>\n",
       "<style scoped>\n",
       "    .dataframe tbody tr th:only-of-type {\n",
       "        vertical-align: middle;\n",
       "    }\n",
       "\n",
       "    .dataframe tbody tr th {\n",
       "        vertical-align: top;\n",
       "    }\n",
       "\n",
       "    .dataframe thead th {\n",
       "        text-align: right;\n",
       "    }\n",
       "</style>\n",
       "<table border=\"1\" class=\"dataframe\">\n",
       "  <thead>\n",
       "    <tr style=\"text-align: right;\">\n",
       "      <th></th>\n",
       "      <th>company</th>\n",
       "      <th>rating</th>\n",
       "    </tr>\n",
       "  </thead>\n",
       "  <tbody>\n",
       "    <tr>\n",
       "      <th>0</th>\n",
       "      <td>Administrate</td>\n",
       "      <td>5.0</td>\n",
       "    </tr>\n",
       "    <tr>\n",
       "      <th>1</th>\n",
       "      <td>Administrate</td>\n",
       "      <td>4.0</td>\n",
       "    </tr>\n",
       "    <tr>\n",
       "      <th>2</th>\n",
       "      <td>Administrate</td>\n",
       "      <td>5.0</td>\n",
       "    </tr>\n",
       "    <tr>\n",
       "      <th>3</th>\n",
       "      <td>Administrate</td>\n",
       "      <td>5.0</td>\n",
       "    </tr>\n",
       "    <tr>\n",
       "      <th>4</th>\n",
       "      <td>Administrate</td>\n",
       "      <td>5.0</td>\n",
       "    </tr>\n",
       "  </tbody>\n",
       "</table>\n",
       "</div>"
      ],
      "text/plain": [
       "        company rating\n",
       "0  Administrate    5.0\n",
       "1  Administrate    4.0\n",
       "2  Administrate    5.0\n",
       "3  Administrate    5.0\n",
       "4  Administrate    5.0"
      ]
     },
     "execution_count": 11,
     "metadata": {},
     "output_type": "execute_result"
    }
   ],
   "source": [
    "df_rating.head()"
   ]
  },
  {
   "cell_type": "code",
   "execution_count": 12,
   "id": "82ecc2a3",
   "metadata": {
    "ExecuteTime": {
     "end_time": "2022-07-04T08:49:55.324019Z",
     "start_time": "2022-07-04T08:49:55.310017Z"
    },
    "scrolled": true
   },
   "outputs": [
    {
     "data": {
      "text/html": [
       "<div>\n",
       "<style scoped>\n",
       "    .dataframe tbody tr th:only-of-type {\n",
       "        vertical-align: middle;\n",
       "    }\n",
       "\n",
       "    .dataframe tbody tr th {\n",
       "        vertical-align: top;\n",
       "    }\n",
       "\n",
       "    .dataframe thead th {\n",
       "        text-align: right;\n",
       "    }\n",
       "</style>\n",
       "<table border=\"1\" class=\"dataframe\">\n",
       "  <thead>\n",
       "    <tr style=\"text-align: right;\">\n",
       "      <th></th>\n",
       "      <th>company</th>\n",
       "      <th>pro</th>\n",
       "    </tr>\n",
       "  </thead>\n",
       "  <tbody>\n",
       "    <tr>\n",
       "      <th>0</th>\n",
       "      <td>Administrate</td>\n",
       "      <td>This is a start with an interesting product! \\r\\nSome pros:\\r\\n\\r\\n-4 Day Work Week\\r\\n-Good Benefits\\r\\n-Helpful teammates</td>\n",
       "    </tr>\n",
       "    <tr>\n",
       "      <th>1</th>\n",
       "      <td>Administrate</td>\n",
       "      <td>- work life balance is amazing\\r\\n- slowly getting out of 'start-up' phase and maturing quickly</td>\n",
       "    </tr>\n",
       "    <tr>\n",
       "      <th>2</th>\n",
       "      <td>Administrate</td>\n",
       "      <td>Four day week. Great gear.  Career progression.</td>\n",
       "    </tr>\n",
       "    <tr>\n",
       "      <th>3</th>\n",
       "      <td>Administrate</td>\n",
       "      <td>* Great life-work balance with 4 days a week and generous holidays allocation.\\n* Friendly and open company culture that focuses on making it a great place to work for any humans.\\n* Administrate does not focus on short term profits, but on long term customer relations and sustainable development.\\n* Flat leadership structure.\\n* Transparent company-wide decision making.\\n* Modern and varied technologies, so it's fun to code.</td>\n",
       "    </tr>\n",
       "    <tr>\n",
       "      <th>4</th>\n",
       "      <td>Administrate</td>\n",
       "      <td>Caring people doing awesome work. 4 day work week!</td>\n",
       "    </tr>\n",
       "  </tbody>\n",
       "</table>\n",
       "</div>"
      ],
      "text/plain": [
       "        company  \\\n",
       "0  Administrate   \n",
       "1  Administrate   \n",
       "2  Administrate   \n",
       "3  Administrate   \n",
       "4  Administrate   \n",
       "\n",
       "                                                                                                                                                                                                                                                                                                                                                                                                                                             pro  \n",
       "0                                                                                                                                                                                                                                                                                                                    This is a start with an interesting product! \\r\\nSome pros:\\r\\n\\r\\n-4 Day Work Week\\r\\n-Good Benefits\\r\\n-Helpful teammates  \n",
       "1                                                                                                                                                                                                                                                                                                                                                - work life balance is amazing\\r\\n- slowly getting out of 'start-up' phase and maturing quickly  \n",
       "2                                                                                                                                                                                                                                                                                                                                                                                                Four day week. Great gear.  Career progression.  \n",
       "3  * Great life-work balance with 4 days a week and generous holidays allocation.\\n* Friendly and open company culture that focuses on making it a great place to work for any humans.\\n* Administrate does not focus on short term profits, but on long term customer relations and sustainable development.\\n* Flat leadership structure.\\n* Transparent company-wide decision making.\\n* Modern and varied technologies, so it's fun to code.  \n",
       "4                                                                                                                                                                                                                                                                                                                                                                                             Caring people doing awesome work. 4 day work week!  "
      ]
     },
     "execution_count": 12,
     "metadata": {},
     "output_type": "execute_result"
    }
   ],
   "source": [
    "df_pro.head()"
   ]
  },
  {
   "cell_type": "code",
   "execution_count": 13,
   "id": "0be5f1a0",
   "metadata": {
    "ExecuteTime": {
     "end_time": "2022-07-04T08:49:55.340023Z",
     "start_time": "2022-07-04T08:49:55.326019Z"
    },
    "scrolled": true
   },
   "outputs": [
    {
     "data": {
      "text/html": [
       "<div>\n",
       "<style scoped>\n",
       "    .dataframe tbody tr th:only-of-type {\n",
       "        vertical-align: middle;\n",
       "    }\n",
       "\n",
       "    .dataframe tbody tr th {\n",
       "        vertical-align: top;\n",
       "    }\n",
       "\n",
       "    .dataframe thead th {\n",
       "        text-align: right;\n",
       "    }\n",
       "</style>\n",
       "<table border=\"1\" class=\"dataframe\">\n",
       "  <thead>\n",
       "    <tr style=\"text-align: right;\">\n",
       "      <th></th>\n",
       "      <th>company</th>\n",
       "      <th>con</th>\n",
       "    </tr>\n",
       "  </thead>\n",
       "  <tbody>\n",
       "    <tr>\n",
       "      <th>0</th>\n",
       "      <td>Administrate</td>\n",
       "      <td>The company is still growing so certain procedures as not concrete.</td>\n",
       "    </tr>\n",
       "    <tr>\n",
       "      <th>1</th>\n",
       "      <td>Administrate</td>\n",
       "      <td>- not quite a mature yet</td>\n",
       "    </tr>\n",
       "    <tr>\n",
       "      <th>2</th>\n",
       "      <td>Administrate</td>\n",
       "      <td>It could be high pressure at times, but that's startup!</td>\n",
       "    </tr>\n",
       "    <tr>\n",
       "      <th>3</th>\n",
       "      <td>Administrate</td>\n",
       "      <td>* No private healthcare.\\n* Going through some teething pains as the company switched it's business operation model recently. Outlook looks positive, but we're not 100% there.\\n* Early days of changing the way we approach software development to make it more sustainable. I like the idea, but I'm not completely confident this will be successfully applied.\\n* Some amount of random, hectic work resulting from issues with communication with the customer and churn rate among management. The bad part is that it makes the projects less fun to work on, the good part is that issue is identified and acknowledged by the management, so there is a good chance it will improve in time. Also, this is very team dependant.</td>\n",
       "    </tr>\n",
       "    <tr>\n",
       "      <th>4</th>\n",
       "      <td>Administrate</td>\n",
       "      <td>Perks taken for granted and can create a sense of entitlement amongst some.</td>\n",
       "    </tr>\n",
       "  </tbody>\n",
       "</table>\n",
       "</div>"
      ],
      "text/plain": [
       "        company  \\\n",
       "0  Administrate   \n",
       "1  Administrate   \n",
       "2  Administrate   \n",
       "3  Administrate   \n",
       "4  Administrate   \n",
       "\n",
       "                                                                                                                                                                                                                                                                                                                                                                                                                                                                                                                                                                                                                                                                                                                                          con  \n",
       "0                                                                                                                                                                                                                                                                                                                                                                                                                                                                                                                                                                                                                                                                         The company is still growing so certain procedures as not concrete.  \n",
       "1                                                                                                                                                                                                                                                                                                                                                                                                                                                                                                                                                                                                                                                                                                                    - not quite a mature yet  \n",
       "2                                                                                                                                                                                                                                                                                                                                                                                                                                                                                                                                                                                                                                                                                     It could be high pressure at times, but that's startup!  \n",
       "3  * No private healthcare.\\n* Going through some teething pains as the company switched it's business operation model recently. Outlook looks positive, but we're not 100% there.\\n* Early days of changing the way we approach software development to make it more sustainable. I like the idea, but I'm not completely confident this will be successfully applied.\\n* Some amount of random, hectic work resulting from issues with communication with the customer and churn rate among management. The bad part is that it makes the projects less fun to work on, the good part is that issue is identified and acknowledged by the management, so there is a good chance it will improve in time. Also, this is very team dependant.  \n",
       "4                                                                                                                                                                                                                                                                                                                                                                                                                                                                                                                                                                                                                                                                 Perks taken for granted and can create a sense of entitlement amongst some.  "
      ]
     },
     "execution_count": 13,
     "metadata": {},
     "output_type": "execute_result"
    }
   ],
   "source": [
    "df_con.head()"
   ]
  },
  {
   "cell_type": "code",
   "execution_count": 14,
   "id": "fe42c930",
   "metadata": {
    "ExecuteTime": {
     "end_time": "2022-07-04T08:49:55.355027Z",
     "start_time": "2022-07-04T08:49:55.342024Z"
    },
    "scrolled": true
   },
   "outputs": [
    {
     "data": {
      "text/html": [
       "<div>\n",
       "<style scoped>\n",
       "    .dataframe tbody tr th:only-of-type {\n",
       "        vertical-align: middle;\n",
       "    }\n",
       "\n",
       "    .dataframe tbody tr th {\n",
       "        vertical-align: top;\n",
       "    }\n",
       "\n",
       "    .dataframe thead th {\n",
       "        text-align: right;\n",
       "    }\n",
       "</style>\n",
       "<table border=\"1\" class=\"dataframe\">\n",
       "  <thead>\n",
       "    <tr style=\"text-align: right;\">\n",
       "      <th></th>\n",
       "      <th>company</th>\n",
       "      <th>date_author</th>\n",
       "    </tr>\n",
       "  </thead>\n",
       "  <tbody>\n",
       "    <tr>\n",
       "      <th>0</th>\n",
       "      <td>Administrate</td>\n",
       "      <td>5 May 2022 - Anonymous Employee</td>\n",
       "    </tr>\n",
       "    <tr>\n",
       "      <th>1</th>\n",
       "      <td>Administrate</td>\n",
       "      <td>28 Feb 2022 - Anonymous Employee</td>\n",
       "    </tr>\n",
       "    <tr>\n",
       "      <th>2</th>\n",
       "      <td>Administrate</td>\n",
       "      <td>15 Jan 2022 - Marketing Director</td>\n",
       "    </tr>\n",
       "    <tr>\n",
       "      <th>3</th>\n",
       "      <td>Administrate</td>\n",
       "      <td>16 Aug 2021 - Software Engineer</td>\n",
       "    </tr>\n",
       "    <tr>\n",
       "      <th>4</th>\n",
       "      <td>Administrate</td>\n",
       "      <td>21 Jul 2021 - Commercial</td>\n",
       "    </tr>\n",
       "  </tbody>\n",
       "</table>\n",
       "</div>"
      ],
      "text/plain": [
       "        company                       date_author\n",
       "0  Administrate   5 May 2022 - Anonymous Employee\n",
       "1  Administrate  28 Feb 2022 - Anonymous Employee\n",
       "2  Administrate  15 Jan 2022 - Marketing Director\n",
       "3  Administrate   16 Aug 2021 - Software Engineer\n",
       "4  Administrate          21 Jul 2021 - Commercial"
      ]
     },
     "execution_count": 14,
     "metadata": {},
     "output_type": "execute_result"
    }
   ],
   "source": [
    "df_date_author.head()"
   ]
  },
  {
   "cell_type": "markdown",
   "id": "e34fd358",
   "metadata": {},
   "source": [
    "### Combine Dataframes"
   ]
  },
  {
   "cell_type": "code",
   "execution_count": 15,
   "id": "0642609f",
   "metadata": {
    "ExecuteTime": {
     "end_time": "2022-07-04T08:49:55.386033Z",
     "start_time": "2022-07-04T08:49:55.358027Z"
    },
    "scrolled": true
   },
   "outputs": [
    {
     "data": {
      "text/html": [
       "<div>\n",
       "<style scoped>\n",
       "    .dataframe tbody tr th:only-of-type {\n",
       "        vertical-align: middle;\n",
       "    }\n",
       "\n",
       "    .dataframe tbody tr th {\n",
       "        vertical-align: top;\n",
       "    }\n",
       "\n",
       "    .dataframe thead th {\n",
       "        text-align: right;\n",
       "    }\n",
       "</style>\n",
       "<table border=\"1\" class=\"dataframe\">\n",
       "  <thead>\n",
       "    <tr style=\"text-align: right;\">\n",
       "      <th></th>\n",
       "      <th>company</th>\n",
       "      <th>review_header</th>\n",
       "      <th>rating</th>\n",
       "      <th>pro</th>\n",
       "      <th>con</th>\n",
       "      <th>date_author</th>\n",
       "    </tr>\n",
       "  </thead>\n",
       "  <tbody>\n",
       "    <tr>\n",
       "      <th>0</th>\n",
       "      <td>Administrate</td>\n",
       "      <td>Ultimate Human Organization</td>\n",
       "      <td>5.0</td>\n",
       "      <td>This is a start with an interesting product! \\r\\nSome pros:\\r\\n\\r\\n-4 Day Work Week\\r\\n-Good Benefits\\r\\n-Helpful teammates</td>\n",
       "      <td>The company is still growing so certain procedures as not concrete.</td>\n",
       "      <td>5 May 2022 - Anonymous Employee</td>\n",
       "    </tr>\n",
       "    <tr>\n",
       "      <th>1</th>\n",
       "      <td>Administrate</td>\n",
       "      <td>Great!</td>\n",
       "      <td>4.0</td>\n",
       "      <td>- work life balance is amazing\\r\\n- slowly getting out of 'start-up' phase and maturing quickly</td>\n",
       "      <td>- not quite a mature yet</td>\n",
       "      <td>28 Feb 2022 - Anonymous Employee</td>\n",
       "    </tr>\n",
       "    <tr>\n",
       "      <th>2</th>\n",
       "      <td>Administrate</td>\n",
       "      <td>Great culture, good balance.</td>\n",
       "      <td>5.0</td>\n",
       "      <td>Four day week. Great gear.  Career progression.</td>\n",
       "      <td>It could be high pressure at times, but that's startup!</td>\n",
       "      <td>15 Jan 2022 - Marketing Director</td>\n",
       "    </tr>\n",
       "    <tr>\n",
       "      <th>3</th>\n",
       "      <td>Administrate</td>\n",
       "      <td>Great company culture and life work balance.</td>\n",
       "      <td>5.0</td>\n",
       "      <td>* Great life-work balance with 4 days a week and generous holidays allocation.\\n* Friendly and open company culture that focuses on making it a great place to work for any humans.\\n* Administrate does not focus on short term profits, but on long term customer relations and sustainable development.\\n* Flat leadership structure.\\n* Transparent company-wide decision making.\\n* Modern and varied technologies, so it's fun to code.</td>\n",
       "      <td>* No private healthcare.\\n* Going through some teething pains as the company switched it's business operation model recently. Outlook looks positive, but we're not 100% there.\\n* Early days of changing the way we approach software development to make it more sustainable. I like the idea, but I'm not completely confident this will be successfully applied.\\n* Some amount of random, hectic work resulting from issues with communication with the customer and churn rate among management. The bad part is that it makes the projects less fun to work on, the good part is that issue is identified and acknowledged by the management, so there is a good chance it will improve in time. Also, this is very team dependant.</td>\n",
       "      <td>16 Aug 2021 - Software Engineer</td>\n",
       "    </tr>\n",
       "    <tr>\n",
       "      <th>4</th>\n",
       "      <td>Administrate</td>\n",
       "      <td>Awesome team</td>\n",
       "      <td>5.0</td>\n",
       "      <td>Caring people doing awesome work. 4 day work week!</td>\n",
       "      <td>Perks taken for granted and can create a sense of entitlement amongst some.</td>\n",
       "      <td>21 Jul 2021 - Commercial</td>\n",
       "    </tr>\n",
       "  </tbody>\n",
       "</table>\n",
       "</div>"
      ],
      "text/plain": [
       "        company                                 review_header rating  \\\n",
       "0  Administrate                   Ultimate Human Organization    5.0   \n",
       "1  Administrate                                        Great!    4.0   \n",
       "2  Administrate                  Great culture, good balance.    5.0   \n",
       "3  Administrate  Great company culture and life work balance.    5.0   \n",
       "4  Administrate                                  Awesome team    5.0   \n",
       "\n",
       "                                                                                                                                                                                                                                                                                                                                                                                                                                             pro  \\\n",
       "0                                                                                                                                                                                                                                                                                                                    This is a start with an interesting product! \\r\\nSome pros:\\r\\n\\r\\n-4 Day Work Week\\r\\n-Good Benefits\\r\\n-Helpful teammates   \n",
       "1                                                                                                                                                                                                                                                                                                                                                - work life balance is amazing\\r\\n- slowly getting out of 'start-up' phase and maturing quickly   \n",
       "2                                                                                                                                                                                                                                                                                                                                                                                                Four day week. Great gear.  Career progression.   \n",
       "3  * Great life-work balance with 4 days a week and generous holidays allocation.\\n* Friendly and open company culture that focuses on making it a great place to work for any humans.\\n* Administrate does not focus on short term profits, but on long term customer relations and sustainable development.\\n* Flat leadership structure.\\n* Transparent company-wide decision making.\\n* Modern and varied technologies, so it's fun to code.   \n",
       "4                                                                                                                                                                                                                                                                                                                                                                                             Caring people doing awesome work. 4 day work week!   \n",
       "\n",
       "                                                                                                                                                                                                                                                                                                                                                                                                                                                                                                                                                                                                                                                                                                                                          con  \\\n",
       "0                                                                                                                                                                                                                                                                                                                                                                                                                                                                                                                                                                                                                                                                         The company is still growing so certain procedures as not concrete.   \n",
       "1                                                                                                                                                                                                                                                                                                                                                                                                                                                                                                                                                                                                                                                                                                                    - not quite a mature yet   \n",
       "2                                                                                                                                                                                                                                                                                                                                                                                                                                                                                                                                                                                                                                                                                     It could be high pressure at times, but that's startup!   \n",
       "3  * No private healthcare.\\n* Going through some teething pains as the company switched it's business operation model recently. Outlook looks positive, but we're not 100% there.\\n* Early days of changing the way we approach software development to make it more sustainable. I like the idea, but I'm not completely confident this will be successfully applied.\\n* Some amount of random, hectic work resulting from issues with communication with the customer and churn rate among management. The bad part is that it makes the projects less fun to work on, the good part is that issue is identified and acknowledged by the management, so there is a good chance it will improve in time. Also, this is very team dependant.   \n",
       "4                                                                                                                                                                                                                                                                                                                                                                                                                                                                                                                                                                                                                                                                 Perks taken for granted and can create a sense of entitlement amongst some.   \n",
       "\n",
       "                        date_author  \n",
       "0   5 May 2022 - Anonymous Employee  \n",
       "1  28 Feb 2022 - Anonymous Employee  \n",
       "2  15 Jan 2022 - Marketing Director  \n",
       "3   16 Aug 2021 - Software Engineer  \n",
       "4          21 Jul 2021 - Commercial  "
      ]
     },
     "execution_count": 15,
     "metadata": {},
     "output_type": "execute_result"
    }
   ],
   "source": [
    "# Combine df_review_header, df_rating, df_pro, df_con, df_date_author into 1 dataframe\n",
    "company_review_df = pd.merge(df_review_header, df_rating, left_index=True, right_index=True, suffixes=('', '_remove'))\n",
    "company_review_df = pd.merge(company_review_df, df_pro, left_index=True, right_index=True, suffixes=('', '_remove'))\n",
    "company_review_df = pd.merge(company_review_df, df_con, left_index=True, right_index=True, suffixes=('', '_remove'))\n",
    "company_review_df = pd.merge(company_review_df, df_date_author, left_index=True, right_index=True, suffixes=('', '_remove'))\n",
    "\n",
    "# Remove the duplicate columns\n",
    "company_review_df.drop([i for i in company_review_df if 'remove' in i], axis=1, inplace=True)\n",
    "\n",
    "company_review_df.head()"
   ]
  },
  {
   "cell_type": "code",
   "execution_count": 16,
   "id": "67ccfd00",
   "metadata": {
    "ExecuteTime": {
     "end_time": "2022-07-04T08:49:55.418041Z",
     "start_time": "2022-07-04T08:49:55.389036Z"
    }
   },
   "outputs": [
    {
     "name": "stdout",
     "output_type": "stream",
     "text": [
      "<class 'pandas.core.frame.DataFrame'>\n",
      "RangeIndex: 2688 entries, 0 to 2687\n",
      "Data columns (total 6 columns):\n",
      " #   Column         Non-Null Count  Dtype \n",
      "---  ------         --------------  ----- \n",
      " 0   company        2688 non-null   object\n",
      " 1   review_header  2688 non-null   object\n",
      " 2   rating         2688 non-null   object\n",
      " 3   pro            2688 non-null   object\n",
      " 4   con            2688 non-null   object\n",
      " 5   date_author    2688 non-null   object\n",
      "dtypes: object(6)\n",
      "memory usage: 126.1+ KB\n"
     ]
    }
   ],
   "source": [
    "company_review_df.info()"
   ]
  },
  {
   "cell_type": "code",
   "execution_count": 17,
   "id": "54fac97a",
   "metadata": {
    "ExecuteTime": {
     "end_time": "2022-07-04T08:49:55.433044Z",
     "start_time": "2022-07-04T08:49:55.420053Z"
    },
    "scrolled": true
   },
   "outputs": [
    {
     "data": {
      "text/plain": [
       "114"
      ]
     },
     "execution_count": 17,
     "metadata": {},
     "output_type": "execute_result"
    }
   ],
   "source": [
    "company_review_df['company'].nunique()"
   ]
  },
  {
   "cell_type": "code",
   "execution_count": 18,
   "id": "5a1ff39a",
   "metadata": {
    "ExecuteTime": {
     "end_time": "2022-07-04T08:49:55.449063Z",
     "start_time": "2022-07-04T08:49:55.435046Z"
    }
   },
   "outputs": [
    {
     "data": {
      "text/plain": [
       "array(['Administrate', 'Advice Direct Scotland', 'Applied Reviews',\n",
       "       'Arken Legal', 'Atom Bank', '3D Issue', '448 Studio', 'Abstract',\n",
       "       'ALAMI', 'Awin', 'Backbone', 'Big Potato Games', 'Bijles Aan Huis',\n",
       "       'Bit.io', 'Blackbird Interactive', 'Blink SEO', 'Bolt',\n",
       "       'Boulder County', 'Buffer', 'Bunny Studio', 'ByteChek',\n",
       "       'Charlton Morris', 'Chief Nation', 'City to Sea', 'Civo', 'Close',\n",
       "       'CMG Technologies', 'Cockroach Labs', 'Coconut Software',\n",
       "       'Commission Factory', 'Cosmic', 'D’Youville University', 'Dassana',\n",
       "       'Daye', 'Deedmob', 'Desigual', 'Diesdas Digital', 'Digible',\n",
       "       'DNSFilter', 'Eduwill', 'eFileCabinet', 'Eidos-Montréal',\n",
       "       'Elephant Ventures', 'Emtrain', 'Evolved Search', 'Fast Retailing',\n",
       "       'Feathr', 'Formedix', 'G2i', 'Galt Pharmaceuticals', 'GoLinks',\n",
       "       'Headspace', 'Healthwise', 'Hitachi', 'ICE Group', 'ihorizon',\n",
       "       'InDebted', 'IriusRisk', 'JMK Solicitors', 'Justuno',\n",
       "       'Kickstarter', 'KPMG', 'Marketing Signals',\n",
       "       'Mizuho Financial Group', 'Morrisons', 'MRL Consulting Group',\n",
       "       'Nexton', 'Nomad', 'Our Community', 'Panasonic', 'PDQ.com',\n",
       "       'Perpetual Guardian', 'Piktochart', 'Polar', 'Praytell',\n",
       "       'Procurify', 'Qwick', 'Reboot', 'Reflect Digital', 'Seed&Spark',\n",
       "       'SEOMG!', 'Signifyd', 'Smalls', 'Spin Brands', 'Starship',\n",
       "       'streamGo', 'Talewind', 'Telefónica', 'The Curve Group',\n",
       "       'Think Productive', 'thredUP', 'THRYVE', 'Toshiba', 'Treehouse',\n",
       "       'Twistcode', 'Uncharted', 'Unito', 'Uplevel', 'Uplift',\n",
       "       'UsabilityHub', 'Venture Stream', 'Volt Athletics', 'WANdisco',\n",
       "       'Welcome to the Jungle', 'Wildbit', 'Wonde', 'Wonderlic',\n",
       "       'Shopify', 'Canon', 'Hutch',\n",
       "       'Highfield Professional Solutions Ltd', 'Gungho Marketing',\n",
       "       'HearFocus', 'Tulip'], dtype=object)"
      ]
     },
     "execution_count": 18,
     "metadata": {},
     "output_type": "execute_result"
    }
   ],
   "source": [
    "company_review_df['company'].unique()"
   ]
  },
  {
   "cell_type": "markdown",
   "id": "19d89efe",
   "metadata": {},
   "source": [
    "## Export Dataset to csv File"
   ]
  },
  {
   "cell_type": "code",
   "execution_count": 19,
   "id": "52839ea7",
   "metadata": {
    "ExecuteTime": {
     "end_time": "2022-07-04T08:49:55.497145Z",
     "start_time": "2022-07-04T08:49:55.452056Z"
    },
    "run_control": {
     "marked": false
    }
   },
   "outputs": [],
   "source": [
    "# Export dataset to csv\n",
    "company_review_df.to_csv('../data/company_reviews.csv', index=False)"
   ]
  },
  {
   "cell_type": "markdown",
   "id": "06d92bf8",
   "metadata": {},
   "source": [
    "**Continue in Notebook 2**"
   ]
  }
 ],
 "metadata": {
  "kernelspec": {
   "display_name": "Python 3 (ipykernel)",
   "language": "python",
   "name": "python3"
  },
  "language_info": {
   "codemirror_mode": {
    "name": "ipython",
    "version": 3
   },
   "file_extension": ".py",
   "mimetype": "text/x-python",
   "name": "python",
   "nbconvert_exporter": "python",
   "pygments_lexer": "ipython3",
   "version": "3.9.12"
  },
  "latex_envs": {
   "LaTeX_envs_menu_present": true,
   "autoclose": false,
   "autocomplete": true,
   "bibliofile": "biblio.bib",
   "cite_by": "apalike",
   "current_citInitial": 1,
   "eqLabelWithNumbers": true,
   "eqNumInitial": 1,
   "hotkeys": {
    "equation": "Ctrl-E",
    "itemize": "Ctrl-I"
   },
   "labels_anchors": false,
   "latex_user_defs": false,
   "report_style_numbering": false,
   "user_envs_cfg": false
  },
  "toc": {
   "base_numbering": 1,
   "nav_menu": {},
   "number_sections": true,
   "sideBar": true,
   "skip_h1_title": true,
   "title_cell": "Table of Contents",
   "title_sidebar": "Contents",
   "toc_cell": false,
   "toc_position": {
    "height": "calc(100% - 180px)",
    "left": "10px",
    "top": "150px",
    "width": "164.977px"
   },
   "toc_section_display": true,
   "toc_window_display": true
  }
 },
 "nbformat": 4,
 "nbformat_minor": 5
}
