{
 "cells": [
  {
   "cell_type": "markdown",
   "id": "593b7f1b",
   "metadata": {},
   "source": [
    "<img src=\"http://imgur.com/1ZcRyrc.png\" style=\"float: left; margin: 20px; height: 55px\">\n",
    "\n",
    "# Project 3: Web APIs & NLP"
   ]
  },
  {
   "cell_type": "markdown",
   "id": "00501d55",
   "metadata": {},
   "source": [
    "## 1. Recap from Notebook 2"
   ]
  },
  {
   "cell_type": "markdown",
   "id": "d271492d",
   "metadata": {},
   "source": [
    "The goal of this project is to use Reddit posts from Dota 2 and League of Legends to build a text classifier that has at least 85% accuracy, and to identify the top 5 features of each game. By categorizing the current content for both games, we will make it easy for our users to navigate and enhance their user experience. The top 5 features will give the marketing team some insight into their sales and marketing strategy.\n",
    "\n",
    "In Notebook 2, we cleaned and preprocessed the texts. A comparison of the popular words with lemmatizer and stemmer shows no significant differences. We will adopt using lemmatized text for the modeling as the text is more meaningful as compared to stemmed text.\n",
    "\n",
    "In this Notebook, we will cover:\n",
    "- Modeling using Multinomial Naive Bayes, Logistic Regression, and K-Nearest Neighbors with different vectorizers (CountVectorizer and TfidfVectorizer) and hyperparameters\n",
    "- Analyze the misclassified posts\n",
    "- Identify the feature importance"
   ]
  },
  {
   "cell_type": "markdown",
   "id": "94f553f4",
   "metadata": {},
   "source": [
    "## 2. Importing Python Modules"
   ]
  },
  {
   "cell_type": "code",
   "execution_count": 1,
   "id": "7f2619bf",
   "metadata": {
    "ExecuteTime": {
     "end_time": "2022-05-26T14:33:19.124670Z",
     "start_time": "2022-05-26T14:33:16.254957Z"
    },
    "scrolled": false
   },
   "outputs": [],
   "source": [
    "import pandas as pd\n",
    "import numpy as np\n",
    "\n",
    "# For plotting\n",
    "import seaborn as sns\n",
    "import matplotlib.pyplot as plt\n",
    "import seaborn as sns\n",
    "sns.set()\n",
    "sns.set_theme(style='whitegrid') # set theme to be whitegrid\n",
    "\n",
    "# For modeling\n",
    "from sklearn.naive_bayes import MultinomialNB\n",
    "from sklearn.linear_model import LogisticRegression\n",
    "from sklearn.neighbors import KNeighborsClassifier\n",
    "from sklearn.pipeline import Pipeline\n",
    "from sklearn.feature_extraction.text import CountVectorizer, TfidfVectorizer\n",
    "from sklearn.model_selection import train_test_split, GridSearchCV, cross_val_score\n",
    "\n",
    "# For metrics\n",
    "from sklearn.metrics import accuracy_score, f1_score, precision_score, recall_score\n",
    "from sklearn.metrics import roc_auc_score, roc_curve, RocCurveDisplay\n",
    "from sklearn.metrics import confusion_matrix, ConfusionMatrixDisplay\n",
    "\n",
    "#import warnings\n",
    "#warnings.simplefilter(action='ignore')"
   ]
  },
  {
   "cell_type": "markdown",
   "id": "99bf0195",
   "metadata": {},
   "source": [
    "## 3. Load the Datasets"
   ]
  },
  {
   "cell_type": "code",
   "execution_count": 2,
   "id": "ccc137ef",
   "metadata": {
    "ExecuteTime": {
     "end_time": "2022-05-26T14:33:19.293963Z",
     "start_time": "2022-05-26T14:33:19.124670Z"
    },
    "run_control": {
     "marked": false
    }
   },
   "outputs": [],
   "source": [
    "# Read the csv file\n",
    "df = pd.read_csv('../datasets/dota_league.csv')"
   ]
  },
  {
   "cell_type": "markdown",
   "id": "ec949fa7",
   "metadata": {},
   "source": [
    "## 4. Model Evaluation"
   ]
  },
  {
   "cell_type": "markdown",
   "id": "05164582",
   "metadata": {},
   "source": [
    "- For modeling, we will try to predict whether a comment belongs to the DotA2 subreddit or League of Legends subreddit. The dataset will be split into a train and test dataset. \n",
    "\n",
    "- Multinomial Naive Bayes, Logistic Regression, K Nearest Neighbors will be applied with two different word vectorizers, Count Vectorizer and Tfidf Vectorizer.\n",
    "\n",
    "- Pipeline will be applied to define the vectorizer and model and hyperparameters tuning will be done via the GridSearch.\n",
    "\n",
    "- We will use lemmatized text for the modeling since the differences observed from the popular words visualization is minor and lemmatized text is more meaningful than stemmed text."
   ]
  },
  {
   "cell_type": "markdown",
   "id": "1007d59b",
   "metadata": {},
   "source": [
    "### 4.1 Split the Dataset"
   ]
  },
  {
   "cell_type": "code",
   "execution_count": 3,
   "id": "22f7c0e0",
   "metadata": {
    "ExecuteTime": {
     "end_time": "2022-05-26T14:33:19.309603Z",
     "start_time": "2022-05-26T14:33:19.293963Z"
    },
    "run_control": {
     "marked": false
    }
   },
   "outputs": [],
   "source": [
    "# Create X and y variables\n",
    "X = df['text_lem_sen']\n",
    "y = df['subreddit_int']\n",
    "\n",
    "X_train, X_test, y_train, y_test = train_test_split(X, y, test_size=0.3, stratify=y, random_state=123)"
   ]
  },
  {
   "cell_type": "code",
   "execution_count": 4,
   "id": "24bc5fbc",
   "metadata": {
    "ExecuteTime": {
     "end_time": "2022-05-26T14:33:19.324319Z",
     "start_time": "2022-05-26T14:33:19.309603Z"
    }
   },
   "outputs": [
    {
     "name": "stdout",
     "output_type": "stream",
     "text": [
      "(2560,)\n",
      "(1098,)\n"
     ]
    }
   ],
   "source": [
    "print(X_train.shape)\n",
    "print(X_test.shape)"
   ]
  },
  {
   "cell_type": "code",
   "execution_count": 5,
   "id": "33e36f93",
   "metadata": {
    "ExecuteTime": {
     "end_time": "2022-05-26T14:33:19.337469Z",
     "start_time": "2022-05-26T14:33:19.324319Z"
    }
   },
   "outputs": [
    {
     "name": "stdout",
     "output_type": "stream",
     "text": [
      "(2560,)\n",
      "(1098,)\n"
     ]
    }
   ],
   "source": [
    "print(y_train.shape)\n",
    "print(y_test.shape)"
   ]
  },
  {
   "cell_type": "markdown",
   "id": "0d638d14",
   "metadata": {},
   "source": [
    "### 4.2 Functions for modeling evaluation"
   ]
  },
  {
   "cell_type": "code",
   "execution_count": 6,
   "id": "d0ac6472",
   "metadata": {
    "ExecuteTime": {
     "end_time": "2022-05-26T14:33:19.362874Z",
     "start_time": "2022-05-26T14:33:19.337469Z"
    }
   },
   "outputs": [],
   "source": [
    "# Create a function to plot the confusion matrix\n",
    "def plot_confusion_matrix(y_test, y_predict):\n",
    "    cm = confusion_matrix(y_test, y_predict)\n",
    "    labels = ['DotA2', 'League of Legends']\n",
    "    cmap=sns.light_palette(\"blue\")\n",
    "    sns.heatmap(cm, annot=True, cmap=cmap,fmt=\"d\", xticklabels = labels, yticklabels=labels)\n",
    "    plt.xlabel('Predicted Label')\n",
    "    plt.ylabel('True Label')\n",
    "    plt.title('Confusion matrix', fontsize = 16, fontweight = 'bold')"
   ]
  },
  {
   "cell_type": "code",
   "execution_count": 7,
   "id": "62c34fe4",
   "metadata": {
    "ExecuteTime": {
     "end_time": "2022-05-26T14:33:19.378524Z",
     "start_time": "2022-05-26T14:33:19.362874Z"
    }
   },
   "outputs": [],
   "source": [
    "# Create a function to plot the ROC graph\n",
    "def plot_roc(y_test, y_predict):\n",
    "    fpr, tpr, thresholds = roc_curve(y_test, y_predict)\n",
    "    auc = roc_auc_score(y_test, y_predict)\n",
    "    plt.plot(fpr, tpr, label=\"AUC= \"+str(round(auc,3)))\n",
    "    plt.plot([0, 1], [0, 1], linestyle='--', label='baseline')\n",
    "    plt.title('ROC curve', fontsize = 16, fontweight = 'bold')\n",
    "    plt.ylabel('True Positive Rate')\n",
    "    plt.xlabel('False Positive Rate')\n",
    "    plt.legend(loc=4)"
   ]
  },
  {
   "cell_type": "code",
   "execution_count": 8,
   "id": "525daad2",
   "metadata": {
    "ExecuteTime": {
     "end_time": "2022-05-26T14:33:19.394152Z",
     "start_time": "2022-05-26T14:33:19.378524Z"
    }
   },
   "outputs": [],
   "source": [
    "# Create a function to print the test score result\n",
    "def print_data(y_test, y_predict):\n",
    "    print('Accuracy score:',round(accuracy_score(y_test, y_predict),6))\n",
    "    print('ROC AUC score:',round(roc_auc_score(y_test, y_predict),6))\n",
    "    print('Precision score:',round(precision_score(y_test, y_predict),6))\n",
    "    print('Recall score:',round(recall_score(y_test, y_predict),6))\n",
    "    print('F1 score:',round(f1_score(y_test, y_predict),6))"
   ]
  },
  {
   "cell_type": "code",
   "execution_count": 9,
   "id": "e2176a3a",
   "metadata": {
    "ExecuteTime": {
     "end_time": "2022-05-26T14:33:19.418819Z",
     "start_time": "2022-05-26T14:33:19.394152Z"
    }
   },
   "outputs": [],
   "source": [
    "# Create a function to do modeling and plot the confusion matrix and ROC graph\n",
    "def model_eval(model):\n",
    "    # Fit GridSearch to training data\n",
    "    model.fit(X_train, y_train)\n",
    "    \n",
    "    dict_scores = {'model': str(model.estimator.steps),\n",
    "                   'optimal Parameters': model.best_params_,\n",
    "                   'cross_val_score': model.best_score_,\n",
    "                   'train_score': model.score(X_train, y_train),\n",
    "                   'test_score': model.score(X_test, y_test),\n",
    "                   'auc_score': roc_auc_score(y_test, model.predict(X_test)),\n",
    "                   'recall': recall_score(y_test, model.predict(X_test)),\n",
    "                   'precision': precision_score(y_test, model.predict(X_test)),\n",
    "                   'f1_score': f1_score(y_test, model.predict(X_test))}\n",
    "\n",
    "    # Convert dict_scores to dataframe and display it\n",
    "    scores_df = pd.DataFrame.from_dict(dict_scores.items())\n",
    "    with pd.option_context('display.max_colwidth', 400):\n",
    "        display(scores_df)\n",
    "    \n",
    "    # Save confusion matrix values\n",
    "    tn, fp, fn, tp = confusion_matrix(y_test, model.predict(X_test)).ravel()\n",
    "\n",
    "    # Plot confusion matrix\n",
    "    plot_confusion_matrix(y_test, model.predict(X_test))\n",
    "    plt.show()\n",
    "    \n",
    "    # Plot ROC graph\n",
    "    plot_roc(y_test, model.predict(X_test))\n",
    "    plt.show()"
   ]
  },
  {
   "cell_type": "markdown",
   "id": "65c9ea30",
   "metadata": {
    "ExecuteTime": {
     "end_time": "2022-05-21T07:34:49.069454Z",
     "start_time": "2022-05-21T07:34:49.061444Z"
    }
   },
   "source": [
    "### 4.3 Baseline Score"
   ]
  },
  {
   "cell_type": "code",
   "execution_count": 10,
   "id": "9105e0fc",
   "metadata": {
    "ExecuteTime": {
     "end_time": "2022-05-26T14:33:19.434280Z",
     "start_time": "2022-05-26T14:33:19.418819Z"
    }
   },
   "outputs": [
    {
     "data": {
      "text/plain": [
       "0    0.501367\n",
       "1    0.498633\n",
       "Name: subreddit_int, dtype: float64"
      ]
     },
     "execution_count": 10,
     "metadata": {},
     "output_type": "execute_result"
    }
   ],
   "source": [
    "y.value_counts(normalize=True)"
   ]
  },
  {
   "cell_type": "markdown",
   "id": "78b0c208",
   "metadata": {},
   "source": [
    "The number of posts for DotA2 and League of Legends is 50.1% and 49.9% respectively and is close to 50.0%. Hence, the baseline model is ~50% accurate for classifying a post correctly."
   ]
  },
  {
   "cell_type": "markdown",
   "id": "74b7bb69",
   "metadata": {},
   "source": [
    "### 4.4 Multinomial Naive Bayes"
   ]
  },
  {
   "cell_type": "markdown",
   "id": "14813eba",
   "metadata": {},
   "source": [
    "Multinomial Naive Bayes classifier is predominantly used in text classification based on the Bayes Theorem where it assumes all features are independent of one another. Although the assumption may not be realistic as text data may not be independent of one another, it is still widely used for text classification as it is relatively fast and gives accurate predictions in text classification problems."
   ]
  },
  {
   "cell_type": "code",
   "execution_count": 11,
   "id": "451ac1b8",
   "metadata": {
    "ExecuteTime": {
     "end_time": "2022-05-26T14:33:19.450297Z",
     "start_time": "2022-05-26T14:33:19.436274Z"
    }
   },
   "outputs": [],
   "source": [
    "# Set up a pipeline up with two stages:\n",
    "# 1. Vectorizer (transformer)\n",
    "# 2. Multinomial Naive Bayes (estimator)\n",
    "\n",
    "pipe_vec_nb = Pipeline([\n",
    "    ('vec', None),\n",
    "    ('nb', MultinomialNB())\n",
    "])"
   ]
  },
  {
   "cell_type": "code",
   "execution_count": 12,
   "id": "51df155a",
   "metadata": {
    "ExecuteTime": {
     "end_time": "2022-05-26T14:33:19.465281Z",
     "start_time": "2022-05-26T14:33:19.452278Z"
    }
   },
   "outputs": [],
   "source": [
    "# Search over the following values of hyperparameters:\n",
    "# Maximum number of features fit: 2000, 3000, 4000, 5000\n",
    "# Minimum number of documents needed to include token: 2, 3\n",
    "# Maximum number of documents needed to include token: 90%, 95%\n",
    "# Check (individual tokens), check (individual tokens and 2-grams)\n",
    "# No stop words and english stop words\n",
    "\n",
    "pipe_params_vec = {\n",
    "    'vec': [CountVectorizer(), TfidfVectorizer()],\n",
    "    'vec__stop_words': [None, 'english'],\n",
    "    'vec__ngram_range': [(1, 1), (1, 2)],\n",
    "    'vec__max_df': [.9, .95],\n",
    "    'vec__min_df': [2, 3],\n",
    "    'vec__max_features': [2_000, 3_000, 4_000, 5_000]\n",
    "}"
   ]
  },
  {
   "cell_type": "code",
   "execution_count": 13,
   "id": "df926fd1",
   "metadata": {
    "ExecuteTime": {
     "end_time": "2022-05-26T14:33:19.480301Z",
     "start_time": "2022-05-26T14:33:19.467282Z"
    }
   },
   "outputs": [],
   "source": [
    "# Instantiate GridSearchCV with 5-folds cross valiation\n",
    "gs_vec_nb = GridSearchCV(pipe_vec_nb,\n",
    "                          param_grid=pipe_params_vec,\n",
    "                          cv=5,\n",
    "                          n_jobs=-1)"
   ]
  },
  {
   "cell_type": "code",
   "execution_count": 14,
   "id": "122a3558",
   "metadata": {
    "ExecuteTime": {
     "end_time": "2022-05-26T14:33:50.540390Z",
     "start_time": "2022-05-26T14:33:19.482283Z"
    },
    "run_control": {
     "marked": false
    },
    "scrolled": false
   },
   "outputs": [
    {
     "data": {
      "text/html": [
       "<div>\n",
       "<style scoped>\n",
       "    .dataframe tbody tr th:only-of-type {\n",
       "        vertical-align: middle;\n",
       "    }\n",
       "\n",
       "    .dataframe tbody tr th {\n",
       "        vertical-align: top;\n",
       "    }\n",
       "\n",
       "    .dataframe thead th {\n",
       "        text-align: right;\n",
       "    }\n",
       "</style>\n",
       "<table border=\"1\" class=\"dataframe\">\n",
       "  <thead>\n",
       "    <tr style=\"text-align: right;\">\n",
       "      <th></th>\n",
       "      <th>0</th>\n",
       "      <th>1</th>\n",
       "    </tr>\n",
       "  </thead>\n",
       "  <tbody>\n",
       "    <tr>\n",
       "      <th>0</th>\n",
       "      <td>model</td>\n",
       "      <td>[('vec', None), ('nb', MultinomialNB())]</td>\n",
       "    </tr>\n",
       "    <tr>\n",
       "      <th>1</th>\n",
       "      <td>optimal Parameters</td>\n",
       "      <td>{'vec': TfidfVectorizer(max_df=0.9, max_features=5000, min_df=2, ngram_range=(1, 2),\n",
       "                stop_words='english'), 'vec__max_df': 0.9, 'vec__max_features': 5000, 'vec__min_df': 2, 'vec__ngram_range': (1, 2), 'vec__stop_words': 'english'}</td>\n",
       "    </tr>\n",
       "    <tr>\n",
       "      <th>2</th>\n",
       "      <td>cross_val_score</td>\n",
       "      <td>0.898828</td>\n",
       "    </tr>\n",
       "    <tr>\n",
       "      <th>3</th>\n",
       "      <td>train_score</td>\n",
       "      <td>0.966406</td>\n",
       "    </tr>\n",
       "    <tr>\n",
       "      <th>4</th>\n",
       "      <td>test_score</td>\n",
       "      <td>0.891621</td>\n",
       "    </tr>\n",
       "    <tr>\n",
       "      <th>5</th>\n",
       "      <td>auc_score</td>\n",
       "      <td>0.891709</td>\n",
       "    </tr>\n",
       "    <tr>\n",
       "      <th>6</th>\n",
       "      <td>recall</td>\n",
       "      <td>0.915905</td>\n",
       "    </tr>\n",
       "    <tr>\n",
       "      <th>7</th>\n",
       "      <td>precision</td>\n",
       "      <td>0.872822</td>\n",
       "    </tr>\n",
       "    <tr>\n",
       "      <th>8</th>\n",
       "      <td>f1_score</td>\n",
       "      <td>0.893845</td>\n",
       "    </tr>\n",
       "  </tbody>\n",
       "</table>\n",
       "</div>"
      ],
      "text/plain": [
       "                    0  \\\n",
       "0               model   \n",
       "1  optimal Parameters   \n",
       "2     cross_val_score   \n",
       "3         train_score   \n",
       "4          test_score   \n",
       "5           auc_score   \n",
       "6              recall   \n",
       "7           precision   \n",
       "8            f1_score   \n",
       "\n",
       "                                                                                                                                                                                                                                                        1  \n",
       "0                                                                                                                                                                                                                [('vec', None), ('nb', MultinomialNB())]  \n",
       "1  {'vec': TfidfVectorizer(max_df=0.9, max_features=5000, min_df=2, ngram_range=(1, 2),\n",
       "                stop_words='english'), 'vec__max_df': 0.9, 'vec__max_features': 5000, 'vec__min_df': 2, 'vec__ngram_range': (1, 2), 'vec__stop_words': 'english'}  \n",
       "2                                                                                                                                                                                                                                                0.898828  \n",
       "3                                                                                                                                                                                                                                                0.966406  \n",
       "4                                                                                                                                                                                                                                                0.891621  \n",
       "5                                                                                                                                                                                                                                                0.891709  \n",
       "6                                                                                                                                                                                                                                                0.915905  \n",
       "7                                                                                                                                                                                                                                                0.872822  \n",
       "8                                                                                                                                                                                                                                                0.893845  "
      ]
     },
     "metadata": {},
     "output_type": "display_data"
    },
    {
     "data": {
      "image/png": "[encoded data removed]",
      "text/plain": [
       "<Figure size 432x288 with 2 Axes>"
      ]
     },
     "metadata": {},
     "output_type": "display_data"
    },
    {
     "data": {
      "image/png": "[encoded data removed]",
      "text/plain": [
       "<Figure size 432x288 with 1 Axes>"
      ]
     },
     "metadata": {},
     "output_type": "display_data"
    }
   ],
   "source": [
    "model_eval(gs_vec_nb)"
   ]
  },
  {
   "cell_type": "markdown",
   "id": "e0148d45",
   "metadata": {},
   "source": [
    "- The model performs much better than our baseline score where it has higher accuracy in predicting the posts correctly.\n",
    "- The AUC score is 0.8917 and is close to 1. This means the model can distinguish between all the positive and the negative points correctly.\n",
    "- The recall and precision scores obtained are also high (~0.9). This shows the model returns more relevant results than irrelevant ones.\n",
    "- There is a slight overfit in model (train score: 0.9664, test score: 0.8916, ~ 7.7% difference) which is still acceptable. \n",
    "- We will try to see if tuning the alpha parameters can further improve the score."
   ]
  },
  {
   "cell_type": "code",
   "execution_count": 15,
   "id": "7104b572",
   "metadata": {
    "ExecuteTime": {
     "end_time": "2022-05-26T14:33:50.558240Z",
     "start_time": "2022-05-26T14:33:50.542616Z"
    }
   },
   "outputs": [],
   "source": [
    "# Search over the following values of hyperparameters:\n",
    "# Maximum number of features fit: 2000, 3000, 4000, 5000\n",
    "# Minimum number of documents needed to include token: 2, 3\n",
    "# Maximum number of documents needed to include token: 90%, 95%\n",
    "# Check (individual tokens), check (individual tokens and 2-grams)\n",
    "# No stop words and english stop words\n",
    "# Alpha: 0.1, 0.5, 1.0, 10.0\n",
    "\n",
    "pipe_params_vec_nb = {\n",
    "    'vec': [CountVectorizer(), TfidfVectorizer()],\n",
    "    'vec__stop_words': [None, 'english'],\n",
    "    'vec__ngram_range': [(1, 1), (1, 2)],\n",
    "    'vec__max_df': [.9, .95],\n",
    "    'vec__min_df': [2, 3],\n",
    "    'vec__max_features': [2_000, 3_000, 4_000, 5_000],\n",
    "    'nb__alpha': [0.1, 0.5, 1.0, 10.0]\n",
    "}"
   ]
  },
  {
   "cell_type": "code",
   "execution_count": 16,
   "id": "2337fdd8",
   "metadata": {
    "ExecuteTime": {
     "end_time": "2022-05-26T14:33:50.574079Z",
     "start_time": "2022-05-26T14:33:50.558240Z"
    }
   },
   "outputs": [],
   "source": [
    "# Instantiate GridSearchCV with 5-folds cross valiation\n",
    "gs_vec_nb1 = GridSearchCV(pipe_vec_nb,\n",
    "                          param_grid=pipe_params_vec_nb,\n",
    "                          cv=5,\n",
    "                          n_jobs=-1)"
   ]
  },
  {
   "cell_type": "code",
   "execution_count": 17,
   "id": "3bef7d2c",
   "metadata": {
    "ExecuteTime": {
     "end_time": "2022-05-26T14:35:33.492954Z",
     "start_time": "2022-05-26T14:33:50.576068Z"
    },
    "scrolled": true
   },
   "outputs": [
    {
     "data": {
      "text/html": [
       "<div>\n",
       "<style scoped>\n",
       "    .dataframe tbody tr th:only-of-type {\n",
       "        vertical-align: middle;\n",
       "    }\n",
       "\n",
       "    .dataframe tbody tr th {\n",
       "        vertical-align: top;\n",
       "    }\n",
       "\n",
       "    .dataframe thead th {\n",
       "        text-align: right;\n",
       "    }\n",
       "</style>\n",
       "<table border=\"1\" class=\"dataframe\">\n",
       "  <thead>\n",
       "    <tr style=\"text-align: right;\">\n",
       "      <th></th>\n",
       "      <th>0</th>\n",
       "      <th>1</th>\n",
       "    </tr>\n",
       "  </thead>\n",
       "  <tbody>\n",
       "    <tr>\n",
       "      <th>0</th>\n",
       "      <td>model</td>\n",
       "      <td>[('vec', None), ('nb', MultinomialNB())]</td>\n",
       "    </tr>\n",
       "    <tr>\n",
       "      <th>1</th>\n",
       "      <td>optimal Parameters</td>\n",
       "      <td>{'nb__alpha': 0.5, 'vec': TfidfVectorizer(max_df=0.9, max_features=4000, min_df=3, stop_words='english'), 'vec__max_df': 0.9, 'vec__max_features': 4000, 'vec__min_df': 3, 'vec__ngram_range': (1, 1), 'vec__stop_words': 'english'}</td>\n",
       "    </tr>\n",
       "    <tr>\n",
       "      <th>2</th>\n",
       "      <td>cross_val_score</td>\n",
       "      <td>0.901172</td>\n",
       "    </tr>\n",
       "    <tr>\n",
       "      <th>3</th>\n",
       "      <td>train_score</td>\n",
       "      <td>0.973437</td>\n",
       "    </tr>\n",
       "    <tr>\n",
       "      <th>4</th>\n",
       "      <td>test_score</td>\n",
       "      <td>0.893443</td>\n",
       "    </tr>\n",
       "    <tr>\n",
       "      <th>5</th>\n",
       "      <td>auc_score</td>\n",
       "      <td>0.893504</td>\n",
       "    </tr>\n",
       "    <tr>\n",
       "      <th>6</th>\n",
       "      <td>recall</td>\n",
       "      <td>0.91042</td>\n",
       "    </tr>\n",
       "    <tr>\n",
       "      <th>7</th>\n",
       "      <td>precision</td>\n",
       "      <td>0.879859</td>\n",
       "    </tr>\n",
       "    <tr>\n",
       "      <th>8</th>\n",
       "      <td>f1_score</td>\n",
       "      <td>0.894879</td>\n",
       "    </tr>\n",
       "  </tbody>\n",
       "</table>\n",
       "</div>"
      ],
      "text/plain": [
       "                    0  \\\n",
       "0               model   \n",
       "1  optimal Parameters   \n",
       "2     cross_val_score   \n",
       "3         train_score   \n",
       "4          test_score   \n",
       "5           auc_score   \n",
       "6              recall   \n",
       "7           precision   \n",
       "8            f1_score   \n",
       "\n",
       "                                                                                                                                                                                                                                      1  \n",
       "0                                                                                                                                                                                              [('vec', None), ('nb', MultinomialNB())]  \n",
       "1  {'nb__alpha': 0.5, 'vec': TfidfVectorizer(max_df=0.9, max_features=4000, min_df=3, stop_words='english'), 'vec__max_df': 0.9, 'vec__max_features': 4000, 'vec__min_df': 3, 'vec__ngram_range': (1, 1), 'vec__stop_words': 'english'}  \n",
       "2                                                                                                                                                                                                                              0.901172  \n",
       "3                                                                                                                                                                                                                              0.973437  \n",
       "4                                                                                                                                                                                                                              0.893443  \n",
       "5                                                                                                                                                                                                                              0.893504  \n",
       "6                                                                                                                                                                                                                               0.91042  \n",
       "7                                                                                                                                                                                                                              0.879859  \n",
       "8                                                                                                                                                                                                                              0.894879  "
      ]
     },
     "metadata": {},
     "output_type": "display_data"
    },
    {
     "data": {
      "image/png": "[encoded data removed]",
      "text/plain": [
       "<Figure size 432x288 with 2 Axes>"
      ]
     },
     "metadata": {},
     "output_type": "display_data"
    },
    {
     "data": {
      "image/png": "[encoded data removed]",
      "text/plain": [
       "<Figure size 432x288 with 1 Axes>"
      ]
     },
     "metadata": {},
     "output_type": "display_data"
    }
   ],
   "source": [
    "model_eval(gs_vec_nb1)"
   ]
  },
  {
   "cell_type": "markdown",
   "id": "dd91beac",
   "metadata": {},
   "source": [
    "- Slight improvement in the scores was observed after hyperparameter tuning. This is a better model as compared to the earlier model.\n",
    "- For both models, TfidfVectorizer is a better vectorizer. This is because it not only focuses on the frequency of words present but also on the importance of the words which helps in reducing the model complexity.\n",
    "\n",
    "\n",
    "|MultiNomial NB|Optimal Parameter|Train score|Test score|AUC score|Recall score|Precision score|F1 Score\n",
    "|--|--|--|--|--|--|--|--|\n",
    "|1|{'vec': TfidfVectorizer(max_df=0.9, max_features=5000, min_df=2, ngram_range=(1, 2), stop_words='english')}|0.9664|0.8916|0.8917|0.9159|0.8728|0.8938\n",
    "|2|{'nb__alpha': 0.5, 'vec': TfidfVectorizer(max_df=0.9, max_features=4000, min_df=3, stop_words='english')}|0.9734|0.8934|0.8935|0.9104|0.8799|0.8949\n"
   ]
  },
  {
   "cell_type": "markdown",
   "id": "9c8a0d83",
   "metadata": {},
   "source": [
    "### 4.5 Logistic Regression"
   ]
  },
  {
   "cell_type": "markdown",
   "id": "6648ee97",
   "metadata": {},
   "source": [
    "Logistic Regression is another common binary classification algorithm where it uses the weighted combination of the input features and passes them through a sigmoid function. Sigmoid function transforms any real number input, to a number between 0 and 1. For Logistics Regression, it is also a simple algorithm but it does not assume the features are independent and it is not as fast as Naive Bayes as it iterates over the data until it converges."
   ]
  },
  {
   "cell_type": "code",
   "execution_count": 18,
   "id": "3b81d507",
   "metadata": {
    "ExecuteTime": {
     "end_time": "2022-05-26T14:35:33.511293Z",
     "start_time": "2022-05-26T14:35:33.493253Z"
    }
   },
   "outputs": [],
   "source": [
    "# Set up a pipeline up with two stages:\n",
    "# 1. Vectorizer (transformer)\n",
    "# 2. Logistic Regression (estimator)\n",
    "\n",
    "pipe_vec_lr = Pipeline([\n",
    "    ('vec', None),\n",
    "    ('lr', LogisticRegression(solver='liblinear'))\n",
    "])"
   ]
  },
  {
   "cell_type": "code",
   "execution_count": 19,
   "id": "096ac871",
   "metadata": {
    "ExecuteTime": {
     "end_time": "2022-05-26T14:35:33.527294Z",
     "start_time": "2022-05-26T14:35:33.513292Z"
    }
   },
   "outputs": [],
   "source": [
    "# Instantiate GridSearchCV with 5-folds cross valiation\n",
    "gs_vec_lr = GridSearchCV(pipe_vec_lr,\n",
    "                         param_grid=pipe_params_vec,\n",
    "                         cv=5,\n",
    "                         n_jobs=-1)"
   ]
  },
  {
   "cell_type": "code",
   "execution_count": 20,
   "id": "678551fe",
   "metadata": {
    "ExecuteTime": {
     "end_time": "2022-05-26T14:36:02.046129Z",
     "start_time": "2022-05-26T14:35:33.528436Z"
    },
    "run_control": {
     "marked": false
    }
   },
   "outputs": [
    {
     "data": {
      "text/html": [
       "<div>\n",
       "<style scoped>\n",
       "    .dataframe tbody tr th:only-of-type {\n",
       "        vertical-align: middle;\n",
       "    }\n",
       "\n",
       "    .dataframe tbody tr th {\n",
       "        vertical-align: top;\n",
       "    }\n",
       "\n",
       "    .dataframe thead th {\n",
       "        text-align: right;\n",
       "    }\n",
       "</style>\n",
       "<table border=\"1\" class=\"dataframe\">\n",
       "  <thead>\n",
       "    <tr style=\"text-align: right;\">\n",
       "      <th></th>\n",
       "      <th>0</th>\n",
       "      <th>1</th>\n",
       "    </tr>\n",
       "  </thead>\n",
       "  <tbody>\n",
       "    <tr>\n",
       "      <th>0</th>\n",
       "      <td>model</td>\n",
       "      <td>[('vec', None), ('lr', LogisticRegression(solver='liblinear'))]</td>\n",
       "    </tr>\n",
       "    <tr>\n",
       "      <th>1</th>\n",
       "      <td>optimal Parameters</td>\n",
       "      <td>{'vec': TfidfVectorizer(max_df=0.9, max_features=4000, min_df=2, ngram_range=(1, 2)), 'vec__max_df': 0.9, 'vec__max_features': 4000, 'vec__min_df': 2, 'vec__ngram_range': (1, 2), 'vec__stop_words': None}</td>\n",
       "    </tr>\n",
       "    <tr>\n",
       "      <th>2</th>\n",
       "      <td>cross_val_score</td>\n",
       "      <td>0.894531</td>\n",
       "    </tr>\n",
       "    <tr>\n",
       "      <th>3</th>\n",
       "      <td>train_score</td>\n",
       "      <td>0.974609</td>\n",
       "    </tr>\n",
       "    <tr>\n",
       "      <th>4</th>\n",
       "      <td>test_score</td>\n",
       "      <td>0.883424</td>\n",
       "    </tr>\n",
       "    <tr>\n",
       "      <th>5</th>\n",
       "      <td>auc_score</td>\n",
       "      <td>0.883337</td>\n",
       "    </tr>\n",
       "    <tr>\n",
       "      <th>6</th>\n",
       "      <td>recall</td>\n",
       "      <td>0.859232</td>\n",
       "    </tr>\n",
       "    <tr>\n",
       "      <th>7</th>\n",
       "      <td>precision</td>\n",
       "      <td>0.902111</td>\n",
       "    </tr>\n",
       "    <tr>\n",
       "      <th>8</th>\n",
       "      <td>f1_score</td>\n",
       "      <td>0.88015</td>\n",
       "    </tr>\n",
       "  </tbody>\n",
       "</table>\n",
       "</div>"
      ],
      "text/plain": [
       "                    0  \\\n",
       "0               model   \n",
       "1  optimal Parameters   \n",
       "2     cross_val_score   \n",
       "3         train_score   \n",
       "4          test_score   \n",
       "5           auc_score   \n",
       "6              recall   \n",
       "7           precision   \n",
       "8            f1_score   \n",
       "\n",
       "                                                                                                                                                                                                             1  \n",
       "0                                                                                                                                              [('vec', None), ('lr', LogisticRegression(solver='liblinear'))]  \n",
       "1  {'vec': TfidfVectorizer(max_df=0.9, max_features=4000, min_df=2, ngram_range=(1, 2)), 'vec__max_df': 0.9, 'vec__max_features': 4000, 'vec__min_df': 2, 'vec__ngram_range': (1, 2), 'vec__stop_words': None}  \n",
       "2                                                                                                                                                                                                     0.894531  \n",
       "3                                                                                                                                                                                                     0.974609  \n",
       "4                                                                                                                                                                                                     0.883424  \n",
       "5                                                                                                                                                                                                     0.883337  \n",
       "6                                                                                                                                                                                                     0.859232  \n",
       "7                                                                                                                                                                                                     0.902111  \n",
       "8                                                                                                                                                                                                      0.88015  "
      ]
     },
     "metadata": {},
     "output_type": "display_data"
    },
    {
     "data": {
      "image/png": "[encoded data removed]",
      "text/plain": [
       "<Figure size 432x288 with 2 Axes>"
      ]
     },
     "metadata": {},
     "output_type": "display_data"
    },
    {
     "data": {
      "image/png": "[encoded data removed]",
      "text/plain": [
       "<Figure size 432x288 with 1 Axes>"
      ]
     },
     "metadata": {},
     "output_type": "display_data"
    }
   ],
   "source": [
    "model_eval(gs_vec_lr)"
   ]
  },
  {
   "cell_type": "markdown",
   "id": "66294e1b",
   "metadata": {},
   "source": [
    "- Logistic Regression also has slight overfitting in model (train score: 0.9746, test score: 0.8834, ~ 9.5% difference). The overfitting is slightly more significant as compared to the Multinomial Naive Bayes model.\n",
    "\n",
    "- Other than the overfitting, the modal performance is not as good as Multinomial Naive Bayes as the AUC and F1 scores are slightly lower.\n",
    "\n",
    "- We will try to see if tuning the regularization parameters to see if we can reduce the overfitting and improve the score.\n"
   ]
  },
  {
   "cell_type": "code",
   "execution_count": 21,
   "id": "22201fd3",
   "metadata": {
    "ExecuteTime": {
     "end_time": "2022-05-26T14:36:02.071400Z",
     "start_time": "2022-05-26T14:36:02.046129Z"
    }
   },
   "outputs": [],
   "source": [
    "# Search over the following values of hyperparameters:\n",
    "# Maximum number of features fit: 2000, 3000, 4000, 5000\n",
    "# Minimum number of documents needed to include token: 2, 3\n",
    "# Maximum number of documents needed to include token: 90%, 95%\n",
    "# Check (individual tokens), check (individual tokens and 2-grams)\n",
    "# No stop words and english stop words\n",
    "# Regularization (penalty)\n",
    "\n",
    "pipe_params_vec_lr = {\n",
    "    'vec': [CountVectorizer(), TfidfVectorizer()],\n",
    "    'vec__stop_words': [None, 'english'],\n",
    "    'vec__ngram_range': [(1, 1), (1, 2)],\n",
    "    'vec__max_df': [.9, .95],\n",
    "    'vec__min_df': [2, 3],\n",
    "    'vec__max_features': [2_000, 3_000, 4_000, 5_000],\n",
    "    'lr__penalty': ['l1','l2']\n",
    "}"
   ]
  },
  {
   "cell_type": "code",
   "execution_count": 22,
   "id": "17c2f613",
   "metadata": {
    "ExecuteTime": {
     "end_time": "2022-05-26T14:36:02.087026Z",
     "start_time": "2022-05-26T14:36:02.071400Z"
    }
   },
   "outputs": [],
   "source": [
    "# Instantiate GridSearchCV with 5-folds cross valiation\n",
    "gs_vec_lr1 = GridSearchCV(pipe_vec_lr,\n",
    "                          param_grid=pipe_params_vec_lr,\n",
    "                          cv=5, \n",
    "                          n_jobs=-1) "
   ]
  },
  {
   "cell_type": "code",
   "execution_count": 23,
   "id": "922ba2a4",
   "metadata": {
    "ExecuteTime": {
     "end_time": "2022-05-26T14:36:56.568119Z",
     "start_time": "2022-05-26T14:36:02.087026Z"
    },
    "scrolled": true
   },
   "outputs": [
    {
     "data": {
      "text/html": [
       "<div>\n",
       "<style scoped>\n",
       "    .dataframe tbody tr th:only-of-type {\n",
       "        vertical-align: middle;\n",
       "    }\n",
       "\n",
       "    .dataframe tbody tr th {\n",
       "        vertical-align: top;\n",
       "    }\n",
       "\n",
       "    .dataframe thead th {\n",
       "        text-align: right;\n",
       "    }\n",
       "</style>\n",
       "<table border=\"1\" class=\"dataframe\">\n",
       "  <thead>\n",
       "    <tr style=\"text-align: right;\">\n",
       "      <th></th>\n",
       "      <th>0</th>\n",
       "      <th>1</th>\n",
       "    </tr>\n",
       "  </thead>\n",
       "  <tbody>\n",
       "    <tr>\n",
       "      <th>0</th>\n",
       "      <td>model</td>\n",
       "      <td>[('vec', None), ('lr', LogisticRegression(solver='liblinear'))]</td>\n",
       "    </tr>\n",
       "    <tr>\n",
       "      <th>1</th>\n",
       "      <td>optimal Parameters</td>\n",
       "      <td>{'lr__penalty': 'l2', 'vec': TfidfVectorizer(max_df=0.9, max_features=4000, min_df=2, ngram_range=(1, 2)), 'vec__max_df': 0.9, 'vec__max_features': 4000, 'vec__min_df': 2, 'vec__ngram_range': (1, 2), 'vec__stop_words': None}</td>\n",
       "    </tr>\n",
       "    <tr>\n",
       "      <th>2</th>\n",
       "      <td>cross_val_score</td>\n",
       "      <td>0.894531</td>\n",
       "    </tr>\n",
       "    <tr>\n",
       "      <th>3</th>\n",
       "      <td>train_score</td>\n",
       "      <td>0.974609</td>\n",
       "    </tr>\n",
       "    <tr>\n",
       "      <th>4</th>\n",
       "      <td>test_score</td>\n",
       "      <td>0.883424</td>\n",
       "    </tr>\n",
       "    <tr>\n",
       "      <th>5</th>\n",
       "      <td>auc_score</td>\n",
       "      <td>0.883337</td>\n",
       "    </tr>\n",
       "    <tr>\n",
       "      <th>6</th>\n",
       "      <td>recall</td>\n",
       "      <td>0.859232</td>\n",
       "    </tr>\n",
       "    <tr>\n",
       "      <th>7</th>\n",
       "      <td>precision</td>\n",
       "      <td>0.902111</td>\n",
       "    </tr>\n",
       "    <tr>\n",
       "      <th>8</th>\n",
       "      <td>f1_score</td>\n",
       "      <td>0.88015</td>\n",
       "    </tr>\n",
       "  </tbody>\n",
       "</table>\n",
       "</div>"
      ],
      "text/plain": [
       "                    0  \\\n",
       "0               model   \n",
       "1  optimal Parameters   \n",
       "2     cross_val_score   \n",
       "3         train_score   \n",
       "4          test_score   \n",
       "5           auc_score   \n",
       "6              recall   \n",
       "7           precision   \n",
       "8            f1_score   \n",
       "\n",
       "                                                                                                                                                                                                                                  1  \n",
       "0                                                                                                                                                                   [('vec', None), ('lr', LogisticRegression(solver='liblinear'))]  \n",
       "1  {'lr__penalty': 'l2', 'vec': TfidfVectorizer(max_df=0.9, max_features=4000, min_df=2, ngram_range=(1, 2)), 'vec__max_df': 0.9, 'vec__max_features': 4000, 'vec__min_df': 2, 'vec__ngram_range': (1, 2), 'vec__stop_words': None}  \n",
       "2                                                                                                                                                                                                                          0.894531  \n",
       "3                                                                                                                                                                                                                          0.974609  \n",
       "4                                                                                                                                                                                                                          0.883424  \n",
       "5                                                                                                                                                                                                                          0.883337  \n",
       "6                                                                                                                                                                                                                          0.859232  \n",
       "7                                                                                                                                                                                                                          0.902111  \n",
       "8                                                                                                                                                                                                                           0.88015  "
      ]
     },
     "metadata": {},
     "output_type": "display_data"
    },
    {
     "data": {
      "image/png": "[encoded data removed]",
      "text/plain": [
       "<Figure size 432x288 with 2 Axes>"
      ]
     },
     "metadata": {},
     "output_type": "display_data"
    },
    {
     "data": {
      "image/png": "[encoded data removed]",
      "text/plain": [
       "<Figure size 432x288 with 1 Axes>"
      ]
     },
     "metadata": {},
     "output_type": "display_data"
    }
   ],
   "source": [
    "model_eval(gs_vec_lr1)"
   ]
  },
  {
   "cell_type": "markdown",
   "id": "13cd1010",
   "metadata": {},
   "source": [
    "- No significant reduction in overfitting. The scores are comparable.\n",
    "\n",
    "- Similar to Multinomial Naive Bayes, TfidfVectorizer is observed to be a better vectorizer.\n",
    "\n",
    "- Since the overfitting is slightly more significant for Logistic Regression, Multinomial Naive Bayes performs slightly better than Logistics Regression.\n",
    "\n",
    "\n",
    "\n",
    "|Logistics Regression|Optimal Parameter|Train score|Test score|AUC score|Recall score|Precision score|F1 Score\n",
    "|--|--|--|--|--|--|--|--|\n",
    "|1|{'vec': TfidfVectorizer(max_df=0.9, max_features=4000, min_df=2, ngram_range=(1, 2))}|0.9746|0.8834|0.8833|0.8592|0.9021|0.8801\n",
    "|2|{'lr__penalty': 'l2', 'vec': TfidfVectorizer(max_df=0.9, max_features=4000, min_df=2, ngram_range=(1, 2))}|0.9746|0.8834|0.8833|0.8592|0.9021|0.8801\n"
   ]
  },
  {
   "cell_type": "markdown",
   "id": "a84444c7",
   "metadata": {},
   "source": [
    "### 4.6 k-Nearest Neighbours"
   ]
  },
  {
   "cell_type": "markdown",
   "id": "76d0727e",
   "metadata": {},
   "source": [
    "The k-Nearest neighbor (kNN) algorithm is a supervised machine learning algorithm used for classification and regression. For the context of text classification, the object is classified based on the vote among the k nearest neighbors."
   ]
  },
  {
   "cell_type": "code",
   "execution_count": 24,
   "id": "7555dc58",
   "metadata": {
    "ExecuteTime": {
     "end_time": "2022-05-26T14:36:56.588416Z",
     "start_time": "2022-05-26T14:36:56.570741Z"
    }
   },
   "outputs": [],
   "source": [
    "# Set up a pipeline up with two stages:\n",
    "# 1. Vectorizer (transformer)\n",
    "# 2. KNN (estimator)\n",
    "\n",
    "pipe_vec_knn = Pipeline([\n",
    "    ('vec', None),\n",
    "    ('knn', KNeighborsClassifier(n_neighbors=5))\n",
    "])"
   ]
  },
  {
   "cell_type": "code",
   "execution_count": 25,
   "id": "3da0a80a",
   "metadata": {
    "ExecuteTime": {
     "end_time": "2022-05-26T14:36:56.604051Z",
     "start_time": "2022-05-26T14:36:56.588416Z"
    }
   },
   "outputs": [],
   "source": [
    "# Instantiate GridSearchCV with 5-folds cross valiation\n",
    "gs_vec_knn = GridSearchCV(pipe_vec_knn,\n",
    "                          param_grid=pipe_params_vec,\n",
    "                          cv=5,\n",
    "                          n_jobs=-1) "
   ]
  },
  {
   "cell_type": "code",
   "execution_count": 26,
   "id": "29052412",
   "metadata": {
    "ExecuteTime": {
     "end_time": "2022-05-26T14:37:29.162100Z",
     "start_time": "2022-05-26T14:36:56.604051Z"
    },
    "run_control": {
     "marked": false
    },
    "scrolled": true
   },
   "outputs": [
    {
     "data": {
      "text/html": [
       "<div>\n",
       "<style scoped>\n",
       "    .dataframe tbody tr th:only-of-type {\n",
       "        vertical-align: middle;\n",
       "    }\n",
       "\n",
       "    .dataframe tbody tr th {\n",
       "        vertical-align: top;\n",
       "    }\n",
       "\n",
       "    .dataframe thead th {\n",
       "        text-align: right;\n",
       "    }\n",
       "</style>\n",
       "<table border=\"1\" class=\"dataframe\">\n",
       "  <thead>\n",
       "    <tr style=\"text-align: right;\">\n",
       "      <th></th>\n",
       "      <th>0</th>\n",
       "      <th>1</th>\n",
       "    </tr>\n",
       "  </thead>\n",
       "  <tbody>\n",
       "    <tr>\n",
       "      <th>0</th>\n",
       "      <td>model</td>\n",
       "      <td>[('vec', None), ('knn', KNeighborsClassifier())]</td>\n",
       "    </tr>\n",
       "    <tr>\n",
       "      <th>1</th>\n",
       "      <td>optimal Parameters</td>\n",
       "      <td>{'vec': CountVectorizer(max_df=0.9, max_features=2000, min_df=3, stop_words='english'), 'vec__max_df': 0.9, 'vec__max_features': 2000, 'vec__min_df': 3, 'vec__ngram_range': (1, 1), 'vec__stop_words': 'english'}</td>\n",
       "    </tr>\n",
       "    <tr>\n",
       "      <th>2</th>\n",
       "      <td>cross_val_score</td>\n",
       "      <td>0.628906</td>\n",
       "    </tr>\n",
       "    <tr>\n",
       "      <th>3</th>\n",
       "      <td>train_score</td>\n",
       "      <td>0.698828</td>\n",
       "    </tr>\n",
       "    <tr>\n",
       "      <th>4</th>\n",
       "      <td>test_score</td>\n",
       "      <td>0.637523</td>\n",
       "    </tr>\n",
       "    <tr>\n",
       "      <th>5</th>\n",
       "      <td>auc_score</td>\n",
       "      <td>0.636357</td>\n",
       "    </tr>\n",
       "    <tr>\n",
       "      <th>6</th>\n",
       "      <td>recall</td>\n",
       "      <td>0.316271</td>\n",
       "    </tr>\n",
       "    <tr>\n",
       "      <th>7</th>\n",
       "      <td>precision</td>\n",
       "      <td>0.878173</td>\n",
       "    </tr>\n",
       "    <tr>\n",
       "      <th>8</th>\n",
       "      <td>f1_score</td>\n",
       "      <td>0.465054</td>\n",
       "    </tr>\n",
       "  </tbody>\n",
       "</table>\n",
       "</div>"
      ],
      "text/plain": [
       "                    0  \\\n",
       "0               model   \n",
       "1  optimal Parameters   \n",
       "2     cross_val_score   \n",
       "3         train_score   \n",
       "4          test_score   \n",
       "5           auc_score   \n",
       "6              recall   \n",
       "7           precision   \n",
       "8            f1_score   \n",
       "\n",
       "                                                                                                                                                                                                                    1  \n",
       "0                                                                                                                                                                    [('vec', None), ('knn', KNeighborsClassifier())]  \n",
       "1  {'vec': CountVectorizer(max_df=0.9, max_features=2000, min_df=3, stop_words='english'), 'vec__max_df': 0.9, 'vec__max_features': 2000, 'vec__min_df': 3, 'vec__ngram_range': (1, 1), 'vec__stop_words': 'english'}  \n",
       "2                                                                                                                                                                                                            0.628906  \n",
       "3                                                                                                                                                                                                            0.698828  \n",
       "4                                                                                                                                                                                                            0.637523  \n",
       "5                                                                                                                                                                                                            0.636357  \n",
       "6                                                                                                                                                                                                            0.316271  \n",
       "7                                                                                                                                                                                                            0.878173  \n",
       "8                                                                                                                                                                                                            0.465054  "
      ]
     },
     "metadata": {},
     "output_type": "display_data"
    },
    {
     "data": {
      "image/png": "[encoded data removed]",
      "text/plain": [
       "<Figure size 432x288 with 2 Axes>"
      ]
     },
     "metadata": {},
     "output_type": "display_data"
    },
    {
     "data": {
      "image/png": "[encoded data removed]",
      "text/plain": [
       "<Figure size 432x288 with 1 Axes>"
      ]
     },
     "metadata": {},
     "output_type": "display_data"
    }
   ],
   "source": [
    "model_eval(gs_vec_knn)"
   ]
  },
  {
   "cell_type": "markdown",
   "id": "f0f4ea74",
   "metadata": {},
   "source": [
    "- The scores obtained for KNN are relatively low as compared to Multinomial Naive Bayes and Logistics Regression. The ROC AUC score is low (0.63) where the positive and negative points overlap. This shows that the model is not good at classifying text. \n",
    "\n",
    "- Although the model does a relatively good job in predicting the true positive, it has a high number of false negatives.\n",
    "\n",
    "- Let's see if we can improve the model by hyperparameters tuning.\n"
   ]
  },
  {
   "cell_type": "code",
   "execution_count": 27,
   "id": "11e3875c",
   "metadata": {
    "ExecuteTime": {
     "end_time": "2022-05-26T14:37:29.192269Z",
     "start_time": "2022-05-26T14:37:29.162100Z"
    }
   },
   "outputs": [],
   "source": [
    "# Search over the following values of hyperparameters:\n",
    "# Maximum number of features fit: 2000, 3000, 4000, 5000\n",
    "# Minimum number of documents needed to include token: 2, 3\n",
    "# Maximum number of documents needed to include token: 90%, 95%\n",
    "# Check (individual tokens), check (individual tokens and 2-grams)\n",
    "# No stop words and english stop words\n",
    "# n_neighbors: 1, 3, 5, 7, 9\n",
    "# weights: 'uniform', 'distance'\n",
    "\n",
    "pipe_params_vec_knn = {\n",
    "    'vec': [CountVectorizer(), TfidfVectorizer()],\n",
    "    'vec__stop_words': [None, 'english'],\n",
    "    'vec__ngram_range': [(1, 1), (1, 2)],\n",
    "    'vec__max_df': [.9, .95],\n",
    "    'vec__min_df': [2, 3],\n",
    "    'vec__max_features': [2_000, 3_000, 4_000, 5_000],\n",
    "    'knn__n_neighbors':  [5, 10, 15, 20],\n",
    "    'knn__weights' : ['uniform', 'distance']\n",
    "}"
   ]
  },
  {
   "cell_type": "code",
   "execution_count": 28,
   "id": "ab101076",
   "metadata": {
    "ExecuteTime": {
     "end_time": "2022-05-26T14:37:29.219346Z",
     "start_time": "2022-05-26T14:37:29.192269Z"
    }
   },
   "outputs": [],
   "source": [
    "# Instantiate GridSearchCV with 5-folds cross valiation\n",
    "gs_vec_knn1 = GridSearchCV(pipe_vec_knn,\n",
    "                          param_grid=pipe_params_vec_knn,\n",
    "                          cv=5,\n",
    "                          n_jobs=-1)"
   ]
  },
  {
   "cell_type": "code",
   "execution_count": 29,
   "id": "7cf2bd24",
   "metadata": {
    "ExecuteTime": {
     "end_time": "2022-05-26T14:41:39.158494Z",
     "start_time": "2022-05-26T14:37:29.219346Z"
    },
    "scrolled": true
   },
   "outputs": [
    {
     "data": {
      "text/html": [
       "<div>\n",
       "<style scoped>\n",
       "    .dataframe tbody tr th:only-of-type {\n",
       "        vertical-align: middle;\n",
       "    }\n",
       "\n",
       "    .dataframe tbody tr th {\n",
       "        vertical-align: top;\n",
       "    }\n",
       "\n",
       "    .dataframe thead th {\n",
       "        text-align: right;\n",
       "    }\n",
       "</style>\n",
       "<table border=\"1\" class=\"dataframe\">\n",
       "  <thead>\n",
       "    <tr style=\"text-align: right;\">\n",
       "      <th></th>\n",
       "      <th>0</th>\n",
       "      <th>1</th>\n",
       "    </tr>\n",
       "  </thead>\n",
       "  <tbody>\n",
       "    <tr>\n",
       "      <th>0</th>\n",
       "      <td>model</td>\n",
       "      <td>[('vec', None), ('knn', KNeighborsClassifier())]</td>\n",
       "    </tr>\n",
       "    <tr>\n",
       "      <th>1</th>\n",
       "      <td>optimal Parameters</td>\n",
       "      <td>{'knn__n_neighbors': 20, 'knn__weights': 'uniform', 'vec': TfidfVectorizer(max_df=0.9, max_features=5000, min_df=2), 'vec__max_df': 0.9, 'vec__max_features': 5000, 'vec__min_df': 2, 'vec__ngram_range': (1, 1), 'vec__stop_words': None}</td>\n",
       "    </tr>\n",
       "    <tr>\n",
       "      <th>2</th>\n",
       "      <td>cross_val_score</td>\n",
       "      <td>0.705859</td>\n",
       "    </tr>\n",
       "    <tr>\n",
       "      <th>3</th>\n",
       "      <td>train_score</td>\n",
       "      <td>0.616797</td>\n",
       "    </tr>\n",
       "    <tr>\n",
       "      <th>4</th>\n",
       "      <td>test_score</td>\n",
       "      <td>0.612933</td>\n",
       "    </tr>\n",
       "    <tr>\n",
       "      <th>5</th>\n",
       "      <td>auc_score</td>\n",
       "      <td>0.611531</td>\n",
       "    </tr>\n",
       "    <tr>\n",
       "      <th>6</th>\n",
       "      <td>recall</td>\n",
       "      <td>0.226691</td>\n",
       "    </tr>\n",
       "    <tr>\n",
       "      <th>7</th>\n",
       "      <td>precision</td>\n",
       "      <td>0.984127</td>\n",
       "    </tr>\n",
       "    <tr>\n",
       "      <th>8</th>\n",
       "      <td>f1_score</td>\n",
       "      <td>0.368499</td>\n",
       "    </tr>\n",
       "  </tbody>\n",
       "</table>\n",
       "</div>"
      ],
      "text/plain": [
       "                    0  \\\n",
       "0               model   \n",
       "1  optimal Parameters   \n",
       "2     cross_val_score   \n",
       "3         train_score   \n",
       "4          test_score   \n",
       "5           auc_score   \n",
       "6              recall   \n",
       "7           precision   \n",
       "8            f1_score   \n",
       "\n",
       "                                                                                                                                                                                                                                            1  \n",
       "0                                                                                                                                                                                            [('vec', None), ('knn', KNeighborsClassifier())]  \n",
       "1  {'knn__n_neighbors': 20, 'knn__weights': 'uniform', 'vec': TfidfVectorizer(max_df=0.9, max_features=5000, min_df=2), 'vec__max_df': 0.9, 'vec__max_features': 5000, 'vec__min_df': 2, 'vec__ngram_range': (1, 1), 'vec__stop_words': None}  \n",
       "2                                                                                                                                                                                                                                    0.705859  \n",
       "3                                                                                                                                                                                                                                    0.616797  \n",
       "4                                                                                                                                                                                                                                    0.612933  \n",
       "5                                                                                                                                                                                                                                    0.611531  \n",
       "6                                                                                                                                                                                                                                    0.226691  \n",
       "7                                                                                                                                                                                                                                    0.984127  \n",
       "8                                                                                                                                                                                                                                    0.368499  "
      ]
     },
     "metadata": {},
     "output_type": "display_data"
    },
    {
     "data": {
      "image/png": "[encoded data removed]",
      "text/plain": [
       "<Figure size 432x288 with 2 Axes>"
      ]
     },
     "metadata": {},
     "output_type": "display_data"
    },
    {
     "data": {
      "image/png": "[encoded data removed]",
      "text/plain": [
       "<Figure size 432x288 with 1 Axes>"
      ]
     },
     "metadata": {},
     "output_type": "display_data"
    }
   ],
   "source": [
    "model_eval(gs_vec_knn1)"
   ]
  },
  {
   "cell_type": "markdown",
   "id": "cb8a86ab",
   "metadata": {},
   "source": [
    "- The train score did not improve although the precision score has increased to 0.9841. However, the recall decreased to 0.2267. The AUC score has decreased to 0.6115. We conclude that KNN is not suitable to classify texts.\n",
    "\n",
    "\n",
    "|K-Nearest Neighbors|Optimal Parameter|Train score|Test score|AUC score|Recall score|Precision score|F1 Score\n",
    "|--|--|--|--|--|--|--|--|\n",
    "|1|{'vec': CountVectorizer(max_df=0.9, max_features=2000, min_df=3, stop_words='english')}|0.6988|0.6375|0.6364|0.3163|0.8782|0.4651\n",
    "|2|{'knn__n_neighbors': 20, 'knn__weights': 'uniform', 'vec': TfidfVectorizer(max_df=0.9, max_features=5000, min_df=2)}|0.6168|0.6129|0.6115|0.2267|0.9841|0.3685\n"
   ]
  },
  {
   "cell_type": "markdown",
   "id": "182c8d77",
   "metadata": {},
   "source": [
    "**Model Comparison Summary:**\n",
    "\n",
    "- The model evaluation score is summarized in the table below:\n",
    "\n",
    "|Model|Optimal Parameter|Train score|Test score|AUC score|Recall score|Precision score|F1 Score\n",
    "|--|--|--|--|--|--|--|--|\n",
    "|Multinomial Naive Bayes 1|vec': TfidfVectorizer(max_df=0.9, max_features=5000, min_df=2, ngram_range=(1, 2), stop_words='english')|0.9664|0.8916|0.8917|0.9159|0.8728|0.8939\n",
    "|<span class=\"burk\">Multinomial Naive Bayes 2|{'nb__alpha': 0.5, 'vec': TfidfVectorizer(max_df=0.9, max_features=4000, min_df=3, stop_words='english')}|0.9734|0.8934|0.8935|0.9104|0.8799|0.8949</span>\n",
    "|Logistic Regression 1|{'vec': TfidfVectorizer(max_df=0.9, max_features=4000, min_df=2, ngram_range=(1, 2))}|0.9746|0.8834|0.8833|0.8592|0.9021|0.8801\n",
    "|Logistic Regression 2|{'lr__penalty': 'l2', 'vec': TfidfVectorizer(max_df=0.9, max_features=4000, min_df=2, ngram_range=(1, 2))}|0.9746|0.8834|0.8833|0.8592|0.9021|0.8801\n",
    "|K-Nearest Neighbors 1|{'vec': CountVectorizer(max_df=0.9, max_features=2000, min_df=3, stop_words='english')}|0.6988|0.6375|0.6364|0.3163|0.8782|0.4651\n",
    "|K-Nearest Neighbors 2|{'knn__n_neighbors': 20, 'knn__weights': 'uniform', 'vec': TfidfVectorizer(max_df=0.9, max_features=5000, min_df=2)}|0.6168|0.6129|0.6115|0.2267|0.9841|0.3685\n",
    "\n",
    "\n",
    "- The Multinomial Naive Bayes 2 has the best result given that the model is a simple classification algorithm based on the Bayes Theorem which assumes that every word in a sentence is independent of the other ones.\n",
    "\n",
    "- KNN has the worst performance. KNN model works by finding its nearest neighbor for the words in the posts. As the vocabulary of the words may not be large enough, the model may have its limitation to perform the search effectively.\n"
   ]
  },
  {
   "cell_type": "code",
   "execution_count": 30,
   "id": "db06f095",
   "metadata": {
    "ExecuteTime": {
     "end_time": "2022-05-26T14:41:39.410208Z",
     "start_time": "2022-05-26T14:41:39.160544Z"
    }
   },
   "outputs": [
    {
     "name": "stdout",
     "output_type": "stream",
     "text": [
      "The best model achieves an accuracy score of 0.8934\n",
      "Accuracy score: 0.893443\n",
      "ROC AUC score: 0.893504\n",
      "Precision score: 0.879859\n",
      "Recall score: 0.91042\n",
      "F1 score: 0.894879\n"
     ]
    }
   ],
   "source": [
    "# Re-fit the model with best estimator\n",
    "best_gs = gs_vec_nb1.best_estimator_\n",
    "best_gs.fit(X_train, y_train)\n",
    "\n",
    "# Make predictions using the new model\n",
    "best_test_predict = best_gs.predict(X_test)\n",
    "\n",
    "# Print result\n",
    "print('The best model achieves an accuracy score of', round(accuracy_score(y_test,best_test_predict), 4))\n",
    "print_data(y_test, best_test_predict)"
   ]
  },
  {
   "cell_type": "code",
   "execution_count": 31,
   "id": "6fc9bc2c",
   "metadata": {
    "ExecuteTime": {
     "end_time": "2022-05-26T14:41:39.528235Z",
     "start_time": "2022-05-26T14:41:39.412224Z"
    }
   },
   "outputs": [
    {
     "data": {
      "image/png": "[encoded data removed]",
      "text/plain": [
       "<Figure size 432x288 with 2 Axes>"
      ]
     },
     "metadata": {},
     "output_type": "display_data"
    }
   ],
   "source": [
    "plot_confusion_matrix(y_test, best_test_predict)"
   ]
  },
  {
   "cell_type": "markdown",
   "id": "eb9339ed",
   "metadata": {},
   "source": [
    "### 4.7 Misclassified posts"
   ]
  },
  {
   "cell_type": "markdown",
   "id": "d0d699b2",
   "metadata": {},
   "source": [
    "To analyze posts that are misclassified, we will retrieve the false positive and false negative posts and apply the TfidfVectorizer to retrieve the top 20 words from the misclassified posts.\n"
   ]
  },
  {
   "cell_type": "code",
   "execution_count": 32,
   "id": "944282a1",
   "metadata": {
    "ExecuteTime": {
     "end_time": "2022-05-26T14:41:39.554015Z",
     "start_time": "2022-05-26T14:41:39.530233Z"
    }
   },
   "outputs": [
    {
     "name": "stdout",
     "output_type": "stream",
     "text": [
      "<class 'pandas.core.frame.DataFrame'>\n",
      "Int64Index: 1098 entries, 2464 to 1447\n",
      "Data columns (total 2 columns):\n",
      " #   Column        Non-Null Count  Dtype \n",
      "---  ------        --------------  ----- \n",
      " 0   text_lem_sen  1098 non-null   object\n",
      " 1   predicted     1098 non-null   int64 \n",
      "dtypes: int64(1), object(1)\n",
      "memory usage: 25.7+ KB\n"
     ]
    }
   ],
   "source": [
    "# Create a new dataframe df_test to store the prediction data\n",
    "# Create a new column for the prediction data in our df_test\n",
    "df_test = X_test.to_frame()\n",
    "df_test['predicted'] = best_test_predict\n",
    "df_test.info()"
   ]
  },
  {
   "cell_type": "code",
   "execution_count": 33,
   "id": "a71c03ef",
   "metadata": {
    "ExecuteTime": {
     "end_time": "2022-05-26T14:41:39.570994Z",
     "start_time": "2022-05-26T14:41:39.555288Z"
    }
   },
   "outputs": [
    {
     "data": {
      "text/html": [
       "<div>\n",
       "<style scoped>\n",
       "    .dataframe tbody tr th:only-of-type {\n",
       "        vertical-align: middle;\n",
       "    }\n",
       "\n",
       "    .dataframe tbody tr th {\n",
       "        vertical-align: top;\n",
       "    }\n",
       "\n",
       "    .dataframe thead th {\n",
       "        text-align: right;\n",
       "    }\n",
       "</style>\n",
       "<table border=\"1\" class=\"dataframe\">\n",
       "  <thead>\n",
       "    <tr style=\"text-align: right;\">\n",
       "      <th></th>\n",
       "      <th>text_lem_sen</th>\n",
       "      <th>predicted</th>\n",
       "    </tr>\n",
       "  </thead>\n",
       "  <tbody>\n",
       "    <tr>\n",
       "      <th>2464</th>\n",
       "      <td>share funniest troll comp clashme planning tro...</td>\n",
       "      <td>1</td>\n",
       "    </tr>\n",
       "    <tr>\n",
       "      <th>1964</th>\n",
       "      <td>toxic communityi school project unity topic co...</td>\n",
       "      <td>1</td>\n",
       "    </tr>\n",
       "    <tr>\n",
       "      <th>2124</th>\n",
       "      <td>tried research demon lore sense demonic compen...</td>\n",
       "      <td>0</td>\n",
       "    </tr>\n",
       "    <tr>\n",
       "      <th>1336</th>\n",
       "      <td>macbook air i5hey macbook air i5 gb wonder pro...</td>\n",
       "      <td>0</td>\n",
       "    </tr>\n",
       "    <tr>\n",
       "      <th>224</th>\n",
       "      <td>damn nowi started break learn thing ton natura...</td>\n",
       "      <td>0</td>\n",
       "    </tr>\n",
       "  </tbody>\n",
       "</table>\n",
       "</div>"
      ],
      "text/plain": [
       "                                           text_lem_sen  predicted\n",
       "2464  share funniest troll comp clashme planning tro...          1\n",
       "1964  toxic communityi school project unity topic co...          1\n",
       "2124  tried research demon lore sense demonic compen...          0\n",
       "1336  macbook air i5hey macbook air i5 gb wonder pro...          0\n",
       "224   damn nowi started break learn thing ton natura...          0"
      ]
     },
     "execution_count": 33,
     "metadata": {},
     "output_type": "execute_result"
    }
   ],
   "source": [
    "df_test.head()"
   ]
  },
  {
   "cell_type": "code",
   "execution_count": 34,
   "id": "ea7f38f3",
   "metadata": {
    "ExecuteTime": {
     "end_time": "2022-05-26T14:41:39.597724Z",
     "start_time": "2022-05-26T14:41:39.572994Z"
    },
    "scrolled": true
   },
   "outputs": [
    {
     "data": {
      "text/html": [
       "<div>\n",
       "<style scoped>\n",
       "    .dataframe tbody tr th:only-of-type {\n",
       "        vertical-align: middle;\n",
       "    }\n",
       "\n",
       "    .dataframe tbody tr th {\n",
       "        vertical-align: top;\n",
       "    }\n",
       "\n",
       "    .dataframe thead th {\n",
       "        text-align: right;\n",
       "    }\n",
       "</style>\n",
       "<table border=\"1\" class=\"dataframe\">\n",
       "  <thead>\n",
       "    <tr style=\"text-align: right;\">\n",
       "      <th></th>\n",
       "      <th>text_lem_sen</th>\n",
       "      <th>predicted</th>\n",
       "      <th>subreddit</th>\n",
       "      <th>title</th>\n",
       "      <th>selftext</th>\n",
       "      <th>text</th>\n",
       "      <th>text_length</th>\n",
       "      <th>subreddit_int</th>\n",
       "      <th>cleaned_text</th>\n",
       "      <th>text_lem</th>\n",
       "      <th>text_stem</th>\n",
       "      <th>word_counts_lem</th>\n",
       "      <th>word_counts_stem</th>\n",
       "      <th>text_stem_sen</th>\n",
       "    </tr>\n",
       "  </thead>\n",
       "  <tbody>\n",
       "    <tr>\n",
       "      <th>0</th>\n",
       "      <td>share funniest troll comp clashme planning tro...</td>\n",
       "      <td>1</td>\n",
       "      <td>leagueoflegends</td>\n",
       "      <td>Share your funniest troll team comps for clash</td>\n",
       "      <td>Me and my team are planning to play clash with...</td>\n",
       "      <td>Share your funniest troll team comps for clash...</td>\n",
       "      <td>306</td>\n",
       "      <td>1</td>\n",
       "      <td>['share', 'funniest', 'troll', 'comps', 'clash...</td>\n",
       "      <td>['share', 'funniest', 'troll', 'comp', 'clashm...</td>\n",
       "      <td>['share', 'funniest', 'troll', 'comp', 'clashm...</td>\n",
       "      <td>24</td>\n",
       "      <td>24</td>\n",
       "      <td>share funniest troll comp clashm plan troll co...</td>\n",
       "    </tr>\n",
       "    <tr>\n",
       "      <th>1</th>\n",
       "      <td>toxic communityi school project unity topic co...</td>\n",
       "      <td>1</td>\n",
       "      <td>leagueoflegends</td>\n",
       "      <td>How to fix the toxic community.</td>\n",
       "      <td>I am doing a school project on unity and topic...</td>\n",
       "      <td>How to fix the toxic community.I am doing a sc...</td>\n",
       "      <td>271</td>\n",
       "      <td>1</td>\n",
       "      <td>['toxic', 'communityi', 'school', 'project', '...</td>\n",
       "      <td>['toxic', 'communityi', 'school', 'project', '...</td>\n",
       "      <td>['toxic', 'communityi', 'school', 'project', '...</td>\n",
       "      <td>17</td>\n",
       "      <td>17</td>\n",
       "      <td>toxic communityi school project uniti topic co...</td>\n",
       "    </tr>\n",
       "    <tr>\n",
       "      <th>2</th>\n",
       "      <td>tried research demon lore sense demonic compen...</td>\n",
       "      <td>0</td>\n",
       "      <td>leagueoflegends</td>\n",
       "      <td>I tried to research some Demon lore and make s...</td>\n",
       "      <td>I am a big fan of League Demonology (and a Fid...</td>\n",
       "      <td>I tried to research some Demon lore and make s...</td>\n",
       "      <td>427</td>\n",
       "      <td>1</td>\n",
       "      <td>['tried', 'research', 'demon', 'lore', 'sense'...</td>\n",
       "      <td>['tried', 'research', 'demon', 'lore', 'sense'...</td>\n",
       "      <td>['tri', 'research', 'demon', 'lore', 'sens', '...</td>\n",
       "      <td>24</td>\n",
       "      <td>24</td>\n",
       "      <td>tri research demon lore sens demon compendiumi...</td>\n",
       "    </tr>\n",
       "    <tr>\n",
       "      <th>3</th>\n",
       "      <td>macbook air i5hey macbook air i5 gb wonder pro...</td>\n",
       "      <td>0</td>\n",
       "      <td>DotA2</td>\n",
       "      <td>DotA2 on 2020 MacBook Air i5</td>\n",
       "      <td>Hey guys! I have macbook air 2020 i5 8gb and I...</td>\n",
       "      <td>DotA2 on 2020 MacBook Air i5Hey guys! I have m...</td>\n",
       "      <td>194</td>\n",
       "      <td>0</td>\n",
       "      <td>['macbook', 'air', 'i5hey', 'macbook', 'air', ...</td>\n",
       "      <td>['macbook', 'air', 'i5hey', 'macbook', 'air', ...</td>\n",
       "      <td>['macbook', 'air', 'i5hey', 'macbook', 'air', ...</td>\n",
       "      <td>13</td>\n",
       "      <td>13</td>\n",
       "      <td>macbook air i5hey macbook air i5 gb wonder pro...</td>\n",
       "    </tr>\n",
       "    <tr>\n",
       "      <th>4</th>\n",
       "      <td>damn nowi started break learn thing ton natura...</td>\n",
       "      <td>0</td>\n",
       "      <td>DotA2</td>\n",
       "      <td>How is everyone so damn good at this game now</td>\n",
       "      <td>I’ve just started playing more after pretty mu...</td>\n",
       "      <td>How is everyone so damn good at this game nowI...</td>\n",
       "      <td>1447</td>\n",
       "      <td>0</td>\n",
       "      <td>['damn', 'nowi', 'started', 'break', 'learn', ...</td>\n",
       "      <td>['damn', 'nowi', 'started', 'break', 'learn', ...</td>\n",
       "      <td>['damn', 'nowi', 'start', 'break', 'learn', 't...</td>\n",
       "      <td>78</td>\n",
       "      <td>78</td>\n",
       "      <td>damn nowi start break learn thing ton natur ex...</td>\n",
       "    </tr>\n",
       "  </tbody>\n",
       "</table>\n",
       "</div>"
      ],
      "text/plain": [
       "                                        text_lem_sen  predicted  \\\n",
       "0  share funniest troll comp clashme planning tro...          1   \n",
       "1  toxic communityi school project unity topic co...          1   \n",
       "2  tried research demon lore sense demonic compen...          0   \n",
       "3  macbook air i5hey macbook air i5 gb wonder pro...          0   \n",
       "4  damn nowi started break learn thing ton natura...          0   \n",
       "\n",
       "         subreddit                                              title  \\\n",
       "0  leagueoflegends     Share your funniest troll team comps for clash   \n",
       "1  leagueoflegends                    How to fix the toxic community.   \n",
       "2  leagueoflegends  I tried to research some Demon lore and make s...   \n",
       "3            DotA2                       DotA2 on 2020 MacBook Air i5   \n",
       "4            DotA2      How is everyone so damn good at this game now   \n",
       "\n",
       "                                            selftext  \\\n",
       "0  Me and my team are planning to play clash with...   \n",
       "1  I am doing a school project on unity and topic...   \n",
       "2  I am a big fan of League Demonology (and a Fid...   \n",
       "3  Hey guys! I have macbook air 2020 i5 8gb and I...   \n",
       "4  I’ve just started playing more after pretty mu...   \n",
       "\n",
       "                                                text  text_length  \\\n",
       "0  Share your funniest troll team comps for clash...          306   \n",
       "1  How to fix the toxic community.I am doing a sc...          271   \n",
       "2  I tried to research some Demon lore and make s...          427   \n",
       "3  DotA2 on 2020 MacBook Air i5Hey guys! I have m...          194   \n",
       "4  How is everyone so damn good at this game nowI...         1447   \n",
       "\n",
       "   subreddit_int                                       cleaned_text  \\\n",
       "0              1  ['share', 'funniest', 'troll', 'comps', 'clash...   \n",
       "1              1  ['toxic', 'communityi', 'school', 'project', '...   \n",
       "2              1  ['tried', 'research', 'demon', 'lore', 'sense'...   \n",
       "3              0  ['macbook', 'air', 'i5hey', 'macbook', 'air', ...   \n",
       "4              0  ['damn', 'nowi', 'started', 'break', 'learn', ...   \n",
       "\n",
       "                                            text_lem  \\\n",
       "0  ['share', 'funniest', 'troll', 'comp', 'clashm...   \n",
       "1  ['toxic', 'communityi', 'school', 'project', '...   \n",
       "2  ['tried', 'research', 'demon', 'lore', 'sense'...   \n",
       "3  ['macbook', 'air', 'i5hey', 'macbook', 'air', ...   \n",
       "4  ['damn', 'nowi', 'started', 'break', 'learn', ...   \n",
       "\n",
       "                                           text_stem  word_counts_lem  \\\n",
       "0  ['share', 'funniest', 'troll', 'comp', 'clashm...               24   \n",
       "1  ['toxic', 'communityi', 'school', 'project', '...               17   \n",
       "2  ['tri', 'research', 'demon', 'lore', 'sens', '...               24   \n",
       "3  ['macbook', 'air', 'i5hey', 'macbook', 'air', ...               13   \n",
       "4  ['damn', 'nowi', 'start', 'break', 'learn', 't...               78   \n",
       "\n",
       "   word_counts_stem                                      text_stem_sen  \n",
       "0                24  share funniest troll comp clashm plan troll co...  \n",
       "1                17  toxic communityi school project uniti topic co...  \n",
       "2                24  tri research demon lore sens demon compendiumi...  \n",
       "3                13  macbook air i5hey macbook air i5 gb wonder pro...  \n",
       "4                78  damn nowi start break learn thing ton natur ex...  "
      ]
     },
     "execution_count": 34,
     "metadata": {},
     "output_type": "execute_result"
    }
   ],
   "source": [
    "# Merge the dataset with the main df\n",
    "df_test = pd.merge(df_test, df, on='text_lem_sen')\n",
    "df_test.head()"
   ]
  },
  {
   "cell_type": "code",
   "execution_count": 35,
   "id": "0d2da492",
   "metadata": {
    "ExecuteTime": {
     "end_time": "2022-05-26T14:41:39.613352Z",
     "start_time": "2022-05-26T14:41:39.597724Z"
    }
   },
   "outputs": [
    {
     "data": {
      "text/html": [
       "<div>\n",
       "<style scoped>\n",
       "    .dataframe tbody tr th:only-of-type {\n",
       "        vertical-align: middle;\n",
       "    }\n",
       "\n",
       "    .dataframe tbody tr th {\n",
       "        vertical-align: top;\n",
       "    }\n",
       "\n",
       "    .dataframe thead th {\n",
       "        text-align: right;\n",
       "    }\n",
       "</style>\n",
       "<table border=\"1\" class=\"dataframe\">\n",
       "  <thead>\n",
       "    <tr style=\"text-align: right;\">\n",
       "      <th></th>\n",
       "      <th>text_lem_sen</th>\n",
       "      <th>predicted</th>\n",
       "      <th>subreddit</th>\n",
       "      <th>title</th>\n",
       "      <th>selftext</th>\n",
       "      <th>text</th>\n",
       "      <th>text_length</th>\n",
       "      <th>subreddit_int</th>\n",
       "      <th>cleaned_text</th>\n",
       "      <th>text_lem</th>\n",
       "      <th>text_stem</th>\n",
       "      <th>word_counts_lem</th>\n",
       "      <th>word_counts_stem</th>\n",
       "      <th>text_stem_sen</th>\n",
       "    </tr>\n",
       "  </thead>\n",
       "  <tbody>\n",
       "    <tr>\n",
       "      <th>17</th>\n",
       "      <td>personal project draw character available acti...</td>\n",
       "      <td>1</td>\n",
       "      <td>DotA2</td>\n",
       "      <td>My first 4 in a personal project to draw one o...</td>\n",
       "      <td>I enjoy all the currently available MOBAs so I...</td>\n",
       "      <td>My first 4 in a personal project to draw one o...</td>\n",
       "      <td>1584</td>\n",
       "      <td>0</td>\n",
       "      <td>['personal', 'project', 'draw', 'character', '...</td>\n",
       "      <td>['personal', 'project', 'draw', 'character', '...</td>\n",
       "      <td>['person', 'project', 'draw', 'charact', 'avai...</td>\n",
       "      <td>57</td>\n",
       "      <td>57</td>\n",
       "      <td>person project draw charact avail activ mobasi...</td>\n",
       "    </tr>\n",
       "    <tr>\n",
       "      <th>26</th>\n",
       "      <td>ping takeni others ping example took spell alt...</td>\n",
       "      <td>1</td>\n",
       "      <td>DotA2</td>\n",
       "      <td>How to ping damage taken.</td>\n",
       "      <td>I see others ping for example \"I took 650 dama...</td>\n",
       "      <td>How to ping damage taken.I see others ping for...</td>\n",
       "      <td>215</td>\n",
       "      <td>0</td>\n",
       "      <td>['ping', 'takeni', 'others', 'ping', 'example'...</td>\n",
       "      <td>['ping', 'takeni', 'others', 'ping', 'example'...</td>\n",
       "      <td>['ping', 'takeni', 'other', 'ping', 'exampl', ...</td>\n",
       "      <td>13</td>\n",
       "      <td>13</td>\n",
       "      <td>ping takeni other ping exampl took spell altcl...</td>\n",
       "    </tr>\n",
       "    <tr>\n",
       "      <th>30</th>\n",
       "      <td>jingu mastery viperit register jingu charge hi...</td>\n",
       "      <td>1</td>\n",
       "      <td>DotA2</td>\n",
       "      <td>bug with jingu mastery on viper</td>\n",
       "      <td>it only registers jingu charges every 2-3 hits...</td>\n",
       "      <td>bug with jingu mastery on viperit only registe...</td>\n",
       "      <td>84</td>\n",
       "      <td>0</td>\n",
       "      <td>['jingu', 'mastery', 'viperit', 'registers', '...</td>\n",
       "      <td>['jingu', 'mastery', 'viperit', 'register', 'j...</td>\n",
       "      <td>['jingu', 'masteri', 'viperit', 'regist', 'jin...</td>\n",
       "      <td>8</td>\n",
       "      <td>8</td>\n",
       "      <td>jingu masteri viperit regist jingu charg hit wtf</td>\n",
       "    </tr>\n",
       "    <tr>\n",
       "      <th>50</th>\n",
       "      <td>feel exactly boringthe feel play exactly felt ...</td>\n",
       "      <td>1</td>\n",
       "      <td>DotA2</td>\n",
       "      <td>anyone else think this patch feels exactly the...</td>\n",
       "      <td>The game just feels like it plays exactly the ...</td>\n",
       "      <td>anyone else think this patch feels exactly the...</td>\n",
       "      <td>236</td>\n",
       "      <td>0</td>\n",
       "      <td>['feels', 'exactly', 'boringthe', 'feels', 'pl...</td>\n",
       "      <td>['feel', 'exactly', 'boringthe', 'feel', 'play...</td>\n",
       "      <td>['feel', 'exactli', 'boringth', 'feel', 'play'...</td>\n",
       "      <td>14</td>\n",
       "      <td>14</td>\n",
       "      <td>feel exactli boringth feel play exactli felt p...</td>\n",
       "    </tr>\n",
       "    <tr>\n",
       "      <th>54</th>\n",
       "      <td>mind tmrwhats latest</td>\n",
       "      <td>1</td>\n",
       "      <td>DotA2</td>\n",
       "      <td>Mind Games are playing tmr?</td>\n",
       "      <td>What's the latest update?</td>\n",
       "      <td>Mind Games are playing tmr?What's the latest u...</td>\n",
       "      <td>52</td>\n",
       "      <td>0</td>\n",
       "      <td>['mind', 'tmrwhats', 'latest']</td>\n",
       "      <td>['mind', 'tmrwhats', 'latest']</td>\n",
       "      <td>['mind', 'tmrwhat', 'latest']</td>\n",
       "      <td>3</td>\n",
       "      <td>3</td>\n",
       "      <td>mind tmrwhat latest</td>\n",
       "    </tr>\n",
       "  </tbody>\n",
       "</table>\n",
       "</div>"
      ],
      "text/plain": [
       "                                         text_lem_sen  predicted subreddit  \\\n",
       "17  personal project draw character available acti...          1     DotA2   \n",
       "26  ping takeni others ping example took spell alt...          1     DotA2   \n",
       "30  jingu mastery viperit register jingu charge hi...          1     DotA2   \n",
       "50  feel exactly boringthe feel play exactly felt ...          1     DotA2   \n",
       "54                               mind tmrwhats latest          1     DotA2   \n",
       "\n",
       "                                                title  \\\n",
       "17  My first 4 in a personal project to draw one o...   \n",
       "26                          How to ping damage taken.   \n",
       "30                    bug with jingu mastery on viper   \n",
       "50  anyone else think this patch feels exactly the...   \n",
       "54                        Mind Games are playing tmr?   \n",
       "\n",
       "                                             selftext  \\\n",
       "17  I enjoy all the currently available MOBAs so I...   \n",
       "26  I see others ping for example \"I took 650 dama...   \n",
       "30  it only registers jingu charges every 2-3 hits...   \n",
       "50  The game just feels like it plays exactly the ...   \n",
       "54                          What's the latest update?   \n",
       "\n",
       "                                                 text  text_length  \\\n",
       "17  My first 4 in a personal project to draw one o...         1584   \n",
       "26  How to ping damage taken.I see others ping for...          215   \n",
       "30  bug with jingu mastery on viperit only registe...           84   \n",
       "50  anyone else think this patch feels exactly the...          236   \n",
       "54  Mind Games are playing tmr?What's the latest u...           52   \n",
       "\n",
       "    subreddit_int                                       cleaned_text  \\\n",
       "17              0  ['personal', 'project', 'draw', 'character', '...   \n",
       "26              0  ['ping', 'takeni', 'others', 'ping', 'example'...   \n",
       "30              0  ['jingu', 'mastery', 'viperit', 'registers', '...   \n",
       "50              0  ['feels', 'exactly', 'boringthe', 'feels', 'pl...   \n",
       "54              0                     ['mind', 'tmrwhats', 'latest']   \n",
       "\n",
       "                                             text_lem  \\\n",
       "17  ['personal', 'project', 'draw', 'character', '...   \n",
       "26  ['ping', 'takeni', 'others', 'ping', 'example'...   \n",
       "30  ['jingu', 'mastery', 'viperit', 'register', 'j...   \n",
       "50  ['feel', 'exactly', 'boringthe', 'feel', 'play...   \n",
       "54                     ['mind', 'tmrwhats', 'latest']   \n",
       "\n",
       "                                            text_stem  word_counts_lem  \\\n",
       "17  ['person', 'project', 'draw', 'charact', 'avai...               57   \n",
       "26  ['ping', 'takeni', 'other', 'ping', 'exampl', ...               13   \n",
       "30  ['jingu', 'masteri', 'viperit', 'regist', 'jin...                8   \n",
       "50  ['feel', 'exactli', 'boringth', 'feel', 'play'...               14   \n",
       "54                      ['mind', 'tmrwhat', 'latest']                3   \n",
       "\n",
       "    word_counts_stem                                      text_stem_sen  \n",
       "17                57  person project draw charact avail activ mobasi...  \n",
       "26                13  ping takeni other ping exampl took spell altcl...  \n",
       "30                 8   jingu masteri viperit regist jingu charg hit wtf  \n",
       "50                14  feel exactli boringth feel play exactli felt p...  \n",
       "54                 3                                mind tmrwhat latest  "
      ]
     },
     "execution_count": 35,
     "metadata": {},
     "output_type": "execute_result"
    }
   ],
   "source": [
    "# Extract the false positive posts (DotA2 post classified as League of Legend)\n",
    "fp_posts = df_test[df_test['subreddit_int'] == 0]\n",
    "fp_posts = fp_posts[fp_posts['predicted'] == 1]\n",
    "fp_posts.head()"
   ]
  },
  {
   "cell_type": "code",
   "execution_count": 36,
   "id": "ec7d5865",
   "metadata": {
    "ExecuteTime": {
     "end_time": "2022-05-26T14:41:39.630999Z",
     "start_time": "2022-05-26T14:41:39.615368Z"
    }
   },
   "outputs": [
    {
     "data": {
      "text/plain": [
       "ping        3.377947\n",
       "mind        3.149814\n",
       "seen        3.069144\n",
       "view        3.025679\n",
       "poll        3.025679\n",
       "ampx200b    3.011065\n",
       "random      2.739522\n",
       "champion    2.608638\n",
       "que         2.399729\n",
       "minute      2.373175\n",
       "exactly     2.360720\n",
       "long        2.291874\n",
       "max         2.168867\n",
       "session     2.127010\n",
       "party       2.013061\n",
       "le          1.896784\n",
       "hero        1.873512\n",
       "hit         1.862323\n",
       "youre       1.783833\n",
       "tier        1.728779\n",
       "dtype: float64"
      ]
     },
     "execution_count": 36,
     "metadata": {},
     "output_type": "execute_result"
    }
   ],
   "source": [
    "# Apply TfidfVectorizer with the optimal parameters\n",
    "tvec = TfidfVectorizer(max_df=0.9, max_features=4000, min_df=3, stop_words='english')\n",
    "\n",
    "# Fit the posts\n",
    "tvec.fit(fp_posts['text_lem_sen'])\n",
    "\n",
    "# Transforming using the fitted cvec and converting the result to a DataFrame\n",
    "fp_words = pd.DataFrame(tvec.transform(fp_posts['text_lem_sen']).todense(),\n",
    "                       columns=tvec.get_feature_names_out())\n",
    "\n",
    "# Finding the top 20 words that frequently appeared in dota\n",
    "fp_top20 = fp_words.sum(axis = 0).sort_values(ascending = False).head(20)\n",
    "fp_top20"
   ]
  },
  {
   "cell_type": "code",
   "execution_count": 37,
   "id": "fabf8c48",
   "metadata": {
    "ExecuteTime": {
     "end_time": "2022-05-26T14:41:39.646626Z",
     "start_time": "2022-05-26T14:41:39.630999Z"
    }
   },
   "outputs": [
    {
     "data": {
      "text/html": [
       "<div>\n",
       "<style scoped>\n",
       "    .dataframe tbody tr th:only-of-type {\n",
       "        vertical-align: middle;\n",
       "    }\n",
       "\n",
       "    .dataframe tbody tr th {\n",
       "        vertical-align: top;\n",
       "    }\n",
       "\n",
       "    .dataframe thead th {\n",
       "        text-align: right;\n",
       "    }\n",
       "</style>\n",
       "<table border=\"1\" class=\"dataframe\">\n",
       "  <thead>\n",
       "    <tr style=\"text-align: right;\">\n",
       "      <th></th>\n",
       "      <th>text_lem_sen</th>\n",
       "      <th>predicted</th>\n",
       "      <th>subreddit</th>\n",
       "      <th>title</th>\n",
       "      <th>selftext</th>\n",
       "      <th>text</th>\n",
       "      <th>text_length</th>\n",
       "      <th>subreddit_int</th>\n",
       "      <th>cleaned_text</th>\n",
       "      <th>text_lem</th>\n",
       "      <th>text_stem</th>\n",
       "      <th>word_counts_lem</th>\n",
       "      <th>word_counts_stem</th>\n",
       "      <th>text_stem_sen</th>\n",
       "    </tr>\n",
       "  </thead>\n",
       "  <tbody>\n",
       "    <tr>\n",
       "      <th>2</th>\n",
       "      <td>tried research demon lore sense demonic compen...</td>\n",
       "      <td>0</td>\n",
       "      <td>leagueoflegends</td>\n",
       "      <td>I tried to research some Demon lore and make s...</td>\n",
       "      <td>I am a big fan of League Demonology (and a Fid...</td>\n",
       "      <td>I tried to research some Demon lore and make s...</td>\n",
       "      <td>427</td>\n",
       "      <td>1</td>\n",
       "      <td>['tried', 'research', 'demon', 'lore', 'sense'...</td>\n",
       "      <td>['tried', 'research', 'demon', 'lore', 'sense'...</td>\n",
       "      <td>['tri', 'research', 'demon', 'lore', 'sens', '...</td>\n",
       "      <td>24</td>\n",
       "      <td>24</td>\n",
       "      <td>tri research demon lore sens demon compendiumi...</td>\n",
       "    </tr>\n",
       "    <tr>\n",
       "      <th>8</th>\n",
       "      <td>another updade another v1294403307i tried clos...</td>\n",
       "      <td>0</td>\n",
       "      <td>leagueoflegends</td>\n",
       "      <td>Help another updade another problem (client) V...</td>\n",
       "      <td>I have tried closing the game through the pane...</td>\n",
       "      <td>Help another updade another problem (client) V...</td>\n",
       "      <td>247</td>\n",
       "      <td>1</td>\n",
       "      <td>['another', 'updade', 'another', 'v1294403307i...</td>\n",
       "      <td>['another', 'updade', 'another', 'v1294403307i...</td>\n",
       "      <td>['anoth', 'updad', 'anoth', 'v1294403307i', 't...</td>\n",
       "      <td>19</td>\n",
       "      <td>19</td>\n",
       "      <td>anoth updad anoth v1294403307i tri close panel...</td>\n",
       "    </tr>\n",
       "    <tr>\n",
       "      <th>32</th>\n",
       "      <td>m problemwhen idle ingame m engage spike ish s...</td>\n",
       "      <td>0</td>\n",
       "      <td>leagueoflegends</td>\n",
       "      <td>ms problem</td>\n",
       "      <td>When im idle ingame my ms is 44 but when I try...</td>\n",
       "      <td>ms problemWhen im idle ingame my ms is 44 but ...</td>\n",
       "      <td>218</td>\n",
       "      <td>1</td>\n",
       "      <td>['ms', 'problemwhen', 'idle', 'ingame', 'ms', ...</td>\n",
       "      <td>['m', 'problemwhen', 'idle', 'ingame', 'm', 'e...</td>\n",
       "      <td>['ms', 'problemwhen', 'idl', 'ingam', 'ms', 'e...</td>\n",
       "      <td>13</td>\n",
       "      <td>13</td>\n",
       "      <td>ms problemwhen idl ingam ms engag spike ish se...</td>\n",
       "    </tr>\n",
       "    <tr>\n",
       "      <th>33</th>\n",
       "      <td>ward slot inventoryi modify slot stack type wa...</td>\n",
       "      <td>0</td>\n",
       "      <td>leagueoflegends</td>\n",
       "      <td>Wards' slot in inventory</td>\n",
       "      <td>I think they should modify the ward slot so th...</td>\n",
       "      <td>Wards' slot in inventoryI think they should mo...</td>\n",
       "      <td>593</td>\n",
       "      <td>1</td>\n",
       "      <td>['wards', 'slot', 'inventoryi', 'modify', 'slo...</td>\n",
       "      <td>['ward', 'slot', 'inventoryi', 'modify', 'slot...</td>\n",
       "      <td>['ward', 'slot', 'inventoryi', 'modifi', 'slot...</td>\n",
       "      <td>43</td>\n",
       "      <td>43</td>\n",
       "      <td>ward slot inventoryi modifi slot stack type wa...</td>\n",
       "    </tr>\n",
       "    <tr>\n",
       "      <th>51</th>\n",
       "      <td>spellthief edge mechanicscan explain work incr...</td>\n",
       "      <td>0</td>\n",
       "      <td>leagueoflegends</td>\n",
       "      <td>Spellthief’s edge mechanics</td>\n",
       "      <td>Can someone please explain how this item actua...</td>\n",
       "      <td>Spellthief’s edge mechanicsCan someone please ...</td>\n",
       "      <td>270</td>\n",
       "      <td>1</td>\n",
       "      <td>['spellthief', 'edge', 'mechanicscan', 'explai...</td>\n",
       "      <td>['spellthief', 'edge', 'mechanicscan', 'explai...</td>\n",
       "      <td>['spellthief', 'edg', 'mechanicscan', 'explain...</td>\n",
       "      <td>11</td>\n",
       "      <td>11</td>\n",
       "      <td>spellthief edg mechanicscan explain work incre...</td>\n",
       "    </tr>\n",
       "  </tbody>\n",
       "</table>\n",
       "</div>"
      ],
      "text/plain": [
       "                                         text_lem_sen  predicted  \\\n",
       "2   tried research demon lore sense demonic compen...          0   \n",
       "8   another updade another v1294403307i tried clos...          0   \n",
       "32  m problemwhen idle ingame m engage spike ish s...          0   \n",
       "33  ward slot inventoryi modify slot stack type wa...          0   \n",
       "51  spellthief edge mechanicscan explain work incr...          0   \n",
       "\n",
       "          subreddit                                              title  \\\n",
       "2   leagueoflegends  I tried to research some Demon lore and make s...   \n",
       "8   leagueoflegends  Help another updade another problem (client) V...   \n",
       "32  leagueoflegends                                         ms problem   \n",
       "33  leagueoflegends                           Wards' slot in inventory   \n",
       "51  leagueoflegends                        Spellthief’s edge mechanics   \n",
       "\n",
       "                                             selftext  \\\n",
       "2   I am a big fan of League Demonology (and a Fid...   \n",
       "8   I have tried closing the game through the pane...   \n",
       "32  When im idle ingame my ms is 44 but when I try...   \n",
       "33  I think they should modify the ward slot so th...   \n",
       "51  Can someone please explain how this item actua...   \n",
       "\n",
       "                                                 text  text_length  \\\n",
       "2   I tried to research some Demon lore and make s...          427   \n",
       "8   Help another updade another problem (client) V...          247   \n",
       "32  ms problemWhen im idle ingame my ms is 44 but ...          218   \n",
       "33  Wards' slot in inventoryI think they should mo...          593   \n",
       "51  Spellthief’s edge mechanicsCan someone please ...          270   \n",
       "\n",
       "    subreddit_int                                       cleaned_text  \\\n",
       "2               1  ['tried', 'research', 'demon', 'lore', 'sense'...   \n",
       "8               1  ['another', 'updade', 'another', 'v1294403307i...   \n",
       "32              1  ['ms', 'problemwhen', 'idle', 'ingame', 'ms', ...   \n",
       "33              1  ['wards', 'slot', 'inventoryi', 'modify', 'slo...   \n",
       "51              1  ['spellthief', 'edge', 'mechanicscan', 'explai...   \n",
       "\n",
       "                                             text_lem  \\\n",
       "2   ['tried', 'research', 'demon', 'lore', 'sense'...   \n",
       "8   ['another', 'updade', 'another', 'v1294403307i...   \n",
       "32  ['m', 'problemwhen', 'idle', 'ingame', 'm', 'e...   \n",
       "33  ['ward', 'slot', 'inventoryi', 'modify', 'slot...   \n",
       "51  ['spellthief', 'edge', 'mechanicscan', 'explai...   \n",
       "\n",
       "                                            text_stem  word_counts_lem  \\\n",
       "2   ['tri', 'research', 'demon', 'lore', 'sens', '...               24   \n",
       "8   ['anoth', 'updad', 'anoth', 'v1294403307i', 't...               19   \n",
       "32  ['ms', 'problemwhen', 'idl', 'ingam', 'ms', 'e...               13   \n",
       "33  ['ward', 'slot', 'inventoryi', 'modifi', 'slot...               43   \n",
       "51  ['spellthief', 'edg', 'mechanicscan', 'explain...               11   \n",
       "\n",
       "    word_counts_stem                                      text_stem_sen  \n",
       "2                 24  tri research demon lore sens demon compendiumi...  \n",
       "8                 19  anoth updad anoth v1294403307i tri close panel...  \n",
       "32                13  ms problemwhen idl ingam ms engag spike ish se...  \n",
       "33                43  ward slot inventoryi modifi slot stack type wa...  \n",
       "51                11  spellthief edg mechanicscan explain work incre...  "
      ]
     },
     "execution_count": 37,
     "metadata": {},
     "output_type": "execute_result"
    }
   ],
   "source": [
    "# Extract the false negative posts (League of Legend post classified as DotA2)\n",
    "fn_posts = df_test[df_test['subreddit_int']== 1]\n",
    "fn_posts = fn_posts[fn_posts['predicted'] == 0]\n",
    "fn_posts.head()"
   ]
  },
  {
   "cell_type": "code",
   "execution_count": 38,
   "id": "79d46e68",
   "metadata": {
    "ExecuteTime": {
     "end_time": "2022-05-26T14:41:39.662253Z",
     "start_time": "2022-05-26T14:41:39.646626Z"
    }
   },
   "outputs": [
    {
     "data": {
      "text/plain": [
       "explain        3.000000\n",
       "join           2.942659\n",
       "making         2.513986\n",
       "started        2.377964\n",
       "tried          2.310721\n",
       "discord        2.267151\n",
       "normal         2.178884\n",
       "custom         2.177803\n",
       "teammate       2.156631\n",
       "tournament     2.087367\n",
       "competitive    1.905485\n",
       "possible       1.869719\n",
       "friend         1.863737\n",
       "link           1.837720\n",
       "add            1.612592\n",
       "decide         1.477603\n",
       "legend         1.353137\n",
       "free           1.266654\n",
       "low            1.264420\n",
       "google         1.199463\n",
       "dtype: float64"
      ]
     },
     "execution_count": 38,
     "metadata": {},
     "output_type": "execute_result"
    }
   ],
   "source": [
    "# Apply TfidfVectorizer with the optimal parameters\n",
    "tvec = TfidfVectorizer(max_df=0.9, max_features=4000, min_df=3, stop_words='english')\n",
    "\n",
    "# Fit the posts\n",
    "tvec.fit(fn_posts['text_lem_sen'])\n",
    "\n",
    "# Transforming using our fitted cvec and converting the result to a DataFrame\n",
    "fn_words = pd.DataFrame(tvec.transform(fn_posts['text_lem_sen']).todense(),\n",
    "                       columns=tvec.get_feature_names_out())\n",
    "\n",
    "# Finding the top 20 words that frequently appeared in league\n",
    "fn_top20 = fn_words.sum(axis = 0).sort_values(ascending = False).head(20)\n",
    "fn_top20"
   ]
  },
  {
   "cell_type": "markdown",
   "id": "b9097f69",
   "metadata": {},
   "source": [
    "- The below table summarizes the top 20 words for the misclassified posts. \n",
    "\n",
    "|DotA2     |League of Legends |\n",
    "|----------|------------------|\n",
    "|ping      |explain           |\n",
    "|mind      |join              |\n",
    "|seen      |making            |\n",
    "|view      |started           |\n",
    "|poll      |tried             |\n",
    "|ampx200b  |discord           |\n",
    "|random    |normal            |\n",
    "|champion  |custom            |\n",
    "|que       |teamate           |\n",
    "|minute    |tournament        |\n",
    "|exactly   |competitive       |\n",
    "|long      |possible          |\n",
    "|max       |friend            |\n",
    "|session   |link              |\n",
    "|party     |add               |\n",
    "|le        |decide            |\n",
    "|hero      |legend            |\n",
    "|hit       |free              |\n",
    "|youre     |low               |\n",
    "|tier      |google            |\n",
    "\n",
    "- From the top 20 words extracted, the reasons why the posts are classified wrongly are:\n",
    "    - Overlapping of the keywords for both posts (e.g. ping, champion).\n",
    "    - Generic words (e.g. seen, view, tried, add) may be used in both posts.\n",
    "\n",
    "- To reduce the number of misclassification (i.e. improving the accuracy), further analysis of the key and generic words is required. Overlapping of the keywords for both posts should be reduced. We can also consider adding generic words to the stopwords list."
   ]
  },
  {
   "cell_type": "markdown",
   "id": "1b616a3b",
   "metadata": {},
   "source": [
    "### 4.8 Feature Importance"
   ]
  },
  {
   "cell_type": "markdown",
   "id": "b382391f",
   "metadata": {},
   "source": [
    "To check which words have a stronger predicting power in determining whether the topic is DotA2 or League of Legends, we will look at the feature importance for the models."
   ]
  },
  {
   "cell_type": "code",
   "execution_count": 39,
   "id": "734afdb6",
   "metadata": {
    "ExecuteTime": {
     "end_time": "2022-05-26T14:41:39.677878Z",
     "start_time": "2022-05-26T14:41:39.662253Z"
    }
   },
   "outputs": [],
   "source": [
    "# Create a function to get the feature importance for multinomial naive bayes model\n",
    "def get_feature_importances_NB(estimator, transformer, ascending=True):\n",
    "\n",
    "    delta_log_prob = estimator.feature_log_prob_[1, :] - estimator.feature_log_prob_[0, :]    \n",
    "    words = transformer.get_feature_names_out()\n",
    "    df = pd.DataFrame({'feature': words, 'log_prob_difference': delta_log_prob})\n",
    "    df.sort_values(by=['log_prob_difference'], inplace=True, ascending=ascending)\n",
    "\n",
    "    return df"
   ]
  },
  {
   "cell_type": "code",
   "execution_count": 40,
   "id": "7b0c1319",
   "metadata": {
    "ExecuteTime": {
     "end_time": "2022-05-26T14:41:39.693502Z",
     "start_time": "2022-05-26T14:41:39.677878Z"
    }
   },
   "outputs": [
    {
     "data": {
      "text/html": [
       "<div>\n",
       "<style scoped>\n",
       "    .dataframe tbody tr th:only-of-type {\n",
       "        vertical-align: middle;\n",
       "    }\n",
       "\n",
       "    .dataframe tbody tr th {\n",
       "        vertical-align: top;\n",
       "    }\n",
       "\n",
       "    .dataframe thead th {\n",
       "        text-align: right;\n",
       "    }\n",
       "</style>\n",
       "<table border=\"1\" class=\"dataframe\">\n",
       "  <thead>\n",
       "    <tr style=\"text-align: right;\">\n",
       "      <th></th>\n",
       "      <th>feature</th>\n",
       "      <th>log_prob_difference</th>\n",
       "    </tr>\n",
       "  </thead>\n",
       "  <tbody>\n",
       "    <tr>\n",
       "      <th>3758</th>\n",
       "      <td>valve</td>\n",
       "      <td>-3.715620</td>\n",
       "    </tr>\n",
       "    <tr>\n",
       "      <th>1576</th>\n",
       "      <td>hero</td>\n",
       "      <td>-3.702691</td>\n",
       "    </tr>\n",
       "    <tr>\n",
       "      <th>3671</th>\n",
       "      <td>underlord</td>\n",
       "      <td>-3.454362</td>\n",
       "    </tr>\n",
       "    <tr>\n",
       "      <th>3324</th>\n",
       "      <td>stockholm</td>\n",
       "      <td>-3.425489</td>\n",
       "    </tr>\n",
       "    <tr>\n",
       "      <th>1161</th>\n",
       "      <td>esl</td>\n",
       "      <td>-3.282272</td>\n",
       "    </tr>\n",
       "  </tbody>\n",
       "</table>\n",
       "</div>"
      ],
      "text/plain": [
       "        feature  log_prob_difference\n",
       "3758      valve            -3.715620\n",
       "1576       hero            -3.702691\n",
       "3671  underlord            -3.454362\n",
       "3324  stockholm            -3.425489\n",
       "1161        esl            -3.282272"
      ]
     },
     "execution_count": 40,
     "metadata": {},
     "output_type": "execute_result"
    }
   ],
   "source": [
    "# Extract multinomial naive bayes feature importance for Dota \n",
    "get_feature_importances_NB(gs_vec_nb1.best_estimator_.named_steps.nb, \n",
    "                           gs_vec_nb1.best_estimator_.named_steps.vec)[:5]"
   ]
  },
  {
   "cell_type": "code",
   "execution_count": 41,
   "id": "2234d6bc",
   "metadata": {
    "ExecuteTime": {
     "end_time": "2022-05-26T14:41:39.709130Z",
     "start_time": "2022-05-26T14:41:39.693502Z"
    }
   },
   "outputs": [
    {
     "data": {
      "text/html": [
       "<div>\n",
       "<style scoped>\n",
       "    .dataframe tbody tr th:only-of-type {\n",
       "        vertical-align: middle;\n",
       "    }\n",
       "\n",
       "    .dataframe tbody tr th {\n",
       "        vertical-align: top;\n",
       "    }\n",
       "\n",
       "    .dataframe thead th {\n",
       "        text-align: right;\n",
       "    }\n",
       "</style>\n",
       "<table border=\"1\" class=\"dataframe\">\n",
       "  <thead>\n",
       "    <tr style=\"text-align: right;\">\n",
       "      <th></th>\n",
       "      <th>feature</th>\n",
       "      <th>log_prob_difference</th>\n",
       "    </tr>\n",
       "  </thead>\n",
       "  <tbody>\n",
       "    <tr>\n",
       "      <th>2212</th>\n",
       "      <td>msi</td>\n",
       "      <td>3.586555</td>\n",
       "    </tr>\n",
       "    <tr>\n",
       "      <th>2949</th>\n",
       "      <td>riot</td>\n",
       "      <td>3.562656</td>\n",
       "    </tr>\n",
       "    <tr>\n",
       "      <th>548</th>\n",
       "      <td>challenge</td>\n",
       "      <td>3.541638</td>\n",
       "    </tr>\n",
       "    <tr>\n",
       "      <th>554</th>\n",
       "      <td>champion</td>\n",
       "      <td>3.291143</td>\n",
       "    </tr>\n",
       "    <tr>\n",
       "      <th>3548</th>\n",
       "      <td>token</td>\n",
       "      <td>3.216725</td>\n",
       "    </tr>\n",
       "  </tbody>\n",
       "</table>\n",
       "</div>"
      ],
      "text/plain": [
       "        feature  log_prob_difference\n",
       "2212        msi             3.586555\n",
       "2949       riot             3.562656\n",
       "548   challenge             3.541638\n",
       "554    champion             3.291143\n",
       "3548      token             3.216725"
      ]
     },
     "execution_count": 41,
     "metadata": {},
     "output_type": "execute_result"
    }
   ],
   "source": [
    "# Extract multinomial naive bayes feature importance for league\n",
    "get_feature_importances_NB(gs_vec_nb1.best_estimator_.named_steps.nb, \n",
    "                           gs_vec_nb1.best_estimator_.named_steps.vec, ascending=False)[:5]"
   ]
  },
  {
   "cell_type": "code",
   "execution_count": 42,
   "id": "8c0ae214",
   "metadata": {
    "ExecuteTime": {
     "end_time": "2022-05-26T14:41:39.731280Z",
     "start_time": "2022-05-26T14:41:39.709130Z"
    }
   },
   "outputs": [],
   "source": [
    "# Create a function to get the feature importance for logistic regression model\n",
    "def get_feature_importances_LR(estimator, transformer, ascending=True):\n",
    "\n",
    "    df = pd.DataFrame(transformer.get_feature_names_out(), columns=['feature'])\n",
    "    df['lr_coef'] = estimator.coef_.T\n",
    "    df['lr_coef_exp'] = np.exp(df['lr_coef'])\n",
    "    df.sort_values(by=['lr_coef'], inplace=True, ascending=ascending)\n",
    "\n",
    "    return df"
   ]
  },
  {
   "cell_type": "code",
   "execution_count": 43,
   "id": "2f753761",
   "metadata": {
    "ExecuteTime": {
     "end_time": "2022-05-26T14:41:39.746905Z",
     "start_time": "2022-05-26T14:41:39.731280Z"
    }
   },
   "outputs": [
    {
     "data": {
      "text/html": [
       "<div>\n",
       "<style scoped>\n",
       "    .dataframe tbody tr th:only-of-type {\n",
       "        vertical-align: middle;\n",
       "    }\n",
       "\n",
       "    .dataframe tbody tr th {\n",
       "        vertical-align: top;\n",
       "    }\n",
       "\n",
       "    .dataframe thead th {\n",
       "        text-align: right;\n",
       "    }\n",
       "</style>\n",
       "<table border=\"1\" class=\"dataframe\">\n",
       "  <thead>\n",
       "    <tr style=\"text-align: right;\">\n",
       "      <th></th>\n",
       "      <th>feature</th>\n",
       "      <th>lr_coef</th>\n",
       "      <th>lr_coef_exp</th>\n",
       "    </tr>\n",
       "  </thead>\n",
       "  <tbody>\n",
       "    <tr>\n",
       "      <th>1516</th>\n",
       "      <td>hero</td>\n",
       "      <td>-4.903649</td>\n",
       "      <td>0.007419</td>\n",
       "    </tr>\n",
       "    <tr>\n",
       "      <th>3756</th>\n",
       "      <td>valve</td>\n",
       "      <td>-3.683061</td>\n",
       "      <td>0.025146</td>\n",
       "    </tr>\n",
       "    <tr>\n",
       "      <th>2025</th>\n",
       "      <td>major</td>\n",
       "      <td>-2.898566</td>\n",
       "      <td>0.055102</td>\n",
       "    </tr>\n",
       "    <tr>\n",
       "      <th>3521</th>\n",
       "      <td>ti</td>\n",
       "      <td>-1.920352</td>\n",
       "      <td>0.146555</td>\n",
       "    </tr>\n",
       "    <tr>\n",
       "      <th>3288</th>\n",
       "      <td>steam</td>\n",
       "      <td>-1.853549</td>\n",
       "      <td>0.156680</td>\n",
       "    </tr>\n",
       "  </tbody>\n",
       "</table>\n",
       "</div>"
      ],
      "text/plain": [
       "     feature   lr_coef  lr_coef_exp\n",
       "1516    hero -4.903649     0.007419\n",
       "3756   valve -3.683061     0.025146\n",
       "2025   major -2.898566     0.055102\n",
       "3521      ti -1.920352     0.146555\n",
       "3288   steam -1.853549     0.156680"
      ]
     },
     "execution_count": 43,
     "metadata": {},
     "output_type": "execute_result"
    }
   ],
   "source": [
    "# Extract logistic regression feature importance for dota\n",
    "get_feature_importances_LR(gs_vec_lr1.best_estimator_.named_steps.lr, \n",
    "                           gs_vec_lr1.best_estimator_.named_steps.vec)[:5]"
   ]
  },
  {
   "cell_type": "code",
   "execution_count": 44,
   "id": "c2bcc885",
   "metadata": {
    "ExecuteTime": {
     "end_time": "2022-05-26T14:41:39.762526Z",
     "start_time": "2022-05-26T14:41:39.746905Z"
    }
   },
   "outputs": [
    {
     "data": {
      "text/html": [
       "<div>\n",
       "<style scoped>\n",
       "    .dataframe tbody tr th:only-of-type {\n",
       "        vertical-align: middle;\n",
       "    }\n",
       "\n",
       "    .dataframe tbody tr th {\n",
       "        vertical-align: top;\n",
       "    }\n",
       "\n",
       "    .dataframe thead th {\n",
       "        text-align: right;\n",
       "    }\n",
       "</style>\n",
       "<table border=\"1\" class=\"dataframe\">\n",
       "  <thead>\n",
       "    <tr style=\"text-align: right;\">\n",
       "      <th></th>\n",
       "      <th>feature</th>\n",
       "      <th>lr_coef</th>\n",
       "      <th>lr_coef_exp</th>\n",
       "    </tr>\n",
       "  </thead>\n",
       "  <tbody>\n",
       "    <tr>\n",
       "      <th>2892</th>\n",
       "      <td>riot</td>\n",
       "      <td>4.842819</td>\n",
       "      <td>126.826398</td>\n",
       "    </tr>\n",
       "    <tr>\n",
       "      <th>497</th>\n",
       "      <td>champion</td>\n",
       "      <td>3.951085</td>\n",
       "      <td>51.991765</td>\n",
       "    </tr>\n",
       "    <tr>\n",
       "      <th>2209</th>\n",
       "      <td>msi</td>\n",
       "      <td>3.928786</td>\n",
       "      <td>50.845232</td>\n",
       "    </tr>\n",
       "    <tr>\n",
       "      <th>488</th>\n",
       "      <td>challenge</td>\n",
       "      <td>3.852484</td>\n",
       "      <td>47.109926</td>\n",
       "    </tr>\n",
       "    <tr>\n",
       "      <th>495</th>\n",
       "      <td>champ</td>\n",
       "      <td>3.407010</td>\n",
       "      <td>30.174887</td>\n",
       "    </tr>\n",
       "  </tbody>\n",
       "</table>\n",
       "</div>"
      ],
      "text/plain": [
       "        feature   lr_coef  lr_coef_exp\n",
       "2892       riot  4.842819   126.826398\n",
       "497    champion  3.951085    51.991765\n",
       "2209        msi  3.928786    50.845232\n",
       "488   challenge  3.852484    47.109926\n",
       "495       champ  3.407010    30.174887"
      ]
     },
     "execution_count": 44,
     "metadata": {},
     "output_type": "execute_result"
    }
   ],
   "source": [
    "# Extract logistic regression feature importance for league\n",
    "get_feature_importances_LR(gs_vec_lr1.best_estimator_.named_steps.lr, \n",
    "                           gs_vec_lr1.best_estimator_.named_steps.vec, ascending=False)[:5]"
   ]
  },
  {
   "cell_type": "markdown",
   "id": "d6b37272",
   "metadata": {},
   "source": [
    "- The below table summarizes the top 5 features based on their coefficients. \n",
    "\n",
    "|Model                  |Post             |Top 5 Features                        |\n",
    "|-----------------------|-----------------|--------------------------------------|\n",
    "|Multinomial Navie Bayes|DotA2            |valve, hero, underlord, stockholm, esl|\n",
    "|Multinomial Navie Bayes|League of Legends|msi, riot, challenge, champion, token |\n",
    "|Logistic Regression    |DotA2            |hero, valve, major, ti, steam         |\n",
    "|Logistic Regression    |League of Legends|riot, champion, msi, challenge, champ |\n",
    "\n",
    "\n",
    "- Based on the Multinomial Naive Bayes model:\n",
    "    - Words like valve, hero, underload, Stockholm, and esl are likely to belong to the DotA2 topic.\n",
    "    - Words like msi, riot, challenge, champion, and token are likely to belong to the League of Legends topic.\n",
    "\n",
    "\n",
    "- Based on the Logistic Regression model:\n",
    "    - Words like hero, valve, major, ti, and steam are likely to belong to the DotA2 topic.\n",
    "    - Words like riot, champion, msi, challenge, and champ are likely to belong to the League of Legends topic.\n",
    "\n",
    "\n",
    "- The top 5 features for both models have some similarities. So the words obtained are significant features that differentiate the two topics.\n"
   ]
  },
  {
   "cell_type": "markdown",
   "id": "a766207b",
   "metadata": {},
   "source": [
    "## 5. Conclusions"
   ]
  },
  {
   "cell_type": "markdown",
   "id": "bfb2710d",
   "metadata": {},
   "source": [
    "- The best model obtained is the Multinomial Naive Bayes classifier with Tfidf Vectorizer. The model has proven to be able to distinguish the words for the two topics with an accuracy of 89.3%. Hyper-tuning the alpha parameter improved the score by 0.14%.\n",
    "\n",
    "\n",
    "- The best model scores are summarized below:\n",
    "    - Accuracy: 89.3%\n",
    "    - Recall: 91.0%\n",
    "    - Precision: 88.0%\n",
    "    - AUC Score: 89.3%\n",
    "    - F1 Score: 89.5%\n",
    "\n",
    "\n",
    "- The reasons for misclassified posts are the overlapping of keywords and generic words used for both posts and generic. To reduce the number of misclassification (i.e. improving the accuracy), further analysis of the key and generic words is required. Overlapping of the keywords for both posts should be reduced. We can also consider adding generic words to the stopwords list.\n",
    "\n",
    "\n",
    "- From our analysis, we have identified the top 5 keywords like `valve`, `hero`, `underload`, `stockholm`, and `esl` for DotA2. League of Legends has keywords `msi`, `riot`, `challenge`, `champion`, and `token`. Post with these keywords means it has a higher possibility that it belongs to that topic. The Marketing team can use these keywords for insights when they brainstorm for their campaigns.\n"
   ]
  },
  {
   "cell_type": "markdown",
   "id": "7b7cb9d0",
   "metadata": {},
   "source": [
    "## 6. Limitations"
   ]
  },
  {
   "cell_type": "markdown",
   "id": "f214f8bb",
   "metadata": {},
   "source": [
    "- We have yet to analyze the set of words for both posts which resulted in some posts being misclassified. In addition, the current set of words obtained may not be represented as the dataset is considered relatively small. To further improve, we should analyze on:\n",
    "    - the overlapping/generic keywords and consider removing them.\n",
    "    - consider getting more data from Reddit or other social media platforms.   \n"
   ]
  },
  {
   "cell_type": "markdown",
   "id": "c3c04b7a",
   "metadata": {},
   "source": [
    "## 7. Recommendations"
   ]
  },
  {
   "cell_type": "markdown",
   "id": "f37a6801",
   "metadata": {},
   "source": [
    "- We have successfully developed a text classifier to categorize the top 2 popular games and identify the top 5 features.\n",
    "\n",
    "- Although we have obtained a model with an accuracy of 85%, we can try to further improve the model accuracy to above 90%. To achieve this, we can consider to:\n",
    "    - Increase the dataset size by scrapping more posts.\n",
    "    - Expand the scope of scrapping using other websites / social platforms (e.g. Twitter) to increase the word vocabulary for better accuracy.\n",
    "    - Experiment with other classifiers and boosting techniques (e.g. Random Forest, Gradient Boosting).\n",
    "\n",
    "\n",
    "- To reduce the misclassification rate for our models, analysis of the overlapping and generic words is recommended. The words identified should be removed during the text preprocessing stage.\n",
    "\n",
    "- With the top keywords, the Marketing team can think of using them to create meaningful topics to engage the users in the forum.\n"
   ]
  },
  {
   "cell_type": "markdown",
   "id": "2e3973b0",
   "metadata": {},
   "source": [
    "## 8. Future Actions"
   ]
  },
  {
   "cell_type": "markdown",
   "id": "2d2cb0df",
   "metadata": {},
   "source": [
    "Moving forward, we will explore doing sentiment analysis for these 2 top popular games and make recommendations to the marketing / business development team to consider for their sales & marketing plans."
   ]
  }
 ],
 "metadata": {
  "kernelspec": {
   "display_name": "Python 3 (ipykernel)",
   "language": "python",
   "name": "python3"
  },
  "language_info": {
   "codemirror_mode": {
    "name": "ipython",
    "version": 3
   },
   "file_extension": ".py",
   "mimetype": "text/x-python",
   "name": "python",
   "nbconvert_exporter": "python",
   "pygments_lexer": "ipython3",
   "version": "3.9.12"
  },
  "latex_envs": {
   "LaTeX_envs_menu_present": true,
   "autoclose": false,
   "autocomplete": true,
   "bibliofile": "biblio.bib",
   "cite_by": "apalike",
   "current_citInitial": 1,
   "eqLabelWithNumbers": true,
   "eqNumInitial": 1,
   "hotkeys": {
    "equation": "Ctrl-E",
    "itemize": "Ctrl-I"
   },
   "labels_anchors": false,
   "latex_user_defs": false,
   "report_style_numbering": false,
   "user_envs_cfg": false
  },
  "toc": {
   "base_numbering": 1,
   "nav_menu": {},
   "number_sections": false,
   "sideBar": true,
   "skip_h1_title": false,
   "title_cell": "Table of Contents",
   "title_sidebar": "Contents",
   "toc_cell": false,
   "toc_position": {
    "height": "calc(100% - 180px)",
    "left": "10px",
    "top": "150px",
    "width": "284.41px"
   },
   "toc_section_display": true,
   "toc_window_display": true
  }
 },
 "nbformat": 4,
 "nbformat_minor": 5
}
