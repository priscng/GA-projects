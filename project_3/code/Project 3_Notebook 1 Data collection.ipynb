{
 "cells": [
  {
   "cell_type": "markdown",
   "id": "593b7f1b",
   "metadata": {},
   "source": [
    "<img src=\"http://imgur.com/1ZcRyrc.png\" style=\"float: left; margin: 20px; height: 55px\">\n",
    "\n",
    "# Project 3: Web APIs & NLP"
   ]
  },
  {
   "cell_type": "markdown",
   "id": "00501d55",
   "metadata": {},
   "source": [
    "## 1. Problem Statement"
   ]
  },
  {
   "cell_type": "markdown",
   "id": "47fc0d1a",
   "metadata": {},
   "source": [
    "Our company, twitch, offers a video streaming service that focuses on video games, music, and sports. We have recently created a beta forum where gamers can post comments about games of their interest. We are currently testing this beta forum with selected users. Considering the growing volume of game posts, it is challenging for the marketing and business development team to understand the users and design sales and marketing campaigns that best meet the users' needs, since the posts are not currently organized by games. Additionally, the team indicated that users may lose interest in this brand-new forum if they are unable to find and navigate to the games that interest or are relevant to them, and that we may not be able to launch the feature because of poor user experience.\n",
    "\n",
    "Thus, the marketing and business development teams have requested that the data scientist team categorize the content according to its respective game. Dota 2 and League of Legends are currently the two most popular games among our users. Our goal is to use Reddit posts from Dota 2 and League of Legends to build a text classifier that has at least 85% accuracy, and to identify the top 5 features of each game. By categorizing the current content for both games, we will make it easy for our users to navigate and enhance their user experience. The top 5 features will give the marketing team some insight into their sales and marketing strategy."
   ]
  },
  {
   "cell_type": "markdown",
   "id": "85824f58",
   "metadata": {},
   "source": [
    "## 2. Methodology"
   ]
  },
  {
   "cell_type": "markdown",
   "id": "2736fd2b",
   "metadata": {},
   "source": [
    "1. Scrape data using Pushshift for the below 2 subreddits. This will be covered in Notebook 1 (current Notebook).\n",
    "    - https://www.reddit.com/r/DotA2/\n",
    "    - https://www.reddit.com/r/leagueoflegends/\n",
    "\n",
    "\n",
    "2. Data cleaning, text preprocessing (removing URLs / punctuations / stopwords, text tokenizing, and lemmatizing and stemming the text), and visualization. This will be covered in Notebook 2.\n",
    "\n",
    "\n",
    "3. Train and analyze 3 classification models, Naive Bayes, Logistic Regression, and K-Nearest Neighbors with different vectorizers (CountVectorizer and TfidfVectorizer) and hyperparameters. As this is a classification problem, the below 5 evaluation metrics will be used. The important features will also be identified. This will be covered in Notebook 3.\n",
    "\n",
    "    - Accuracy Score\n",
    "    - AUC Score\n",
    "    - Precision Score\n",
    "    - Recall Score\n",
    "    - F1 Score\n"
   ]
  },
  {
   "cell_type": "markdown",
   "id": "94f553f4",
   "metadata": {},
   "source": [
    "## 3. Importing Python Modules"
   ]
  },
  {
   "cell_type": "code",
   "execution_count": 1,
   "id": "7f2619bf",
   "metadata": {
    "ExecuteTime": {
     "end_time": "2022-05-24T14:09:42.281883Z",
     "start_time": "2022-05-24T14:09:40.058582Z"
    }
   },
   "outputs": [],
   "source": [
    "import requests\n",
    "import time\n",
    "import pandas as pd\n",
    "import numpy as np\n",
    "import json\n",
    "import seaborn as sns"
   ]
  },
  {
   "cell_type": "code",
   "execution_count": 2,
   "id": "316cab7e",
   "metadata": {
    "ExecuteTime": {
     "end_time": "2022-05-20T11:02:33.484308Z",
     "start_time": "2022-05-20T11:02:33.472665Z"
    }
   },
   "outputs": [],
   "source": [
    "# Set the max display for the columns and rows\n",
    "pd.set_option(\"display.max_rows\", 100)\n",
    "pd.set_option(\"display.max_columns\", 100)"
   ]
  },
  {
   "cell_type": "markdown",
   "id": "a5d95384",
   "metadata": {},
   "source": [
    "## 4. Scrapping using Pushshift"
   ]
  },
  {
   "cell_type": "code",
   "execution_count": 3,
   "id": "535ea876",
   "metadata": {
    "ExecuteTime": {
     "end_time": "2022-05-20T11:02:37.416297Z",
     "start_time": "2022-05-20T11:02:33.484308Z"
    }
   },
   "outputs": [
    {
     "data": {
      "text/html": [
       "<div>\n",
       "<style scoped>\n",
       "    .dataframe tbody tr th:only-of-type {\n",
       "        vertical-align: middle;\n",
       "    }\n",
       "\n",
       "    .dataframe tbody tr th {\n",
       "        vertical-align: top;\n",
       "    }\n",
       "\n",
       "    .dataframe thead th {\n",
       "        text-align: right;\n",
       "    }\n",
       "</style>\n",
       "<table border=\"1\" class=\"dataframe\">\n",
       "  <thead>\n",
       "    <tr style=\"text-align: right;\">\n",
       "      <th></th>\n",
       "      <th>all_awardings</th>\n",
       "      <th>allow_live_comments</th>\n",
       "      <th>author</th>\n",
       "      <th>author_flair_css_class</th>\n",
       "      <th>author_flair_richtext</th>\n",
       "      <th>author_flair_text</th>\n",
       "      <th>author_flair_type</th>\n",
       "      <th>author_fullname</th>\n",
       "      <th>author_is_blocked</th>\n",
       "      <th>author_patreon_flair</th>\n",
       "      <th>author_premium</th>\n",
       "      <th>awarders</th>\n",
       "      <th>can_mod_post</th>\n",
       "      <th>contest_mode</th>\n",
       "      <th>created_utc</th>\n",
       "      <th>domain</th>\n",
       "      <th>full_link</th>\n",
       "      <th>gildings</th>\n",
       "      <th>id</th>\n",
       "      <th>is_created_from_ads_ui</th>\n",
       "      <th>is_crosspostable</th>\n",
       "      <th>is_meta</th>\n",
       "      <th>is_original_content</th>\n",
       "      <th>is_reddit_media_domain</th>\n",
       "      <th>is_robot_indexable</th>\n",
       "      <th>is_self</th>\n",
       "      <th>is_video</th>\n",
       "      <th>link_flair_background_color</th>\n",
       "      <th>link_flair_richtext</th>\n",
       "      <th>link_flair_text_color</th>\n",
       "      <th>link_flair_type</th>\n",
       "      <th>locked</th>\n",
       "      <th>media_only</th>\n",
       "      <th>no_follow</th>\n",
       "      <th>num_comments</th>\n",
       "      <th>num_crossposts</th>\n",
       "      <th>over_18</th>\n",
       "      <th>parent_whitelist_status</th>\n",
       "      <th>permalink</th>\n",
       "      <th>pinned</th>\n",
       "      <th>pwls</th>\n",
       "      <th>removed_by_category</th>\n",
       "      <th>retrieved_on</th>\n",
       "      <th>score</th>\n",
       "      <th>selftext</th>\n",
       "      <th>send_replies</th>\n",
       "      <th>spoiler</th>\n",
       "      <th>stickied</th>\n",
       "      <th>subreddit</th>\n",
       "      <th>subreddit_id</th>\n",
       "      <th>subreddit_subscribers</th>\n",
       "      <th>subreddit_type</th>\n",
       "      <th>thumbnail</th>\n",
       "      <th>title</th>\n",
       "      <th>total_awards_received</th>\n",
       "      <th>treatment_tags</th>\n",
       "      <th>upvote_ratio</th>\n",
       "      <th>url</th>\n",
       "      <th>url_overridden_by_dest</th>\n",
       "      <th>whitelist_status</th>\n",
       "      <th>wls</th>\n",
       "      <th>post_hint</th>\n",
       "      <th>preview</th>\n",
       "      <th>thumbnail_height</th>\n",
       "      <th>thumbnail_width</th>\n",
       "      <th>media</th>\n",
       "      <th>media_embed</th>\n",
       "      <th>secure_media</th>\n",
       "      <th>secure_media_embed</th>\n",
       "      <th>media_metadata</th>\n",
       "      <th>author_flair_background_color</th>\n",
       "      <th>author_flair_text_color</th>\n",
       "      <th>author_flair_template_id</th>\n",
       "      <th>banned_by</th>\n",
       "      <th>author_cakeday</th>\n",
       "      <th>crosspost_parent</th>\n",
       "      <th>crosspost_parent_list</th>\n",
       "    </tr>\n",
       "  </thead>\n",
       "  <tbody>\n",
       "    <tr>\n",
       "      <th>0</th>\n",
       "      <td>[]</td>\n",
       "      <td>False</td>\n",
       "      <td>Pokemon_Only</td>\n",
       "      <td>None</td>\n",
       "      <td>[]</td>\n",
       "      <td>None</td>\n",
       "      <td>text</td>\n",
       "      <td>t2_26tp2z5g</td>\n",
       "      <td>False</td>\n",
       "      <td>False</td>\n",
       "      <td>False</td>\n",
       "      <td>[]</td>\n",
       "      <td>False</td>\n",
       "      <td>False</td>\n",
       "      <td>1652852675</td>\n",
       "      <td>youtu.be</td>\n",
       "      <td>https://www.reddit.com/r/leagueoflegends/comme...</td>\n",
       "      <td>{}</td>\n",
       "      <td>us5wfe</td>\n",
       "      <td>False</td>\n",
       "      <td>False</td>\n",
       "      <td>False</td>\n",
       "      <td>False</td>\n",
       "      <td>False</td>\n",
       "      <td>False</td>\n",
       "      <td>False</td>\n",
       "      <td>False</td>\n",
       "      <td></td>\n",
       "      <td>[]</td>\n",
       "      <td>dark</td>\n",
       "      <td>text</td>\n",
       "      <td>False</td>\n",
       "      <td>False</td>\n",
       "      <td>True</td>\n",
       "      <td>0</td>\n",
       "      <td>0</td>\n",
       "      <td>False</td>\n",
       "      <td>all_ads</td>\n",
       "      <td>/r/leagueoflegends/comments/us5wfe/t1_gumayusi...</td>\n",
       "      <td>False</td>\n",
       "      <td>6</td>\n",
       "      <td>moderator</td>\n",
       "      <td>1652852685</td>\n",
       "      <td>1</td>\n",
       "      <td></td>\n",
       "      <td>True</td>\n",
       "      <td>True</td>\n",
       "      <td>False</td>\n",
       "      <td>leagueoflegends</td>\n",
       "      <td>t5_2rfxx</td>\n",
       "      <td>5838151</td>\n",
       "      <td>public</td>\n",
       "      <td>spoiler</td>\n",
       "      <td>T1 Gumayusi: 🥱Group Stage wasn't fun🥱 wants st...</td>\n",
       "      <td>0</td>\n",
       "      <td>[]</td>\n",
       "      <td>1.0</td>\n",
       "      <td>https://youtu.be/EcfjBTsudwE</td>\n",
       "      <td>https://youtu.be/EcfjBTsudwE</td>\n",
       "      <td>all_ads</td>\n",
       "      <td>6</td>\n",
       "      <td>NaN</td>\n",
       "      <td>NaN</td>\n",
       "      <td>NaN</td>\n",
       "      <td>NaN</td>\n",
       "      <td>NaN</td>\n",
       "      <td>NaN</td>\n",
       "      <td>NaN</td>\n",
       "      <td>NaN</td>\n",
       "      <td>NaN</td>\n",
       "      <td>NaN</td>\n",
       "      <td>NaN</td>\n",
       "      <td>NaN</td>\n",
       "      <td>NaN</td>\n",
       "      <td>NaN</td>\n",
       "      <td>NaN</td>\n",
       "      <td>NaN</td>\n",
       "    </tr>\n",
       "    <tr>\n",
       "      <th>1</th>\n",
       "      <td>[]</td>\n",
       "      <td>False</td>\n",
       "      <td>Ecstatic-Buy-2907</td>\n",
       "      <td>None</td>\n",
       "      <td>[]</td>\n",
       "      <td>None</td>\n",
       "      <td>text</td>\n",
       "      <td>t2_ipdcr06y</td>\n",
       "      <td>False</td>\n",
       "      <td>False</td>\n",
       "      <td>False</td>\n",
       "      <td>[]</td>\n",
       "      <td>False</td>\n",
       "      <td>False</td>\n",
       "      <td>1652852217</td>\n",
       "      <td>self.leagueoflegends</td>\n",
       "      <td>https://www.reddit.com/r/leagueoflegends/comme...</td>\n",
       "      <td>{}</td>\n",
       "      <td>us5sm1</td>\n",
       "      <td>False</td>\n",
       "      <td>False</td>\n",
       "      <td>False</td>\n",
       "      <td>False</td>\n",
       "      <td>False</td>\n",
       "      <td>False</td>\n",
       "      <td>True</td>\n",
       "      <td>False</td>\n",
       "      <td></td>\n",
       "      <td>[]</td>\n",
       "      <td>dark</td>\n",
       "      <td>text</td>\n",
       "      <td>False</td>\n",
       "      <td>False</td>\n",
       "      <td>True</td>\n",
       "      <td>1</td>\n",
       "      <td>0</td>\n",
       "      <td>False</td>\n",
       "      <td>all_ads</td>\n",
       "      <td>/r/leagueoflegends/comments/us5sm1/unpopular_o...</td>\n",
       "      <td>False</td>\n",
       "      <td>6</td>\n",
       "      <td>moderator</td>\n",
       "      <td>1652852227</td>\n",
       "      <td>1</td>\n",
       "      <td>[removed]</td>\n",
       "      <td>True</td>\n",
       "      <td>False</td>\n",
       "      <td>False</td>\n",
       "      <td>leagueoflegends</td>\n",
       "      <td>t5_2rfxx</td>\n",
       "      <td>5838140</td>\n",
       "      <td>public</td>\n",
       "      <td>self</td>\n",
       "      <td>Unpopular Opinion: The 12.10 nerfs will initia...</td>\n",
       "      <td>0</td>\n",
       "      <td>[]</td>\n",
       "      <td>1.0</td>\n",
       "      <td>https://www.reddit.com/r/leagueoflegends/comme...</td>\n",
       "      <td>NaN</td>\n",
       "      <td>all_ads</td>\n",
       "      <td>6</td>\n",
       "      <td>NaN</td>\n",
       "      <td>NaN</td>\n",
       "      <td>NaN</td>\n",
       "      <td>NaN</td>\n",
       "      <td>NaN</td>\n",
       "      <td>NaN</td>\n",
       "      <td>NaN</td>\n",
       "      <td>NaN</td>\n",
       "      <td>NaN</td>\n",
       "      <td>NaN</td>\n",
       "      <td>NaN</td>\n",
       "      <td>NaN</td>\n",
       "      <td>NaN</td>\n",
       "      <td>NaN</td>\n",
       "      <td>NaN</td>\n",
       "      <td>NaN</td>\n",
       "    </tr>\n",
       "    <tr>\n",
       "      <th>2</th>\n",
       "      <td>[]</td>\n",
       "      <td>False</td>\n",
       "      <td>jcplay26</td>\n",
       "      <td>None</td>\n",
       "      <td>[]</td>\n",
       "      <td>None</td>\n",
       "      <td>text</td>\n",
       "      <td>t2_6n7uayrm</td>\n",
       "      <td>False</td>\n",
       "      <td>False</td>\n",
       "      <td>False</td>\n",
       "      <td>[]</td>\n",
       "      <td>False</td>\n",
       "      <td>False</td>\n",
       "      <td>1652852082</td>\n",
       "      <td>dotesports.com</td>\n",
       "      <td>https://www.reddit.com/r/leagueoflegends/comme...</td>\n",
       "      <td>{}</td>\n",
       "      <td>us5rf5</td>\n",
       "      <td>False</td>\n",
       "      <td>True</td>\n",
       "      <td>False</td>\n",
       "      <td>False</td>\n",
       "      <td>False</td>\n",
       "      <td>True</td>\n",
       "      <td>False</td>\n",
       "      <td>False</td>\n",
       "      <td></td>\n",
       "      <td>[]</td>\n",
       "      <td>dark</td>\n",
       "      <td>text</td>\n",
       "      <td>False</td>\n",
       "      <td>False</td>\n",
       "      <td>True</td>\n",
       "      <td>0</td>\n",
       "      <td>0</td>\n",
       "      <td>False</td>\n",
       "      <td>all_ads</td>\n",
       "      <td>/r/leagueoflegends/comments/us5rf5/how_to_acqu...</td>\n",
       "      <td>False</td>\n",
       "      <td>6</td>\n",
       "      <td>NaN</td>\n",
       "      <td>1652852092</td>\n",
       "      <td>1</td>\n",
       "      <td></td>\n",
       "      <td>True</td>\n",
       "      <td>False</td>\n",
       "      <td>False</td>\n",
       "      <td>leagueoflegends</td>\n",
       "      <td>t5_2rfxx</td>\n",
       "      <td>5838140</td>\n",
       "      <td>public</td>\n",
       "      <td>https://b.thumbs.redditmedia.com/ZINESUvqwkEBC...</td>\n",
       "      <td>How to acquire all Teamwork and Strategy chall...</td>\n",
       "      <td>0</td>\n",
       "      <td>[]</td>\n",
       "      <td>1.0</td>\n",
       "      <td>https://dotesports.com/league-of-legends/news/...</td>\n",
       "      <td>https://dotesports.com/league-of-legends/news/...</td>\n",
       "      <td>all_ads</td>\n",
       "      <td>6</td>\n",
       "      <td>link</td>\n",
       "      <td>{'enabled': False, 'images': [{'id': '_CRtairm...</td>\n",
       "      <td>78.0</td>\n",
       "      <td>140.0</td>\n",
       "      <td>NaN</td>\n",
       "      <td>NaN</td>\n",
       "      <td>NaN</td>\n",
       "      <td>NaN</td>\n",
       "      <td>NaN</td>\n",
       "      <td>NaN</td>\n",
       "      <td>NaN</td>\n",
       "      <td>NaN</td>\n",
       "      <td>NaN</td>\n",
       "      <td>NaN</td>\n",
       "      <td>NaN</td>\n",
       "      <td>NaN</td>\n",
       "    </tr>\n",
       "  </tbody>\n",
       "</table>\n",
       "</div>"
      ],
      "text/plain": [
       "  all_awardings  allow_live_comments             author  \\\n",
       "0            []                False       Pokemon_Only   \n",
       "1            []                False  Ecstatic-Buy-2907   \n",
       "2            []                False           jcplay26   \n",
       "\n",
       "  author_flair_css_class author_flair_richtext author_flair_text  \\\n",
       "0                   None                    []              None   \n",
       "1                   None                    []              None   \n",
       "2                   None                    []              None   \n",
       "\n",
       "  author_flair_type author_fullname  author_is_blocked author_patreon_flair  \\\n",
       "0              text     t2_26tp2z5g              False                False   \n",
       "1              text     t2_ipdcr06y              False                False   \n",
       "2              text     t2_6n7uayrm              False                False   \n",
       "\n",
       "  author_premium awarders  can_mod_post  contest_mode  created_utc  \\\n",
       "0          False       []         False         False   1652852675   \n",
       "1          False       []         False         False   1652852217   \n",
       "2          False       []         False         False   1652852082   \n",
       "\n",
       "                 domain                                          full_link  \\\n",
       "0              youtu.be  https://www.reddit.com/r/leagueoflegends/comme...   \n",
       "1  self.leagueoflegends  https://www.reddit.com/r/leagueoflegends/comme...   \n",
       "2        dotesports.com  https://www.reddit.com/r/leagueoflegends/comme...   \n",
       "\n",
       "  gildings      id  is_created_from_ads_ui  is_crosspostable  is_meta  \\\n",
       "0       {}  us5wfe                   False             False    False   \n",
       "1       {}  us5sm1                   False             False    False   \n",
       "2       {}  us5rf5                   False              True    False   \n",
       "\n",
       "   is_original_content  is_reddit_media_domain  is_robot_indexable  is_self  \\\n",
       "0                False                   False               False    False   \n",
       "1                False                   False               False     True   \n",
       "2                False                   False                True    False   \n",
       "\n",
       "   is_video link_flair_background_color link_flair_richtext  \\\n",
       "0     False                                              []   \n",
       "1     False                                              []   \n",
       "2     False                                              []   \n",
       "\n",
       "  link_flair_text_color link_flair_type  locked  media_only  no_follow  \\\n",
       "0                  dark            text   False       False       True   \n",
       "1                  dark            text   False       False       True   \n",
       "2                  dark            text   False       False       True   \n",
       "\n",
       "   num_comments  num_crossposts  over_18 parent_whitelist_status  \\\n",
       "0             0               0    False                 all_ads   \n",
       "1             1               0    False                 all_ads   \n",
       "2             0               0    False                 all_ads   \n",
       "\n",
       "                                           permalink  pinned  pwls  \\\n",
       "0  /r/leagueoflegends/comments/us5wfe/t1_gumayusi...   False     6   \n",
       "1  /r/leagueoflegends/comments/us5sm1/unpopular_o...   False     6   \n",
       "2  /r/leagueoflegends/comments/us5rf5/how_to_acqu...   False     6   \n",
       "\n",
       "  removed_by_category  retrieved_on  score   selftext  send_replies  spoiler  \\\n",
       "0           moderator    1652852685      1                     True     True   \n",
       "1           moderator    1652852227      1  [removed]          True    False   \n",
       "2                 NaN    1652852092      1                     True    False   \n",
       "\n",
       "   stickied        subreddit subreddit_id  subreddit_subscribers  \\\n",
       "0     False  leagueoflegends     t5_2rfxx                5838151   \n",
       "1     False  leagueoflegends     t5_2rfxx                5838140   \n",
       "2     False  leagueoflegends     t5_2rfxx                5838140   \n",
       "\n",
       "  subreddit_type                                          thumbnail  \\\n",
       "0         public                                            spoiler   \n",
       "1         public                                               self   \n",
       "2         public  https://b.thumbs.redditmedia.com/ZINESUvqwkEBC...   \n",
       "\n",
       "                                               title  total_awards_received  \\\n",
       "0  T1 Gumayusi: 🥱Group Stage wasn't fun🥱 wants st...                      0   \n",
       "1  Unpopular Opinion: The 12.10 nerfs will initia...                      0   \n",
       "2  How to acquire all Teamwork and Strategy chall...                      0   \n",
       "\n",
       "  treatment_tags  upvote_ratio  \\\n",
       "0             []           1.0   \n",
       "1             []           1.0   \n",
       "2             []           1.0   \n",
       "\n",
       "                                                 url  \\\n",
       "0                       https://youtu.be/EcfjBTsudwE   \n",
       "1  https://www.reddit.com/r/leagueoflegends/comme...   \n",
       "2  https://dotesports.com/league-of-legends/news/...   \n",
       "\n",
       "                              url_overridden_by_dest whitelist_status  wls  \\\n",
       "0                       https://youtu.be/EcfjBTsudwE          all_ads    6   \n",
       "1                                                NaN          all_ads    6   \n",
       "2  https://dotesports.com/league-of-legends/news/...          all_ads    6   \n",
       "\n",
       "  post_hint                                            preview  \\\n",
       "0       NaN                                                NaN   \n",
       "1       NaN                                                NaN   \n",
       "2      link  {'enabled': False, 'images': [{'id': '_CRtairm...   \n",
       "\n",
       "   thumbnail_height  thumbnail_width media media_embed secure_media  \\\n",
       "0               NaN              NaN   NaN         NaN          NaN   \n",
       "1               NaN              NaN   NaN         NaN          NaN   \n",
       "2              78.0            140.0   NaN         NaN          NaN   \n",
       "\n",
       "  secure_media_embed media_metadata author_flair_background_color  \\\n",
       "0                NaN            NaN                           NaN   \n",
       "1                NaN            NaN                           NaN   \n",
       "2                NaN            NaN                           NaN   \n",
       "\n",
       "  author_flair_text_color author_flair_template_id banned_by author_cakeday  \\\n",
       "0                     NaN                      NaN       NaN            NaN   \n",
       "1                     NaN                      NaN       NaN            NaN   \n",
       "2                     NaN                      NaN       NaN            NaN   \n",
       "\n",
       "  crosspost_parent crosspost_parent_list  \n",
       "0              NaN                   NaN  \n",
       "1              NaN                   NaN  \n",
       "2              NaN                   NaN  "
      ]
     },
     "execution_count": 3,
     "metadata": {},
     "output_type": "execute_result"
    }
   ],
   "source": [
    "# Test out reddit API extraction \n",
    "url = 'https://api.pushshift.io/reddit/search/submission'\n",
    "params = {\n",
    "    'subreddit': 'leagueoflegends',\n",
    "    'size': 100,\n",
    "}\n",
    "result = requests.get(url, params)\n",
    "data = result.json()\n",
    "posts = data['data']\n",
    "data_df = pd.DataFrame(posts)\n",
    "data_df.head(3)"
   ]
  },
  {
   "cell_type": "code",
   "execution_count": 4,
   "id": "bc8358c5",
   "metadata": {
    "ExecuteTime": {
     "end_time": "2022-05-20T11:02:37.441880Z",
     "start_time": "2022-05-20T11:02:37.416297Z"
    }
   },
   "outputs": [],
   "source": [
    "# Create a function to automate the web API scrapping\n",
    "def pushshift_subreddit(subreddit, n):\n",
    "    url = 'https://api.pushshift.io/reddit/search/submission'\n",
    "  \n",
    "    # Create the dataframe to store the posts\n",
    "    df = pd.DataFrame()\n",
    "    \n",
    "    # Loop n times to retreive the required number of posts (100 posts per request)\n",
    "    # Append the data to the dataframe\n",
    "    for i in range(n):\n",
    "        if i == 0: # For the first loop, use the current time\n",
    "            params = {'subreddit': subreddit, 'size': 100}\n",
    "        else: # Subsequent loops using the new timestamp based on the 'created_utc' for the last position post\n",
    "            params = {'subreddit': subreddit, 'size': 100, 'before': timestamp}\n",
    "        result = requests.get(url, params)\n",
    "        data = pd.DataFrame(result.json()['data'])\n",
    "        df = df.append(data, ignore_index = True)\n",
    "                \n",
    "        # Initialize the new timestamp with the last position post  \n",
    "        timestamp = df['created_utc'].iloc[-1]\n",
    "        \n",
    "        # Set a timer before next iteration\n",
    "        time.sleep(5)\n",
    "        \n",
    "    return df[['subreddit', 'title', 'selftext', 'created_utc']]"
   ]
  },
  {
   "cell_type": "code",
   "execution_count": 5,
   "id": "9bacbce2",
   "metadata": {
    "ExecuteTime": {
     "end_time": "2022-05-20T11:08:46.819187Z",
     "start_time": "2022-05-20T11:02:37.443878Z"
    }
   },
   "outputs": [],
   "source": [
    "# Extract dota posts\n",
    "dota = pushshift_subreddit('DotA2', 40)"
   ]
  },
  {
   "cell_type": "code",
   "execution_count": 6,
   "id": "d227241e",
   "metadata": {
    "ExecuteTime": {
     "end_time": "2022-05-20T11:08:46.834328Z",
     "start_time": "2022-05-20T11:08:46.822573Z"
    }
   },
   "outputs": [
    {
     "data": {
      "text/plain": [
       "(4000, 4)"
      ]
     },
     "execution_count": 6,
     "metadata": {},
     "output_type": "execute_result"
    }
   ],
   "source": [
    "dota.shape"
   ]
  },
  {
   "cell_type": "code",
   "execution_count": 7,
   "id": "7a1738f4",
   "metadata": {
    "ExecuteTime": {
     "end_time": "2022-05-20T11:08:46.861028Z",
     "start_time": "2022-05-20T11:08:46.837344Z"
    },
    "run_control": {
     "marked": false
    }
   },
   "outputs": [
    {
     "name": "stdout",
     "output_type": "stream",
     "text": [
      "<class 'pandas.core.frame.DataFrame'>\n",
      "RangeIndex: 4000 entries, 0 to 3999\n",
      "Data columns (total 4 columns):\n",
      " #   Column       Non-Null Count  Dtype \n",
      "---  ------       --------------  ----- \n",
      " 0   subreddit    4000 non-null   object\n",
      " 1   title        4000 non-null   object\n",
      " 2   selftext     3997 non-null   object\n",
      " 3   created_utc  4000 non-null   int64 \n",
      "dtypes: int64(1), object(3)\n",
      "memory usage: 125.1+ KB\n"
     ]
    }
   ],
   "source": [
    "dota.info()"
   ]
  },
  {
   "cell_type": "code",
   "execution_count": 8,
   "id": "39abe734",
   "metadata": {
    "ExecuteTime": {
     "end_time": "2022-05-20T11:15:21.113678Z",
     "start_time": "2022-05-20T11:08:46.861028Z"
    }
   },
   "outputs": [],
   "source": [
    "# Extract league posts\n",
    "league = pushshift_subreddit('leagueoflegends', 40)"
   ]
  },
  {
   "cell_type": "code",
   "execution_count": 9,
   "id": "0b06eb36",
   "metadata": {
    "ExecuteTime": {
     "end_time": "2022-05-20T11:15:21.128892Z",
     "start_time": "2022-05-20T11:15:21.116684Z"
    }
   },
   "outputs": [
    {
     "data": {
      "text/plain": [
       "(3999, 4)"
      ]
     },
     "execution_count": 9,
     "metadata": {},
     "output_type": "execute_result"
    }
   ],
   "source": [
    "league.shape"
   ]
  },
  {
   "cell_type": "code",
   "execution_count": 10,
   "id": "dc56e9e0",
   "metadata": {
    "ExecuteTime": {
     "end_time": "2022-05-20T11:15:21.143896Z",
     "start_time": "2022-05-20T11:15:21.131894Z"
    }
   },
   "outputs": [
    {
     "name": "stdout",
     "output_type": "stream",
     "text": [
      "<class 'pandas.core.frame.DataFrame'>\n",
      "RangeIndex: 3999 entries, 0 to 3998\n",
      "Data columns (total 4 columns):\n",
      " #   Column       Non-Null Count  Dtype \n",
      "---  ------       --------------  ----- \n",
      " 0   subreddit    3999 non-null   object\n",
      " 1   title        3999 non-null   object\n",
      " 2   selftext     3983 non-null   object\n",
      " 3   created_utc  3999 non-null   int64 \n",
      "dtypes: int64(1), object(3)\n",
      "memory usage: 125.1+ KB\n"
     ]
    }
   ],
   "source": [
    "league.info()"
   ]
  },
  {
   "cell_type": "code",
   "execution_count": 12,
   "id": "7d1b494e",
   "metadata": {
    "ExecuteTime": {
     "end_time": "2022-05-20T11:17:42.840388Z",
     "start_time": "2022-05-20T11:17:42.763821Z"
    }
   },
   "outputs": [],
   "source": [
    "# Export datasets to csv file\n",
    "dota.to_csv('../datasets/dota.csv', index=False)\n",
    "league.to_csv('../datasets/league.csv', index=False)"
   ]
  },
  {
   "cell_type": "markdown",
   "id": "45062453",
   "metadata": {},
   "source": [
    "### Continued in Notebook 2"
   ]
  }
 ],
 "metadata": {
  "kernelspec": {
   "display_name": "Python 3 (ipykernel)",
   "language": "python",
   "name": "python3"
  },
  "language_info": {
   "codemirror_mode": {
    "name": "ipython",
    "version": 3
   },
   "file_extension": ".py",
   "mimetype": "text/x-python",
   "name": "python",
   "nbconvert_exporter": "python",
   "pygments_lexer": "ipython3",
   "version": "3.9.12"
  },
  "latex_envs": {
   "LaTeX_envs_menu_present": true,
   "autoclose": false,
   "autocomplete": true,
   "bibliofile": "biblio.bib",
   "cite_by": "apalike",
   "current_citInitial": 1,
   "eqLabelWithNumbers": true,
   "eqNumInitial": 1,
   "hotkeys": {
    "equation": "Ctrl-E",
    "itemize": "Ctrl-I"
   },
   "labels_anchors": false,
   "latex_user_defs": false,
   "report_style_numbering": false,
   "user_envs_cfg": false
  },
  "toc": {
   "base_numbering": 1,
   "nav_menu": {},
   "number_sections": false,
   "sideBar": true,
   "skip_h1_title": false,
   "title_cell": "Table of Contents",
   "title_sidebar": "Contents",
   "toc_cell": false,
   "toc_position": {
    "height": "calc(100% - 180px)",
    "left": "10px",
    "top": "150px",
    "width": "284.444px"
   },
   "toc_section_display": true,
   "toc_window_display": true
  }
 },
 "nbformat": 4,
 "nbformat_minor": 5
}
