{
  "nbformat": 4,
  "nbformat_minor": 0,
  "metadata": {
    "colab": {
      "name": "README.md",
      "provenance": [],
      "collapsed_sections": []
    },
    "kernelspec": {
      "name": "python3",
      "display_name": "Python 3"
    },
    "language_info": {
      "name": "python"
    }
  },
  "cells": [
    {
      "cell_type": "markdown",
      "source": [
        "# Project 4: West Nile Virus Prediction\n",
        "\n",
        "# Background\n",
        "The West Nile virus (WNV) first appeared in the Americas in 1999, and has since become the **leading** mosquito-borne disease in the country ([source](https://www.nejm.org/doi/full/10.1056/NEJM200106143442401)). It is a virus transmitted to humans by mosquitoes that feed on infected birds. Around 20% of people who become infected with the virus develop symptoms ranging from fever, and headaches, to serious neurological illnesses that can result in death. The first WNV case was identified in Illinois in September 2001 when laboratory tests confirmed its presence in two crows found dead in the Chicago area. By the end of 2002, Illinois accounted for more human cases and deaths than any other state ([source](https://dph.illinois.gov/topics-services/diseases-and-conditions/west-nile-virus)). Since there is no vaccine or medication to prevent or treat WNV in people, the most effective way to prevent this virus is to reduce the number of mosquitoes and to take precautions to avoid mosquito bites ([source](https://www.cdc.gov/westnile/index.html#:~:text=There%20are%20no%20vaccines%20to,a%20fever%20and%20other%20symptoms.)). \n",
        "\n",
        "Following the outbreak of WNV in Chicago, the City of Chicago and Chicago Department of Public Health (CDPH) put in place a comprehensive surveillance and control program to trap and test mosquitos for WNV. This program is still in place today.\n",
        "\n",
        "# Problem Statement\n",
        "In light of the potential outbreak of WNV in Chicago, the CDPH has asked its data scientist team to develop a predictive model based on past data on weather conditions and virus detection locations.\n",
        "\n",
        "Given the use of public funds to finance the spraying of pesticide in order to  reduce the number of WNV cases, coupled with the pontentially high cost of spraying pesticide over large areas, it is imperative for this project to bring focus to where and when pesticides should be sprayed that would effectively combat the WNV problem.\n",
        "\n",
        "A model that accurately predicts the outbreak of the virus using information about the locations of mosquito traps and weather information ensures that the targeted spraying will be informed and well-justified.\n",
        "\n",
        "# Data Dictionary\n",
        " \n",
        "The Kaggle datasets provided are as follows:\n",
        " \n",
        "|Dataset| Description|\n",
        "|---|---|\n",
        "|spray| Contains details of past sprays from 2011 and 2013|\n",
        "|weather| Contains meteorological data from 2007-2014|\n",
        "|train| Contains data relating to mosquito traps, number of mosquitos and presence of WNV from 2007-2013|\n",
        "|test| Contains data relating to mosquito traps and number of mosquitos from 2008-2014|\n",
        "\n",
        "# Files\n",
        "There are 2 notebooks used for this project:\n",
        "\n",
        "1.  Notebook 1: Exploratory Data Analysis (EDA) and Data Cleaning\n",
        "2.  Notebook 2: Modelling, Evaluation, and Cost-Benefit Analysis\n",
        "\n",
        "# Model Evaluation\n",
        "The best model is the AdaBoost model with a cross validation ROC AUC of 0.8809.\n",
        "\n",
        "### Summary\n",
        "| Method | Cross Validation ROC AUC | Ranking|\n",
        "|---|---|---|\n",
        "| Logistic Regression (Baseline) | 85.42% | 7th |\n",
        "| Random Forest| 87.90%  | 4th |\n",
        "| AdaBoost | 88.09%  | 1st | \n",
        "| Gradient Boost | 88.08% | 2nd |\n",
        "| XGBoost | 87.99% | 3rd |\n",
        "| Support Vector Machine | 87.72% | 5th |\n",
        "| k-Nearest Neighbours | 85.92% | 6th |\n",
        "\n",
        "# Conclusion and Recommendations\n",
        "\n",
        "### Recommended Model\n",
        "The AdaBoost model will be used for future predictions, given its highest cross validation ROC AUC score.\n",
        "\n",
        "###  Targeted Mosquito Abatement Recommendations\n",
        "-   Increase larviciding initiation at the location which has a high risk of West Nile Virus emergence (WnV case > 5). Current allocated resource is only for 190 acres which translates to 1 neighborhood. An additional 800 acres will cost approximately USD77,920.\n",
        "-   Lowering the threshold of adulticiding for the month of June and July, which is the month with high population growth, it will speed up on handling adult mosquitoes findings and ultimately will suppress the population of mosquitoes. An additional 100 miles costs USD12,060 is approximately needed.\n",
        "-   Conducting awareness roadshow within the neighborhood to make the residents more aware on the virus information and they can help in reducing potential breeding location. Estimated Cost: USD 15,000\n",
        "\n",
        "\n",
        "### Cost-Benefit Analysis\n",
        "Since the potentially benefits derived from alleviating this economic burden caused by the West Nile Virus of up to USD 3,003,756 far outweighs the costs of our Mosquito Abatement Program's efforts for 2023 of USD 520,698 by ~5.8 times ( = 3,003,756 / 520,698 ), we strongly recommend continuing with our Mosquito Abatement Program's efforts for 2023 and beyond.\n",
        "\n",
        "### Estimated Cost of Recommended Mosquito Abatement Plan\n",
        "USD 625,000 annually. This value includes the increased larviciding, additional areas sprayed, and conducting awareness roadshows."
      ],
      "metadata": {
        "id": "wA3Q8hduqgjr"
      }
    },
    {
      "cell_type": "code",
      "source": [
        ""
      ],
      "metadata": {
        "id": "Pv6nHI3hrH09"
      },
      "execution_count": null,
      "outputs": []
    }
  ]
}